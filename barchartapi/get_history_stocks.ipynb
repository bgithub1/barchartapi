{
 "cells": [
  {
   "cell_type": "markdown",
   "metadata": {},
   "source": [
    "## Imports"
   ]
  },
  {
   "cell_type": "code",
   "execution_count": 1,
   "metadata": {},
   "outputs": [],
   "source": [
    "import pandas as pd\n",
    "import numpy as np\n",
    "import os\n",
    "import sys\n",
    "import datetime\n",
    "from os.path import expanduser"
   ]
  },
  {
   "cell_type": "markdown",
   "metadata": {},
   "source": [
    "___\n",
    "### Add to sys.path"
   ]
  },
  {
   "cell_type": "markdown",
   "metadata": {},
   "source": [
    "Within the barchart_api module, references like:\n",
    "\n",
    "```from barchartapi import barchart_api```\n",
    "\n",
    "will not work"
   ]
  },
  {
   "cell_type": "code",
   "execution_count": 2,
   "metadata": {},
   "outputs": [],
   "source": [
    "WORKSPACE_DIR = '../..' \n",
    "PROJECT_DIR = f'{WORKSPACE_DIR}/barchartapi' \n",
    "WORKING_DIR = f'{PROJECT_DIR}/barchartapi' \n",
    "if WORKING_DIR not in sys.path:\n",
    "    sys.path.append(WORKING_DIR)\n",
    "if PROJECT_DIR not in sys.path:\n",
    "    sys.path.append(PROJECT_DIR)\n",
    "if WORKSPACE_DIR not in sys.path:\n",
    "    sys.path.append(WORKSPACE_DIR)\n",
    "import barchart_api as bcapi"
   ]
  },
  {
   "cell_type": "markdown",
   "metadata": {},
   "source": [
    "___\n",
    "### Create paths to where you will store the history data"
   ]
  },
  {
   "cell_type": "code",
   "execution_count": 3,
   "metadata": {},
   "outputs": [],
   "source": [
    "STOCKS_DIR = f'./temp_folder/stocks/daily'\n",
    "try:\n",
    "    os.makedirs(STOCKS_DIR)\n",
    "except Exception as e:\n",
    "    pass"
   ]
  },
  {
   "cell_type": "markdown",
   "metadata": {},
   "source": [
    "___\n",
    "### Create an instance of BcHist\n",
    "1. select an enpoint prefix of free or paid\n",
    "2. must set bar_type to minutes, hour or daily\n",
    "3. must set interval\n",
    " * for minutes, set interval to 1, 5, 15, 30 or 60\n",
    " * for other types, see https://www.barchart.com/ondemand/api/getHistory"
   ]
  },
  {
   "cell_type": "code",
   "execution_count": 4,
   "metadata": {},
   "outputs": [
    {
     "name": "stdout",
     "output_type": "stream",
     "text": [
      "Barchart OnDemand Client: https://marketdata.websol.barchart.com/\n"
     ]
    }
   ],
   "source": [
    "# select and endpoint prefix\n",
    "endpoint_prefix='free' # 'free' or 'paid'\n",
    "\n",
    "# select a bartype and interval\n",
    "# bar_type='minutes'\n",
    "# interval=1\n",
    "# bar_type='daily'\n",
    "# interval=1\n",
    "bar_type='minutes'\n",
    "interval=30\n",
    "\n",
    "# create an instance of BcHist\n",
    "api_key = open(f'./temp_folder/{endpoint_prefix}_api_key.txt','r').read()\n",
    "endpoint_type=f'{endpoint_prefix}_url'\n",
    "bch = bcapi.BcHist(api_key, bar_type=bar_type, interval=interval,endpoint_type = endpoint_type)\n"
   ]
  },
  {
   "cell_type": "markdown",
   "metadata": {},
   "source": [
    "___\n",
    "### Main Loop to fetch history data from Barchart\n",
    "\n",
    "#### Inputs\n",
    "On each call to BcHist.get_history, provide:\n",
    " * a short name like:\n",
    "  * a stock symbol like: SPY,USO,IBM, etc\n",
    "  * a futures symbol like: CLJ18, GCG19, ESH17, etc\n",
    " * a beginning yyyymmdd integer\n",
    " * an ending yyyymmdd integer\n",
    "\n",
    "#### Outputs\n",
    "The get_history method will return a tuple, where:\n",
    " * tup[0] provides a status\n",
    " * tup[1] provides a pandas DataFrame of data, or None"
   ]
  },
  {
   "cell_type": "code",
   "execution_count": 5,
   "metadata": {},
   "outputs": [
    {
     "name": "stdout",
     "output_type": "stream",
     "text": [
      "get_history: XLE BEGIN 2019-01-29 10:58:22.296504\n",
      "get_history: XLE WRITING DATA 2019-01-29 10:58:22.796054\n",
      "get_history: XLE END 2019-01-29 10:58:22.799654\n",
      "get_history: XLU BEGIN 2019-01-29 10:58:22.800051\n",
      "get_history: XLU WRITING DATA 2019-01-29 10:58:23.900678\n",
      "get_history: XLU END 2019-01-29 10:58:23.903496\n",
      "get_history: XLK BEGIN 2019-01-29 10:58:23.903592\n",
      "get_history: XLK WRITING DATA 2019-01-29 10:58:24.177436\n",
      "get_history: XLK END 2019-01-29 10:58:24.179721\n",
      "get_history: XLB BEGIN 2019-01-29 10:58:24.179984\n",
      "get_history: XLB WRITING DATA 2019-01-29 10:58:24.469181\n",
      "get_history: XLB END 2019-01-29 10:58:24.471582\n",
      "get_history: XLP BEGIN 2019-01-29 10:58:24.471643\n",
      "get_history: XLP WRITING DATA 2019-01-29 10:58:24.773250\n",
      "get_history: XLP END 2019-01-29 10:58:24.775702\n",
      "get_history: XLY BEGIN 2019-01-29 10:58:24.776019\n",
      "get_history: XLY WRITING DATA 2019-01-29 10:58:25.046961\n",
      "get_history: XLY END 2019-01-29 10:58:25.049411\n",
      "get_history: XLI BEGIN 2019-01-29 10:58:25.049479\n",
      "get_history: XLI WRITING DATA 2019-01-29 10:58:25.353463\n",
      "get_history: XLI END 2019-01-29 10:58:25.356007\n",
      "get_history: XLC BEGIN 2019-01-29 10:58:25.356096\n",
      "get_history: XLC WRITING DATA 2019-01-29 10:58:25.652951\n",
      "get_history: XLC END 2019-01-29 10:58:25.656686\n",
      "get_history: XLV BEGIN 2019-01-29 10:58:25.656768\n",
      "get_history: XLV WRITING DATA 2019-01-29 10:58:25.985081\n",
      "get_history: XLV END 2019-01-29 10:58:25.991615\n",
      "get_history: XLF BEGIN 2019-01-29 10:58:25.991986\n",
      "get_history: XLF WRITING DATA 2019-01-29 10:58:26.284519\n",
      "get_history: XLF END 2019-01-29 10:58:26.287923\n"
     ]
    }
   ],
   "source": [
    "\n",
    "spydr_short_names = ['XLE','XLU','XLK','XLB','XLP','XLY','XLI','XLC','XLV','XLF']\n",
    "commodity_etf_short_names = ['USO','UNG','DBC','DBA','GLD','USCI']\n",
    "currency_etf_short_names = ['FXY','FXE','FXB','FXF','FXC','FXA']\n",
    "my_portfolio_short_names = ['XLE','SPY','USO','GLD','XLU']\n",
    "short_names = spydr_short_names\n",
    "beg_yyyymmdd = 20001201\n",
    "end_yyyymmdd = 20190112\n",
    "\n",
    "for short_name in short_names:\n",
    "    sn_path = f'{STOCKS_DIR}/{short_name}.csv'\n",
    "    if os.path.isfile(sn_path):\n",
    "        print(f'BYPASSING: {short_name}')\n",
    "        continue\n",
    "    print(f'get_history: {short_name} BEGIN {datetime.datetime.now()}')\n",
    "    tup = bch.get_history(short_name, beg_yyyymmdd, end_yyyymmdd)\n",
    "    print(f'get_history: {short_name} WRITING DATA {datetime.datetime.now()}')\n",
    "    tup[1].to_csv(sn_path,index=False)\n",
    "    print(f'get_history: {short_name} END {datetime.datetime.now()}')\n",
    "    "
   ]
  },
  {
   "cell_type": "markdown",
   "metadata": {},
   "source": [
    "___\n",
    "### Do something interesting with the returned data"
   ]
  },
  {
   "cell_type": "code",
   "execution_count": 6,
   "metadata": {},
   "outputs": [
    {
     "data": {
      "text/html": [
       "<div>\n",
       "<style scoped>\n",
       "    .dataframe tbody tr th:only-of-type {\n",
       "        vertical-align: middle;\n",
       "    }\n",
       "\n",
       "    .dataframe tbody tr th {\n",
       "        vertical-align: top;\n",
       "    }\n",
       "\n",
       "    .dataframe thead th {\n",
       "        text-align: right;\n",
       "    }\n",
       "</style>\n",
       "<table border=\"1\" class=\"dataframe\">\n",
       "  <thead>\n",
       "    <tr style=\"text-align: right;\">\n",
       "      <th></th>\n",
       "      <th>XLE</th>\n",
       "      <th>SPY</th>\n",
       "      <th>USO</th>\n",
       "      <th>GLD</th>\n",
       "      <th>XLU</th>\n",
       "    </tr>\n",
       "  </thead>\n",
       "  <tbody>\n",
       "    <tr>\n",
       "      <th>XLE</th>\n",
       "      <td>1.000000</td>\n",
       "      <td>0.969503</td>\n",
       "      <td>0.955771</td>\n",
       "      <td>-0.172805</td>\n",
       "      <td>0.568791</td>\n",
       "    </tr>\n",
       "    <tr>\n",
       "      <th>SPY</th>\n",
       "      <td>0.969503</td>\n",
       "      <td>1.000000</td>\n",
       "      <td>0.893435</td>\n",
       "      <td>-0.297334</td>\n",
       "      <td>0.675616</td>\n",
       "    </tr>\n",
       "    <tr>\n",
       "      <th>USO</th>\n",
       "      <td>0.955771</td>\n",
       "      <td>0.893435</td>\n",
       "      <td>1.000000</td>\n",
       "      <td>-0.159030</td>\n",
       "      <td>0.532540</td>\n",
       "    </tr>\n",
       "    <tr>\n",
       "      <th>GLD</th>\n",
       "      <td>-0.172805</td>\n",
       "      <td>-0.297334</td>\n",
       "      <td>-0.159030</td>\n",
       "      <td>1.000000</td>\n",
       "      <td>-0.835103</td>\n",
       "    </tr>\n",
       "    <tr>\n",
       "      <th>XLU</th>\n",
       "      <td>0.568791</td>\n",
       "      <td>0.675616</td>\n",
       "      <td>0.532540</td>\n",
       "      <td>-0.835103</td>\n",
       "      <td>1.000000</td>\n",
       "    </tr>\n",
       "  </tbody>\n",
       "</table>\n",
       "</div>"
      ],
      "text/plain": [
       "          XLE       SPY       USO       GLD       XLU\n",
       "XLE  1.000000  0.969503  0.955771 -0.172805  0.568791\n",
       "SPY  0.969503  1.000000  0.893435 -0.297334  0.675616\n",
       "USO  0.955771  0.893435  1.000000 -0.159030  0.532540\n",
       "GLD -0.172805 -0.297334 -0.159030  1.000000 -0.835103\n",
       "XLU  0.568791  0.675616  0.532540 -0.835103  1.000000"
      ]
     },
     "execution_count": 6,
     "metadata": {},
     "output_type": "execute_result"
    }
   ],
   "source": [
    "df_portfolio = None\n",
    "for short_name in short_names:\n",
    "    sn_path = f'{STOCKS_DIR}/{short_name}.csv'\n",
    "    df_temp = pd.read_csv(sn_path)\n",
    "    df_temp = df_temp[['timestamp','close']]\n",
    "    df_temp = df_temp.rename(columns={'close':f'{short_name}'})\n",
    "    if df_portfolio is None:\n",
    "        df_portfolio = df_temp.copy()\n",
    "    else:\n",
    "        df_portfolio = df_portfolio.merge(df_temp,how='inner',on='timestamp')\n",
    "df_corr = df_portfolio.corr()\n",
    "df_corr"
   ]
  },
  {
   "cell_type": "code",
   "execution_count": 7,
   "metadata": {},
   "outputs": [],
   "source": [
    "fn = f'{STOCKS_DIR}/{\"_\".join(df_corr.columns.values)}.csv'\n",
    "df_corr.to_csv(fn,index=False)"
   ]
  },
  {
   "cell_type": "code",
   "execution_count": 8,
   "metadata": {},
   "outputs": [
    {
     "data": {
      "text/html": [
       "<div>\n",
       "<style scoped>\n",
       "    .dataframe tbody tr th:only-of-type {\n",
       "        vertical-align: middle;\n",
       "    }\n",
       "\n",
       "    .dataframe tbody tr th {\n",
       "        vertical-align: top;\n",
       "    }\n",
       "\n",
       "    .dataframe thead th {\n",
       "        text-align: right;\n",
       "    }\n",
       "</style>\n",
       "<table border=\"1\" class=\"dataframe\">\n",
       "  <thead>\n",
       "    <tr style=\"text-align: right;\">\n",
       "      <th></th>\n",
       "      <th>timestamp</th>\n",
       "      <th>XLE</th>\n",
       "      <th>SPY</th>\n",
       "      <th>USO</th>\n",
       "      <th>GLD</th>\n",
       "      <th>XLU</th>\n",
       "    </tr>\n",
       "  </thead>\n",
       "  <tbody>\n",
       "    <tr>\n",
       "      <th>0</th>\n",
       "      <td>2018-12-12T09:30:00-05:00</td>\n",
       "      <td>63.49605</td>\n",
       "      <td>265.5294</td>\n",
       "      <td>11.100</td>\n",
       "      <td>117.8200</td>\n",
       "      <td>56.37121</td>\n",
       "    </tr>\n",
       "    <tr>\n",
       "      <th>1</th>\n",
       "      <td>2018-12-12T10:00:00-05:00</td>\n",
       "      <td>63.49605</td>\n",
       "      <td>265.9470</td>\n",
       "      <td>11.040</td>\n",
       "      <td>117.8979</td>\n",
       "      <td>56.38113</td>\n",
       "    </tr>\n",
       "    <tr>\n",
       "      <th>2</th>\n",
       "      <td>2018-12-12T10:30:00-05:00</td>\n",
       "      <td>63.64466</td>\n",
       "      <td>266.5534</td>\n",
       "      <td>11.065</td>\n",
       "      <td>117.8346</td>\n",
       "      <td>56.26213</td>\n",
       "    </tr>\n",
       "    <tr>\n",
       "      <th>3</th>\n",
       "      <td>2018-12-12T11:00:00-05:00</td>\n",
       "      <td>63.74374</td>\n",
       "      <td>266.3944</td>\n",
       "      <td>11.100</td>\n",
       "      <td>117.7700</td>\n",
       "      <td>56.14314</td>\n",
       "    </tr>\n",
       "    <tr>\n",
       "      <th>4</th>\n",
       "      <td>2018-12-12T11:30:00-05:00</td>\n",
       "      <td>63.64466</td>\n",
       "      <td>266.8020</td>\n",
       "      <td>11.060</td>\n",
       "      <td>117.7500</td>\n",
       "      <td>56.11340</td>\n",
       "    </tr>\n",
       "  </tbody>\n",
       "</table>\n",
       "</div>"
      ],
      "text/plain": [
       "                   timestamp       XLE       SPY     USO       GLD       XLU\n",
       "0  2018-12-12T09:30:00-05:00  63.49605  265.5294  11.100  117.8200  56.37121\n",
       "1  2018-12-12T10:00:00-05:00  63.49605  265.9470  11.040  117.8979  56.38113\n",
       "2  2018-12-12T10:30:00-05:00  63.64466  266.5534  11.065  117.8346  56.26213\n",
       "3  2018-12-12T11:00:00-05:00  63.74374  266.3944  11.100  117.7700  56.14314\n",
       "4  2018-12-12T11:30:00-05:00  63.64466  266.8020  11.060  117.7500  56.11340"
      ]
     },
     "execution_count": 8,
     "metadata": {},
     "output_type": "execute_result"
    }
   ],
   "source": [
    "df_portfolio.head()"
   ]
  },
  {
   "cell_type": "code",
   "execution_count": 9,
   "metadata": {},
   "outputs": [
    {
     "data": {
      "text/plain": [
       "GLD    0.119333\n",
       "XLE    0.349473\n",
       "USO    0.517850\n",
       "SPY    0.282906\n",
       "XLU    0.233001\n",
       "dtype: float64"
      ]
     },
     "execution_count": 9,
     "metadata": {},
     "output_type": "execute_result"
    }
   ],
   "source": [
    "cols = list(set(list(df_portfolio.columns.values))-set(['timestamp']))\n",
    "bars_per_day = 8*2\n",
    "perc_of_day = 1/bars_per_day\n",
    "perc_of_year = perc_of_day/256\n",
    "df_portfolio[cols].pct_change().iloc[1:].std()/perc_of_year**.5"
   ]
  },
  {
   "cell_type": "markdown",
   "metadata": {},
   "source": [
    "## END"
   ]
  },
  {
   "cell_type": "code",
   "execution_count": null,
   "metadata": {},
   "outputs": [],
   "source": []
  }
 ],
 "metadata": {
  "kernelspec": {
   "display_name": "Python 3",
   "language": "python",
   "name": "python3"
  },
  "language_info": {
   "codemirror_mode": {
    "name": "ipython",
    "version": 3
   },
   "file_extension": ".py",
   "mimetype": "text/x-python",
   "name": "python",
   "nbconvert_exporter": "python",
   "pygments_lexer": "ipython3",
   "version": "3.6.5"
  }
 },
 "nbformat": 4,
 "nbformat_minor": 2
}
