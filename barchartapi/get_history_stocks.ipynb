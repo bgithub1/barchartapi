{
 "cells": [
  {
   "cell_type": "markdown",
   "metadata": {},
   "source": [
    "## Imports"
   ]
  },
  {
   "cell_type": "code",
   "execution_count": 39,
   "metadata": {},
   "outputs": [],
   "source": [
    "import pandas as pd\n",
    "import numpy as np\n",
    "import os\n",
    "import sys\n",
    "import datetime\n",
    "from os.path import expanduser"
   ]
  },
  {
   "cell_type": "markdown",
   "metadata": {},
   "source": [
    "### Add to sys.path"
   ]
  },
  {
   "cell_type": "markdown",
   "metadata": {},
   "source": [
    "Within the barchart_api module, references like:\n",
    "\n",
    "```from barchartapi import barchart_api```\n",
    "\n",
    "will not work"
   ]
  },
  {
   "cell_type": "code",
   "execution_count": 40,
   "metadata": {},
   "outputs": [
    {
     "name": "stdout",
     "output_type": "stream",
     "text": [
      "['', '/Library/Frameworks/Python.framework/Versions/3.6/lib/python36.zip', '/Library/Frameworks/Python.framework/Versions/3.6/lib/python3.6', '/Library/Frameworks/Python.framework/Versions/3.6/lib/python3.6/lib-dynload', '/Users/bperlman1/Virtualenvs3/pyliverisk/lib/python3.6/site-packages', '/Users/bperlman1/Virtualenvs3/pyliverisk/lib/python3.6/site-packages/IPython/extensions', '/Users/bperlman1/.ipython', '../../barchartapi/barchartapi', '../../barchartapi', '../..']\n"
     ]
    }
   ],
   "source": [
    "WORKSPACE_DIR = '../..' \n",
    "PROJECT_DIR = f'{WORKSPACE_DIR}/barchartapi' \n",
    "WORKING_DIR = f'{PROJECT_DIR}/barchartapi' \n",
    "if WORKING_DIR not in sys.path:\n",
    "    sys.path.append(WORKING_DIR)\n",
    "if PROJECT_DIR not in sys.path:\n",
    "    sys.path.append(PROJECT_DIR)\n",
    "if WORKSPACE_DIR not in sys.path:\n",
    "    sys.path.append(WORKSPACE_DIR)\n",
    "import barchart_api as bcapi"
   ]
  },
  {
   "cell_type": "markdown",
   "metadata": {},
   "source": [
    "### Create an instance of BcHist"
   ]
  },
  {
   "cell_type": "markdown",
   "metadata": {},
   "source": [
    "### Create paths to where you will store the history data"
   ]
  },
  {
   "cell_type": "code",
   "execution_count": 41,
   "metadata": {},
   "outputs": [],
   "source": [
    "# DROPBOX_MARKET_DATA_DIR = expanduser('~/Dropbox/market_data')\n",
    "# STOCKS_DIR = f'{DROPBOX_MARKET_DATA_DIR}/stocks'\n",
    "# !ls {STOCKS_DIR}\n",
    "STOCKS_DIR = f'./temp_folder/stocks'\n"
   ]
  },
  {
   "cell_type": "code",
   "execution_count": 42,
   "metadata": {},
   "outputs": [
    {
     "name": "stdout",
     "output_type": "stream",
     "text": [
      "Barchart OnDemand Client: http://ondemand.websol.barchart.com/\n"
     ]
    }
   ],
   "source": [
    "api_key = open('./temp_folder/paid_api_key.txt','r').read()\n",
    "bar_type='minutes'\n",
    "interval=30\n",
    "endpoint_type='paid_url'\n",
    "bch = bcapi.BcHist(api_key, bar_type=bar_type, interval=interval,endpoint_type = endpoint_type)\n"
   ]
  },
  {
   "cell_type": "markdown",
   "metadata": {},
   "source": [
    "## Main Loop to fetch history data from Barchart"
   ]
  },
  {
   "cell_type": "code",
   "execution_count": 43,
   "metadata": {},
   "outputs": [
    {
     "name": "stdout",
     "output_type": "stream",
     "text": [
      "get_history: XLE BEGIN 2019-01-05 09:03:02.243798\n",
      "get_history: XLE WRITING DATA 2019-01-05 09:03:02.581890\n",
      "get_history: XLE END 2019-01-05 09:03:02.590245\n",
      "get_history: SPY BEGIN 2019-01-05 09:03:02.590887\n",
      "get_history: SPY WRITING DATA 2019-01-05 09:03:02.832313\n",
      "get_history: SPY END 2019-01-05 09:03:02.840521\n",
      "get_history: USO BEGIN 2019-01-05 09:03:02.841262\n",
      "get_history: USO WRITING DATA 2019-01-05 09:03:03.127127\n",
      "get_history: USO END 2019-01-05 09:03:03.132384\n",
      "get_history: GLD BEGIN 2019-01-05 09:03:03.132458\n",
      "get_history: GLD WRITING DATA 2019-01-05 09:03:03.433722\n",
      "get_history: GLD END 2019-01-05 09:03:03.439608\n",
      "get_history: XLU BEGIN 2019-01-05 09:03:03.439848\n",
      "get_history: XLU WRITING DATA 2019-01-05 09:03:03.739494\n",
      "get_history: XLU END 2019-01-05 09:03:03.745905\n"
     ]
    }
   ],
   "source": [
    "\n",
    "spydr_short_names = ['XLE','XLU','XLK','XLB','XLP','XLY','XLI','XLC','XLV','XLF']\n",
    "commodity_etf_short_names = ['USO','UNG','DBC','DBA','GLD','USCI']\n",
    "currency_etf_short_names = ['FXY','FXE','FXB','FXF','FXC','FXA']\n",
    "my_portfolio_short_names = ['XLE','SPY','USO','GLD','XLU']\n",
    "short_names = my_portfolio_short_names\n",
    "# beg_yyyymmdd = 20080101\n",
    "beg_yyyymmdd = 20181101\n",
    "end_yyyymmdd = 20181205\n",
    "\n",
    "for short_name in short_names:\n",
    "    sn_path = f'{STOCKS_DIR}/{short_name}.csv'\n",
    "    if os.path.isfile(sn_path):\n",
    "        print(f'BYPASSING: {short_name}')\n",
    "        continue\n",
    "    print(f'get_history: {short_name} BEGIN {datetime.datetime.now()}')\n",
    "    tup = bch.get_history(short_name, beg_yyyymmdd, end_yyyymmdd)\n",
    "    print(f'get_history: {short_name} WRITING DATA {datetime.datetime.now()}')\n",
    "    tup[1].to_csv(sn_path,index=False)\n",
    "    print(f'get_history: {short_name} END {datetime.datetime.now()}')\n",
    "    "
   ]
  },
  {
   "cell_type": "code",
   "execution_count": 44,
   "metadata": {},
   "outputs": [
    {
     "data": {
      "text/html": [
       "<div>\n",
       "<style scoped>\n",
       "    .dataframe tbody tr th:only-of-type {\n",
       "        vertical-align: middle;\n",
       "    }\n",
       "\n",
       "    .dataframe tbody tr th {\n",
       "        vertical-align: top;\n",
       "    }\n",
       "\n",
       "    .dataframe thead th {\n",
       "        text-align: right;\n",
       "    }\n",
       "</style>\n",
       "<table border=\"1\" class=\"dataframe\">\n",
       "  <thead>\n",
       "    <tr style=\"text-align: right;\">\n",
       "      <th></th>\n",
       "      <th>XLE</th>\n",
       "      <th>SPY</th>\n",
       "      <th>USO</th>\n",
       "      <th>GLD</th>\n",
       "      <th>XLU</th>\n",
       "    </tr>\n",
       "  </thead>\n",
       "  <tbody>\n",
       "    <tr>\n",
       "      <th>XLE</th>\n",
       "      <td>1.000000</td>\n",
       "      <td>0.975327</td>\n",
       "      <td>0.901554</td>\n",
       "      <td>-0.821944</td>\n",
       "      <td>0.368654</td>\n",
       "    </tr>\n",
       "    <tr>\n",
       "      <th>SPY</th>\n",
       "      <td>0.975327</td>\n",
       "      <td>1.000000</td>\n",
       "      <td>0.825213</td>\n",
       "      <td>-0.829579</td>\n",
       "      <td>0.456716</td>\n",
       "    </tr>\n",
       "    <tr>\n",
       "      <th>USO</th>\n",
       "      <td>0.901554</td>\n",
       "      <td>0.825213</td>\n",
       "      <td>1.000000</td>\n",
       "      <td>-0.708552</td>\n",
       "      <td>0.151254</td>\n",
       "    </tr>\n",
       "    <tr>\n",
       "      <th>GLD</th>\n",
       "      <td>-0.821944</td>\n",
       "      <td>-0.829579</td>\n",
       "      <td>-0.708552</td>\n",
       "      <td>1.000000</td>\n",
       "      <td>-0.419358</td>\n",
       "    </tr>\n",
       "    <tr>\n",
       "      <th>XLU</th>\n",
       "      <td>0.368654</td>\n",
       "      <td>0.456716</td>\n",
       "      <td>0.151254</td>\n",
       "      <td>-0.419358</td>\n",
       "      <td>1.000000</td>\n",
       "    </tr>\n",
       "  </tbody>\n",
       "</table>\n",
       "</div>"
      ],
      "text/plain": [
       "          XLE       SPY       USO       GLD       XLU\n",
       "XLE  1.000000  0.975327  0.901554 -0.821944  0.368654\n",
       "SPY  0.975327  1.000000  0.825213 -0.829579  0.456716\n",
       "USO  0.901554  0.825213  1.000000 -0.708552  0.151254\n",
       "GLD -0.821944 -0.829579 -0.708552  1.000000 -0.419358\n",
       "XLU  0.368654  0.456716  0.151254 -0.419358  1.000000"
      ]
     },
     "execution_count": 44,
     "metadata": {},
     "output_type": "execute_result"
    }
   ],
   "source": [
    "df_portfolio = None\n",
    "for short_name in short_names:\n",
    "    sn_path = f'{STOCKS_DIR}/{short_name}.csv'\n",
    "    df_temp = pd.read_csv(sn_path)\n",
    "    df_temp = df_temp[['timestamp','close']]\n",
    "    df_temp = df_temp.rename(columns={'close':f'{short_name}'})\n",
    "    if df_portfolio is None:\n",
    "        df_portfolio = df_temp.copy()\n",
    "    else:\n",
    "        df_portfolio = df_portfolio.merge(df_temp,how='inner',on='timestamp')\n",
    "df_corr = df_portfolio.corr()\n",
    "df_corr"
   ]
  },
  {
   "cell_type": "code",
   "execution_count": 45,
   "metadata": {},
   "outputs": [],
   "source": [
    "fn = f'{STOCKS_DIR}/{\"_\".join(df_corr.columns.values)}.csv'\n",
    "df_corr.to_csv(fn,index=False)"
   ]
  },
  {
   "cell_type": "code",
   "execution_count": 46,
   "metadata": {},
   "outputs": [
    {
     "data": {
      "text/plain": [
       "XLE     3.997376\n",
       "SPY    11.089229\n",
       "USO     1.198228\n",
       "GLD     2.203888\n",
       "XLU     1.282801\n",
       "dtype: float64"
      ]
     },
     "execution_count": 46,
     "metadata": {},
     "output_type": "execute_result"
    }
   ],
   "source": [
    "df_portfolio.std()"
   ]
  },
  {
   "cell_type": "markdown",
   "metadata": {},
   "source": [
    "## END"
   ]
  },
  {
   "cell_type": "code",
   "execution_count": null,
   "metadata": {},
   "outputs": [],
   "source": []
  }
 ],
 "metadata": {
  "kernelspec": {
   "display_name": "Python 3",
   "language": "python",
   "name": "python3"
  },
  "language_info": {
   "codemirror_mode": {
    "name": "ipython",
    "version": 3
   },
   "file_extension": ".py",
   "mimetype": "text/x-python",
   "name": "python",
   "nbconvert_exporter": "python",
   "pygments_lexer": "ipython3",
   "version": "3.6.5"
  }
 },
 "nbformat": 4,
 "nbformat_minor": 2
}
