{
 "cells": [
  {
   "cell_type": "markdown",
   "metadata": {},
   "source": [
    "## Imports"
   ]
  },
  {
   "cell_type": "code",
   "execution_count": 1,
   "metadata": {},
   "outputs": [],
   "source": [
    "import pandas as pd\n",
    "import numpy as np\n",
    "import os\n",
    "import sys\n",
    "import datetime\n",
    "from os.path import expanduser"
   ]
  },
  {
   "cell_type": "markdown",
   "metadata": {},
   "source": [
    "___\n",
    "### Add to sys.path"
   ]
  },
  {
   "cell_type": "markdown",
   "metadata": {},
   "source": [
    "Within the barchart_api module, references like:\n",
    "\n",
    "```from barchartapi import barchart_api```\n",
    "\n",
    "will not work"
   ]
  },
  {
   "cell_type": "code",
   "execution_count": 2,
   "metadata": {},
   "outputs": [],
   "source": [
    "WORKSPACE_DIR = '../..' \n",
    "PROJECT_DIR = f'{WORKSPACE_DIR}/barchartapi' \n",
    "WORKING_DIR = f'{PROJECT_DIR}/barchartapi' \n",
    "if WORKING_DIR not in sys.path:\n",
    "    sys.path.append(WORKING_DIR)\n",
    "if PROJECT_DIR not in sys.path:\n",
    "    sys.path.append(PROJECT_DIR)\n",
    "if WORKSPACE_DIR not in sys.path:\n",
    "    sys.path.append(WORKSPACE_DIR)\n",
    "import barchart_api as bcapi"
   ]
  },
  {
   "cell_type": "markdown",
   "metadata": {},
   "source": [
    "___\n",
    "### Create paths to where you will store the history data"
   ]
  },
  {
   "cell_type": "code",
   "execution_count": 3,
   "metadata": {},
   "outputs": [],
   "source": [
    "# DROPBOX_MARKET_DATA_DIR = expanduser('~/Dropbox/market_data')\n",
    "# STOCKS_DIR = f'{DROPBOX_MARKET_DATA_DIR}/stocks'\n",
    "# !ls {STOCKS_DIR}\n",
    "STOCKS_DIR = f'./temp_folder/stocks'\n",
    "try:\n",
    "    os.makedirs(STOCKS_DIR)\n",
    "except:\n",
    "    pass"
   ]
  },
  {
   "cell_type": "markdown",
   "metadata": {},
   "source": [
    "___\n",
    "### Create an instance of BcHist\n",
    "1. must set bar_type to minutes, hour or daily\n",
    "2. must set interval\n",
    " * for minutes, set interval to 1, 5, 15, 30 or 60\n",
    " * for other types, see https://www.barchart.com/ondemand/api/getHistory"
   ]
  },
  {
   "cell_type": "code",
   "execution_count": 4,
   "metadata": {},
   "outputs": [
    {
     "name": "stdout",
     "output_type": "stream",
     "text": [
      "Barchart OnDemand Client: https://marketdata.websol.barchart.com/\n"
     ]
    }
   ],
   "source": [
    "# set this to 'free' or 'paid'\n",
    "endpoint = 'free' # free or paid\n",
    "\n",
    "# set the bar_type and the interval\n",
    "bar_type='minutes' # minutes, daily, monthly\n",
    "interval=30 # 1,5,15,30,60\n",
    "\n",
    "# create an instance \n",
    "api_key = open(f'./temp_folder/{endpoint}_api_key.txt','r').read()\n",
    "endpoint_type=f'{endpoint}_url'\n",
    "bch = bcapi.BcHist(api_key, bar_type=bar_type, interval=interval,endpoint_type = endpoint_type)\n"
   ]
  },
  {
   "cell_type": "markdown",
   "metadata": {},
   "source": [
    "___\n",
    "### Main Loop to fetch history data from Barchart\n",
    "\n",
    "#### Inputs\n",
    "On each call to BcHist.get_history, provide:\n",
    " * a beginning yyyymmdd integer\n",
    " * an ending yyyymmdd integer\n",
    " * a short name like:\n",
    "  * a stock symbol like: SPY,USO,IBM, etc\n",
    "  * a futures symbol like: CLJ18, GCG19, ESH17, etc\n",
    "\n",
    "#### Outputs\n",
    "The get_history method will return a tuple, where:\n",
    " * tup[0] provides a status\n",
    "\n",
    "* tup[1] provides a pandas DataFrame of data, or None"
   ]
  },
  {
   "cell_type": "code",
   "execution_count": 5,
   "metadata": {},
   "outputs": [
    {
     "name": "stdout",
     "output_type": "stream",
     "text": [
      "BYPASSING: XLE\n",
      "BYPASSING: SPY\n",
      "BYPASSING: USO\n",
      "BYPASSING: GLD\n",
      "BYPASSING: XLU\n"
     ]
    }
   ],
   "source": [
    "#  set a date range\n",
    "beg_yyyymmdd = 20181201\n",
    "end_yyyymmdd = 20190109\n",
    "\n",
    "# set up stocks to get\n",
    "#   below are some example lists of stocks\n",
    "spydr_short_names = ['XLE','XLU','XLK','XLB','XLP','XLY','XLI','XLC','XLV','XLF']\n",
    "commodity_etf_short_names = ['USO','UNG','DBC','DBA','GLD','USCI']\n",
    "currency_etf_short_names = ['FXY','FXE','FXB','FXF','FXC','FXA']\n",
    "my_portfolio_short_names = ['XLE','SPY','USO','GLD','XLU']\n",
    "\n",
    "# set short_names to the desired list to get\n",
    "short_names = my_portfolio_short_names\n",
    "\n",
    "for short_name in short_names:\n",
    "    sn_path = f'{STOCKS_DIR}/{short_name}.csv'\n",
    "    if os.path.isfile(sn_path):\n",
    "        print(f'BYPASSING: {short_name}')\n",
    "        continue\n",
    "    print(f'get_history: {short_name} BEGIN {datetime.datetime.now()}')\n",
    "    tup = bch.get_history(short_name, beg_yyyymmdd, end_yyyymmdd)\n",
    "    print(f'get_history: {short_name} WRITING DATA {datetime.datetime.now()}')\n",
    "    tup[1].to_csv(sn_path,index=False)\n",
    "    print(f'get_history: {short_name} END {datetime.datetime.now()}')\n",
    "    "
   ]
  },
  {
   "cell_type": "markdown",
   "metadata": {},
   "source": [
    "___\n",
    "### Do something interesting with the returned data"
   ]
  },
  {
   "cell_type": "code",
   "execution_count": 6,
   "metadata": {},
   "outputs": [
    {
     "data": {
      "text/html": [
       "<div>\n",
       "<style scoped>\n",
       "    .dataframe tbody tr th:only-of-type {\n",
       "        vertical-align: middle;\n",
       "    }\n",
       "\n",
       "    .dataframe tbody tr th {\n",
       "        vertical-align: top;\n",
       "    }\n",
       "\n",
       "    .dataframe thead th {\n",
       "        text-align: right;\n",
       "    }\n",
       "</style>\n",
       "<table border=\"1\" class=\"dataframe\">\n",
       "  <thead>\n",
       "    <tr style=\"text-align: right;\">\n",
       "      <th></th>\n",
       "      <th>XLE</th>\n",
       "      <th>SPY</th>\n",
       "      <th>USO</th>\n",
       "      <th>GLD</th>\n",
       "      <th>XLU</th>\n",
       "    </tr>\n",
       "  </thead>\n",
       "  <tbody>\n",
       "    <tr>\n",
       "      <th>XLE</th>\n",
       "      <td>1.000000</td>\n",
       "      <td>0.976647</td>\n",
       "      <td>0.960263</td>\n",
       "      <td>-0.562698</td>\n",
       "      <td>0.768358</td>\n",
       "    </tr>\n",
       "    <tr>\n",
       "      <th>SPY</th>\n",
       "      <td>0.976647</td>\n",
       "      <td>1.000000</td>\n",
       "      <td>0.920393</td>\n",
       "      <td>-0.616033</td>\n",
       "      <td>0.818876</td>\n",
       "    </tr>\n",
       "    <tr>\n",
       "      <th>USO</th>\n",
       "      <td>0.960263</td>\n",
       "      <td>0.920393</td>\n",
       "      <td>1.000000</td>\n",
       "      <td>-0.643154</td>\n",
       "      <td>0.794815</td>\n",
       "    </tr>\n",
       "    <tr>\n",
       "      <th>GLD</th>\n",
       "      <td>-0.562698</td>\n",
       "      <td>-0.616033</td>\n",
       "      <td>-0.643154</td>\n",
       "      <td>1.000000</td>\n",
       "      <td>-0.894643</td>\n",
       "    </tr>\n",
       "    <tr>\n",
       "      <th>XLU</th>\n",
       "      <td>0.768358</td>\n",
       "      <td>0.818876</td>\n",
       "      <td>0.794815</td>\n",
       "      <td>-0.894643</td>\n",
       "      <td>1.000000</td>\n",
       "    </tr>\n",
       "  </tbody>\n",
       "</table>\n",
       "</div>"
      ],
      "text/plain": [
       "          XLE       SPY       USO       GLD       XLU\n",
       "XLE  1.000000  0.976647  0.960263 -0.562698  0.768358\n",
       "SPY  0.976647  1.000000  0.920393 -0.616033  0.818876\n",
       "USO  0.960263  0.920393  1.000000 -0.643154  0.794815\n",
       "GLD -0.562698 -0.616033 -0.643154  1.000000 -0.894643\n",
       "XLU  0.768358  0.818876  0.794815 -0.894643  1.000000"
      ]
     },
     "execution_count": 6,
     "metadata": {},
     "output_type": "execute_result"
    }
   ],
   "source": [
    "df_portfolio = None\n",
    "for short_name in short_names:\n",
    "    sn_path = f'{STOCKS_DIR}/{short_name}.csv'\n",
    "    df_temp = pd.read_csv(sn_path)\n",
    "    df_temp = df_temp[['timestamp','close']]\n",
    "    df_temp = df_temp.rename(columns={'close':f'{short_name}'})\n",
    "    if df_portfolio is None:\n",
    "        df_portfolio = df_temp.copy()\n",
    "    else:\n",
    "        df_portfolio = df_portfolio.merge(df_temp,how='inner',on='timestamp')\n",
    "df_corr = df_portfolio.corr()\n",
    "df_corr"
   ]
  },
  {
   "cell_type": "code",
   "execution_count": 7,
   "metadata": {},
   "outputs": [],
   "source": [
    "fn = f'{STOCKS_DIR}/{\"_\".join(df_corr.columns.values)}.csv'\n",
    "df_corr.to_csv(fn,index=False)"
   ]
  },
  {
   "cell_type": "code",
   "execution_count": 8,
   "metadata": {},
   "outputs": [
    {
     "data": {
      "text/html": [
       "<div>\n",
       "<style scoped>\n",
       "    .dataframe tbody tr th:only-of-type {\n",
       "        vertical-align: middle;\n",
       "    }\n",
       "\n",
       "    .dataframe tbody tr th {\n",
       "        vertical-align: top;\n",
       "    }\n",
       "\n",
       "    .dataframe thead th {\n",
       "        text-align: right;\n",
       "    }\n",
       "</style>\n",
       "<table border=\"1\" class=\"dataframe\">\n",
       "  <thead>\n",
       "    <tr style=\"text-align: right;\">\n",
       "      <th></th>\n",
       "      <th>timestamp</th>\n",
       "      <th>XLE</th>\n",
       "      <th>SPY</th>\n",
       "      <th>USO</th>\n",
       "      <th>GLD</th>\n",
       "      <th>XLU</th>\n",
       "    </tr>\n",
       "  </thead>\n",
       "  <tbody>\n",
       "    <tr>\n",
       "      <th>0</th>\n",
       "      <td>2018-12-10T09:30:00-05:00</td>\n",
       "      <td>62.56477</td>\n",
       "      <td>260.1508</td>\n",
       "      <td>10.89</td>\n",
       "      <td>117.88</td>\n",
       "      <td>55.56803</td>\n",
       "    </tr>\n",
       "    <tr>\n",
       "      <th>1</th>\n",
       "      <td>2018-12-10T10:00:00-05:00</td>\n",
       "      <td>62.53505</td>\n",
       "      <td>260.8269</td>\n",
       "      <td>10.97</td>\n",
       "      <td>117.86</td>\n",
       "      <td>55.70189</td>\n",
       "    </tr>\n",
       "    <tr>\n",
       "      <th>2</th>\n",
       "      <td>2018-12-10T10:30:00-05:00</td>\n",
       "      <td>61.80191</td>\n",
       "      <td>258.9801</td>\n",
       "      <td>10.95</td>\n",
       "      <td>117.74</td>\n",
       "      <td>55.33005</td>\n",
       "    </tr>\n",
       "    <tr>\n",
       "      <th>3</th>\n",
       "      <td>2018-12-10T11:00:00-05:00</td>\n",
       "      <td>61.37589</td>\n",
       "      <td>258.1525</td>\n",
       "      <td>10.91</td>\n",
       "      <td>117.89</td>\n",
       "      <td>55.29039</td>\n",
       "    </tr>\n",
       "    <tr>\n",
       "      <th>4</th>\n",
       "      <td>2018-12-10T11:30:00-05:00</td>\n",
       "      <td>61.49478</td>\n",
       "      <td>258.7490</td>\n",
       "      <td>10.93</td>\n",
       "      <td>117.83</td>\n",
       "      <td>55.44904</td>\n",
       "    </tr>\n",
       "  </tbody>\n",
       "</table>\n",
       "</div>"
      ],
      "text/plain": [
       "                   timestamp       XLE       SPY    USO     GLD       XLU\n",
       "0  2018-12-10T09:30:00-05:00  62.56477  260.1508  10.89  117.88  55.56803\n",
       "1  2018-12-10T10:00:00-05:00  62.53505  260.8269  10.97  117.86  55.70189\n",
       "2  2018-12-10T10:30:00-05:00  61.80191  258.9801  10.95  117.74  55.33005\n",
       "3  2018-12-10T11:00:00-05:00  61.37589  258.1525  10.91  117.89  55.29039\n",
       "4  2018-12-10T11:30:00-05:00  61.49478  258.7490  10.93  117.83  55.44904"
      ]
     },
     "execution_count": 8,
     "metadata": {},
     "output_type": "execute_result"
    }
   ],
   "source": [
    "df_portfolio.head()"
   ]
  },
  {
   "cell_type": "code",
   "execution_count": 9,
   "metadata": {},
   "outputs": [
    {
     "data": {
      "text/plain": [
       "GLD    0.122897\n",
       "XLE    0.368310\n",
       "SPY    0.304023\n",
       "USO    0.521594\n",
       "XLU    0.239980\n",
       "dtype: float64"
      ]
     },
     "execution_count": 9,
     "metadata": {},
     "output_type": "execute_result"
    }
   ],
   "source": [
    "cols = list(set(list(df_portfolio.columns.values))-set(['timestamp']))\n",
    "bars_per_day = 8*2\n",
    "perc_of_day = 1/bars_per_day\n",
    "perc_of_year = perc_of_day/256\n",
    "df_portfolio[cols].pct_change().iloc[1:].std()/perc_of_year**.5"
   ]
  },
  {
   "cell_type": "markdown",
   "metadata": {},
   "source": [
    "## END"
   ]
  },
  {
   "cell_type": "code",
   "execution_count": null,
   "metadata": {},
   "outputs": [],
   "source": []
  }
 ],
 "metadata": {
  "kernelspec": {
   "display_name": "Python 3",
   "language": "python",
   "name": "python3"
  },
  "language_info": {
   "codemirror_mode": {
    "name": "ipython",
    "version": 3
   },
   "file_extension": ".py",
   "mimetype": "text/x-python",
   "name": "python",
   "nbconvert_exporter": "python",
   "pygments_lexer": "ipython3",
   "version": "3.6.5"
  }
 },
 "nbformat": 4,
 "nbformat_minor": 2
}
