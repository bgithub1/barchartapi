{
 "cells": [
  {
   "cell_type": "markdown",
   "metadata": {},
   "source": [
    "## get_stock_correlations - \n",
    "1. Use the barchart api to retrieve stock historical data;\n",
    "2. Create a correlation matrix from the historical data; \n",
    "3. Get standard deviations from the historical data;\n",
    "4. Create long/short position information for each security retrieved\n",
    "5. Create a portolio VaR using all of the above"
   ]
  },
  {
   "cell_type": "markdown",
   "metadata": {},
   "source": [
    "## Imports"
   ]
  },
  {
   "cell_type": "code",
   "execution_count": 1,
   "metadata": {},
   "outputs": [],
   "source": [
    "import pandas as pd\n",
    "import numpy as np\n",
    "import os\n",
    "import sys\n",
    "import datetime\n",
    "from os.path import expanduser\n",
    "from numpy import linalg as LA"
   ]
  },
  {
   "cell_type": "markdown",
   "metadata": {},
   "source": [
    "### Add to sys.path\n",
    "Within the barchart_api module, references like: ```from barchartapi import barchart_api``` will not work unless you append to sys.path the following folders:\n",
    "1. project working directory (which holds barchart_api.py),\n",
    "2. project directory,\n",
    "3. workspace directory."
   ]
  },
  {
   "cell_type": "code",
   "execution_count": 2,
   "metadata": {},
   "outputs": [],
   "source": [
    "WORKSPACE_DIR = '../..' \n",
    "PROJECT_DIR = f'{WORKSPACE_DIR}/barchartapi' \n",
    "WORKING_DIR = f'{PROJECT_DIR}/barchartapi' \n",
    "if WORKING_DIR not in sys.path:\n",
    "    sys.path.append(WORKING_DIR)\n",
    "if PROJECT_DIR not in sys.path:\n",
    "    sys.path.append(PROJECT_DIR)\n",
    "if WORKSPACE_DIR not in sys.path:\n",
    "    sys.path.append(WORKSPACE_DIR)\n",
    "import barchart_api as bcapi"
   ]
  },
  {
   "cell_type": "markdown",
   "metadata": {},
   "source": [
    "___\n",
    "### Create paths to where you will store the history data"
   ]
  },
  {
   "cell_type": "code",
   "execution_count": 3,
   "metadata": {},
   "outputs": [],
   "source": [
    "# DROPBOX_MARKET_DATA_DIR = expanduser('~/Dropbox/market_data')\n",
    "# STOCKS_DIR = f'{DROPBOX_MARKET_DATA_DIR}/stocks'\n",
    "# !ls {STOCKS_DIR}\n",
    "STOCKS_DIR = f'./temp_folder/stocks'\n",
    "try:\n",
    "    os.makedirs(STOCKS_DIR)\n",
    "except:\n",
    "    pass"
   ]
  },
  {
   "cell_type": "markdown",
   "metadata": {},
   "source": [
    "___\n",
    "### Create an instance of BcHist\n",
    "1. must set bar_type to minutes, hour or daily\n",
    "2. must set interval\n",
    " * for minutes, set interval to 1, 5, 15, 30 or 60\n",
    " * for other types, see https://www.barchart.com/ondemand/api/getHistory"
   ]
  },
  {
   "cell_type": "code",
   "execution_count": 4,
   "metadata": {},
   "outputs": [
    {
     "name": "stdout",
     "output_type": "stream",
     "text": [
      "Barchart OnDemand Client: https://marketdata.websol.barchart.com/\n"
     ]
    }
   ],
   "source": [
    "# set this to 'free' or 'paid'\n",
    "endpoint = 'free' # free or paid\n",
    "\n",
    "# set the bar_type and the interval\n",
    "bar_type='minutes' # minutes, daily, monthly\n",
    "interval=30 # 1,5,15,30,60\n",
    "\n",
    "# create an instance \n",
    "api_key = open(f'./temp_folder/{endpoint}_api_key.txt','r').read()\n",
    "endpoint_type=f'{endpoint}_url'\n",
    "bch = bcapi.BcHist(api_key, bar_type=bar_type, interval=interval,endpoint_type = endpoint_type)\n"
   ]
  },
  {
   "cell_type": "markdown",
   "metadata": {},
   "source": [
    "___\n",
    "### Main Loop to fetch history data from Barchart\n",
    "\n",
    "#### Inputs\n",
    "On each call to BcHist.get_history, provide:\n",
    " * a beginning yyyymmdd integer\n",
    " * an ending yyyymmdd integer\n",
    " * a short name like:\n",
    "  * a stock symbol like: SPY,USO,IBM, etc\n",
    "  * a futures symbol like: CLJ18, GCG19, ESH17, etc\n",
    "\n",
    "#### Outputs\n",
    "The get_history method will return a tuple, where:\n",
    " * tup[0] provides a status\n",
    "\n",
    "* tup[1] provides a pandas DataFrame of data, or None"
   ]
  },
  {
   "cell_type": "code",
   "execution_count": 142,
   "metadata": {},
   "outputs": [
    {
     "name": "stdout",
     "output_type": "stream",
     "text": [
      "get_history: XLE BEGIN 2019-01-20 17:57:39.703238\n",
      "get_history: XLE WRITING DATA 2019-01-20 17:57:40.625474\n",
      "get_history: XLE END 2019-01-20 17:57:40.630977\n",
      "get_history: SPY BEGIN 2019-01-20 17:57:40.631149\n",
      "get_history: SPY WRITING DATA 2019-01-20 17:57:41.236581\n",
      "get_history: SPY END 2019-01-20 17:57:41.240028\n",
      "get_history: USO BEGIN 2019-01-20 17:57:41.240267\n",
      "get_history: USO WRITING DATA 2019-01-20 17:57:41.843409\n",
      "get_history: USO END 2019-01-20 17:57:41.847209\n",
      "get_history: GLD BEGIN 2019-01-20 17:57:41.847481\n",
      "get_history: GLD WRITING DATA 2019-01-20 17:57:42.458120\n",
      "get_history: GLD END 2019-01-20 17:57:42.461847\n",
      "get_history: XLU BEGIN 2019-01-20 17:57:42.461936\n",
      "get_history: XLU WRITING DATA 2019-01-20 17:57:42.986371\n",
      "get_history: XLU END 2019-01-20 17:57:42.990372\n"
     ]
    }
   ],
   "source": [
    "#  set a date range\n",
    "beg_yyyymmdd = 20181201\n",
    "end_yyyymmdd = 20190119\n",
    "\n",
    "# true will cause barchartapi to refetch csv data, \n",
    "#   false will cause it to bypass any short_name that already has a csv file in the path sn_path below\n",
    "delete_old_csv_file = True \n",
    "\n",
    "# set up stocks to get\n",
    "#   below are some example lists of stocks\n",
    "spydr_short_names = ['XLE','XLU','XLK','XLB','XLP','XLY','XLI','XLC','XLV','XLF']\n",
    "commodity_etf_short_names = ['USO','UNG','DBC','DBA','GLD','USCI']\n",
    "currency_etf_short_names = ['FXY','FXE','FXB','FXF','FXC','FXA']\n",
    "my_portfolio_short_names = ['XLE','SPY','USO','GLD','XLU']\n",
    "\n",
    "# set short_names to the desired list to get\n",
    "short_names = my_portfolio_short_names\n",
    "\n",
    "for short_name in short_names:\n",
    "    sn_path = f'{STOCKS_DIR}/{short_name}.csv'\n",
    "    if os.path.isfile(sn_path):\n",
    "        if delete_old_csv_file:\n",
    "            os.remove(sn_path)\n",
    "        else:\n",
    "            print(f'BYPASSING: {short_name}')\n",
    "            continue\n",
    "    print(f'get_history: {short_name} BEGIN {datetime.datetime.now()}')\n",
    "    tup = bch.get_history(short_name, beg_yyyymmdd, end_yyyymmdd)\n",
    "    print(f'get_history: {short_name} WRITING DATA {datetime.datetime.now()}')\n",
    "    tup[1].to_csv(sn_path,index=False)\n",
    "    print(f'get_history: {short_name} END {datetime.datetime.now()}')\n",
    "    "
   ]
  },
  {
   "cell_type": "markdown",
   "metadata": {},
   "source": [
    "___\n",
    "### Do something interesting with the returned data, like create a portfolio VaR"
   ]
  },
  {
   "cell_type": "code",
   "execution_count": 143,
   "metadata": {},
   "outputs": [
    {
     "data": {
      "text/html": [
       "<div>\n",
       "<style scoped>\n",
       "    .dataframe tbody tr th:only-of-type {\n",
       "        vertical-align: middle;\n",
       "    }\n",
       "\n",
       "    .dataframe tbody tr th {\n",
       "        vertical-align: top;\n",
       "    }\n",
       "\n",
       "    .dataframe thead th {\n",
       "        text-align: right;\n",
       "    }\n",
       "</style>\n",
       "<table border=\"1\" class=\"dataframe\">\n",
       "  <thead>\n",
       "    <tr style=\"text-align: right;\">\n",
       "      <th></th>\n",
       "      <th>XLE</th>\n",
       "      <th>SPY</th>\n",
       "      <th>USO</th>\n",
       "      <th>GLD</th>\n",
       "      <th>XLU</th>\n",
       "    </tr>\n",
       "  </thead>\n",
       "  <tbody>\n",
       "    <tr>\n",
       "      <th>XLE</th>\n",
       "      <td>1.000000</td>\n",
       "      <td>0.974765</td>\n",
       "      <td>0.968302</td>\n",
       "      <td>0.705846</td>\n",
       "      <td>0.147043</td>\n",
       "    </tr>\n",
       "    <tr>\n",
       "      <th>SPY</th>\n",
       "      <td>0.974765</td>\n",
       "      <td>1.000000</td>\n",
       "      <td>0.933751</td>\n",
       "      <td>0.658581</td>\n",
       "      <td>0.220550</td>\n",
       "    </tr>\n",
       "    <tr>\n",
       "      <th>USO</th>\n",
       "      <td>0.968302</td>\n",
       "      <td>0.933751</td>\n",
       "      <td>1.000000</td>\n",
       "      <td>0.661278</td>\n",
       "      <td>0.124426</td>\n",
       "    </tr>\n",
       "    <tr>\n",
       "      <th>GLD</th>\n",
       "      <td>0.705846</td>\n",
       "      <td>0.658581</td>\n",
       "      <td>0.661278</td>\n",
       "      <td>1.000000</td>\n",
       "      <td>-0.398839</td>\n",
       "    </tr>\n",
       "    <tr>\n",
       "      <th>XLU</th>\n",
       "      <td>0.147043</td>\n",
       "      <td>0.220550</td>\n",
       "      <td>0.124426</td>\n",
       "      <td>-0.398839</td>\n",
       "      <td>1.000000</td>\n",
       "    </tr>\n",
       "  </tbody>\n",
       "</table>\n",
       "</div>"
      ],
      "text/plain": [
       "          XLE       SPY       USO       GLD       XLU\n",
       "XLE  1.000000  0.974765  0.968302  0.705846  0.147043\n",
       "SPY  0.974765  1.000000  0.933751  0.658581  0.220550\n",
       "USO  0.968302  0.933751  1.000000  0.661278  0.124426\n",
       "GLD  0.705846  0.658581  0.661278  1.000000 -0.398839\n",
       "XLU  0.147043  0.220550  0.124426 -0.398839  1.000000"
      ]
     },
     "execution_count": 143,
     "metadata": {},
     "output_type": "execute_result"
    }
   ],
   "source": [
    "df_portfolio = None\n",
    "for short_name in short_names:\n",
    "    sn_path = f'{STOCKS_DIR}/{short_name}.csv'\n",
    "    df_temp = pd.read_csv(sn_path)\n",
    "    df_temp = df_temp[['timestamp','close']]\n",
    "    df_temp = df_temp.rename(columns={'close':f'{short_name}'})\n",
    "    if df_portfolio is None:\n",
    "        df_portfolio = df_temp.copy()\n",
    "    else:\n",
    "        df_portfolio = df_portfolio.merge(df_temp,how='inner',on='timestamp')\n",
    "df_corr = df_portfolio.corr()\n",
    "df_corr"
   ]
  },
  {
   "cell_type": "code",
   "execution_count": 144,
   "metadata": {},
   "outputs": [],
   "source": [
    "fn = f'{STOCKS_DIR}/{\"_\".join(df_corr.columns.values)}.csv'\n",
    "df_corr.to_csv(fn,index=False)"
   ]
  },
  {
   "cell_type": "code",
   "execution_count": 145,
   "metadata": {},
   "outputs": [
    {
     "data": {
      "text/html": [
       "<div>\n",
       "<style scoped>\n",
       "    .dataframe tbody tr th:only-of-type {\n",
       "        vertical-align: middle;\n",
       "    }\n",
       "\n",
       "    .dataframe tbody tr th {\n",
       "        vertical-align: top;\n",
       "    }\n",
       "\n",
       "    .dataframe thead th {\n",
       "        text-align: right;\n",
       "    }\n",
       "</style>\n",
       "<table border=\"1\" class=\"dataframe\">\n",
       "  <thead>\n",
       "    <tr style=\"text-align: right;\">\n",
       "      <th></th>\n",
       "      <th>timestamp</th>\n",
       "      <th>XLE</th>\n",
       "      <th>SPY</th>\n",
       "      <th>USO</th>\n",
       "      <th>GLD</th>\n",
       "      <th>XLU</th>\n",
       "    </tr>\n",
       "  </thead>\n",
       "  <tbody>\n",
       "    <tr>\n",
       "      <th>0</th>\n",
       "      <td>2018-12-20T09:30:00-05:00</td>\n",
       "      <td>57.99749</td>\n",
       "      <td>248.9562</td>\n",
       "      <td>9.870</td>\n",
       "      <td>119.06</td>\n",
       "      <td>53.71378</td>\n",
       "    </tr>\n",
       "    <tr>\n",
       "      <th>1</th>\n",
       "      <td>2018-12-20T10:00:00-05:00</td>\n",
       "      <td>58.21912</td>\n",
       "      <td>248.8468</td>\n",
       "      <td>9.835</td>\n",
       "      <td>119.19</td>\n",
       "      <td>53.97159</td>\n",
       "    </tr>\n",
       "    <tr>\n",
       "      <th>2</th>\n",
       "      <td>2018-12-20T10:30:00-05:00</td>\n",
       "      <td>58.10647</td>\n",
       "      <td>249.1351</td>\n",
       "      <td>9.810</td>\n",
       "      <td>118.77</td>\n",
       "      <td>54.36822</td>\n",
       "    </tr>\n",
       "    <tr>\n",
       "      <th>3</th>\n",
       "      <td>2018-12-20T11:00:00-05:00</td>\n",
       "      <td>57.60120</td>\n",
       "      <td>247.5345</td>\n",
       "      <td>9.680</td>\n",
       "      <td>118.98</td>\n",
       "      <td>54.64586</td>\n",
       "    </tr>\n",
       "    <tr>\n",
       "      <th>4</th>\n",
       "      <td>2018-12-20T11:30:00-05:00</td>\n",
       "      <td>57.11574</td>\n",
       "      <td>246.2222</td>\n",
       "      <td>9.740</td>\n",
       "      <td>119.14</td>\n",
       "      <td>54.45746</td>\n",
       "    </tr>\n",
       "  </tbody>\n",
       "</table>\n",
       "</div>"
      ],
      "text/plain": [
       "                   timestamp       XLE       SPY    USO     GLD       XLU\n",
       "0  2018-12-20T09:30:00-05:00  57.99749  248.9562  9.870  119.06  53.71378\n",
       "1  2018-12-20T10:00:00-05:00  58.21912  248.8468  9.835  119.19  53.97159\n",
       "2  2018-12-20T10:30:00-05:00  58.10647  249.1351  9.810  118.77  54.36822\n",
       "3  2018-12-20T11:00:00-05:00  57.60120  247.5345  9.680  118.98  54.64586\n",
       "4  2018-12-20T11:30:00-05:00  57.11574  246.2222  9.740  119.14  54.45746"
      ]
     },
     "execution_count": 145,
     "metadata": {},
     "output_type": "execute_result"
    }
   ],
   "source": [
    "df_portfolio.head()"
   ]
  },
  {
   "cell_type": "code",
   "execution_count": 146,
   "metadata": {},
   "outputs": [
    {
     "data": {
      "text/html": [
       "<div>\n",
       "<style scoped>\n",
       "    .dataframe tbody tr th:only-of-type {\n",
       "        vertical-align: middle;\n",
       "    }\n",
       "\n",
       "    .dataframe tbody tr th {\n",
       "        vertical-align: top;\n",
       "    }\n",
       "\n",
       "    .dataframe thead th {\n",
       "        text-align: right;\n",
       "    }\n",
       "</style>\n",
       "<table border=\"1\" class=\"dataframe\">\n",
       "  <thead>\n",
       "    <tr style=\"text-align: right;\">\n",
       "      <th></th>\n",
       "      <th>stdev</th>\n",
       "      <th>symbol</th>\n",
       "    </tr>\n",
       "  </thead>\n",
       "  <tbody>\n",
       "    <tr>\n",
       "      <th>0</th>\n",
       "      <td>0.477034</td>\n",
       "      <td>USO</td>\n",
       "    </tr>\n",
       "    <tr>\n",
       "      <th>1</th>\n",
       "      <td>0.104514</td>\n",
       "      <td>GLD</td>\n",
       "    </tr>\n",
       "    <tr>\n",
       "      <th>2</th>\n",
       "      <td>0.264489</td>\n",
       "      <td>SPY</td>\n",
       "    </tr>\n",
       "    <tr>\n",
       "      <th>3</th>\n",
       "      <td>0.241231</td>\n",
       "      <td>XLU</td>\n",
       "    </tr>\n",
       "    <tr>\n",
       "      <th>4</th>\n",
       "      <td>0.332847</td>\n",
       "      <td>XLE</td>\n",
       "    </tr>\n",
       "  </tbody>\n",
       "</table>\n",
       "</div>"
      ],
      "text/plain": [
       "      stdev symbol\n",
       "0  0.477034    USO\n",
       "1  0.104514    GLD\n",
       "2  0.264489    SPY\n",
       "3  0.241231    XLU\n",
       "4  0.332847    XLE"
      ]
     },
     "execution_count": 146,
     "metadata": {},
     "output_type": "execute_result"
    }
   ],
   "source": [
    "cols = list(set(list(df_portfolio.columns.values))-set(['timestamp']))\n",
    "bars_per_day = 8*2\n",
    "perc_of_day = 1/bars_per_day\n",
    "perc_of_year = perc_of_day/256\n",
    "std_series = df_portfolio[cols].pct_change().iloc[1:].std()/perc_of_year**.5\n",
    "df_std = pd.DataFrame({'stdev':list(std_series.values),'symbol':list(std_series.index.values)})\n",
    "df_std"
   ]
  },
  {
   "cell_type": "markdown",
   "metadata": {},
   "source": [
    "#### Enter Positions"
   ]
  },
  {
   "cell_type": "code",
   "execution_count": 147,
   "metadata": {},
   "outputs": [
    {
     "data": {
      "text/html": [
       "<div>\n",
       "<style scoped>\n",
       "    .dataframe tbody tr th:only-of-type {\n",
       "        vertical-align: middle;\n",
       "    }\n",
       "\n",
       "    .dataframe tbody tr th {\n",
       "        vertical-align: top;\n",
       "    }\n",
       "\n",
       "    .dataframe thead th {\n",
       "        text-align: right;\n",
       "    }\n",
       "</style>\n",
       "<table border=\"1\" class=\"dataframe\">\n",
       "  <thead>\n",
       "    <tr style=\"text-align: right;\">\n",
       "      <th></th>\n",
       "      <th>symbol</th>\n",
       "      <th>position</th>\n",
       "    </tr>\n",
       "  </thead>\n",
       "  <tbody>\n",
       "    <tr>\n",
       "      <th>0</th>\n",
       "      <td>USO</td>\n",
       "      <td>2000</td>\n",
       "    </tr>\n",
       "    <tr>\n",
       "      <th>1</th>\n",
       "      <td>GLD</td>\n",
       "      <td>-300</td>\n",
       "    </tr>\n",
       "    <tr>\n",
       "      <th>2</th>\n",
       "      <td>SPY</td>\n",
       "      <td>0</td>\n",
       "    </tr>\n",
       "    <tr>\n",
       "      <th>3</th>\n",
       "      <td>XLU</td>\n",
       "      <td>-300</td>\n",
       "    </tr>\n",
       "    <tr>\n",
       "      <th>4</th>\n",
       "      <td>XLE</td>\n",
       "      <td>300</td>\n",
       "    </tr>\n",
       "  </tbody>\n",
       "</table>\n",
       "</div>"
      ],
      "text/plain": [
       "  symbol  position\n",
       "0    USO      2000\n",
       "1    GLD      -300\n",
       "2    SPY         0\n",
       "3    XLU      -300\n",
       "4    XLE       300"
      ]
     },
     "execution_count": 147,
     "metadata": {},
     "output_type": "execute_result"
    }
   ],
   "source": [
    "positions_tuple = [\n",
    "    ('USO',2000),\n",
    "    ('GLD',-300),\n",
    "    ('SPY',0),\n",
    "    ('XLU',-300),\n",
    "    ('XLE',300)\n",
    "]\n",
    "\n",
    "symbols = [t[0] for t in positions_tuple]\n",
    "positions = [t[1] for t in positions_tuple]\n",
    "\n",
    "df_positions = pd.DataFrame({'symbol':symbols,'position':positions})[['symbol','position']]\n",
    "df_positions"
   ]
  },
  {
   "cell_type": "markdown",
   "metadata": {},
   "source": [
    "#### Get current prices"
   ]
  },
  {
   "cell_type": "code",
   "execution_count": 148,
   "metadata": {},
   "outputs": [
    {
     "data": {
      "text/html": [
       "<div>\n",
       "<style scoped>\n",
       "    .dataframe tbody tr th:only-of-type {\n",
       "        vertical-align: middle;\n",
       "    }\n",
       "\n",
       "    .dataframe tbody tr th {\n",
       "        vertical-align: top;\n",
       "    }\n",
       "\n",
       "    .dataframe thead th {\n",
       "        text-align: right;\n",
       "    }\n",
       "</style>\n",
       "<table border=\"1\" class=\"dataframe\">\n",
       "  <thead>\n",
       "    <tr style=\"text-align: right;\">\n",
       "      <th></th>\n",
       "      <th>symbol</th>\n",
       "      <th>price</th>\n",
       "    </tr>\n",
       "  </thead>\n",
       "  <tbody>\n",
       "    <tr>\n",
       "      <th>0</th>\n",
       "      <td>XLE</td>\n",
       "      <td>63.84</td>\n",
       "    </tr>\n",
       "    <tr>\n",
       "      <th>1</th>\n",
       "      <td>SPY</td>\n",
       "      <td>266.42</td>\n",
       "    </tr>\n",
       "    <tr>\n",
       "      <th>2</th>\n",
       "      <td>USO</td>\n",
       "      <td>11.33</td>\n",
       "    </tr>\n",
       "    <tr>\n",
       "      <th>3</th>\n",
       "      <td>GLD</td>\n",
       "      <td>121.04</td>\n",
       "    </tr>\n",
       "    <tr>\n",
       "      <th>4</th>\n",
       "      <td>XLU</td>\n",
       "      <td>53.14</td>\n",
       "    </tr>\n",
       "  </tbody>\n",
       "</table>\n",
       "</div>"
      ],
      "text/plain": [
       "  symbol   price\n",
       "0    XLE   63.84\n",
       "1    SPY  266.42\n",
       "2    USO   11.33\n",
       "3    GLD  121.04\n",
       "4    XLU   53.14"
      ]
     },
     "execution_count": 148,
     "metadata": {},
     "output_type": "execute_result"
    }
   ],
   "source": [
    "cols = list(filter(lambda c:'time' not in c,df_portfolio.columns.values))\n",
    "vals = df_portfolio.iloc[-1:][cols].as_matrix().reshape(-1)\n",
    "df_prices = pd.DataFrame({'symbol':cols,'price':vals})[['symbol','price']]\n",
    "df_prices"
   ]
  },
  {
   "cell_type": "markdown",
   "metadata": {},
   "source": [
    "#### Merge position, prices, stds"
   ]
  },
  {
   "cell_type": "code",
   "execution_count": 149,
   "metadata": {},
   "outputs": [
    {
     "data": {
      "text/html": [
       "<div>\n",
       "<style scoped>\n",
       "    .dataframe tbody tr th:only-of-type {\n",
       "        vertical-align: middle;\n",
       "    }\n",
       "\n",
       "    .dataframe tbody tr th {\n",
       "        vertical-align: top;\n",
       "    }\n",
       "\n",
       "    .dataframe thead th {\n",
       "        text-align: right;\n",
       "    }\n",
       "</style>\n",
       "<table border=\"1\" class=\"dataframe\">\n",
       "  <thead>\n",
       "    <tr style=\"text-align: right;\">\n",
       "      <th></th>\n",
       "      <th>symbol</th>\n",
       "      <th>position</th>\n",
       "      <th>price</th>\n",
       "      <th>stdev</th>\n",
       "    </tr>\n",
       "  </thead>\n",
       "  <tbody>\n",
       "    <tr>\n",
       "      <th>0</th>\n",
       "      <td>USO</td>\n",
       "      <td>2000</td>\n",
       "      <td>11.33</td>\n",
       "      <td>0.477034</td>\n",
       "    </tr>\n",
       "    <tr>\n",
       "      <th>1</th>\n",
       "      <td>GLD</td>\n",
       "      <td>-300</td>\n",
       "      <td>121.04</td>\n",
       "      <td>0.104514</td>\n",
       "    </tr>\n",
       "    <tr>\n",
       "      <th>2</th>\n",
       "      <td>SPY</td>\n",
       "      <td>0</td>\n",
       "      <td>266.42</td>\n",
       "      <td>0.264489</td>\n",
       "    </tr>\n",
       "    <tr>\n",
       "      <th>3</th>\n",
       "      <td>XLU</td>\n",
       "      <td>-300</td>\n",
       "      <td>53.14</td>\n",
       "      <td>0.241231</td>\n",
       "    </tr>\n",
       "    <tr>\n",
       "      <th>4</th>\n",
       "      <td>XLE</td>\n",
       "      <td>300</td>\n",
       "      <td>63.84</td>\n",
       "      <td>0.332847</td>\n",
       "    </tr>\n",
       "  </tbody>\n",
       "</table>\n",
       "</div>"
      ],
      "text/plain": [
       "  symbol  position   price     stdev\n",
       "0    USO      2000   11.33  0.477034\n",
       "1    GLD      -300  121.04  0.104514\n",
       "2    SPY         0  266.42  0.264489\n",
       "3    XLU      -300   53.14  0.241231\n",
       "4    XLE       300   63.84  0.332847"
      ]
     },
     "execution_count": 149,
     "metadata": {},
     "output_type": "execute_result"
    }
   ],
   "source": [
    "df_positions_2 = df_positions.merge(df_prices,how='inner',on='symbol')\n",
    "df_positions_3 = df_positions_2.merge(df_std,how='inner',on='symbol')\n",
    "df_positions_3"
   ]
  },
  {
   "cell_type": "markdown",
   "metadata": {},
   "source": [
    "#### Create position VaR's"
   ]
  },
  {
   "cell_type": "code",
   "execution_count": 150,
   "metadata": {},
   "outputs": [
    {
     "data": {
      "text/html": [
       "<div>\n",
       "<style scoped>\n",
       "    .dataframe tbody tr th:only-of-type {\n",
       "        vertical-align: middle;\n",
       "    }\n",
       "\n",
       "    .dataframe tbody tr th {\n",
       "        vertical-align: top;\n",
       "    }\n",
       "\n",
       "    .dataframe thead th {\n",
       "        text-align: right;\n",
       "    }\n",
       "</style>\n",
       "<table border=\"1\" class=\"dataframe\">\n",
       "  <thead>\n",
       "    <tr style=\"text-align: right;\">\n",
       "      <th></th>\n",
       "      <th>symbol</th>\n",
       "      <th>position</th>\n",
       "      <th>price</th>\n",
       "      <th>stdev</th>\n",
       "      <th>unit_var</th>\n",
       "      <th>position_var</th>\n",
       "    </tr>\n",
       "  </thead>\n",
       "  <tbody>\n",
       "    <tr>\n",
       "      <th>0</th>\n",
       "      <td>USO</td>\n",
       "      <td>2000</td>\n",
       "      <td>11.33</td>\n",
       "      <td>0.477034</td>\n",
       "      <td>0.069557</td>\n",
       "      <td>1576.172730</td>\n",
       "    </tr>\n",
       "    <tr>\n",
       "      <th>1</th>\n",
       "      <td>GLD</td>\n",
       "      <td>-300</td>\n",
       "      <td>121.04</td>\n",
       "      <td>0.104514</td>\n",
       "      <td>0.015239</td>\n",
       "      <td>-553.375917</td>\n",
       "    </tr>\n",
       "    <tr>\n",
       "      <th>2</th>\n",
       "      <td>SPY</td>\n",
       "      <td>0</td>\n",
       "      <td>266.42</td>\n",
       "      <td>0.264489</td>\n",
       "      <td>0.038566</td>\n",
       "      <td>0.000000</td>\n",
       "    </tr>\n",
       "    <tr>\n",
       "      <th>3</th>\n",
       "      <td>XLU</td>\n",
       "      <td>-300</td>\n",
       "      <td>53.14</td>\n",
       "      <td>0.241231</td>\n",
       "      <td>0.035175</td>\n",
       "      <td>-560.752737</td>\n",
       "    </tr>\n",
       "    <tr>\n",
       "      <th>4</th>\n",
       "      <td>XLE</td>\n",
       "      <td>300</td>\n",
       "      <td>63.84</td>\n",
       "      <td>0.332847</td>\n",
       "      <td>0.048533</td>\n",
       "      <td>929.509729</td>\n",
       "    </tr>\n",
       "  </tbody>\n",
       "</table>\n",
       "</div>"
      ],
      "text/plain": [
       "  symbol  position   price     stdev  unit_var  position_var\n",
       "0    USO      2000   11.33  0.477034  0.069557   1576.172730\n",
       "1    GLD      -300  121.04  0.104514  0.015239   -553.375917\n",
       "2    SPY         0  266.42  0.264489  0.038566      0.000000\n",
       "3    XLU      -300   53.14  0.241231  0.035175   -560.752737\n",
       "4    XLE       300   63.84  0.332847  0.048533    929.509729"
      ]
     },
     "execution_count": 150,
     "metadata": {},
     "output_type": "execute_result"
    }
   ],
   "source": [
    "df_positions_3['unit_var'] = df_positions_3.apply(lambda r: r.price * r.stdev * 2.333 * (1/256)**.5 / r.price,axis=1 )\n",
    "df_positions_3['position_var'] = df_positions_3.apply(lambda r: r.unit_var * r.position * r.price ,axis=1 )\n",
    "df_positions_3"
   ]
  },
  {
   "cell_type": "markdown",
   "metadata": {},
   "source": [
    "#### Create portfolio VaR"
   ]
  },
  {
   "cell_type": "code",
   "execution_count": 151,
   "metadata": {},
   "outputs": [],
   "source": [
    "# create an spy standard deviation that is the historical average\n",
    "var_days = 1\n",
    "spy_usual_daily_std = .16 \n",
    "port_variance = df_positions_3.position_var.astype(float).as_matrix().T @ df_corr.astype(float).as_matrix() @ df_positions_3.position_var.astype(float).as_matrix()\n",
    "port_var = port_variance**.5 * var_days**.5\n",
    "spy_unit_var = float(df_positions_3[df_positions_3.symbol=='SPY'].unit_var) * spy_usual_daily_std / spy_curr_stdev\n",
    "spy_curr_stdev = float(df_positions_3[df_positions_3.symbol=='SPY'].stdev)\n",
    "sp_dollar_equiv = port_var / spy_unit_var * var_days**.5\n",
    "\n"
   ]
  },
  {
   "cell_type": "code",
   "execution_count": 152,
   "metadata": {},
   "outputs": [
    {
     "name": "stdout",
     "output_type": "stream",
     "text": [
      "portolio VaR: 1431.54\n",
      "Equivalent S&P position (in dollars): 65633.4\n"
     ]
    }
   ],
   "source": [
    "print(f'portolio VaR: {round(port_var,2)}')\n",
    "print(f'Equivalent S&P position (in dollars): {round(sp_dollar_equiv,2)}')\n"
   ]
  },
  {
   "cell_type": "markdown",
   "metadata": {},
   "source": [
    "## END"
   ]
  }
 ],
 "metadata": {
  "kernelspec": {
   "display_name": "Python 3",
   "language": "python",
   "name": "python3"
  },
  "language_info": {
   "codemirror_mode": {
    "name": "ipython",
    "version": 3
   },
   "file_extension": ".py",
   "mimetype": "text/x-python",
   "name": "python",
   "nbconvert_exporter": "python",
   "pygments_lexer": "ipython3",
   "version": "3.6.5"
  }
 },
 "nbformat": 4,
 "nbformat_minor": 2
}
