{
 "cells": [
  {
   "cell_type": "code",
   "execution_count": 1,
   "metadata": {},
   "outputs": [],
   "source": [
    "import json\n"
   ]
  },
  {
   "cell_type": "code",
   "execution_count": 2,
   "metadata": {},
   "outputs": [],
   "source": [
    "d = json.load(open('/users/bperlman1/downloads/zj.json','r'))"
   ]
  },
  {
   "cell_type": "code",
   "execution_count": 4,
   "metadata": {},
   "outputs": [
    {
     "data": {
      "text/plain": [
       "dict_keys(['events', 'terms', 'activeTermIds', 'soonMode', 'categoryGroups', 'activeCategories', 'activeEventTypes', 'eventTypes', 'defaultEventType'])"
      ]
     },
     "execution_count": 4,
     "metadata": {},
     "output_type": "execute_result"
    }
   ],
   "source": [
    "d.keys()"
   ]
  },
  {
   "cell_type": "code",
   "execution_count": 8,
   "metadata": {},
   "outputs": [
    {
     "data": {
      "text/plain": [
       "[dict_keys(['event', 'betOffers', 'liveData']),\n",
       " dict_keys(['event', 'betOffers', 'liveData']),\n",
       " dict_keys(['event', 'betOffers']),\n",
       " dict_keys(['event', 'betOffers']),\n",
       " dict_keys(['event', 'betOffers']),\n",
       " dict_keys(['event', 'betOffers']),\n",
       " dict_keys(['event', 'betOffers']),\n",
       " dict_keys(['event', 'betOffers'])]"
      ]
     },
     "execution_count": 8,
     "metadata": {},
     "output_type": "execute_result"
    }
   ],
   "source": [
    "[l.keys() for l in d['events']]"
   ]
  },
  {
   "cell_type": "code",
   "execution_count": 11,
   "metadata": {},
   "outputs": [
    {
     "name": "stdout",
     "output_type": "stream",
     "text": [
      "['id', 'name', 'englishName', 'homeName', 'awayName', 'start', 'group', 'groupId', 'path', 'nonLiveBoCount', 'liveBoCount', 'sport', 'tags', 'state', 'participants']\n",
      "['id', 'name', 'englishName', 'homeName', 'awayName', 'start', 'group', 'groupId', 'path', 'nonLiveBoCount', 'liveBoCount', 'sport', 'tags', 'state', 'participants']\n",
      "['id', 'name', 'englishName', 'homeName', 'awayName', 'start', 'group', 'groupId', 'path', 'nonLiveBoCount', 'sport', 'tags', 'state', 'participants']\n",
      "['id', 'name', 'englishName', 'homeName', 'awayName', 'start', 'group', 'groupId', 'path', 'nonLiveBoCount', 'sport', 'tags', 'state', 'participants']\n",
      "['id', 'name', 'englishName', 'homeName', 'awayName', 'start', 'group', 'groupId', 'path', 'nonLiveBoCount', 'sport', 'tags', 'state', 'participants']\n",
      "['id', 'name', 'englishName', 'homeName', 'awayName', 'start', 'group', 'groupId', 'path', 'nonLiveBoCount', 'sport', 'tags', 'state', 'participants']\n",
      "['id', 'name', 'englishName', 'homeName', 'awayName', 'start', 'group', 'groupId', 'path', 'nonLiveBoCount', 'sport', 'tags', 'state', 'participants']\n",
      "['id', 'name', 'englishName', 'homeName', 'awayName', 'start', 'group', 'groupId', 'path', 'nonLiveBoCount', 'sport', 'tags', 'state', 'participants']\n"
     ]
    }
   ],
   "source": [
    "for e in d['events']:\n",
    "    print([ev for ev in e['event']])\n"
   ]
  },
  {
   "cell_type": "code",
   "execution_count": null,
   "metadata": {},
   "outputs": [],
   "source": []
  }
 ],
 "metadata": {
  "kernelspec": {
   "display_name": "Python 3",
   "language": "python",
   "name": "python3"
  },
  "language_info": {
   "codemirror_mode": {
    "name": "ipython",
    "version": 3
   },
   "file_extension": ".py",
   "mimetype": "text/x-python",
   "name": "python",
   "nbconvert_exporter": "python",
   "pygments_lexer": "ipython3",
   "version": "3.6.5"
  }
 },
 "nbformat": 4,
 "nbformat_minor": 2
}
