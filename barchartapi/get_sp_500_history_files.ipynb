{
 "cells": [
  {
   "cell_type": "markdown",
   "metadata": {},
   "source": [
    "## Get a csv file for each component stock of the SP 500 "
   ]
  },
  {
   "cell_type": "markdown",
   "metadata": {},
   "source": [
    "## Imports"
   ]
  },
  {
   "cell_type": "code",
   "execution_count": 1,
   "metadata": {},
   "outputs": [],
   "source": [
    "import pandas as pd\n",
    "import numpy as np\n",
    "import os\n",
    "import sys\n",
    "import datetime\n",
    "from os.path import expanduser"
   ]
  },
  {
   "cell_type": "markdown",
   "metadata": {},
   "source": [
    "___\n",
    "### Add to sys.path"
   ]
  },
  {
   "cell_type": "markdown",
   "metadata": {},
   "source": [
    "Within the barchart_api module, references like:\n",
    "\n",
    "```from barchartapi import barchart_api```\n",
    "\n",
    "will not work"
   ]
  },
  {
   "cell_type": "code",
   "execution_count": 2,
   "metadata": {},
   "outputs": [],
   "source": [
    "WORKSPACE_DIR = '../..' \n",
    "PROJECT_DIR = f'{WORKSPACE_DIR}/barchartapi' \n",
    "WORKING_DIR = f'{PROJECT_DIR}/barchartapi' \n",
    "if WORKING_DIR not in sys.path:\n",
    "    sys.path.append(WORKING_DIR)\n",
    "if PROJECT_DIR not in sys.path:\n",
    "    sys.path.append(PROJECT_DIR)\n",
    "if WORKSPACE_DIR not in sys.path:\n",
    "    sys.path.append(WORKSPACE_DIR)\n",
    "import barchart_api as bcapi"
   ]
  },
  {
   "cell_type": "markdown",
   "metadata": {},
   "source": [
    "___\n",
    "### Create paths to where you will store the history data"
   ]
  },
  {
   "cell_type": "code",
   "execution_count": 3,
   "metadata": {},
   "outputs": [],
   "source": [
    "STOCKS_DIR = f'./temp_folder/sp'\n",
    "try:\n",
    "    os.makedirs(STOCKS_DIR)\n",
    "except Exception as e:\n",
    "    pass"
   ]
  },
  {
   "cell_type": "code",
   "execution_count": 4,
   "metadata": {},
   "outputs": [
    {
     "data": {
      "text/html": [
       "<div>\n",
       "<style scoped>\n",
       "    .dataframe tbody tr th:only-of-type {\n",
       "        vertical-align: middle;\n",
       "    }\n",
       "\n",
       "    .dataframe tbody tr th {\n",
       "        vertical-align: top;\n",
       "    }\n",
       "\n",
       "    .dataframe thead th {\n",
       "        text-align: right;\n",
       "    }\n",
       "</style>\n",
       "<table border=\"1\" class=\"dataframe\">\n",
       "  <thead>\n",
       "    <tr style=\"text-align: right;\">\n",
       "      <th></th>\n",
       "      <th>Symbol</th>\n",
       "      <th>Name</th>\n",
       "      <th>Sector</th>\n",
       "    </tr>\n",
       "  </thead>\n",
       "  <tbody>\n",
       "    <tr>\n",
       "      <th>0</th>\n",
       "      <td>MMM</td>\n",
       "      <td>3M Company</td>\n",
       "      <td>Industrials</td>\n",
       "    </tr>\n",
       "    <tr>\n",
       "      <th>1</th>\n",
       "      <td>AOS</td>\n",
       "      <td>A.O. Smith Corp</td>\n",
       "      <td>Industrials</td>\n",
       "    </tr>\n",
       "    <tr>\n",
       "      <th>2</th>\n",
       "      <td>ABT</td>\n",
       "      <td>Abbott Laboratories</td>\n",
       "      <td>Health Care</td>\n",
       "    </tr>\n",
       "    <tr>\n",
       "      <th>3</th>\n",
       "      <td>ABBV</td>\n",
       "      <td>AbbVie Inc.</td>\n",
       "      <td>Health Care</td>\n",
       "    </tr>\n",
       "    <tr>\n",
       "      <th>4</th>\n",
       "      <td>ACN</td>\n",
       "      <td>Accenture plc</td>\n",
       "      <td>Information Technology</td>\n",
       "    </tr>\n",
       "  </tbody>\n",
       "</table>\n",
       "</div>"
      ],
      "text/plain": [
       "  Symbol                 Name                  Sector\n",
       "0    MMM           3M Company             Industrials\n",
       "1    AOS      A.O. Smith Corp             Industrials\n",
       "2    ABT  Abbott Laboratories             Health Care\n",
       "3   ABBV          AbbVie Inc.             Health Care\n",
       "4    ACN        Accenture plc  Information Technology"
      ]
     },
     "execution_count": 4,
     "metadata": {},
     "output_type": "execute_result"
    }
   ],
   "source": [
    "url_constituents = 'https://datahub.io/core/s-and-p-500-companies/r/constituents.csv'\n",
    "df_constit = pd.read_csv(url_constituents)\n",
    "df_constit.head()"
   ]
  },
  {
   "cell_type": "markdown",
   "metadata": {},
   "source": [
    "___\n",
    "### Create an instance of BcHist\n",
    "1. select an enpoint prefix of free or paid\n",
    "2. must set bar_type to minutes, hour or daily\n",
    "3. must set interval\n",
    " * for minutes, set interval to 1, 5, 15, 30 or 60\n",
    " * for other types, see https://www.barchart.com/ondemand/api/getHistory"
   ]
  },
  {
   "cell_type": "code",
   "execution_count": 5,
   "metadata": {},
   "outputs": [
    {
     "name": "stdout",
     "output_type": "stream",
     "text": [
      "Barchart OnDemand Client: https://marketdata.websol.barchart.com/\n"
     ]
    }
   ],
   "source": [
    "# select and endpoint prefix\n",
    "endpoint_prefix='free' # 'free' or 'paid'\n",
    "\n",
    "# select a bartype and interval\n",
    "# bar_type='minutes'\n",
    "# interval=1\n",
    "# bar_type='daily'\n",
    "# interval=1\n",
    "bar_type='minutes'\n",
    "interval=30\n",
    "\n",
    "# create an instance of BcHist\n",
    "api_key = open(f'./temp_folder/{endpoint_prefix}_api_key.txt','r').read()\n",
    "endpoint_type=f'{endpoint_prefix}_url'\n",
    "bch = bcapi.BcHist(api_key, bar_type=bar_type, interval=interval,endpoint_type = endpoint_type)\n"
   ]
  },
  {
   "cell_type": "markdown",
   "metadata": {},
   "source": [
    "___\n",
    "### Main Loop to fetch history data from Barchart\n",
    "\n",
    "#### Inputs\n",
    "On each call to BcHist.get_history, provide:\n",
    " * a short name like:\n",
    "  * a stock symbol like: SPY,USO,IBM, etc\n",
    "  * a futures symbol like: CLJ18, GCG19, ESH17, etc\n",
    " * a beginning yyyymmdd integer\n",
    " * an ending yyyymmdd integer\n",
    "\n",
    "#### Outputs\n",
    "The get_history method will return a tuple, where:\n",
    " * tup[0] provides a status\n",
    " * tup[1] provides a pandas DataFrame of data, or None"
   ]
  },
  {
   "cell_type": "code",
   "execution_count": 72,
   "metadata": {},
   "outputs": [
    {
     "name": "stdout",
     "output_type": "stream",
     "text": [
      "get_history: XLE BEGIN 2019-02-02 08:37:51.531826\n",
      "get_history: XLE WRITING DATA 2019-02-02 08:37:52.277060\n",
      "get_history: XLE END 2019-02-02 08:37:52.284500\n",
      "get_history: XLU BEGIN 2019-02-02 08:37:52.284764\n",
      "get_history: XLU WRITING DATA 2019-02-02 08:37:52.772950\n",
      "get_history: XLU END 2019-02-02 08:37:52.776447\n",
      "get_history: XLK BEGIN 2019-02-02 08:37:52.776675\n",
      "get_history: XLK WRITING DATA 2019-02-02 08:37:53.326660\n",
      "get_history: XLK END 2019-02-02 08:37:53.330567\n",
      "get_history: XLB BEGIN 2019-02-02 08:37:53.330747\n",
      "get_history: XLB WRITING DATA 2019-02-02 08:37:53.768190\n",
      "get_history: XLB END 2019-02-02 08:37:53.772777\n",
      "get_history: XLP BEGIN 2019-02-02 08:37:53.773036\n",
      "get_history: XLP WRITING DATA 2019-02-02 08:37:54.361240\n",
      "get_history: XLP END 2019-02-02 08:37:54.364790\n",
      "get_history: XLY BEGIN 2019-02-02 08:37:54.364862\n",
      "get_history: XLY WRITING DATA 2019-02-02 08:37:55.067741\n",
      "get_history: XLY END 2019-02-02 08:37:55.073349\n",
      "get_history: XLI BEGIN 2019-02-02 08:37:55.073634\n",
      "get_history: XLI WRITING DATA 2019-02-02 08:37:55.741005\n",
      "get_history: XLI END 2019-02-02 08:37:55.749640\n",
      "get_history: XLC BEGIN 2019-02-02 08:37:55.749958\n",
      "get_history: XLC WRITING DATA 2019-02-02 08:37:56.237898\n",
      "get_history: XLC END 2019-02-02 08:37:56.248141\n",
      "get_history: XLV BEGIN 2019-02-02 08:37:56.248423\n",
      "get_history: XLV WRITING DATA 2019-02-02 08:37:56.794195\n",
      "get_history: XLV END 2019-02-02 08:37:56.797496\n",
      "get_history: XLF BEGIN 2019-02-02 08:37:56.797716\n",
      "get_history: XLF WRITING DATA 2019-02-02 08:37:57.300013\n",
      "get_history: XLF END 2019-02-02 08:37:57.304372\n"
     ]
    }
   ],
   "source": [
    "spydr_sector_names = ['XLE','XLU','XLK','XLB','XLP','XLY','XLI','XLC','XLV','XLF']\n",
    "spydr_short_names = list(df_constit.Symbol)\n",
    "short_names = spydr_short_names\n",
    "beg_yyyymmdd = 20000101\n",
    "end_yyyymmdd = 20190101\n",
    "\n",
    "for short_name in short_names:\n",
    "    sn_path = f'{STOCKS_DIR}/{short_name}.csv'\n",
    "    if os.path.isfile(sn_path):\n",
    "        print(f'BYPASSING: {short_name}')\n",
    "        continue\n",
    "    print(f'get_history: {short_name} BEGIN {datetime.datetime.now()}')\n",
    "    tup = bch.get_history(short_name, beg_yyyymmdd, end_yyyymmdd)\n",
    "    print(f'get_history: {short_name} WRITING DATA {datetime.datetime.now()}')\n",
    "    tup[1].to_csv(sn_path,index=False)\n",
    "    print(f'get_history: {short_name} END {datetime.datetime.now()}')\n",
    "    "
   ]
  },
  {
   "cell_type": "markdown",
   "metadata": {},
   "source": [
    "## END"
   ]
  },
  {
   "cell_type": "code",
   "execution_count": 68,
   "metadata": {},
   "outputs": [],
   "source": [
    "df = pd.read_csv(f'{os.getcwd()}/../../stock-rnn/df_final__SP500.csv')"
   ]
  }
 ],
 "metadata": {
  "kernelspec": {
   "display_name": "Python 3",
   "language": "python",
   "name": "python3"
  },
  "language_info": {
   "codemirror_mode": {
    "name": "ipython",
    "version": 3
   },
   "file_extension": ".py",
   "mimetype": "text/x-python",
   "name": "python",
   "nbconvert_exporter": "python",
   "pygments_lexer": "ipython3",
   "version": "3.6.5"
  }
 },
 "nbformat": 4,
 "nbformat_minor": 2
}
