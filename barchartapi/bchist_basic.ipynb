{
 "cells": [
  {
   "cell_type": "code",
   "execution_count": null,
   "metadata": {},
   "outputs": [],
   "source": [
    "import os,sys\n",
    "WORKSPACE_DIR = '../..' \n",
    "PROJECT_DIR = f'{WORKSPACE_DIR}/barchartapi' \n",
    "WORKING_DIR = f'{PROJECT_DIR}/barchartapi' \n",
    "if WORKING_DIR not in sys.path:\n",
    "    sys.path.append(WORKING_DIR)\n",
    "if PROJECT_DIR not in sys.path:\n",
    "    sys.path.append(PROJECT_DIR)\n",
    "if WORKSPACE_DIR not in sys.path:\n",
    "    sys.path.append(WORKSPACE_DIR)    \n",
    "import barchart_api as bcapi\n",
    "import matplotlib.pyplot as plt\n",
    "from matplotlib.collections import PatchCollection\n",
    "from matplotlib import gridspec\n",
    "%matplotlib inline\n",
    "import plotly.graph_objs as go\n",
    "from plotly.offline import download_plotlyjs, init_notebook_mode, plot, iplot\n",
    "import plotly.tools as tls\n",
    "init_notebook_mode(connected=True)\n",
    "\n",
    "import datetime\n",
    "import pandas as pd\n",
    "import plot_utilities as pu\n",
    "import datetime\n",
    "import numpy as np\n",
    "\n"
   ]
  },
  {
   "cell_type": "code",
   "execution_count": null,
   "metadata": {},
   "outputs": [],
   "source": [
    "import importlib\n",
    "importlib.reload(pu)"
   ]
  },
  {
   "cell_type": "code",
   "execution_count": null,
   "metadata": {},
   "outputs": [],
   "source": [
    "# set this to 'free' or 'paid'\n",
    "endpoint = 'free' # free or paid\n",
    "\n",
    "# set the bar_type and the interval\n",
    "bar_type='daily' # minutes, daily, monthly\n",
    "interval=1 # 1,5,15,30,60\n",
    "\n",
    "# create an instance \n",
    "api_key = open(f'./temp_folder/{endpoint}_api_key.txt','r').read()\n",
    "endpoint_type=f'{endpoint}_url'\n",
    "bch = bcapi.BcHist(api_key, bar_type=bar_type, interval=interval,endpoint_type = endpoint_type)\n"
   ]
  },
  {
   "cell_type": "code",
   "execution_count": null,
   "metadata": {},
   "outputs": [],
   "source": [
    "df_cb = bch.get_history('CLU19',20190610,20190628)\n"
   ]
  },
  {
   "cell_type": "code",
   "execution_count": null,
   "metadata": {},
   "outputs": [],
   "source": [
    "df_cb[1]"
   ]
  },
  {
   "cell_type": "code",
   "execution_count": null,
   "metadata": {},
   "outputs": [],
   "source": [
    "yy = str(datetime.datetime.now().year)[2:]\n",
    "mm = datetime.datetime.now().month\n",
    "if mm > 6:\n",
    "    yy = str(int(yy) + 1)\n",
    "short_name = f'CLZ{yy}'\n",
    "days_to_fetch = 120\n",
    "\n",
    "dt_end = datetime.datetime.now()\n",
    "dt_beg = dt_end - datetime.timedelta(days_to_fetch)\n",
    "beg_yyyymmdd = '%04d%02d%02d' %(dt_beg.year,dt_beg.month,dt_beg.day)#20181201\n",
    "end_yyyymmdd = '%04d%02d%02d' %(dt_end.year,dt_end.month,dt_end.day)#20190219\n",
    "\n",
    "tup = bch.get_history(short_name, beg_yyyymmdd, end_yyyymmdd)\n",
    "print(f'get_history: {short_name} WRITING DATA {datetime.datetime.now()}')\n",
    "df_hist = tup[1]\n",
    "def __full_date(d):\n",
    "    year = int(str(d)[0:4])\n",
    "    month = int(str(d)[5:7])\n",
    "    day = int(str(d)[8:10])\n",
    "    hour = int(str(d)[11:13])\n",
    "    minute = int(str(d)[14:16])\n",
    "    dt = datetime.datetime(year,month,day,hour,minute)\n",
    "    return(dt)\n",
    "    \n",
    "df_hist['date'] = df_hist.timestamp.apply(__full_date)\n",
    "print(f'get_history: {short_name} END {datetime.datetime.now()}')\n",
    "df_hist.tail()"
   ]
  },
  {
   "cell_type": "code",
   "execution_count": null,
   "metadata": {},
   "outputs": [],
   "source": []
  },
  {
   "cell_type": "markdown",
   "metadata": {},
   "source": [
    "___\n",
    "### Create Candlestick charts for each day's 30 minute intra-day data\n",
    "___"
   ]
  },
  {
   "cell_type": "code",
   "execution_count": null,
   "metadata": {
    "scrolled": true
   },
   "outputs": [],
   "source": [
    "if endpoint != 'free':\n",
    "    for day in df_hist.tradingDay.unique():\n",
    "        try:\n",
    "            fig,axs = pu.candles(df_hist[df_hist.tradingDay==day])\n",
    "            plt.rcParams.update({'figure.max_open_warning': 0})\n",
    "        except Exception as e:\n",
    "            print(f'ERROR FOR DAY {day}')\n",
    "            print(str(e))\n"
   ]
  },
  {
   "cell_type": "markdown",
   "metadata": {},
   "source": [
    "### Show a barchart of the  daily history of percent changes between CLX19 and XLE"
   ]
  },
  {
   "cell_type": "code",
   "execution_count": null,
   "metadata": {},
   "outputs": [],
   "source": [
    "status,df_clx19 = bch.get_history('CLX19',20190801,20191001)\n",
    "status,df_xle = bch.get_history('XLE',20190801,20191001)\n",
    "df_clx19['pct_cl'] = df_clx19.close.pct_change()\n",
    "df_xle['pct_xle'] = df_xle.close.pct_change()"
   ]
  },
  {
   "cell_type": "code",
   "execution_count": null,
   "metadata": {},
   "outputs": [],
   "source": []
  },
  {
   "cell_type": "code",
   "execution_count": null,
   "metadata": {},
   "outputs": [],
   "source": [
    "df_both = df_clx19[['tradingDay','pct_cl']].merge(df_xle[['tradingDay','pct_xle']],on='tradingDay',how='inner')"
   ]
  },
  {
   "cell_type": "code",
   "execution_count": null,
   "metadata": {},
   "outputs": [],
   "source": []
  },
  {
   "cell_type": "code",
   "execution_count": null,
   "metadata": {},
   "outputs": [],
   "source": [
    "f = pu.plotly_pandas(df_both,'tradingDay',bar_plot=True,alt_yaxis=False)\n",
    "iplot(f)"
   ]
  },
  {
   "cell_type": "code",
   "execution_count": null,
   "metadata": {},
   "outputs": [],
   "source": []
  },
  {
   "cell_type": "code",
   "execution_count": null,
   "metadata": {},
   "outputs": [],
   "source": [
    "f2 = pu.plot_pandas(df_both,'tradingDay',bar_plot=True,alt_yaxis=False)"
   ]
  },
  {
   "cell_type": "code",
   "execution_count": null,
   "metadata": {},
   "outputs": [],
   "source": [
    "dir(f2.get_yaxis())"
   ]
  },
  {
   "cell_type": "code",
   "execution_count": null,
   "metadata": {
    "scrolled": true
   },
   "outputs": [],
   "source": [
    "df_both[[c for c in df_both.columns.values if c != 'tradingDay']]"
   ]
  },
  {
   "cell_type": "markdown",
   "metadata": {},
   "source": [
    "### End"
   ]
  },
  {
   "cell_type": "code",
   "execution_count": null,
   "metadata": {},
   "outputs": [],
   "source": []
  }
 ],
 "metadata": {
  "kernelspec": {
   "display_name": "Python 3",
   "language": "python",
   "name": "python3"
  },
  "language_info": {
   "codemirror_mode": {
    "name": "ipython",
    "version": 3
   },
   "file_extension": ".py",
   "mimetype": "text/x-python",
   "name": "python",
   "nbconvert_exporter": "python",
   "pygments_lexer": "ipython3",
   "version": "3.6.5"
  }
 },
 "nbformat": 4,
 "nbformat_minor": 2
}
