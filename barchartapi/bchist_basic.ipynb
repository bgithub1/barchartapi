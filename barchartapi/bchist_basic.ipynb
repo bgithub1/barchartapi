{
 "cells": [
  {
   "cell_type": "code",
   "execution_count": 1,
   "metadata": {},
   "outputs": [
    {
     "data": {
      "text/html": [
       "        <script type=\"text/javascript\">\n",
       "        window.PlotlyConfig = {MathJaxConfig: 'local'};\n",
       "        if (window.MathJax) {MathJax.Hub.Config({SVG: {font: \"STIX-Web\"}});}\n",
       "        if (typeof require !== 'undefined') {\n",
       "        require.undef(\"plotly\");\n",
       "        requirejs.config({\n",
       "            paths: {\n",
       "                'plotly': ['https://cdn.plot.ly/plotly-latest.min']\n",
       "            }\n",
       "        });\n",
       "        require(['plotly'], function(Plotly) {\n",
       "            window._Plotly = Plotly;\n",
       "        });\n",
       "        }\n",
       "        </script>\n",
       "        "
      ]
     },
     "metadata": {},
     "output_type": "display_data"
    },
    {
     "name": "stderr",
     "output_type": "stream",
     "text": [
      "/Users/bperlman1/Virtualenvs3/dashrisk5/lib/python3.6/site-packages/pandas_datareader/compat/__init__.py:7: FutureWarning:\n",
      "\n",
      "pandas.util.testing is deprecated. Use the functions in the public API at pandas.testing instead.\n",
      "\n"
     ]
    },
    {
     "name": "stdout",
     "output_type": "stream",
     "text": [
      "Barchart OnDemand Client: https://marketdata.websol.barchart.com/\n",
      "Barchart OnDemand Client: https://marketdata.websol.barchart.com/\n"
     ]
    }
   ],
   "source": [
    "import os,sys\n",
    "WORKSPACE_DIR = '../..' \n",
    "PROJECT_DIR = f'{WORKSPACE_DIR}/barchartapi' \n",
    "WORKING_DIR = f'{PROJECT_DIR}/barchartapi' \n",
    "if WORKING_DIR not in sys.path:\n",
    "    sys.path.append(WORKING_DIR)\n",
    "if PROJECT_DIR not in sys.path:\n",
    "    sys.path.append(PROJECT_DIR)\n",
    "if WORKSPACE_DIR not in sys.path:\n",
    "    sys.path.append(WORKSPACE_DIR)    \n",
    "import barchart_api as bcapi\n",
    "import matplotlib.pyplot as plt\n",
    "from matplotlib.collections import PatchCollection\n",
    "from matplotlib import gridspec\n",
    "%matplotlib inline\n",
    "import plotly.graph_objs as go\n",
    "from plotly.offline import download_plotlyjs, init_notebook_mode, plot, iplot\n",
    "import plotly.tools as tls\n",
    "init_notebook_mode(connected=True)\n",
    "\n",
    "import datetime\n",
    "import pandas as pd\n",
    "import plot_utilities as pu\n",
    "import datetime\n",
    "import numpy as np\n",
    "import warnings\n",
    "warnings.filterwarnings(\"ignore\")\n"
   ]
  },
  {
   "cell_type": "code",
   "execution_count": 2,
   "metadata": {},
   "outputs": [
    {
     "name": "stdout",
     "output_type": "stream",
     "text": [
      "Barchart OnDemand Client: https://marketdata.websol.barchart.com/\n",
      "Barchart OnDemand Client: https://marketdata.websol.barchart.com/\n"
     ]
    },
    {
     "data": {
      "text/plain": [
       "<module 'plot_utilities' from '/Users/bperlman1/Documents/billybyte/pyliverisk/barchartapi/barchartapi/plot_utilities.py'>"
      ]
     },
     "execution_count": 2,
     "metadata": {},
     "output_type": "execute_result"
    }
   ],
   "source": [
    "import importlib\n",
    "importlib.reload(pu)"
   ]
  },
  {
   "cell_type": "code",
   "execution_count": 3,
   "metadata": {},
   "outputs": [
    {
     "name": "stdout",
     "output_type": "stream",
     "text": [
      "Barchart OnDemand Client: https://marketdata.websol.barchart.com/\n"
     ]
    }
   ],
   "source": [
    "# set this to 'free' or 'paid'\n",
    "endpoint = 'free' # free or paid\n",
    "\n",
    "# set the bar_type and the interval\n",
    "bar_type='daily' # minutes, daily, monthly\n",
    "interval=1 # 1,5,15,30,60\n",
    "\n",
    "# create an instance \n",
    "api_key = open(f'./temp_folder/{endpoint}_api_key.txt','r').read()\n",
    "endpoint_type=f'{endpoint}_url'\n",
    "bch = bcapi.BcHist(api_key, bar_type=bar_type, interval=interval,endpoint_type = endpoint_type)\n"
   ]
  },
  {
   "cell_type": "code",
   "execution_count": 4,
   "metadata": {},
   "outputs": [],
   "source": [
    "df_cb = bch.get_history('SIY00',20190212,20190812)\n"
   ]
  },
  {
   "cell_type": "code",
   "execution_count": 5,
   "metadata": {
    "scrolled": true
   },
   "outputs": [
    {
     "data": {
      "text/html": [
       "<div>\n",
       "<style scoped>\n",
       "    .dataframe tbody tr th:only-of-type {\n",
       "        vertical-align: middle;\n",
       "    }\n",
       "\n",
       "    .dataframe tbody tr th {\n",
       "        vertical-align: top;\n",
       "    }\n",
       "\n",
       "    .dataframe thead th {\n",
       "        text-align: right;\n",
       "    }\n",
       "</style>\n",
       "<table border=\"1\" class=\"dataframe\">\n",
       "  <thead>\n",
       "    <tr style=\"text-align: right;\">\n",
       "      <th></th>\n",
       "      <th>symbol</th>\n",
       "      <th>timestamp</th>\n",
       "      <th>tradingDay</th>\n",
       "      <th>open</th>\n",
       "      <th>high</th>\n",
       "      <th>low</th>\n",
       "      <th>close</th>\n",
       "      <th>volume</th>\n",
       "      <th>openInterest</th>\n",
       "    </tr>\n",
       "  </thead>\n",
       "  <tbody>\n",
       "    <tr>\n",
       "      <th>0</th>\n",
       "      <td>SIY00</td>\n",
       "      <td>2020-06-23T00:00:00-05:00</td>\n",
       "      <td>2020-06-23</td>\n",
       "      <td>17.7029</td>\n",
       "      <td>17.9789</td>\n",
       "      <td>17.6702</td>\n",
       "      <td>17.9432</td>\n",
       "      <td>0</td>\n",
       "      <td>0</td>\n",
       "    </tr>\n",
       "    <tr>\n",
       "      <th>1</th>\n",
       "      <td>SIY00</td>\n",
       "      <td>2020-06-24T00:00:00-05:00</td>\n",
       "      <td>2020-06-24</td>\n",
       "      <td>17.9425</td>\n",
       "      <td>18.0223</td>\n",
       "      <td>17.4772</td>\n",
       "      <td>17.4822</td>\n",
       "      <td>0</td>\n",
       "      <td>0</td>\n",
       "    </tr>\n",
       "    <tr>\n",
       "      <th>2</th>\n",
       "      <td>SIY00</td>\n",
       "      <td>2020-06-25T00:00:00-05:00</td>\n",
       "      <td>2020-06-25</td>\n",
       "      <td>17.4821</td>\n",
       "      <td>17.7861</td>\n",
       "      <td>17.4487</td>\n",
       "      <td>17.7861</td>\n",
       "      <td>0</td>\n",
       "      <td>0</td>\n",
       "    </tr>\n",
       "    <tr>\n",
       "      <th>3</th>\n",
       "      <td>SIY00</td>\n",
       "      <td>2020-06-26T00:00:00-05:00</td>\n",
       "      <td>2020-06-26</td>\n",
       "      <td>17.7868</td>\n",
       "      <td>17.8818</td>\n",
       "      <td>17.5382</td>\n",
       "      <td>17.7596</td>\n",
       "      <td>0</td>\n",
       "      <td>0</td>\n",
       "    </tr>\n",
       "    <tr>\n",
       "      <th>4</th>\n",
       "      <td>SIY00</td>\n",
       "      <td>2020-06-29T00:00:00-05:00</td>\n",
       "      <td>2020-06-29</td>\n",
       "      <td>17.7586</td>\n",
       "      <td>17.9178</td>\n",
       "      <td>17.7031</td>\n",
       "      <td>17.8424</td>\n",
       "      <td>0</td>\n",
       "      <td>0</td>\n",
       "    </tr>\n",
       "    <tr>\n",
       "      <th>...</th>\n",
       "      <td>...</td>\n",
       "      <td>...</td>\n",
       "      <td>...</td>\n",
       "      <td>...</td>\n",
       "      <td>...</td>\n",
       "      <td>...</td>\n",
       "      <td>...</td>\n",
       "      <td>...</td>\n",
       "      <td>...</td>\n",
       "    </tr>\n",
       "    <tr>\n",
       "      <th>126</th>\n",
       "      <td>SIY00</td>\n",
       "      <td>2020-12-16T00:00:00-06:00</td>\n",
       "      <td>2020-12-16</td>\n",
       "      <td>24.4898</td>\n",
       "      <td>25.3796</td>\n",
       "      <td>24.4468</td>\n",
       "      <td>25.3457</td>\n",
       "      <td>0</td>\n",
       "      <td>0</td>\n",
       "    </tr>\n",
       "    <tr>\n",
       "      <th>127</th>\n",
       "      <td>SIY00</td>\n",
       "      <td>2020-12-17T00:00:00-06:00</td>\n",
       "      <td>2020-12-17</td>\n",
       "      <td>25.3463</td>\n",
       "      <td>26.0536</td>\n",
       "      <td>25.1818</td>\n",
       "      <td>26.0532</td>\n",
       "      <td>0</td>\n",
       "      <td>0</td>\n",
       "    </tr>\n",
       "    <tr>\n",
       "      <th>128</th>\n",
       "      <td>SIY00</td>\n",
       "      <td>2020-12-18T00:00:00-06:00</td>\n",
       "      <td>2020-12-18</td>\n",
       "      <td>26.0537</td>\n",
       "      <td>26.0582</td>\n",
       "      <td>25.6671</td>\n",
       "      <td>25.7804</td>\n",
       "      <td>0</td>\n",
       "      <td>0</td>\n",
       "    </tr>\n",
       "    <tr>\n",
       "      <th>129</th>\n",
       "      <td>SIY00</td>\n",
       "      <td>2020-12-21T00:00:00-06:00</td>\n",
       "      <td>2020-12-21</td>\n",
       "      <td>25.8105</td>\n",
       "      <td>27.2640</td>\n",
       "      <td>25.7198</td>\n",
       "      <td>26.1665</td>\n",
       "      <td>0</td>\n",
       "      <td>0</td>\n",
       "    </tr>\n",
       "    <tr>\n",
       "      <th>130</th>\n",
       "      <td>SIY00</td>\n",
       "      <td>2020-12-22T00:00:00-06:00</td>\n",
       "      <td>2020-12-22</td>\n",
       "      <td>26.1655</td>\n",
       "      <td>26.4993</td>\n",
       "      <td>25.1141</td>\n",
       "      <td>25.1528</td>\n",
       "      <td>0</td>\n",
       "      <td>0</td>\n",
       "    </tr>\n",
       "  </tbody>\n",
       "</table>\n",
       "<p>131 rows × 9 columns</p>\n",
       "</div>"
      ],
      "text/plain": [
       "    symbol                  timestamp  tradingDay     open     high      low  \\\n",
       "0    SIY00  2020-06-23T00:00:00-05:00  2020-06-23  17.7029  17.9789  17.6702   \n",
       "1    SIY00  2020-06-24T00:00:00-05:00  2020-06-24  17.9425  18.0223  17.4772   \n",
       "2    SIY00  2020-06-25T00:00:00-05:00  2020-06-25  17.4821  17.7861  17.4487   \n",
       "3    SIY00  2020-06-26T00:00:00-05:00  2020-06-26  17.7868  17.8818  17.5382   \n",
       "4    SIY00  2020-06-29T00:00:00-05:00  2020-06-29  17.7586  17.9178  17.7031   \n",
       "..     ...                        ...         ...      ...      ...      ...   \n",
       "126  SIY00  2020-12-16T00:00:00-06:00  2020-12-16  24.4898  25.3796  24.4468   \n",
       "127  SIY00  2020-12-17T00:00:00-06:00  2020-12-17  25.3463  26.0536  25.1818   \n",
       "128  SIY00  2020-12-18T00:00:00-06:00  2020-12-18  26.0537  26.0582  25.6671   \n",
       "129  SIY00  2020-12-21T00:00:00-06:00  2020-12-21  25.8105  27.2640  25.7198   \n",
       "130  SIY00  2020-12-22T00:00:00-06:00  2020-12-22  26.1655  26.4993  25.1141   \n",
       "\n",
       "       close  volume  openInterest  \n",
       "0    17.9432       0             0  \n",
       "1    17.4822       0             0  \n",
       "2    17.7861       0             0  \n",
       "3    17.7596       0             0  \n",
       "4    17.8424       0             0  \n",
       "..       ...     ...           ...  \n",
       "126  25.3457       0             0  \n",
       "127  26.0532       0             0  \n",
       "128  25.7804       0             0  \n",
       "129  26.1665       0             0  \n",
       "130  25.1528       0             0  \n",
       "\n",
       "[131 rows x 9 columns]"
      ]
     },
     "execution_count": 5,
     "metadata": {},
     "output_type": "execute_result"
    }
   ],
   "source": [
    "df_cb[1]"
   ]
  },
  {
   "cell_type": "code",
   "execution_count": 6,
   "metadata": {},
   "outputs": [
    {
     "name": "stdout",
     "output_type": "stream",
     "text": [
      "get_history: CLZ21 WRITING DATA 2020-12-23 10:18:44.178504\n",
      "get_history: CLZ21 END 2020-12-23 10:18:44.183388\n"
     ]
    },
    {
     "data": {
      "text/html": [
       "<div>\n",
       "<style scoped>\n",
       "    .dataframe tbody tr th:only-of-type {\n",
       "        vertical-align: middle;\n",
       "    }\n",
       "\n",
       "    .dataframe tbody tr th {\n",
       "        vertical-align: top;\n",
       "    }\n",
       "\n",
       "    .dataframe thead th {\n",
       "        text-align: right;\n",
       "    }\n",
       "</style>\n",
       "<table border=\"1\" class=\"dataframe\">\n",
       "  <thead>\n",
       "    <tr style=\"text-align: right;\">\n",
       "      <th></th>\n",
       "      <th>symbol</th>\n",
       "      <th>timestamp</th>\n",
       "      <th>tradingDay</th>\n",
       "      <th>open</th>\n",
       "      <th>high</th>\n",
       "      <th>low</th>\n",
       "      <th>close</th>\n",
       "      <th>volume</th>\n",
       "      <th>openInterest</th>\n",
       "      <th>date</th>\n",
       "    </tr>\n",
       "  </thead>\n",
       "  <tbody>\n",
       "    <tr>\n",
       "      <th>79</th>\n",
       "      <td>CLZ21</td>\n",
       "      <td>2020-12-16T00:00:00-06:00</td>\n",
       "      <td>2020-12-16</td>\n",
       "      <td>46.94</td>\n",
       "      <td>47.39</td>\n",
       "      <td>46.80</td>\n",
       "      <td>47.29</td>\n",
       "      <td>41532</td>\n",
       "      <td>273783</td>\n",
       "      <td>2020-12-16</td>\n",
       "    </tr>\n",
       "    <tr>\n",
       "      <th>80</th>\n",
       "      <td>CLZ21</td>\n",
       "      <td>2020-12-17T00:00:00-06:00</td>\n",
       "      <td>2020-12-17</td>\n",
       "      <td>47.27</td>\n",
       "      <td>47.97</td>\n",
       "      <td>47.25</td>\n",
       "      <td>47.93</td>\n",
       "      <td>32772</td>\n",
       "      <td>273506</td>\n",
       "      <td>2020-12-17</td>\n",
       "    </tr>\n",
       "    <tr>\n",
       "      <th>81</th>\n",
       "      <td>CLZ21</td>\n",
       "      <td>2020-12-18T00:00:00-06:00</td>\n",
       "      <td>2020-12-18</td>\n",
       "      <td>47.82</td>\n",
       "      <td>48.50</td>\n",
       "      <td>47.64</td>\n",
       "      <td>48.37</td>\n",
       "      <td>53090</td>\n",
       "      <td>272276</td>\n",
       "      <td>2020-12-18</td>\n",
       "    </tr>\n",
       "    <tr>\n",
       "      <th>82</th>\n",
       "      <td>CLZ21</td>\n",
       "      <td>2020-12-21T00:00:00-06:00</td>\n",
       "      <td>2020-12-21</td>\n",
       "      <td>48.35</td>\n",
       "      <td>48.37</td>\n",
       "      <td>45.80</td>\n",
       "      <td>47.37</td>\n",
       "      <td>48432</td>\n",
       "      <td>268997</td>\n",
       "      <td>2020-12-21</td>\n",
       "    </tr>\n",
       "    <tr>\n",
       "      <th>83</th>\n",
       "      <td>CLZ21</td>\n",
       "      <td>2020-12-22T00:00:00-06:00</td>\n",
       "      <td>2020-12-22</td>\n",
       "      <td>47.29</td>\n",
       "      <td>47.33</td>\n",
       "      <td>46.11</td>\n",
       "      <td>46.66</td>\n",
       "      <td>31904</td>\n",
       "      <td>271059</td>\n",
       "      <td>2020-12-22</td>\n",
       "    </tr>\n",
       "  </tbody>\n",
       "</table>\n",
       "</div>"
      ],
      "text/plain": [
       "   symbol                  timestamp  tradingDay   open   high    low  close  \\\n",
       "79  CLZ21  2020-12-16T00:00:00-06:00  2020-12-16  46.94  47.39  46.80  47.29   \n",
       "80  CLZ21  2020-12-17T00:00:00-06:00  2020-12-17  47.27  47.97  47.25  47.93   \n",
       "81  CLZ21  2020-12-18T00:00:00-06:00  2020-12-18  47.82  48.50  47.64  48.37   \n",
       "82  CLZ21  2020-12-21T00:00:00-06:00  2020-12-21  48.35  48.37  45.80  47.37   \n",
       "83  CLZ21  2020-12-22T00:00:00-06:00  2020-12-22  47.29  47.33  46.11  46.66   \n",
       "\n",
       "    volume  openInterest       date  \n",
       "79   41532        273783 2020-12-16  \n",
       "80   32772        273506 2020-12-17  \n",
       "81   53090        272276 2020-12-18  \n",
       "82   48432        268997 2020-12-21  \n",
       "83   31904        271059 2020-12-22  "
      ]
     },
     "execution_count": 6,
     "metadata": {},
     "output_type": "execute_result"
    }
   ],
   "source": [
    "yy = str(datetime.datetime.now().year)[2:]\n",
    "mm = datetime.datetime.now().month\n",
    "if mm > 6:\n",
    "    yy = str(int(yy) + 1)\n",
    "short_name = f'CLZ{yy}'\n",
    "days_to_fetch = 120\n",
    "\n",
    "dt_end = datetime.datetime.now()\n",
    "dt_beg = dt_end - datetime.timedelta(days_to_fetch)\n",
    "beg_yyyymmdd = '%04d%02d%02d' %(dt_beg.year,dt_beg.month,dt_beg.day)#20181201\n",
    "end_yyyymmdd = '%04d%02d%02d' %(dt_end.year,dt_end.month,dt_end.day)#20190219\n",
    "\n",
    "tup = bch.get_history(short_name, beg_yyyymmdd, end_yyyymmdd)\n",
    "print(f'get_history: {short_name} WRITING DATA {datetime.datetime.now()}')\n",
    "df_hist = tup[1]\n",
    "def __full_date(d):\n",
    "    year = int(str(d)[0:4])\n",
    "    month = int(str(d)[5:7])\n",
    "    day = int(str(d)[8:10])\n",
    "    hour = int(str(d)[11:13])\n",
    "    minute = int(str(d)[14:16])\n",
    "    dt = datetime.datetime(year,month,day,hour,minute)\n",
    "    return(dt)\n",
    "    \n",
    "df_hist['date'] = df_hist.timestamp.apply(__full_date)\n",
    "print(f'get_history: {short_name} END {datetime.datetime.now()}')\n",
    "df_hist.tail()"
   ]
  },
  {
   "cell_type": "code",
   "execution_count": null,
   "metadata": {},
   "outputs": [],
   "source": []
  },
  {
   "cell_type": "markdown",
   "metadata": {},
   "source": [
    "___\n",
    "### Create Candlestick charts for each day's 30 minute intra-day data\n",
    "___"
   ]
  },
  {
   "cell_type": "code",
   "execution_count": 8,
   "metadata": {
    "scrolled": true
   },
   "outputs": [],
   "source": [
    "if endpoint != 'free':\n",
    "    for day in df_hist.tradingDay.unique():\n",
    "        try:\n",
    "            fig,axs = pu.candles(df_hist[df_hist.tradingDay==day])\n",
    "            plt.rcParams.update({'figure.max_open_warning': 0})\n",
    "        except Exception as e:\n",
    "            print(f'ERROR FOR DAY {day}')\n",
    "            print(str(e))\n"
   ]
  },
  {
   "cell_type": "markdown",
   "metadata": {},
   "source": [
    "### Show a barchart of the  daily history of percent changes between CLX19 and XLE"
   ]
  },
  {
   "cell_type": "code",
   "execution_count": 9,
   "metadata": {},
   "outputs": [],
   "source": [
    "beg_yyyymmdd\n",
    "# status,df_clx19 = bch.get_history('CLX19',20190801,20191001)\n",
    "# status,df_xle = bch.get_history('XLE',20190801,20191001)\n",
    "status,df_xle = bch.get_history('XLE',beg_yyyymmdd,end_yyyymmdd)\n",
    "# df_clx19['pct_cl'] = df_clx19.close.pct_change()\n",
    "df_hist['pct_cl'] = df_hist.close.pct_change()\n",
    "df_xle['pct_xle'] = df_xle.close.pct_change()"
   ]
  },
  {
   "cell_type": "code",
   "execution_count": 10,
   "metadata": {},
   "outputs": [
    {
     "data": {
      "text/html": [
       "<div>\n",
       "<style scoped>\n",
       "    .dataframe tbody tr th:only-of-type {\n",
       "        vertical-align: middle;\n",
       "    }\n",
       "\n",
       "    .dataframe tbody tr th {\n",
       "        vertical-align: top;\n",
       "    }\n",
       "\n",
       "    .dataframe thead th {\n",
       "        text-align: right;\n",
       "    }\n",
       "</style>\n",
       "<table border=\"1\" class=\"dataframe\">\n",
       "  <thead>\n",
       "    <tr style=\"text-align: right;\">\n",
       "      <th></th>\n",
       "      <th>symbol</th>\n",
       "      <th>timestamp</th>\n",
       "      <th>tradingDay</th>\n",
       "      <th>open</th>\n",
       "      <th>high</th>\n",
       "      <th>low</th>\n",
       "      <th>close</th>\n",
       "      <th>volume</th>\n",
       "      <th>openInterest</th>\n",
       "      <th>pct_xle</th>\n",
       "    </tr>\n",
       "  </thead>\n",
       "  <tbody>\n",
       "    <tr>\n",
       "      <th>0</th>\n",
       "      <td>XLE</td>\n",
       "      <td>2020-08-25T00:00:00-04:00</td>\n",
       "      <td>2020-08-25</td>\n",
       "      <td>36.13430</td>\n",
       "      <td>36.18283</td>\n",
       "      <td>35.26055</td>\n",
       "      <td>35.43530</td>\n",
       "      <td>20722990</td>\n",
       "      <td>None</td>\n",
       "      <td>NaN</td>\n",
       "    </tr>\n",
       "    <tr>\n",
       "      <th>1</th>\n",
       "      <td>XLE</td>\n",
       "      <td>2020-08-26T00:00:00-04:00</td>\n",
       "      <td>2020-08-26</td>\n",
       "      <td>35.38676</td>\n",
       "      <td>35.38676</td>\n",
       "      <td>34.63922</td>\n",
       "      <td>34.68776</td>\n",
       "      <td>18542072</td>\n",
       "      <td>None</td>\n",
       "      <td>-0.021096</td>\n",
       "    </tr>\n",
       "    <tr>\n",
       "      <th>2</th>\n",
       "      <td>XLE</td>\n",
       "      <td>2020-08-27T00:00:00-04:00</td>\n",
       "      <td>2020-08-27</td>\n",
       "      <td>34.69747</td>\n",
       "      <td>34.98872</td>\n",
       "      <td>34.32855</td>\n",
       "      <td>34.75571</td>\n",
       "      <td>22928422</td>\n",
       "      <td>None</td>\n",
       "      <td>0.001959</td>\n",
       "    </tr>\n",
       "    <tr>\n",
       "      <th>3</th>\n",
       "      <td>XLE</td>\n",
       "      <td>2020-08-28T00:00:00-04:00</td>\n",
       "      <td>2020-08-28</td>\n",
       "      <td>34.89163</td>\n",
       "      <td>35.48384</td>\n",
       "      <td>34.71688</td>\n",
       "      <td>35.37704</td>\n",
       "      <td>15012927</td>\n",
       "      <td>None</td>\n",
       "      <td>0.017877</td>\n",
       "    </tr>\n",
       "    <tr>\n",
       "      <th>4</th>\n",
       "      <td>XLE</td>\n",
       "      <td>2020-08-31T00:00:00-04:00</td>\n",
       "      <td>2020-08-31</td>\n",
       "      <td>35.42559</td>\n",
       "      <td>35.47413</td>\n",
       "      <td>34.61009</td>\n",
       "      <td>34.61009</td>\n",
       "      <td>19356118</td>\n",
       "      <td>None</td>\n",
       "      <td>-0.021679</td>\n",
       "    </tr>\n",
       "    <tr>\n",
       "      <th>...</th>\n",
       "      <td>...</td>\n",
       "      <td>...</td>\n",
       "      <td>...</td>\n",
       "      <td>...</td>\n",
       "      <td>...</td>\n",
       "      <td>...</td>\n",
       "      <td>...</td>\n",
       "      <td>...</td>\n",
       "      <td>...</td>\n",
       "      <td>...</td>\n",
       "    </tr>\n",
       "    <tr>\n",
       "      <th>79</th>\n",
       "      <td>XLE</td>\n",
       "      <td>2020-12-16T00:00:00-05:00</td>\n",
       "      <td>2020-12-16</td>\n",
       "      <td>40.02469</td>\n",
       "      <td>40.17271</td>\n",
       "      <td>39.45235</td>\n",
       "      <td>39.72865</td>\n",
       "      <td>24132906</td>\n",
       "      <td>None</td>\n",
       "      <td>-0.004943</td>\n",
       "    </tr>\n",
       "    <tr>\n",
       "      <th>80</th>\n",
       "      <td>XLE</td>\n",
       "      <td>2020-12-17T00:00:00-05:00</td>\n",
       "      <td>2020-12-17</td>\n",
       "      <td>40.08390</td>\n",
       "      <td>40.09377</td>\n",
       "      <td>39.30433</td>\n",
       "      <td>39.54116</td>\n",
       "      <td>23491642</td>\n",
       "      <td>None</td>\n",
       "      <td>-0.004719</td>\n",
       "    </tr>\n",
       "    <tr>\n",
       "      <th>81</th>\n",
       "      <td>XLE</td>\n",
       "      <td>2020-12-18T00:00:00-05:00</td>\n",
       "      <td>2020-12-18</td>\n",
       "      <td>39.46222</td>\n",
       "      <td>39.67931</td>\n",
       "      <td>38.57409</td>\n",
       "      <td>38.88000</td>\n",
       "      <td>37059204</td>\n",
       "      <td>None</td>\n",
       "      <td>-0.016721</td>\n",
       "    </tr>\n",
       "    <tr>\n",
       "      <th>82</th>\n",
       "      <td>XLE</td>\n",
       "      <td>2020-12-21T00:00:00-05:00</td>\n",
       "      <td>2020-12-21</td>\n",
       "      <td>37.41000</td>\n",
       "      <td>38.46460</td>\n",
       "      <td>37.01500</td>\n",
       "      <td>38.13000</td>\n",
       "      <td>40079400</td>\n",
       "      <td>None</td>\n",
       "      <td>-0.019290</td>\n",
       "    </tr>\n",
       "    <tr>\n",
       "      <th>83</th>\n",
       "      <td>XLE</td>\n",
       "      <td>2020-12-22T00:00:00-05:00</td>\n",
       "      <td>2020-12-22</td>\n",
       "      <td>38.05000</td>\n",
       "      <td>38.18000</td>\n",
       "      <td>37.45000</td>\n",
       "      <td>37.49000</td>\n",
       "      <td>25104100</td>\n",
       "      <td>None</td>\n",
       "      <td>-0.016785</td>\n",
       "    </tr>\n",
       "  </tbody>\n",
       "</table>\n",
       "<p>84 rows × 10 columns</p>\n",
       "</div>"
      ],
      "text/plain": [
       "   symbol                  timestamp  tradingDay      open      high  \\\n",
       "0     XLE  2020-08-25T00:00:00-04:00  2020-08-25  36.13430  36.18283   \n",
       "1     XLE  2020-08-26T00:00:00-04:00  2020-08-26  35.38676  35.38676   \n",
       "2     XLE  2020-08-27T00:00:00-04:00  2020-08-27  34.69747  34.98872   \n",
       "3     XLE  2020-08-28T00:00:00-04:00  2020-08-28  34.89163  35.48384   \n",
       "4     XLE  2020-08-31T00:00:00-04:00  2020-08-31  35.42559  35.47413   \n",
       "..    ...                        ...         ...       ...       ...   \n",
       "79    XLE  2020-12-16T00:00:00-05:00  2020-12-16  40.02469  40.17271   \n",
       "80    XLE  2020-12-17T00:00:00-05:00  2020-12-17  40.08390  40.09377   \n",
       "81    XLE  2020-12-18T00:00:00-05:00  2020-12-18  39.46222  39.67931   \n",
       "82    XLE  2020-12-21T00:00:00-05:00  2020-12-21  37.41000  38.46460   \n",
       "83    XLE  2020-12-22T00:00:00-05:00  2020-12-22  38.05000  38.18000   \n",
       "\n",
       "         low     close    volume openInterest   pct_xle  \n",
       "0   35.26055  35.43530  20722990         None       NaN  \n",
       "1   34.63922  34.68776  18542072         None -0.021096  \n",
       "2   34.32855  34.75571  22928422         None  0.001959  \n",
       "3   34.71688  35.37704  15012927         None  0.017877  \n",
       "4   34.61009  34.61009  19356118         None -0.021679  \n",
       "..       ...       ...       ...          ...       ...  \n",
       "79  39.45235  39.72865  24132906         None -0.004943  \n",
       "80  39.30433  39.54116  23491642         None -0.004719  \n",
       "81  38.57409  38.88000  37059204         None -0.016721  \n",
       "82  37.01500  38.13000  40079400         None -0.019290  \n",
       "83  37.45000  37.49000  25104100         None -0.016785  \n",
       "\n",
       "[84 rows x 10 columns]"
      ]
     },
     "execution_count": 10,
     "metadata": {},
     "output_type": "execute_result"
    }
   ],
   "source": [
    "df_xle"
   ]
  },
  {
   "cell_type": "code",
   "execution_count": 12,
   "metadata": {},
   "outputs": [
    {
     "data": {
      "text/html": [
       "<div>\n",
       "<style scoped>\n",
       "    .dataframe tbody tr th:only-of-type {\n",
       "        vertical-align: middle;\n",
       "    }\n",
       "\n",
       "    .dataframe tbody tr th {\n",
       "        vertical-align: top;\n",
       "    }\n",
       "\n",
       "    .dataframe thead th {\n",
       "        text-align: right;\n",
       "    }\n",
       "</style>\n",
       "<table border=\"1\" class=\"dataframe\">\n",
       "  <thead>\n",
       "    <tr style=\"text-align: right;\">\n",
       "      <th></th>\n",
       "      <th>symbol</th>\n",
       "      <th>timestamp</th>\n",
       "      <th>tradingDay</th>\n",
       "      <th>open</th>\n",
       "      <th>high</th>\n",
       "      <th>low</th>\n",
       "      <th>close</th>\n",
       "      <th>volume</th>\n",
       "      <th>openInterest</th>\n",
       "      <th>date</th>\n",
       "      <th>pct_cl</th>\n",
       "    </tr>\n",
       "  </thead>\n",
       "  <tbody>\n",
       "    <tr>\n",
       "      <th>0</th>\n",
       "      <td>CLZ21</td>\n",
       "      <td>2020-08-25T00:00:00-05:00</td>\n",
       "      <td>2020-08-25</td>\n",
       "      <td>45.28</td>\n",
       "      <td>46.14</td>\n",
       "      <td>45.28</td>\n",
       "      <td>45.91</td>\n",
       "      <td>35237</td>\n",
       "      <td>192479</td>\n",
       "      <td>2020-08-25</td>\n",
       "      <td>NaN</td>\n",
       "    </tr>\n",
       "    <tr>\n",
       "      <th>1</th>\n",
       "      <td>CLZ21</td>\n",
       "      <td>2020-08-26T00:00:00-05:00</td>\n",
       "      <td>2020-08-26</td>\n",
       "      <td>45.99</td>\n",
       "      <td>46.13</td>\n",
       "      <td>45.66</td>\n",
       "      <td>45.87</td>\n",
       "      <td>26950</td>\n",
       "      <td>193914</td>\n",
       "      <td>2020-08-26</td>\n",
       "      <td>-0.000871</td>\n",
       "    </tr>\n",
       "    <tr>\n",
       "      <th>2</th>\n",
       "      <td>CLZ21</td>\n",
       "      <td>2020-08-27T00:00:00-05:00</td>\n",
       "      <td>2020-08-27</td>\n",
       "      <td>45.88</td>\n",
       "      <td>45.90</td>\n",
       "      <td>45.02</td>\n",
       "      <td>45.41</td>\n",
       "      <td>18008</td>\n",
       "      <td>193941</td>\n",
       "      <td>2020-08-27</td>\n",
       "      <td>-0.010028</td>\n",
       "    </tr>\n",
       "    <tr>\n",
       "      <th>3</th>\n",
       "      <td>CLZ21</td>\n",
       "      <td>2020-08-28T00:00:00-05:00</td>\n",
       "      <td>2020-08-28</td>\n",
       "      <td>45.37</td>\n",
       "      <td>45.80</td>\n",
       "      <td>45.24</td>\n",
       "      <td>45.71</td>\n",
       "      <td>23219</td>\n",
       "      <td>193992</td>\n",
       "      <td>2020-08-28</td>\n",
       "      <td>0.006606</td>\n",
       "    </tr>\n",
       "    <tr>\n",
       "      <th>4</th>\n",
       "      <td>CLZ21</td>\n",
       "      <td>2020-08-31T00:00:00-05:00</td>\n",
       "      <td>2020-08-31</td>\n",
       "      <td>45.67</td>\n",
       "      <td>46.11</td>\n",
       "      <td>45.14</td>\n",
       "      <td>45.21</td>\n",
       "      <td>18144</td>\n",
       "      <td>193450</td>\n",
       "      <td>2020-08-31</td>\n",
       "      <td>-0.010939</td>\n",
       "    </tr>\n",
       "    <tr>\n",
       "      <th>...</th>\n",
       "      <td>...</td>\n",
       "      <td>...</td>\n",
       "      <td>...</td>\n",
       "      <td>...</td>\n",
       "      <td>...</td>\n",
       "      <td>...</td>\n",
       "      <td>...</td>\n",
       "      <td>...</td>\n",
       "      <td>...</td>\n",
       "      <td>...</td>\n",
       "      <td>...</td>\n",
       "    </tr>\n",
       "    <tr>\n",
       "      <th>79</th>\n",
       "      <td>CLZ21</td>\n",
       "      <td>2020-12-16T00:00:00-06:00</td>\n",
       "      <td>2020-12-16</td>\n",
       "      <td>46.94</td>\n",
       "      <td>47.39</td>\n",
       "      <td>46.80</td>\n",
       "      <td>47.29</td>\n",
       "      <td>41532</td>\n",
       "      <td>273783</td>\n",
       "      <td>2020-12-16</td>\n",
       "      <td>0.005315</td>\n",
       "    </tr>\n",
       "    <tr>\n",
       "      <th>80</th>\n",
       "      <td>CLZ21</td>\n",
       "      <td>2020-12-17T00:00:00-06:00</td>\n",
       "      <td>2020-12-17</td>\n",
       "      <td>47.27</td>\n",
       "      <td>47.97</td>\n",
       "      <td>47.25</td>\n",
       "      <td>47.93</td>\n",
       "      <td>32772</td>\n",
       "      <td>273506</td>\n",
       "      <td>2020-12-17</td>\n",
       "      <td>0.013534</td>\n",
       "    </tr>\n",
       "    <tr>\n",
       "      <th>81</th>\n",
       "      <td>CLZ21</td>\n",
       "      <td>2020-12-18T00:00:00-06:00</td>\n",
       "      <td>2020-12-18</td>\n",
       "      <td>47.82</td>\n",
       "      <td>48.50</td>\n",
       "      <td>47.64</td>\n",
       "      <td>48.37</td>\n",
       "      <td>53090</td>\n",
       "      <td>272276</td>\n",
       "      <td>2020-12-18</td>\n",
       "      <td>0.009180</td>\n",
       "    </tr>\n",
       "    <tr>\n",
       "      <th>82</th>\n",
       "      <td>CLZ21</td>\n",
       "      <td>2020-12-21T00:00:00-06:00</td>\n",
       "      <td>2020-12-21</td>\n",
       "      <td>48.35</td>\n",
       "      <td>48.37</td>\n",
       "      <td>45.80</td>\n",
       "      <td>47.37</td>\n",
       "      <td>48432</td>\n",
       "      <td>268997</td>\n",
       "      <td>2020-12-21</td>\n",
       "      <td>-0.020674</td>\n",
       "    </tr>\n",
       "    <tr>\n",
       "      <th>83</th>\n",
       "      <td>CLZ21</td>\n",
       "      <td>2020-12-22T00:00:00-06:00</td>\n",
       "      <td>2020-12-22</td>\n",
       "      <td>47.29</td>\n",
       "      <td>47.33</td>\n",
       "      <td>46.11</td>\n",
       "      <td>46.66</td>\n",
       "      <td>31904</td>\n",
       "      <td>271059</td>\n",
       "      <td>2020-12-22</td>\n",
       "      <td>-0.014988</td>\n",
       "    </tr>\n",
       "  </tbody>\n",
       "</table>\n",
       "<p>84 rows × 11 columns</p>\n",
       "</div>"
      ],
      "text/plain": [
       "   symbol                  timestamp  tradingDay   open   high    low  close  \\\n",
       "0   CLZ21  2020-08-25T00:00:00-05:00  2020-08-25  45.28  46.14  45.28  45.91   \n",
       "1   CLZ21  2020-08-26T00:00:00-05:00  2020-08-26  45.99  46.13  45.66  45.87   \n",
       "2   CLZ21  2020-08-27T00:00:00-05:00  2020-08-27  45.88  45.90  45.02  45.41   \n",
       "3   CLZ21  2020-08-28T00:00:00-05:00  2020-08-28  45.37  45.80  45.24  45.71   \n",
       "4   CLZ21  2020-08-31T00:00:00-05:00  2020-08-31  45.67  46.11  45.14  45.21   \n",
       "..    ...                        ...         ...    ...    ...    ...    ...   \n",
       "79  CLZ21  2020-12-16T00:00:00-06:00  2020-12-16  46.94  47.39  46.80  47.29   \n",
       "80  CLZ21  2020-12-17T00:00:00-06:00  2020-12-17  47.27  47.97  47.25  47.93   \n",
       "81  CLZ21  2020-12-18T00:00:00-06:00  2020-12-18  47.82  48.50  47.64  48.37   \n",
       "82  CLZ21  2020-12-21T00:00:00-06:00  2020-12-21  48.35  48.37  45.80  47.37   \n",
       "83  CLZ21  2020-12-22T00:00:00-06:00  2020-12-22  47.29  47.33  46.11  46.66   \n",
       "\n",
       "    volume  openInterest       date    pct_cl  \n",
       "0    35237        192479 2020-08-25       NaN  \n",
       "1    26950        193914 2020-08-26 -0.000871  \n",
       "2    18008        193941 2020-08-27 -0.010028  \n",
       "3    23219        193992 2020-08-28  0.006606  \n",
       "4    18144        193450 2020-08-31 -0.010939  \n",
       "..     ...           ...        ...       ...  \n",
       "79   41532        273783 2020-12-16  0.005315  \n",
       "80   32772        273506 2020-12-17  0.013534  \n",
       "81   53090        272276 2020-12-18  0.009180  \n",
       "82   48432        268997 2020-12-21 -0.020674  \n",
       "83   31904        271059 2020-12-22 -0.014988  \n",
       "\n",
       "[84 rows x 11 columns]"
      ]
     },
     "execution_count": 12,
     "metadata": {},
     "output_type": "execute_result"
    }
   ],
   "source": [
    "df_hist"
   ]
  },
  {
   "cell_type": "code",
   "execution_count": 13,
   "metadata": {},
   "outputs": [],
   "source": [
    "df_both = df_hist[['tradingDay','pct_cl']].merge(df_xle[['tradingDay','pct_xle']],on='tradingDay',how='inner')"
   ]
  },
  {
   "cell_type": "code",
   "execution_count": 14,
   "metadata": {
    "scrolled": true
   },
   "outputs": [
    {
     "data": {
      "text/html": [
       "<div>\n",
       "<style scoped>\n",
       "    .dataframe tbody tr th:only-of-type {\n",
       "        vertical-align: middle;\n",
       "    }\n",
       "\n",
       "    .dataframe tbody tr th {\n",
       "        vertical-align: top;\n",
       "    }\n",
       "\n",
       "    .dataframe thead th {\n",
       "        text-align: right;\n",
       "    }\n",
       "</style>\n",
       "<table border=\"1\" class=\"dataframe\">\n",
       "  <thead>\n",
       "    <tr style=\"text-align: right;\">\n",
       "      <th></th>\n",
       "      <th>tradingDay</th>\n",
       "      <th>pct_cl</th>\n",
       "      <th>pct_xle</th>\n",
       "    </tr>\n",
       "  </thead>\n",
       "  <tbody>\n",
       "    <tr>\n",
       "      <th>0</th>\n",
       "      <td>2020-08-25</td>\n",
       "      <td>NaN</td>\n",
       "      <td>NaN</td>\n",
       "    </tr>\n",
       "    <tr>\n",
       "      <th>1</th>\n",
       "      <td>2020-08-26</td>\n",
       "      <td>-0.000871</td>\n",
       "      <td>-0.021096</td>\n",
       "    </tr>\n",
       "    <tr>\n",
       "      <th>2</th>\n",
       "      <td>2020-08-27</td>\n",
       "      <td>-0.010028</td>\n",
       "      <td>0.001959</td>\n",
       "    </tr>\n",
       "    <tr>\n",
       "      <th>3</th>\n",
       "      <td>2020-08-28</td>\n",
       "      <td>0.006606</td>\n",
       "      <td>0.017877</td>\n",
       "    </tr>\n",
       "    <tr>\n",
       "      <th>4</th>\n",
       "      <td>2020-08-31</td>\n",
       "      <td>-0.010939</td>\n",
       "      <td>-0.021679</td>\n",
       "    </tr>\n",
       "    <tr>\n",
       "      <th>...</th>\n",
       "      <td>...</td>\n",
       "      <td>...</td>\n",
       "      <td>...</td>\n",
       "    </tr>\n",
       "    <tr>\n",
       "      <th>79</th>\n",
       "      <td>2020-12-16</td>\n",
       "      <td>0.005315</td>\n",
       "      <td>-0.004943</td>\n",
       "    </tr>\n",
       "    <tr>\n",
       "      <th>80</th>\n",
       "      <td>2020-12-17</td>\n",
       "      <td>0.013534</td>\n",
       "      <td>-0.004719</td>\n",
       "    </tr>\n",
       "    <tr>\n",
       "      <th>81</th>\n",
       "      <td>2020-12-18</td>\n",
       "      <td>0.009180</td>\n",
       "      <td>-0.016721</td>\n",
       "    </tr>\n",
       "    <tr>\n",
       "      <th>82</th>\n",
       "      <td>2020-12-21</td>\n",
       "      <td>-0.020674</td>\n",
       "      <td>-0.019290</td>\n",
       "    </tr>\n",
       "    <tr>\n",
       "      <th>83</th>\n",
       "      <td>2020-12-22</td>\n",
       "      <td>-0.014988</td>\n",
       "      <td>-0.016785</td>\n",
       "    </tr>\n",
       "  </tbody>\n",
       "</table>\n",
       "<p>84 rows × 3 columns</p>\n",
       "</div>"
      ],
      "text/plain": [
       "    tradingDay    pct_cl   pct_xle\n",
       "0   2020-08-25       NaN       NaN\n",
       "1   2020-08-26 -0.000871 -0.021096\n",
       "2   2020-08-27 -0.010028  0.001959\n",
       "3   2020-08-28  0.006606  0.017877\n",
       "4   2020-08-31 -0.010939 -0.021679\n",
       "..         ...       ...       ...\n",
       "79  2020-12-16  0.005315 -0.004943\n",
       "80  2020-12-17  0.013534 -0.004719\n",
       "81  2020-12-18  0.009180 -0.016721\n",
       "82  2020-12-21 -0.020674 -0.019290\n",
       "83  2020-12-22 -0.014988 -0.016785\n",
       "\n",
       "[84 rows x 3 columns]"
      ]
     },
     "execution_count": 14,
     "metadata": {},
     "output_type": "execute_result"
    }
   ],
   "source": [
    "df_both"
   ]
  },
  {
   "cell_type": "code",
   "execution_count": 15,
   "metadata": {
    "scrolled": false
   },
   "outputs": [
    {
     "data": {
      "application/vnd.plotly.v1+json": {
       "config": {
        "linkText": "Export to plot.ly",
        "plotlyServerURL": "https://plot.ly",
        "showLink": false
       },
       "data": [
        {
         "marker": {
          "color": "#1F77B4",
          "line": {
           "width": 1
          }
         },
         "opacity": 1,
         "orientation": "v",
         "type": "bar",
         "x": [
          "2020-08-25",
          "2020-08-26",
          "2020-08-27",
          "2020-08-28",
          "2020-08-31",
          "2020-09-01",
          "2020-09-02",
          "2020-09-03",
          "2020-09-04",
          "2020-09-08",
          "2020-09-09",
          "2020-09-10",
          "2020-09-11",
          "2020-09-14",
          "2020-09-15",
          "2020-09-16",
          "2020-09-17",
          "2020-09-18",
          "2020-09-21",
          "2020-09-22",
          "2020-09-23",
          "2020-09-24",
          "2020-09-25",
          "2020-09-28",
          "2020-09-29",
          "2020-09-30",
          "2020-10-01",
          "2020-10-02",
          "2020-10-05",
          "2020-10-06",
          "2020-10-07",
          "2020-10-08",
          "2020-10-09",
          "2020-10-12",
          "2020-10-13",
          "2020-10-14",
          "2020-10-15",
          "2020-10-16",
          "2020-10-19",
          "2020-10-20",
          "2020-10-21",
          "2020-10-22",
          "2020-10-23",
          "2020-10-26",
          "2020-10-27",
          "2020-10-28",
          "2020-10-29",
          "2020-10-30",
          "2020-11-02",
          "2020-11-03",
          "2020-11-04",
          "2020-11-05",
          "2020-11-06",
          "2020-11-09",
          "2020-11-10",
          "2020-11-11",
          "2020-11-12",
          "2020-11-13",
          "2020-11-16",
          "2020-11-17",
          "2020-11-18",
          "2020-11-19",
          "2020-11-20",
          "2020-11-23",
          "2020-11-24",
          "2020-11-25",
          "2020-11-27",
          "2020-11-30",
          "2020-12-01",
          "2020-12-02",
          "2020-12-03",
          "2020-12-04",
          "2020-12-07",
          "2020-12-08",
          "2020-12-09",
          "2020-12-10",
          "2020-12-11",
          "2020-12-14",
          "2020-12-15",
          "2020-12-16",
          "2020-12-17",
          "2020-12-18",
          "2020-12-21",
          "2020-12-22"
         ],
         "xaxis": "x",
         "y": [
          null,
          -0.0008712698758440718,
          -0.01002834096359273,
          0.006606474344857949,
          -0.010938525486764439,
          0.007741650077416562,
          -0.01668129938542595,
          0.0020089285714286476,
          -0.021162842503898438,
          -0.05279927173418297,
          0.020903411821239892,
          -0.00964932925394224,
          -0.0030893536121672227,
          0.00047675804529201393,
          0.01810817250416963,
          0.022934706295342888,
          0.009380004575611833,
          -0.0027198549410697437,
          -0.03295454545454557,
          0.004935370152761465,
          0.00187090739008422,
          0.008636788048552724,
          -0.0037028465632956697,
          0.00720092915214865,
          -0.02629151291512921,
          0.02131691141639025,
          -0.023886827458255877,
          -0.03373722974578286,
          0.04475043029259895,
          0.02282890091786305,
          -0.01587666820064426,
          0.019172317044657383,
          -0.011470520761642566,
          -0.018101647714086844,
          0.011344835736232461,
          0.011918672587053036,
          -0.004157043879907563,
          -0.003014842300556486,
          0.0004652244708069908,
          0.012090211578702714,
          -0.03170227429359074,
          0.012574139976275323,
          -0.017104029990627878,
          -0.023122765196662787,
          0.01854563201561743,
          -0.03809295639674182,
          -0.023910336239103436,
          0.0020413370757847993,
          0.03335879806468034,
          0.009364218827008441,
          0.02734375,
          -0.008079847908745164,
          -0.028509822712026955,
          0.05524044389642424,
          0.011684973124561848,
          0.005313005313005492,
          -0.007582720588235392,
          -0.01852280620514002,
          0.016749233309742984,
          0.001160092807424462,
          0.007415990730011535,
          -0.005751092707614425,
          0.006709856547894466,
          0.007354631119282917,
          0.027378507871321123,
          0.014212747057517294,
          -0.0010948105977667266,
          -0.006576063130205978,
          -0.016107678729037844,
          0.00897062121551917,
          0.0002222716159145932,
          0.014000000000000012,
          -0.0013149243918475495,
          0.0010972130787798573,
          -0.0008768084173608193,
          0.017770952172005305,
          -0.004095710282388421,
          0.008874458874458702,
          0.009225488092683864,
          0.005314625850340038,
          0.01353351659970392,
          0.009180054245774949,
          -0.02067397146991934,
          -0.014988389275913061
         ],
         "yaxis": "y"
        },
        {
         "marker": {
          "color": "#FF7F0E",
          "line": {
           "width": 1
          }
         },
         "opacity": 1,
         "orientation": "v",
         "type": "bar",
         "x": [
          "2020-08-25",
          "2020-08-26",
          "2020-08-27",
          "2020-08-28",
          "2020-08-31",
          "2020-09-01",
          "2020-09-02",
          "2020-09-03",
          "2020-09-04",
          "2020-09-08",
          "2020-09-09",
          "2020-09-10",
          "2020-09-11",
          "2020-09-14",
          "2020-09-15",
          "2020-09-16",
          "2020-09-17",
          "2020-09-18",
          "2020-09-21",
          "2020-09-22",
          "2020-09-23",
          "2020-09-24",
          "2020-09-25",
          "2020-09-28",
          "2020-09-29",
          "2020-09-30",
          "2020-10-01",
          "2020-10-02",
          "2020-10-05",
          "2020-10-06",
          "2020-10-07",
          "2020-10-08",
          "2020-10-09",
          "2020-10-12",
          "2020-10-13",
          "2020-10-14",
          "2020-10-15",
          "2020-10-16",
          "2020-10-19",
          "2020-10-20",
          "2020-10-21",
          "2020-10-22",
          "2020-10-23",
          "2020-10-26",
          "2020-10-27",
          "2020-10-28",
          "2020-10-29",
          "2020-10-30",
          "2020-11-02",
          "2020-11-03",
          "2020-11-04",
          "2020-11-05",
          "2020-11-06",
          "2020-11-09",
          "2020-11-10",
          "2020-11-11",
          "2020-11-12",
          "2020-11-13",
          "2020-11-16",
          "2020-11-17",
          "2020-11-18",
          "2020-11-19",
          "2020-11-20",
          "2020-11-23",
          "2020-11-24",
          "2020-11-25",
          "2020-11-27",
          "2020-11-30",
          "2020-12-01",
          "2020-12-02",
          "2020-12-03",
          "2020-12-04",
          "2020-12-07",
          "2020-12-08",
          "2020-12-09",
          "2020-12-10",
          "2020-12-11",
          "2020-12-14",
          "2020-12-15",
          "2020-12-16",
          "2020-12-17",
          "2020-12-18",
          "2020-12-21",
          "2020-12-22"
         ],
         "xaxis": "x",
         "y": [
          null,
          -0.02109591283268386,
          0.001958904235961123,
          0.017877062502823282,
          -0.021679315171648117,
          -0.006732140829451616,
          -0.004800871743361745,
          -0.007378102159911526,
          -0.003144616122142563,
          -0.036420873403826715,
          0.0068452100850124875,
          -0.03665388065345676,
          0.0009203728900877284,
          0.00766408986604028,
          -0.007301516271099984,
          0.04014719279958623,
          0.0014731424641662993,
          -0.01117959568477489,
          -0.033145977885110534,
          -0.010322029310201652,
          -0.045196048224320884,
          -0.00033108262004089006,
          -0.0006620489896118631,
          0.023525528604991797,
          -0.027517262465586723,
          -0.0029959319959531605,
          -0.030717936086012587,
          0.00964538521848457,
          0.030023679976987294,
          -0.014905568860968943,
          0.014122502469546827,
          0.03746696705021013,
          -0.01597951098939543,
          0.00259810871903432,
          -0.015549241068878561,
          0.00427791473581407,
          0.012123304955308,
          -0.02266133286442762,
          -0.021198964135803577,
          0.011844307270233223,
          -0.019063641952755672,
          0.041255022820795295,
          -0.0049119120919376424,
          -0.03586692547345005,
          -0.012969463879944576,
          -0.04183954831242631,
          0.030675153999300653,
          0.00560194471361708,
          0.03412270936577633,
          -0.005724030487218146,
          0.0013548266213134763,
          0,
          -0.02164378435174541,
          0.1427586627238584,
          0.03236514090378528,
          -0.01025488760984039,
          -0.03226749008599872,
          0.036402430858661905,
          0.0658205926207307,
          0.010246560672537042,
          -0.029057011756587814,
          0.01637478030917916,
          -0.005277711079590075,
          0.07065068208225944,
          0.051382368076959395,
          -0.023319177263607438,
          -0.011684049585075074,
          -0.05525586076011679,
          0.00462469303792945,
          0.03249383962724939,
          0.010490406295944776,
          0.05450313875209489,
          -0.02338193689443513,
          0.014869127062567156,
          0.002234859275081158,
          0.030723375129590558,
          -0.011538341612473912,
          -0.03501957991290694,
          0.019657373143018964,
          -0.004943143579836717,
          -0.004719264309258064,
          -0.016720804346660456,
          -0.019290123456790154,
          -0.016784683975872072
         ],
         "yaxis": "y"
        }
       ],
       "layout": {
        "template": {
         "data": {
          "bar": [
           {
            "error_x": {
             "color": "#2a3f5f"
            },
            "error_y": {
             "color": "#2a3f5f"
            },
            "marker": {
             "line": {
              "color": "#E5ECF6",
              "width": 0.5
             }
            },
            "type": "bar"
           }
          ],
          "barpolar": [
           {
            "marker": {
             "line": {
              "color": "#E5ECF6",
              "width": 0.5
             }
            },
            "type": "barpolar"
           }
          ],
          "carpet": [
           {
            "aaxis": {
             "endlinecolor": "#2a3f5f",
             "gridcolor": "white",
             "linecolor": "white",
             "minorgridcolor": "white",
             "startlinecolor": "#2a3f5f"
            },
            "baxis": {
             "endlinecolor": "#2a3f5f",
             "gridcolor": "white",
             "linecolor": "white",
             "minorgridcolor": "white",
             "startlinecolor": "#2a3f5f"
            },
            "type": "carpet"
           }
          ],
          "choropleth": [
           {
            "colorbar": {
             "outlinewidth": 0,
             "ticks": ""
            },
            "type": "choropleth"
           }
          ],
          "contour": [
           {
            "colorbar": {
             "outlinewidth": 0,
             "ticks": ""
            },
            "colorscale": [
             [
              0,
              "#0d0887"
             ],
             [
              0.1111111111111111,
              "#46039f"
             ],
             [
              0.2222222222222222,
              "#7201a8"
             ],
             [
              0.3333333333333333,
              "#9c179e"
             ],
             [
              0.4444444444444444,
              "#bd3786"
             ],
             [
              0.5555555555555556,
              "#d8576b"
             ],
             [
              0.6666666666666666,
              "#ed7953"
             ],
             [
              0.7777777777777778,
              "#fb9f3a"
             ],
             [
              0.8888888888888888,
              "#fdca26"
             ],
             [
              1,
              "#f0f921"
             ]
            ],
            "type": "contour"
           }
          ],
          "contourcarpet": [
           {
            "colorbar": {
             "outlinewidth": 0,
             "ticks": ""
            },
            "type": "contourcarpet"
           }
          ],
          "heatmap": [
           {
            "colorbar": {
             "outlinewidth": 0,
             "ticks": ""
            },
            "colorscale": [
             [
              0,
              "#0d0887"
             ],
             [
              0.1111111111111111,
              "#46039f"
             ],
             [
              0.2222222222222222,
              "#7201a8"
             ],
             [
              0.3333333333333333,
              "#9c179e"
             ],
             [
              0.4444444444444444,
              "#bd3786"
             ],
             [
              0.5555555555555556,
              "#d8576b"
             ],
             [
              0.6666666666666666,
              "#ed7953"
             ],
             [
              0.7777777777777778,
              "#fb9f3a"
             ],
             [
              0.8888888888888888,
              "#fdca26"
             ],
             [
              1,
              "#f0f921"
             ]
            ],
            "type": "heatmap"
           }
          ],
          "heatmapgl": [
           {
            "colorbar": {
             "outlinewidth": 0,
             "ticks": ""
            },
            "colorscale": [
             [
              0,
              "#0d0887"
             ],
             [
              0.1111111111111111,
              "#46039f"
             ],
             [
              0.2222222222222222,
              "#7201a8"
             ],
             [
              0.3333333333333333,
              "#9c179e"
             ],
             [
              0.4444444444444444,
              "#bd3786"
             ],
             [
              0.5555555555555556,
              "#d8576b"
             ],
             [
              0.6666666666666666,
              "#ed7953"
             ],
             [
              0.7777777777777778,
              "#fb9f3a"
             ],
             [
              0.8888888888888888,
              "#fdca26"
             ],
             [
              1,
              "#f0f921"
             ]
            ],
            "type": "heatmapgl"
           }
          ],
          "histogram": [
           {
            "marker": {
             "colorbar": {
              "outlinewidth": 0,
              "ticks": ""
             }
            },
            "type": "histogram"
           }
          ],
          "histogram2d": [
           {
            "colorbar": {
             "outlinewidth": 0,
             "ticks": ""
            },
            "colorscale": [
             [
              0,
              "#0d0887"
             ],
             [
              0.1111111111111111,
              "#46039f"
             ],
             [
              0.2222222222222222,
              "#7201a8"
             ],
             [
              0.3333333333333333,
              "#9c179e"
             ],
             [
              0.4444444444444444,
              "#bd3786"
             ],
             [
              0.5555555555555556,
              "#d8576b"
             ],
             [
              0.6666666666666666,
              "#ed7953"
             ],
             [
              0.7777777777777778,
              "#fb9f3a"
             ],
             [
              0.8888888888888888,
              "#fdca26"
             ],
             [
              1,
              "#f0f921"
             ]
            ],
            "type": "histogram2d"
           }
          ],
          "histogram2dcontour": [
           {
            "colorbar": {
             "outlinewidth": 0,
             "ticks": ""
            },
            "colorscale": [
             [
              0,
              "#0d0887"
             ],
             [
              0.1111111111111111,
              "#46039f"
             ],
             [
              0.2222222222222222,
              "#7201a8"
             ],
             [
              0.3333333333333333,
              "#9c179e"
             ],
             [
              0.4444444444444444,
              "#bd3786"
             ],
             [
              0.5555555555555556,
              "#d8576b"
             ],
             [
              0.6666666666666666,
              "#ed7953"
             ],
             [
              0.7777777777777778,
              "#fb9f3a"
             ],
             [
              0.8888888888888888,
              "#fdca26"
             ],
             [
              1,
              "#f0f921"
             ]
            ],
            "type": "histogram2dcontour"
           }
          ],
          "mesh3d": [
           {
            "colorbar": {
             "outlinewidth": 0,
             "ticks": ""
            },
            "type": "mesh3d"
           }
          ],
          "parcoords": [
           {
            "line": {
             "colorbar": {
              "outlinewidth": 0,
              "ticks": ""
             }
            },
            "type": "parcoords"
           }
          ],
          "pie": [
           {
            "automargin": true,
            "type": "pie"
           }
          ],
          "scatter": [
           {
            "marker": {
             "colorbar": {
              "outlinewidth": 0,
              "ticks": ""
             }
            },
            "type": "scatter"
           }
          ],
          "scatter3d": [
           {
            "line": {
             "colorbar": {
              "outlinewidth": 0,
              "ticks": ""
             }
            },
            "marker": {
             "colorbar": {
              "outlinewidth": 0,
              "ticks": ""
             }
            },
            "type": "scatter3d"
           }
          ],
          "scattercarpet": [
           {
            "marker": {
             "colorbar": {
              "outlinewidth": 0,
              "ticks": ""
             }
            },
            "type": "scattercarpet"
           }
          ],
          "scattergeo": [
           {
            "marker": {
             "colorbar": {
              "outlinewidth": 0,
              "ticks": ""
             }
            },
            "type": "scattergeo"
           }
          ],
          "scattergl": [
           {
            "marker": {
             "colorbar": {
              "outlinewidth": 0,
              "ticks": ""
             }
            },
            "type": "scattergl"
           }
          ],
          "scattermapbox": [
           {
            "marker": {
             "colorbar": {
              "outlinewidth": 0,
              "ticks": ""
             }
            },
            "type": "scattermapbox"
           }
          ],
          "scatterpolar": [
           {
            "marker": {
             "colorbar": {
              "outlinewidth": 0,
              "ticks": ""
             }
            },
            "type": "scatterpolar"
           }
          ],
          "scatterpolargl": [
           {
            "marker": {
             "colorbar": {
              "outlinewidth": 0,
              "ticks": ""
             }
            },
            "type": "scatterpolargl"
           }
          ],
          "scatterternary": [
           {
            "marker": {
             "colorbar": {
              "outlinewidth": 0,
              "ticks": ""
             }
            },
            "type": "scatterternary"
           }
          ],
          "surface": [
           {
            "colorbar": {
             "outlinewidth": 0,
             "ticks": ""
            },
            "colorscale": [
             [
              0,
              "#0d0887"
             ],
             [
              0.1111111111111111,
              "#46039f"
             ],
             [
              0.2222222222222222,
              "#7201a8"
             ],
             [
              0.3333333333333333,
              "#9c179e"
             ],
             [
              0.4444444444444444,
              "#bd3786"
             ],
             [
              0.5555555555555556,
              "#d8576b"
             ],
             [
              0.6666666666666666,
              "#ed7953"
             ],
             [
              0.7777777777777778,
              "#fb9f3a"
             ],
             [
              0.8888888888888888,
              "#fdca26"
             ],
             [
              1,
              "#f0f921"
             ]
            ],
            "type": "surface"
           }
          ],
          "table": [
           {
            "cells": {
             "fill": {
              "color": "#EBF0F8"
             },
             "line": {
              "color": "white"
             }
            },
            "header": {
             "fill": {
              "color": "#C8D4E3"
             },
             "line": {
              "color": "white"
             }
            },
            "type": "table"
           }
          ]
         },
         "layout": {
          "annotationdefaults": {
           "arrowcolor": "#2a3f5f",
           "arrowhead": 0,
           "arrowwidth": 1
          },
          "coloraxis": {
           "colorbar": {
            "outlinewidth": 0,
            "ticks": ""
           }
          },
          "colorscale": {
           "diverging": [
            [
             0,
             "#8e0152"
            ],
            [
             0.1,
             "#c51b7d"
            ],
            [
             0.2,
             "#de77ae"
            ],
            [
             0.3,
             "#f1b6da"
            ],
            [
             0.4,
             "#fde0ef"
            ],
            [
             0.5,
             "#f7f7f7"
            ],
            [
             0.6,
             "#e6f5d0"
            ],
            [
             0.7,
             "#b8e186"
            ],
            [
             0.8,
             "#7fbc41"
            ],
            [
             0.9,
             "#4d9221"
            ],
            [
             1,
             "#276419"
            ]
           ],
           "sequential": [
            [
             0,
             "#0d0887"
            ],
            [
             0.1111111111111111,
             "#46039f"
            ],
            [
             0.2222222222222222,
             "#7201a8"
            ],
            [
             0.3333333333333333,
             "#9c179e"
            ],
            [
             0.4444444444444444,
             "#bd3786"
            ],
            [
             0.5555555555555556,
             "#d8576b"
            ],
            [
             0.6666666666666666,
             "#ed7953"
            ],
            [
             0.7777777777777778,
             "#fb9f3a"
            ],
            [
             0.8888888888888888,
             "#fdca26"
            ],
            [
             1,
             "#f0f921"
            ]
           ],
           "sequentialminus": [
            [
             0,
             "#0d0887"
            ],
            [
             0.1111111111111111,
             "#46039f"
            ],
            [
             0.2222222222222222,
             "#7201a8"
            ],
            [
             0.3333333333333333,
             "#9c179e"
            ],
            [
             0.4444444444444444,
             "#bd3786"
            ],
            [
             0.5555555555555556,
             "#d8576b"
            ],
            [
             0.6666666666666666,
             "#ed7953"
            ],
            [
             0.7777777777777778,
             "#fb9f3a"
            ],
            [
             0.8888888888888888,
             "#fdca26"
            ],
            [
             1,
             "#f0f921"
            ]
           ]
          },
          "colorway": [
           "#636efa",
           "#EF553B",
           "#00cc96",
           "#ab63fa",
           "#FFA15A",
           "#19d3f3",
           "#FF6692",
           "#B6E880",
           "#FF97FF",
           "#FECB52"
          ],
          "font": {
           "color": "#2a3f5f"
          },
          "geo": {
           "bgcolor": "white",
           "lakecolor": "white",
           "landcolor": "#E5ECF6",
           "showlakes": true,
           "showland": true,
           "subunitcolor": "white"
          },
          "hoverlabel": {
           "align": "left"
          },
          "hovermode": "closest",
          "mapbox": {
           "style": "light"
          },
          "paper_bgcolor": "white",
          "plot_bgcolor": "#E5ECF6",
          "polar": {
           "angularaxis": {
            "gridcolor": "white",
            "linecolor": "white",
            "ticks": ""
           },
           "bgcolor": "#E5ECF6",
           "radialaxis": {
            "gridcolor": "white",
            "linecolor": "white",
            "ticks": ""
           }
          },
          "scene": {
           "xaxis": {
            "backgroundcolor": "#E5ECF6",
            "gridcolor": "white",
            "gridwidth": 2,
            "linecolor": "white",
            "showbackground": true,
            "ticks": "",
            "zerolinecolor": "white"
           },
           "yaxis": {
            "backgroundcolor": "#E5ECF6",
            "gridcolor": "white",
            "gridwidth": 2,
            "linecolor": "white",
            "showbackground": true,
            "ticks": "",
            "zerolinecolor": "white"
           },
           "zaxis": {
            "backgroundcolor": "#E5ECF6",
            "gridcolor": "white",
            "gridwidth": 2,
            "linecolor": "white",
            "showbackground": true,
            "ticks": "",
            "zerolinecolor": "white"
           }
          },
          "shapedefaults": {
           "line": {
            "color": "#2a3f5f"
           }
          },
          "ternary": {
           "aaxis": {
            "gridcolor": "white",
            "linecolor": "white",
            "ticks": ""
           },
           "baxis": {
            "gridcolor": "white",
            "linecolor": "white",
            "ticks": ""
           },
           "bgcolor": "#E5ECF6",
           "caxis": {
            "gridcolor": "white",
            "linecolor": "white",
            "ticks": ""
           }
          },
          "title": {
           "x": 0.05
          },
          "xaxis": {
           "automargin": true,
           "gridcolor": "white",
           "linecolor": "white",
           "ticks": "",
           "title": {
            "standoff": 15
           },
           "zerolinecolor": "white",
           "zerolinewidth": 2
          },
          "yaxis": {
           "automargin": true,
           "gridcolor": "white",
           "linecolor": "white",
           "ticks": "",
           "title": {
            "standoff": 15
           },
           "zerolinecolor": "white",
           "zerolinewidth": 2
          }
         }
        },
        "title": {
         "text": "CL vs XLE Percent Changes"
        },
        "xaxis": {
         "tickangle": 90,
         "ticktext": [
          "2020-08-25",
          "2020-08-31",
          "2020-09-04",
          "2020-09-11",
          "2020-09-17",
          "2020-09-23",
          "2020-09-29",
          "2020-10-05",
          "2020-10-09",
          "2020-10-15",
          "2020-10-21",
          "2020-10-27",
          "2020-11-02",
          "2020-11-06",
          "2020-11-12",
          "2020-11-18",
          "2020-11-24",
          "2020-12-01",
          "2020-12-07",
          "2020-12-11",
          "2020-12-17"
         ],
         "tickvals": [
          "2020-08-25",
          "2020-08-31",
          "2020-09-04",
          "2020-09-11",
          "2020-09-17",
          "2020-09-23",
          "2020-09-29",
          "2020-10-05",
          "2020-10-09",
          "2020-10-15",
          "2020-10-21",
          "2020-10-27",
          "2020-11-02",
          "2020-11-06",
          "2020-11-12",
          "2020-11-18",
          "2020-11-24",
          "2020-12-01",
          "2020-12-07",
          "2020-12-11",
          "2020-12-17"
         ],
         "type": "category"
        },
        "xaxis2": {
         "tickangle": 90,
         "ticktext": [
          "2020-08-25",
          "2020-08-31",
          "2020-09-04",
          "2020-09-11",
          "2020-09-17",
          "2020-09-23",
          "2020-09-29",
          "2020-10-05",
          "2020-10-09",
          "2020-10-15",
          "2020-10-21",
          "2020-10-27",
          "2020-11-02",
          "2020-11-06",
          "2020-11-12",
          "2020-11-18",
          "2020-11-24",
          "2020-12-01",
          "2020-12-07",
          "2020-12-11",
          "2020-12-17"
         ],
         "tickvals": [
          "2020-08-25",
          "2020-08-31",
          "2020-09-04",
          "2020-09-11",
          "2020-09-17",
          "2020-09-23",
          "2020-09-29",
          "2020-10-05",
          "2020-10-09",
          "2020-10-15",
          "2020-10-21",
          "2020-10-27",
          "2020-11-02",
          "2020-11-06",
          "2020-11-12",
          "2020-11-18",
          "2020-11-24",
          "2020-12-01",
          "2020-12-07",
          "2020-12-11",
          "2020-12-17"
         ],
         "type": "category"
        },
        "yaxis": {
         "title": {
          "text": "y main"
         }
        },
        "yaxis2": {
         "overlaying": "y",
         "side": "right",
         "title": {
          "text": "y alt"
         }
        }
       }
      },
      "text/html": [
       "<div>\n",
       "        \n",
       "        \n",
       "            <div id=\"1b808628-468a-4ef9-8af2-ee52ad4b0e82\" class=\"plotly-graph-div\" style=\"height:525px; width:100%;\"></div>\n",
       "            <script type=\"text/javascript\">\n",
       "                require([\"plotly\"], function(Plotly) {\n",
       "                    window.PLOTLYENV=window.PLOTLYENV || {};\n",
       "                    \n",
       "                if (document.getElementById(\"1b808628-468a-4ef9-8af2-ee52ad4b0e82\")) {\n",
       "                    Plotly.newPlot(\n",
       "                        '1b808628-468a-4ef9-8af2-ee52ad4b0e82',\n",
       "                        [{\"marker\": {\"color\": \"#1F77B4\", \"line\": {\"width\": 1.0}}, \"opacity\": 1, \"orientation\": \"v\", \"type\": \"bar\", \"x\": [\"2020-08-25\", \"2020-08-26\", \"2020-08-27\", \"2020-08-28\", \"2020-08-31\", \"2020-09-01\", \"2020-09-02\", \"2020-09-03\", \"2020-09-04\", \"2020-09-08\", \"2020-09-09\", \"2020-09-10\", \"2020-09-11\", \"2020-09-14\", \"2020-09-15\", \"2020-09-16\", \"2020-09-17\", \"2020-09-18\", \"2020-09-21\", \"2020-09-22\", \"2020-09-23\", \"2020-09-24\", \"2020-09-25\", \"2020-09-28\", \"2020-09-29\", \"2020-09-30\", \"2020-10-01\", \"2020-10-02\", \"2020-10-05\", \"2020-10-06\", \"2020-10-07\", \"2020-10-08\", \"2020-10-09\", \"2020-10-12\", \"2020-10-13\", \"2020-10-14\", \"2020-10-15\", \"2020-10-16\", \"2020-10-19\", \"2020-10-20\", \"2020-10-21\", \"2020-10-22\", \"2020-10-23\", \"2020-10-26\", \"2020-10-27\", \"2020-10-28\", \"2020-10-29\", \"2020-10-30\", \"2020-11-02\", \"2020-11-03\", \"2020-11-04\", \"2020-11-05\", \"2020-11-06\", \"2020-11-09\", \"2020-11-10\", \"2020-11-11\", \"2020-11-12\", \"2020-11-13\", \"2020-11-16\", \"2020-11-17\", \"2020-11-18\", \"2020-11-19\", \"2020-11-20\", \"2020-11-23\", \"2020-11-24\", \"2020-11-25\", \"2020-11-27\", \"2020-11-30\", \"2020-12-01\", \"2020-12-02\", \"2020-12-03\", \"2020-12-04\", \"2020-12-07\", \"2020-12-08\", \"2020-12-09\", \"2020-12-10\", \"2020-12-11\", \"2020-12-14\", \"2020-12-15\", \"2020-12-16\", \"2020-12-17\", \"2020-12-18\", \"2020-12-21\", \"2020-12-22\"], \"xaxis\": \"x\", \"y\": [null, -0.0008712698758440718, -0.01002834096359273, 0.006606474344857949, -0.010938525486764439, 0.007741650077416562, -0.01668129938542595, 0.0020089285714286476, -0.021162842503898438, -0.05279927173418297, 0.020903411821239892, -0.00964932925394224, -0.0030893536121672227, 0.00047675804529201393, 0.01810817250416963, 0.022934706295342888, 0.009380004575611833, -0.0027198549410697437, -0.03295454545454557, 0.004935370152761465, 0.00187090739008422, 0.008636788048552724, -0.0037028465632956697, 0.00720092915214865, -0.02629151291512921, 0.02131691141639025, -0.023886827458255877, -0.03373722974578286, 0.04475043029259895, 0.02282890091786305, -0.01587666820064426, 0.019172317044657383, -0.011470520761642566, -0.018101647714086844, 0.011344835736232461, 0.011918672587053036, -0.004157043879907563, -0.003014842300556486, 0.0004652244708069908, 0.012090211578702714, -0.03170227429359074, 0.012574139976275323, -0.017104029990627878, -0.023122765196662787, 0.01854563201561743, -0.03809295639674182, -0.023910336239103436, 0.0020413370757847993, 0.03335879806468034, 0.009364218827008441, 0.02734375, -0.008079847908745164, -0.028509822712026955, 0.05524044389642424, 0.011684973124561848, 0.005313005313005492, -0.007582720588235392, -0.01852280620514002, 0.016749233309742984, 0.001160092807424462, 0.007415990730011535, -0.005751092707614425, 0.006709856547894466, 0.007354631119282917, 0.027378507871321123, 0.014212747057517294, -0.0010948105977667266, -0.006576063130205978, -0.016107678729037844, 0.00897062121551917, 0.0002222716159145932, 0.014000000000000012, -0.0013149243918475495, 0.0010972130787798573, -0.0008768084173608193, 0.017770952172005305, -0.004095710282388421, 0.008874458874458702, 0.009225488092683864, 0.005314625850340038, 0.01353351659970392, 0.009180054245774949, -0.02067397146991934, -0.014988389275913061], \"yaxis\": \"y\"}, {\"marker\": {\"color\": \"#FF7F0E\", \"line\": {\"width\": 1.0}}, \"opacity\": 1, \"orientation\": \"v\", \"type\": \"bar\", \"x\": [\"2020-08-25\", \"2020-08-26\", \"2020-08-27\", \"2020-08-28\", \"2020-08-31\", \"2020-09-01\", \"2020-09-02\", \"2020-09-03\", \"2020-09-04\", \"2020-09-08\", \"2020-09-09\", \"2020-09-10\", \"2020-09-11\", \"2020-09-14\", \"2020-09-15\", \"2020-09-16\", \"2020-09-17\", \"2020-09-18\", \"2020-09-21\", \"2020-09-22\", \"2020-09-23\", \"2020-09-24\", \"2020-09-25\", \"2020-09-28\", \"2020-09-29\", \"2020-09-30\", \"2020-10-01\", \"2020-10-02\", \"2020-10-05\", \"2020-10-06\", \"2020-10-07\", \"2020-10-08\", \"2020-10-09\", \"2020-10-12\", \"2020-10-13\", \"2020-10-14\", \"2020-10-15\", \"2020-10-16\", \"2020-10-19\", \"2020-10-20\", \"2020-10-21\", \"2020-10-22\", \"2020-10-23\", \"2020-10-26\", \"2020-10-27\", \"2020-10-28\", \"2020-10-29\", \"2020-10-30\", \"2020-11-02\", \"2020-11-03\", \"2020-11-04\", \"2020-11-05\", \"2020-11-06\", \"2020-11-09\", \"2020-11-10\", \"2020-11-11\", \"2020-11-12\", \"2020-11-13\", \"2020-11-16\", \"2020-11-17\", \"2020-11-18\", \"2020-11-19\", \"2020-11-20\", \"2020-11-23\", \"2020-11-24\", \"2020-11-25\", \"2020-11-27\", \"2020-11-30\", \"2020-12-01\", \"2020-12-02\", \"2020-12-03\", \"2020-12-04\", \"2020-12-07\", \"2020-12-08\", \"2020-12-09\", \"2020-12-10\", \"2020-12-11\", \"2020-12-14\", \"2020-12-15\", \"2020-12-16\", \"2020-12-17\", \"2020-12-18\", \"2020-12-21\", \"2020-12-22\"], \"xaxis\": \"x\", \"y\": [null, -0.02109591283268386, 0.001958904235961123, 0.017877062502823282, -0.021679315171648117, -0.006732140829451616, -0.004800871743361745, -0.007378102159911526, -0.003144616122142563, -0.036420873403826715, 0.0068452100850124875, -0.03665388065345676, 0.0009203728900877284, 0.00766408986604028, -0.007301516271099984, 0.04014719279958623, 0.0014731424641662993, -0.01117959568477489, -0.033145977885110534, -0.010322029310201652, -0.045196048224320884, -0.00033108262004089006, -0.0006620489896118631, 0.023525528604991797, -0.027517262465586723, -0.0029959319959531605, -0.030717936086012587, 0.00964538521848457, 0.030023679976987294, -0.014905568860968943, 0.014122502469546827, 0.03746696705021013, -0.01597951098939543, 0.00259810871903432, -0.015549241068878561, 0.00427791473581407, 0.012123304955308, -0.02266133286442762, -0.021198964135803577, 0.011844307270233223, -0.019063641952755672, 0.041255022820795295, -0.0049119120919376424, -0.03586692547345005, -0.012969463879944576, -0.04183954831242631, 0.030675153999300653, 0.00560194471361708, 0.03412270936577633, -0.005724030487218146, 0.0013548266213134763, 0.0, -0.02164378435174541, 0.1427586627238584, 0.03236514090378528, -0.01025488760984039, -0.03226749008599872, 0.036402430858661905, 0.0658205926207307, 0.010246560672537042, -0.029057011756587814, 0.01637478030917916, -0.005277711079590075, 0.07065068208225944, 0.051382368076959395, -0.023319177263607438, -0.011684049585075074, -0.05525586076011679, 0.00462469303792945, 0.03249383962724939, 0.010490406295944776, 0.05450313875209489, -0.02338193689443513, 0.014869127062567156, 0.002234859275081158, 0.030723375129590558, -0.011538341612473912, -0.03501957991290694, 0.019657373143018964, -0.004943143579836717, -0.004719264309258064, -0.016720804346660456, -0.019290123456790154, -0.016784683975872072], \"yaxis\": \"y\"}],\n",
       "                        {\"template\": {\"data\": {\"bar\": [{\"error_x\": {\"color\": \"#2a3f5f\"}, \"error_y\": {\"color\": \"#2a3f5f\"}, \"marker\": {\"line\": {\"color\": \"#E5ECF6\", \"width\": 0.5}}, \"type\": \"bar\"}], \"barpolar\": [{\"marker\": {\"line\": {\"color\": \"#E5ECF6\", \"width\": 0.5}}, \"type\": \"barpolar\"}], \"carpet\": [{\"aaxis\": {\"endlinecolor\": \"#2a3f5f\", \"gridcolor\": \"white\", \"linecolor\": \"white\", \"minorgridcolor\": \"white\", \"startlinecolor\": \"#2a3f5f\"}, \"baxis\": {\"endlinecolor\": \"#2a3f5f\", \"gridcolor\": \"white\", \"linecolor\": \"white\", \"minorgridcolor\": \"white\", \"startlinecolor\": \"#2a3f5f\"}, \"type\": \"carpet\"}], \"choropleth\": [{\"colorbar\": {\"outlinewidth\": 0, \"ticks\": \"\"}, \"type\": \"choropleth\"}], \"contour\": [{\"colorbar\": {\"outlinewidth\": 0, \"ticks\": \"\"}, \"colorscale\": [[0.0, \"#0d0887\"], [0.1111111111111111, \"#46039f\"], [0.2222222222222222, \"#7201a8\"], [0.3333333333333333, \"#9c179e\"], [0.4444444444444444, \"#bd3786\"], [0.5555555555555556, \"#d8576b\"], [0.6666666666666666, \"#ed7953\"], [0.7777777777777778, \"#fb9f3a\"], [0.8888888888888888, \"#fdca26\"], [1.0, \"#f0f921\"]], \"type\": \"contour\"}], \"contourcarpet\": [{\"colorbar\": {\"outlinewidth\": 0, \"ticks\": \"\"}, \"type\": \"contourcarpet\"}], \"heatmap\": [{\"colorbar\": {\"outlinewidth\": 0, \"ticks\": \"\"}, \"colorscale\": [[0.0, \"#0d0887\"], [0.1111111111111111, \"#46039f\"], [0.2222222222222222, \"#7201a8\"], [0.3333333333333333, \"#9c179e\"], [0.4444444444444444, \"#bd3786\"], [0.5555555555555556, \"#d8576b\"], [0.6666666666666666, \"#ed7953\"], [0.7777777777777778, \"#fb9f3a\"], [0.8888888888888888, \"#fdca26\"], [1.0, \"#f0f921\"]], \"type\": \"heatmap\"}], \"heatmapgl\": [{\"colorbar\": {\"outlinewidth\": 0, \"ticks\": \"\"}, \"colorscale\": [[0.0, \"#0d0887\"], [0.1111111111111111, \"#46039f\"], [0.2222222222222222, \"#7201a8\"], [0.3333333333333333, \"#9c179e\"], [0.4444444444444444, \"#bd3786\"], [0.5555555555555556, \"#d8576b\"], [0.6666666666666666, \"#ed7953\"], [0.7777777777777778, \"#fb9f3a\"], [0.8888888888888888, \"#fdca26\"], [1.0, \"#f0f921\"]], \"type\": \"heatmapgl\"}], \"histogram\": [{\"marker\": {\"colorbar\": {\"outlinewidth\": 0, \"ticks\": \"\"}}, \"type\": \"histogram\"}], \"histogram2d\": [{\"colorbar\": {\"outlinewidth\": 0, \"ticks\": \"\"}, \"colorscale\": [[0.0, \"#0d0887\"], [0.1111111111111111, \"#46039f\"], [0.2222222222222222, \"#7201a8\"], [0.3333333333333333, \"#9c179e\"], [0.4444444444444444, \"#bd3786\"], [0.5555555555555556, \"#d8576b\"], [0.6666666666666666, \"#ed7953\"], [0.7777777777777778, \"#fb9f3a\"], [0.8888888888888888, \"#fdca26\"], [1.0, \"#f0f921\"]], \"type\": \"histogram2d\"}], \"histogram2dcontour\": [{\"colorbar\": {\"outlinewidth\": 0, \"ticks\": \"\"}, \"colorscale\": [[0.0, \"#0d0887\"], [0.1111111111111111, \"#46039f\"], [0.2222222222222222, \"#7201a8\"], [0.3333333333333333, \"#9c179e\"], [0.4444444444444444, \"#bd3786\"], [0.5555555555555556, \"#d8576b\"], [0.6666666666666666, \"#ed7953\"], [0.7777777777777778, \"#fb9f3a\"], [0.8888888888888888, \"#fdca26\"], [1.0, \"#f0f921\"]], \"type\": \"histogram2dcontour\"}], \"mesh3d\": [{\"colorbar\": {\"outlinewidth\": 0, \"ticks\": \"\"}, \"type\": \"mesh3d\"}], \"parcoords\": [{\"line\": {\"colorbar\": {\"outlinewidth\": 0, \"ticks\": \"\"}}, \"type\": \"parcoords\"}], \"pie\": [{\"automargin\": true, \"type\": \"pie\"}], \"scatter\": [{\"marker\": {\"colorbar\": {\"outlinewidth\": 0, \"ticks\": \"\"}}, \"type\": \"scatter\"}], \"scatter3d\": [{\"line\": {\"colorbar\": {\"outlinewidth\": 0, \"ticks\": \"\"}}, \"marker\": {\"colorbar\": {\"outlinewidth\": 0, \"ticks\": \"\"}}, \"type\": \"scatter3d\"}], \"scattercarpet\": [{\"marker\": {\"colorbar\": {\"outlinewidth\": 0, \"ticks\": \"\"}}, \"type\": \"scattercarpet\"}], \"scattergeo\": [{\"marker\": {\"colorbar\": {\"outlinewidth\": 0, \"ticks\": \"\"}}, \"type\": \"scattergeo\"}], \"scattergl\": [{\"marker\": {\"colorbar\": {\"outlinewidth\": 0, \"ticks\": \"\"}}, \"type\": \"scattergl\"}], \"scattermapbox\": [{\"marker\": {\"colorbar\": {\"outlinewidth\": 0, \"ticks\": \"\"}}, \"type\": \"scattermapbox\"}], \"scatterpolar\": [{\"marker\": {\"colorbar\": {\"outlinewidth\": 0, \"ticks\": \"\"}}, \"type\": \"scatterpolar\"}], \"scatterpolargl\": [{\"marker\": {\"colorbar\": {\"outlinewidth\": 0, \"ticks\": \"\"}}, \"type\": \"scatterpolargl\"}], \"scatterternary\": [{\"marker\": {\"colorbar\": {\"outlinewidth\": 0, \"ticks\": \"\"}}, \"type\": \"scatterternary\"}], \"surface\": [{\"colorbar\": {\"outlinewidth\": 0, \"ticks\": \"\"}, \"colorscale\": [[0.0, \"#0d0887\"], [0.1111111111111111, \"#46039f\"], [0.2222222222222222, \"#7201a8\"], [0.3333333333333333, \"#9c179e\"], [0.4444444444444444, \"#bd3786\"], [0.5555555555555556, \"#d8576b\"], [0.6666666666666666, \"#ed7953\"], [0.7777777777777778, \"#fb9f3a\"], [0.8888888888888888, \"#fdca26\"], [1.0, \"#f0f921\"]], \"type\": \"surface\"}], \"table\": [{\"cells\": {\"fill\": {\"color\": \"#EBF0F8\"}, \"line\": {\"color\": \"white\"}}, \"header\": {\"fill\": {\"color\": \"#C8D4E3\"}, \"line\": {\"color\": \"white\"}}, \"type\": \"table\"}]}, \"layout\": {\"annotationdefaults\": {\"arrowcolor\": \"#2a3f5f\", \"arrowhead\": 0, \"arrowwidth\": 1}, \"coloraxis\": {\"colorbar\": {\"outlinewidth\": 0, \"ticks\": \"\"}}, \"colorscale\": {\"diverging\": [[0, \"#8e0152\"], [0.1, \"#c51b7d\"], [0.2, \"#de77ae\"], [0.3, \"#f1b6da\"], [0.4, \"#fde0ef\"], [0.5, \"#f7f7f7\"], [0.6, \"#e6f5d0\"], [0.7, \"#b8e186\"], [0.8, \"#7fbc41\"], [0.9, \"#4d9221\"], [1, \"#276419\"]], \"sequential\": [[0.0, \"#0d0887\"], [0.1111111111111111, \"#46039f\"], [0.2222222222222222, \"#7201a8\"], [0.3333333333333333, \"#9c179e\"], [0.4444444444444444, \"#bd3786\"], [0.5555555555555556, \"#d8576b\"], [0.6666666666666666, \"#ed7953\"], [0.7777777777777778, \"#fb9f3a\"], [0.8888888888888888, \"#fdca26\"], [1.0, \"#f0f921\"]], \"sequentialminus\": [[0.0, \"#0d0887\"], [0.1111111111111111, \"#46039f\"], [0.2222222222222222, \"#7201a8\"], [0.3333333333333333, \"#9c179e\"], [0.4444444444444444, \"#bd3786\"], [0.5555555555555556, \"#d8576b\"], [0.6666666666666666, \"#ed7953\"], [0.7777777777777778, \"#fb9f3a\"], [0.8888888888888888, \"#fdca26\"], [1.0, \"#f0f921\"]]}, \"colorway\": [\"#636efa\", \"#EF553B\", \"#00cc96\", \"#ab63fa\", \"#FFA15A\", \"#19d3f3\", \"#FF6692\", \"#B6E880\", \"#FF97FF\", \"#FECB52\"], \"font\": {\"color\": \"#2a3f5f\"}, \"geo\": {\"bgcolor\": \"white\", \"lakecolor\": \"white\", \"landcolor\": \"#E5ECF6\", \"showlakes\": true, \"showland\": true, \"subunitcolor\": \"white\"}, \"hoverlabel\": {\"align\": \"left\"}, \"hovermode\": \"closest\", \"mapbox\": {\"style\": \"light\"}, \"paper_bgcolor\": \"white\", \"plot_bgcolor\": \"#E5ECF6\", \"polar\": {\"angularaxis\": {\"gridcolor\": \"white\", \"linecolor\": \"white\", \"ticks\": \"\"}, \"bgcolor\": \"#E5ECF6\", \"radialaxis\": {\"gridcolor\": \"white\", \"linecolor\": \"white\", \"ticks\": \"\"}}, \"scene\": {\"xaxis\": {\"backgroundcolor\": \"#E5ECF6\", \"gridcolor\": \"white\", \"gridwidth\": 2, \"linecolor\": \"white\", \"showbackground\": true, \"ticks\": \"\", \"zerolinecolor\": \"white\"}, \"yaxis\": {\"backgroundcolor\": \"#E5ECF6\", \"gridcolor\": \"white\", \"gridwidth\": 2, \"linecolor\": \"white\", \"showbackground\": true, \"ticks\": \"\", \"zerolinecolor\": \"white\"}, \"zaxis\": {\"backgroundcolor\": \"#E5ECF6\", \"gridcolor\": \"white\", \"gridwidth\": 2, \"linecolor\": \"white\", \"showbackground\": true, \"ticks\": \"\", \"zerolinecolor\": \"white\"}}, \"shapedefaults\": {\"line\": {\"color\": \"#2a3f5f\"}}, \"ternary\": {\"aaxis\": {\"gridcolor\": \"white\", \"linecolor\": \"white\", \"ticks\": \"\"}, \"baxis\": {\"gridcolor\": \"white\", \"linecolor\": \"white\", \"ticks\": \"\"}, \"bgcolor\": \"#E5ECF6\", \"caxis\": {\"gridcolor\": \"white\", \"linecolor\": \"white\", \"ticks\": \"\"}}, \"title\": {\"x\": 0.05}, \"xaxis\": {\"automargin\": true, \"gridcolor\": \"white\", \"linecolor\": \"white\", \"ticks\": \"\", \"title\": {\"standoff\": 15}, \"zerolinecolor\": \"white\", \"zerolinewidth\": 2}, \"yaxis\": {\"automargin\": true, \"gridcolor\": \"white\", \"linecolor\": \"white\", \"ticks\": \"\", \"title\": {\"standoff\": 15}, \"zerolinecolor\": \"white\", \"zerolinewidth\": 2}}}, \"title\": {\"text\": \"CL vs XLE Percent Changes\"}, \"xaxis\": {\"tickangle\": 90, \"ticktext\": [\"2020-08-25\", \"2020-08-31\", \"2020-09-04\", \"2020-09-11\", \"2020-09-17\", \"2020-09-23\", \"2020-09-29\", \"2020-10-05\", \"2020-10-09\", \"2020-10-15\", \"2020-10-21\", \"2020-10-27\", \"2020-11-02\", \"2020-11-06\", \"2020-11-12\", \"2020-11-18\", \"2020-11-24\", \"2020-12-01\", \"2020-12-07\", \"2020-12-11\", \"2020-12-17\"], \"tickvals\": [\"2020-08-25\", \"2020-08-31\", \"2020-09-04\", \"2020-09-11\", \"2020-09-17\", \"2020-09-23\", \"2020-09-29\", \"2020-10-05\", \"2020-10-09\", \"2020-10-15\", \"2020-10-21\", \"2020-10-27\", \"2020-11-02\", \"2020-11-06\", \"2020-11-12\", \"2020-11-18\", \"2020-11-24\", \"2020-12-01\", \"2020-12-07\", \"2020-12-11\", \"2020-12-17\"], \"type\": \"category\"}, \"xaxis2\": {\"tickangle\": 90, \"ticktext\": [\"2020-08-25\", \"2020-08-31\", \"2020-09-04\", \"2020-09-11\", \"2020-09-17\", \"2020-09-23\", \"2020-09-29\", \"2020-10-05\", \"2020-10-09\", \"2020-10-15\", \"2020-10-21\", \"2020-10-27\", \"2020-11-02\", \"2020-11-06\", \"2020-11-12\", \"2020-11-18\", \"2020-11-24\", \"2020-12-01\", \"2020-12-07\", \"2020-12-11\", \"2020-12-17\"], \"tickvals\": [\"2020-08-25\", \"2020-08-31\", \"2020-09-04\", \"2020-09-11\", \"2020-09-17\", \"2020-09-23\", \"2020-09-29\", \"2020-10-05\", \"2020-10-09\", \"2020-10-15\", \"2020-10-21\", \"2020-10-27\", \"2020-11-02\", \"2020-11-06\", \"2020-11-12\", \"2020-11-18\", \"2020-11-24\", \"2020-12-01\", \"2020-12-07\", \"2020-12-11\", \"2020-12-17\"], \"type\": \"category\"}, \"yaxis\": {\"title\": {\"text\": \"y main\"}}, \"yaxis2\": {\"overlaying\": \"y\", \"side\": \"right\", \"title\": {\"text\": \"y alt\"}}},\n",
       "                        {\"responsive\": true}\n",
       "                    ).then(function(){\n",
       "                            \n",
       "var gd = document.getElementById('1b808628-468a-4ef9-8af2-ee52ad4b0e82');\n",
       "var x = new MutationObserver(function (mutations, observer) {{\n",
       "        var display = window.getComputedStyle(gd).display;\n",
       "        if (!display || display === 'none') {{\n",
       "            console.log([gd, 'removed!']);\n",
       "            Plotly.purge(gd);\n",
       "            observer.disconnect();\n",
       "        }}\n",
       "}});\n",
       "\n",
       "// Listen for the removal of the full notebook cells\n",
       "var notebookContainer = gd.closest('#notebook-container');\n",
       "if (notebookContainer) {{\n",
       "    x.observe(notebookContainer, {childList: true});\n",
       "}}\n",
       "\n",
       "// Listen for the clearing of the current output cell\n",
       "var outputEl = gd.closest('.output');\n",
       "if (outputEl) {{\n",
       "    x.observe(outputEl, {childList: true});\n",
       "}}\n",
       "\n",
       "                        })\n",
       "                };\n",
       "                });\n",
       "            </script>\n",
       "        </div>"
      ]
     },
     "metadata": {},
     "output_type": "display_data"
    }
   ],
   "source": [
    "f = pu.plotly_pandas(df_both,'tradingDay',bar_plot=True,alt_yaxis=False,plot_title=\"CL vs XLE Percent Changes\")\n",
    "iplot(f)"
   ]
  },
  {
   "cell_type": "code",
   "execution_count": 25,
   "metadata": {},
   "outputs": [],
   "source": []
  },
  {
   "cell_type": "code",
   "execution_count": 21,
   "metadata": {},
   "outputs": [
    {
     "data": {
      "image/png": "[encoded data removed]",
      "text/plain": [
       "<Figure size 1152x720 with 1 Axes>"
      ]
     },
     "metadata": {
      "needs_background": "light"
     },
     "output_type": "display_data"
    }
   ],
   "source": [
    "f2 = pu.plot_pandas(df_both,'tradingDay',bar_plot=True,alt_yaxis=False,)"
   ]
  },
  {
   "cell_type": "markdown",
   "metadata": {},
   "source": [
    "### End"
   ]
  },
  {
   "cell_type": "code",
   "execution_count": 28,
   "metadata": {},
   "outputs": [],
   "source": [
    "??pu.plotly_pandas"
   ]
  }
 ],
 "metadata": {
  "kernelspec": {
   "display_name": "Python 3",
   "language": "python",
   "name": "python3"
  },
  "language_info": {
   "codemirror_mode": {
    "name": "ipython",
    "version": 3
   },
   "file_extension": ".py",
   "mimetype": "text/x-python",
   "name": "python",
   "nbconvert_exporter": "python",
   "pygments_lexer": "ipython3",
   "version": "3.6.5"
  }
 },
 "nbformat": 4,
 "nbformat_minor": 2
}
