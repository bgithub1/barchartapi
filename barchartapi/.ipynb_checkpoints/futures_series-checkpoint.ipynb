{
 "cells": [
  {
   "cell_type": "code",
   "execution_count": 1,
   "metadata": {},
   "outputs": [
    {
     "name": "stdout",
     "output_type": "stream",
     "text": [
      "['', '/Library/Frameworks/Python.framework/Versions/3.6/lib/python36.zip', '/Library/Frameworks/Python.framework/Versions/3.6/lib/python3.6', '/Library/Frameworks/Python.framework/Versions/3.6/lib/python3.6/lib-dynload', '/Users/bperlman1/Virtualenvs3/pyliverisk/lib/python3.6/site-packages', '/Users/bperlman1/Virtualenvs3/pyliverisk/lib/python3.6/site-packages/IPython/extensions', '/Users/bperlman1/.ipython', '../../barchartapi/barchartapi', '../../barchartapi', '../..']\n"
     ]
    }
   ],
   "source": [
    "import os\n",
    "import sys\n",
    "import argparse as ap\n",
    "import numpy as np\n",
    "import pandas as pd\n",
    "import datetime\n",
    "\n",
    "WORKSPACE_DIR = '../..' #!echo $(cd ../../;pwd)\n",
    "PROJECT_DIR = f'{WORKSPACE_DIR}/barchartapi' #!echo $(cd ../;pwd)\n",
    "WORKING_DIR = f'{PROJECT_DIR}/barchartapi' #!echo $(cd ./;pwd)\n",
    "if WORKING_DIR not in sys.path:\n",
    "    sys.path.append(WORKING_DIR)\n",
    "if PROJECT_DIR not in sys.path:\n",
    "    sys.path.append(PROJECT_DIR)\n",
    "if WORKSPACE_DIR not in sys.path:\n",
    "    sys.path.append(WORKSPACE_DIR)\n",
    "print(sys.path)\n",
    "import futures_series as futs\n"
   ]
  },
  {
   "cell_type": "code",
   "execution_count": 2,
   "metadata": {},
   "outputs": [
    {
     "data": {
      "text/plain": [
       "<module 'futures_series' from '/Users/bperlman1/Documents/billybyte/pyliverisk/barchartapi/barchartapi/futures_series.py'>"
      ]
     },
     "execution_count": 2,
     "metadata": {},
     "output_type": "execute_result"
    }
   ],
   "source": [
    "from importlib import reload\n",
    "reload(futs)"
   ]
  },
  {
   "cell_type": "markdown",
   "metadata": {},
   "source": [
    "Change the contract information below to suit your needs:"
   ]
  },
  {
   "cell_type": "code",
   "execution_count": 18,
   "metadata": {},
   "outputs": [],
   "source": [
    "temp_folder = './temp_folder'\n",
    "api_key = open(f'{temp_folder}/paid_api_key.txt','r').read()\n",
    "commodity = 'CL'"
   ]
  },
  {
   "cell_type": "markdown",
   "metadata": {},
   "source": [
    "Keep these the same"
   ]
  },
  {
   "cell_type": "code",
   "execution_count": 19,
   "metadata": {},
   "outputs": [],
   "source": [
    "args = ap.Namespace(\n",
    "    bar_type = 'minutes',\n",
    "    interval = 1,\n",
    "    output_folder = temp_folder,\n",
    "    endpoint_type = 'paid_url'\n",
    ")\n",
    "quarter_commodities = ['ES','GE','GC']"
   ]
  },
  {
   "cell_type": "code",
   "execution_count": 20,
   "metadata": {},
   "outputs": [
    {
     "name": "stderr",
     "output_type": "stream",
     "text": [
      "2018-12-31 11:54:17,443 - root - INFO - start\n",
      "2018-12-31 11:54:17,448 - root - INFO - days,month_codes (120, ['H', 'M', 'U', 'Z'])\n",
      "2018-12-31 11:54:17,452 - root - INFO - begin:201801, end:201812\n",
      "2018-12-31 11:54:17,470 - root - INFO - BEGIN Fetching Data for year: 2018\n",
      "  0%|          | 0/4 [00:00<?, ?it/s]2018-12-31 11:54:17,480 - requests.packages.urllib3.connectionpool - DEBUG - Starting new HTTP connection (1): ondemand.websol.barchart.com\n"
     ]
    },
    {
     "name": "stdout",
     "output_type": "stream",
     "text": [
      "Barchart OnDemand Client: http://ondemand.websol.barchart.com/\n"
     ]
    },
    {
     "name": "stderr",
     "output_type": "stream",
     "text": [
      "2018-12-31 11:54:17,696 - requests.packages.urllib3.connectionpool - DEBUG - http://ondemand.websol.barchart.com:80 \"GET /getHistory.json?maxRecords=60&interval=1&startDate=20180201&symbol=GCH18&type=daily&apikey=e95f76cac84a3c62139dc3502a3e73e7 HTTP/1.1\" 200 None\n",
      "2018-12-31 11:54:17,706 - requests.packages.urllib3.connectionpool - DEBUG - Starting new HTTP connection (1): ondemand.websol.barchart.com\n",
      "2018-12-31 11:54:18,237 - requests.packages.urllib3.connectionpool - DEBUG - http://ondemand.websol.barchart.com:80 \"GET /getHistory.json?maxRecords=172800&interval=1&startDate=20171127&symbol=GCH18&type=minutes&apikey=e95f76cac84a3c62139dc3502a3e73e7 HTTP/1.1\" 200 None\n",
      " 25%|██▌       | 1/4 [00:00<00:02,  1.20it/s]2018-12-31 11:54:18,314 - requests.packages.urllib3.connectionpool - DEBUG - Starting new HTTP connection (1): ondemand.websol.barchart.com\n",
      "2018-12-31 11:54:18,485 - requests.packages.urllib3.connectionpool - DEBUG - http://ondemand.websol.barchart.com:80 \"GET /getHistory.json?maxRecords=60&interval=1&startDate=20180501&symbol=GCM18&type=daily&apikey=e95f76cac84a3c62139dc3502a3e73e7 HTTP/1.1\" 200 None\n",
      "2018-12-31 11:54:18,496 - requests.packages.urllib3.connectionpool - DEBUG - Starting new HTTP connection (1): ondemand.websol.barchart.com\n",
      "2018-12-31 11:54:21,034 - requests.packages.urllib3.connectionpool - DEBUG - http://ondemand.websol.barchart.com:80 \"GET /getHistory.json?maxRecords=172800&interval=1&startDate=20180227&symbol=GCM18&type=minutes&apikey=e95f76cac84a3c62139dc3502a3e73e7 HTTP/1.1\" 200 None\n",
      " 50%|█████     | 2/4 [00:04<00:04,  2.06s/it]2018-12-31 11:54:21,593 - requests.packages.urllib3.connectionpool - DEBUG - Starting new HTTP connection (1): ondemand.websol.barchart.com\n",
      "2018-12-31 11:54:21,773 - requests.packages.urllib3.connectionpool - DEBUG - http://ondemand.websol.barchart.com:80 \"GET /getHistory.json?maxRecords=60&interval=1&startDate=20180801&symbol=GCU18&type=daily&apikey=e95f76cac84a3c62139dc3502a3e73e7 HTTP/1.1\" 200 None\n",
      "2018-12-31 11:54:21,781 - requests.packages.urllib3.connectionpool - DEBUG - Starting new HTTP connection (1): ondemand.websol.barchart.com\n",
      "2018-12-31 11:54:22,276 - requests.packages.urllib3.connectionpool - DEBUG - http://ondemand.websol.barchart.com:80 \"GET /getHistory.json?maxRecords=172800&interval=1&startDate=20180529&symbol=GCU18&type=minutes&apikey=e95f76cac84a3c62139dc3502a3e73e7 HTTP/1.1\" 200 None\n",
      " 75%|███████▌  | 3/4 [00:04<00:01,  1.63s/it]2018-12-31 11:54:22,367 - requests.packages.urllib3.connectionpool - DEBUG - Starting new HTTP connection (1): ondemand.websol.barchart.com\n",
      "2018-12-31 11:54:22,563 - requests.packages.urllib3.connectionpool - DEBUG - http://ondemand.websol.barchart.com:80 \"GET /getHistory.json?maxRecords=60&interval=1&startDate=20181101&symbol=GCZ18&type=daily&apikey=e95f76cac84a3c62139dc3502a3e73e7 HTTP/1.1\" 200 None\n",
      "2018-12-31 11:54:22,572 - requests.packages.urllib3.connectionpool - DEBUG - Starting new HTTP connection (1): ondemand.websol.barchart.com\n",
      "2018-12-31 11:54:25,126 - requests.packages.urllib3.connectionpool - DEBUG - http://ondemand.websol.barchart.com:80 \"GET /getHistory.json?maxRecords=172800&interval=1&startDate=20180829&symbol=GCZ18&type=minutes&apikey=e95f76cac84a3c62139dc3502a3e73e7 HTTP/1.1\" 200 None\n",
      "100%|██████████| 4/4 [00:08<00:00,  2.07s/it]\n",
      "2018-12-31 11:54:25,781 - root - INFO - BEGIN Writing Data for year: 2018\n",
      "2018-12-31 11:54:27,019 - root - INFO - END Writing Data for year: 2018\n",
      "2018-12-31 11:54:27,020 - root - INFO - end\n"
     ]
    }
   ],
   "source": [
    "bar_type = args.bar_type\n",
    "interval = args.interval\n",
    "output_folder = temp_folder\n",
    "logger = futs.init_root_logger('logger.log')\n",
    "endpoint_type = args.endpoint_type\n",
    "\n",
    "logger.info(f'start')\n",
    "start_year = 2008\n",
    "end_year = 2018\n",
    "years = np.linspace(start_year,end_year,end_year-start_year+1,dtype=int)\n",
    "days = 40\n",
    "month_codes = None\n",
    "if commodity in quarter_commodities:\n",
    "    month_codes = ['H','M','U','Z']\n",
    "    days = 120\n",
    "logger.info(f'days,month_codes {(days,month_codes)}')\n",
    "for y in years:\n",
    "    beg_yyyymm = int(f'{y}01')\n",
    "    end_yyyymm = int(f'{y}12')\n",
    "    logger.info(f'begin:{beg_yyyymm}, end:{end_yyyymm}')\n",
    "    fc = futs.FuturesSeries(api_key, commodity, beg_yyyymm, end_yyyymm, bar_type, \n",
    "                            interval, endpoint_type,logger)\n",
    "    logger.info(f'BEGIN Fetching Data for year: {y}')\n",
    "    fc.get_contracts(trading_days_to_get=days,month_code_list=month_codes)\n",
    "    logger.info(f'BEGIN Writing Data for year: {y}')\n",
    "    fc.write_csv(output_folder)\n",
    "    logger.info(f'END Writing Data for year: {y}')\n",
    "logger.info(f'end')\n",
    "\n"
   ]
  },
  {
   "cell_type": "code",
   "execution_count": null,
   "metadata": {},
   "outputs": [],
   "source": []
  }
 ],
 "metadata": {
  "kernelspec": {
   "display_name": "Python 3",
   "language": "python",
   "name": "python3"
  },
  "language_info": {
   "codemirror_mode": {
    "name": "ipython",
    "version": 3
   },
   "file_extension": ".py",
   "mimetype": "text/x-python",
   "name": "python",
   "nbconvert_exporter": "python",
   "pygments_lexer": "ipython3",
   "version": "3.6.5"
  }
 },
 "nbformat": 4,
 "nbformat_minor": 2
}
