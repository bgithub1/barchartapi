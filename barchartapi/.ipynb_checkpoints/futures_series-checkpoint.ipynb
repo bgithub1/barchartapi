{
 "cells": [
  {
   "cell_type": "code",
   "execution_count": 1,
   "metadata": {},
   "outputs": [
    {
     "name": "stdout",
     "output_type": "stream",
     "text": [
      "['', '/Library/Frameworks/Python.framework/Versions/3.6/lib/python36.zip', '/Library/Frameworks/Python.framework/Versions/3.6/lib/python3.6', '/Library/Frameworks/Python.framework/Versions/3.6/lib/python3.6/lib-dynload', '/Users/bperlman1/Virtualenvs3/pyliverisk/lib/python3.6/site-packages', '/Users/bperlman1/Virtualenvs3/pyliverisk/lib/python3.6/site-packages/IPython/extensions', '/Users/bperlman1/.ipython', '../../barchartapi/barchartapi', '../../barchartapi', '../..']\n"
     ]
    }
   ],
   "source": [
    "import os\n",
    "import sys\n",
    "import argparse as ap\n",
    "import numpy as np\n",
    "import pandas as pd\n",
    "import datetime\n",
    "\n",
    "WORKSPACE_DIR = '../..' #!echo $(cd ../../;pwd)\n",
    "PROJECT_DIR = f'{WORKSPACE_DIR}/barchartapi' #!echo $(cd ../;pwd)\n",
    "WORKING_DIR = f'{PROJECT_DIR}/barchartapi' #!echo $(cd ./;pwd)\n",
    "if WORKING_DIR not in sys.path:\n",
    "    sys.path.append(WORKING_DIR)\n",
    "if PROJECT_DIR not in sys.path:\n",
    "    sys.path.append(PROJECT_DIR)\n",
    "if WORKSPACE_DIR not in sys.path:\n",
    "    sys.path.append(WORKSPACE_DIR)\n",
    "print(sys.path)\n",
    "import futures_series as futs\n"
   ]
  },
  {
   "cell_type": "code",
   "execution_count": 2,
   "metadata": {},
   "outputs": [
    {
     "data": {
      "text/plain": [
       "<module 'futures_series' from '/Users/bperlman1/Documents/billybyte/pyliverisk/barchartapi/barchartapi/futures_series.py'>"
      ]
     },
     "execution_count": 2,
     "metadata": {},
     "output_type": "execute_result"
    }
   ],
   "source": [
    "from importlib import reload\n",
    "reload(futs)"
   ]
  },
  {
   "cell_type": "markdown",
   "metadata": {},
   "source": [
    "Change the contract information below to suit your needs:"
   ]
  },
  {
   "cell_type": "code",
   "execution_count": 3,
   "metadata": {},
   "outputs": [],
   "source": [
    "temp_folder = './temp_folder'\n",
    "api_key = open(f'{temp_folder}/paid_api_key.txt','r').read()\n",
    "commodity = 'GC'"
   ]
  },
  {
   "cell_type": "markdown",
   "metadata": {},
   "source": [
    "Keep these the same"
   ]
  },
  {
   "cell_type": "code",
   "execution_count": 4,
   "metadata": {},
   "outputs": [],
   "source": [
    "args = ap.Namespace(\n",
    "    bar_type = 'minutes',\n",
    "    interval = 1,\n",
    "    output_folder = temp_folder,\n",
    "    endpoint_type = 'paid_url'\n",
    ")\n",
    "quarter_commodities = ['ES','GE','GC']"
   ]
  },
  {
   "cell_type": "code",
   "execution_count": 5,
   "metadata": {},
   "outputs": [
    {
     "name": "stderr",
     "output_type": "stream",
     "text": [
      "2018-12-21 11:35:33,424 - root - INFO - start\n",
      "2018-12-21 11:35:33,428 - root - INFO - days,month_codes (120, ['H', 'M', 'U', 'Z'])\n",
      "2018-12-21 11:35:33,429 - root - INFO - begin:200801, end:200812\n",
      "2018-12-21 11:35:33,430 - root - INFO - BEGIN Fetching Data for year: 2008\n",
      "  0%|          | 0/4 [00:00<?, ?it/s]2018-12-21 11:35:33,503 - requests.packages.urllib3.connectionpool - DEBUG - Starting new HTTP connection (1): ondemand.websol.barchart.com\n"
     ]
    },
    {
     "name": "stdout",
     "output_type": "stream",
     "text": [
      "Barchart OnDemand Client: http://ondemand.websol.barchart.com/\n"
     ]
    },
    {
     "name": "stderr",
     "output_type": "stream",
     "text": [
      "2018-12-21 11:35:33,745 - requests.packages.urllib3.connectionpool - DEBUG - http://ondemand.websol.barchart.com:80 \"GET /getHistory.json?maxRecords=60&interval=1&startDate=20080201&symbol=ESH08&type=daily&apikey=e95f76cac84a3c62139dc3502a3e73e7 HTTP/1.1\" 200 None\n",
      "2018-12-21 11:35:33,755 - requests.packages.urllib3.connectionpool - DEBUG - Starting new HTTP connection (1): ondemand.websol.barchart.com\n",
      "2018-12-21 11:35:34,073 - requests.packages.urllib3.connectionpool - DEBUG - http://ondemand.websol.barchart.com:80 \"GET /getHistory.json?maxRecords=172800&interval=1&startDate=20071121&symbol=ESH08&type=minutes&apikey=e95f76cac84a3c62139dc3502a3e73e7 HTTP/1.1\" 200 None\n",
      "2018-12-21 11:35:34,077 - root - WARNING - ESH08: {'code': 204, 'message': 'No Content'}\n",
      " 25%|██▌       | 1/4 [00:00<00:01,  1.56it/s]2018-12-21 11:35:34,088 - requests.packages.urllib3.connectionpool - DEBUG - Starting new HTTP connection (1): ondemand.websol.barchart.com\n",
      "2018-12-21 11:35:35,269 - requests.packages.urllib3.connectionpool - DEBUG - http://ondemand.websol.barchart.com:80 \"GET /getHistory.json?maxRecords=60&interval=1&startDate=20080501&symbol=ESM08&type=daily&apikey=e95f76cac84a3c62139dc3502a3e73e7 HTTP/1.1\" 200 None\n",
      "2018-12-21 11:35:35,286 - requests.packages.urllib3.connectionpool - DEBUG - Starting new HTTP connection (1): ondemand.websol.barchart.com\n",
      "2018-12-21 11:35:36,710 - requests.packages.urllib3.connectionpool - DEBUG - http://ondemand.websol.barchart.com:80 \"GET /getHistory.json?maxRecords=172800&interval=1&startDate=20080220&symbol=ESM08&type=minutes&apikey=e95f76cac84a3c62139dc3502a3e73e7 HTTP/1.1\" 200 None\n",
      " 50%|█████     | 2/4 [00:03<00:03,  1.80s/it]2018-12-21 11:35:37,048 - requests.packages.urllib3.connectionpool - DEBUG - Starting new HTTP connection (1): ondemand.websol.barchart.com\n",
      "2018-12-21 11:35:37,205 - requests.packages.urllib3.connectionpool - DEBUG - http://ondemand.websol.barchart.com:80 \"GET /getHistory.json?maxRecords=60&interval=1&startDate=20080801&symbol=ESU08&type=daily&apikey=e95f76cac84a3c62139dc3502a3e73e7 HTTP/1.1\" 200 None\n",
      "2018-12-21 11:35:37,211 - requests.packages.urllib3.connectionpool - DEBUG - Starting new HTTP connection (1): ondemand.websol.barchart.com\n",
      "2018-12-21 11:35:39,941 - requests.packages.urllib3.connectionpool - DEBUG - http://ondemand.websol.barchart.com:80 \"GET /getHistory.json?maxRecords=172800&interval=1&startDate=20080521&symbol=ESU08&type=minutes&apikey=e95f76cac84a3c62139dc3502a3e73e7 HTTP/1.1\" 200 None\n",
      " 75%|███████▌  | 3/4 [00:07<00:02,  2.37s/it]2018-12-21 11:35:40,558 - requests.packages.urllib3.connectionpool - DEBUG - Starting new HTTP connection (1): ondemand.websol.barchart.com\n",
      "2018-12-21 11:35:40,743 - requests.packages.urllib3.connectionpool - DEBUG - http://ondemand.websol.barchart.com:80 \"GET /getHistory.json?maxRecords=60&interval=1&startDate=20081101&symbol=ESZ08&type=daily&apikey=e95f76cac84a3c62139dc3502a3e73e7 HTTP/1.1\" 200 None\n",
      "2018-12-21 11:35:40,755 - requests.packages.urllib3.connectionpool - DEBUG - Starting new HTTP connection (1): ondemand.websol.barchart.com\n",
      "2018-12-21 11:35:43,936 - requests.packages.urllib3.connectionpool - DEBUG - http://ondemand.websol.barchart.com:80 \"GET /getHistory.json?maxRecords=172800&interval=1&startDate=20080820&symbol=ESZ08&type=minutes&apikey=e95f76cac84a3c62139dc3502a3e73e7 HTTP/1.1\" 200 None\n",
      "100%|██████████| 4/4 [00:11<00:00,  2.79s/it]\n",
      "2018-12-21 11:35:44,619 - root - INFO - BEGIN Writing Data for year: 2008\n",
      "2018-12-21 11:35:46,096 - root - INFO - END Writing Data for year: 2008\n",
      "2018-12-21 11:35:46,098 - root - INFO - begin:200901, end:200912\n",
      "2018-12-21 11:35:46,126 - root - INFO - BEGIN Fetching Data for year: 2009\n",
      "  0%|          | 0/4 [00:00<?, ?it/s]2018-12-21 11:35:46,140 - requests.packages.urllib3.connectionpool - DEBUG - Starting new HTTP connection (1): ondemand.websol.barchart.com\n",
      "2018-12-21 11:35:46,320 - requests.packages.urllib3.connectionpool - DEBUG - http://ondemand.websol.barchart.com:80 \"GET /getHistory.json?maxRecords=60&interval=1&startDate=20090201&symbol=ESH09&type=daily&apikey=e95f76cac84a3c62139dc3502a3e73e7 HTTP/1.1\" 200 None\n"
     ]
    },
    {
     "name": "stdout",
     "output_type": "stream",
     "text": [
      "Barchart OnDemand Client: http://ondemand.websol.barchart.com/\n"
     ]
    },
    {
     "name": "stderr",
     "output_type": "stream",
     "text": [
      "2018-12-21 11:35:46,330 - requests.packages.urllib3.connectionpool - DEBUG - Starting new HTTP connection (1): ondemand.websol.barchart.com\n",
      "2018-12-21 11:35:49,196 - requests.packages.urllib3.connectionpool - DEBUG - http://ondemand.websol.barchart.com:80 \"GET /getHistory.json?maxRecords=172800&interval=1&startDate=20081119&symbol=ESH09&type=minutes&apikey=e95f76cac84a3c62139dc3502a3e73e7 HTTP/1.1\" 200 None\n",
      " 25%|██▌       | 1/4 [00:03<00:11,  3.76s/it]2018-12-21 11:35:49,898 - requests.packages.urllib3.connectionpool - DEBUG - Starting new HTTP connection (1): ondemand.websol.barchart.com\n",
      "2018-12-21 11:35:50,079 - requests.packages.urllib3.connectionpool - DEBUG - http://ondemand.websol.barchart.com:80 \"GET /getHistory.json?maxRecords=60&interval=1&startDate=20090501&symbol=ESM09&type=daily&apikey=e95f76cac84a3c62139dc3502a3e73e7 HTTP/1.1\" 200 None\n",
      "2018-12-21 11:35:50,091 - requests.packages.urllib3.connectionpool - DEBUG - Starting new HTTP connection (1): ondemand.websol.barchart.com\n",
      "2018-12-21 11:35:53,114 - requests.packages.urllib3.connectionpool - DEBUG - http://ondemand.websol.barchart.com:80 \"GET /getHistory.json?maxRecords=172800&interval=1&startDate=20090218&symbol=ESM09&type=minutes&apikey=e95f76cac84a3c62139dc3502a3e73e7 HTTP/1.1\" 200 None\n",
      " 50%|█████     | 2/4 [00:07<00:07,  3.81s/it]2018-12-21 11:35:53,766 - requests.packages.urllib3.connectionpool - DEBUG - Starting new HTTP connection (1): ondemand.websol.barchart.com\n",
      "2018-12-21 11:35:53,917 - requests.packages.urllib3.connectionpool - DEBUG - http://ondemand.websol.barchart.com:80 \"GET /getHistory.json?maxRecords=60&interval=1&startDate=20090801&symbol=ESU09&type=daily&apikey=e95f76cac84a3c62139dc3502a3e73e7 HTTP/1.1\" 200 None\n",
      "2018-12-21 11:35:53,933 - requests.packages.urllib3.connectionpool - DEBUG - Starting new HTTP connection (1): ondemand.websol.barchart.com\n",
      "2018-12-21 11:35:57,306 - requests.packages.urllib3.connectionpool - DEBUG - http://ondemand.websol.barchart.com:80 \"GET /getHistory.json?maxRecords=172800&interval=1&startDate=20090520&symbol=ESU09&type=minutes&apikey=e95f76cac84a3c62139dc3502a3e73e7 HTTP/1.1\" 200 None\n",
      " 75%|███████▌  | 3/4 [00:11<00:03,  3.94s/it]2018-12-21 11:35:57,972 - requests.packages.urllib3.connectionpool - DEBUG - Starting new HTTP connection (1): ondemand.websol.barchart.com\n",
      "2018-12-21 11:35:58,166 - requests.packages.urllib3.connectionpool - DEBUG - http://ondemand.websol.barchart.com:80 \"GET /getHistory.json?maxRecords=60&interval=1&startDate=20091101&symbol=ESZ09&type=daily&apikey=e95f76cac84a3c62139dc3502a3e73e7 HTTP/1.1\" 200 None\n",
      "2018-12-21 11:35:58,178 - requests.packages.urllib3.connectionpool - DEBUG - Starting new HTTP connection (1): ondemand.websol.barchart.com\n",
      "2018-12-21 11:36:01,227 - requests.packages.urllib3.connectionpool - DEBUG - http://ondemand.websol.barchart.com:80 \"GET /getHistory.json?maxRecords=172800&interval=1&startDate=20090819&symbol=ESZ09&type=minutes&apikey=e95f76cac84a3c62139dc3502a3e73e7 HTTP/1.1\" 200 None\n",
      "100%|██████████| 4/4 [00:15<00:00,  3.95s/it]\n",
      "2018-12-21 11:36:01,926 - root - INFO - BEGIN Writing Data for year: 2009\n",
      "2018-12-21 11:36:04,440 - root - INFO - END Writing Data for year: 2009\n",
      "2018-12-21 11:36:04,442 - root - INFO - begin:201001, end:201012\n",
      "2018-12-21 11:36:04,483 - root - INFO - BEGIN Fetching Data for year: 2010\n",
      "  0%|          | 0/4 [00:00<?, ?it/s]2018-12-21 11:36:04,491 - requests.packages.urllib3.connectionpool - DEBUG - Starting new HTTP connection (1): ondemand.websol.barchart.com\n"
     ]
    },
    {
     "name": "stdout",
     "output_type": "stream",
     "text": [
      "Barchart OnDemand Client: http://ondemand.websol.barchart.com/\n"
     ]
    },
    {
     "name": "stderr",
     "output_type": "stream",
     "text": [
      "2018-12-21 11:36:04,675 - requests.packages.urllib3.connectionpool - DEBUG - http://ondemand.websol.barchart.com:80 \"GET /getHistory.json?maxRecords=60&interval=1&startDate=20100201&symbol=ESH10&type=daily&apikey=e95f76cac84a3c62139dc3502a3e73e7 HTTP/1.1\" 200 None\n",
      "2018-12-21 11:36:04,683 - requests.packages.urllib3.connectionpool - DEBUG - Starting new HTTP connection (1): ondemand.websol.barchart.com\n",
      "2018-12-21 11:36:07,450 - requests.packages.urllib3.connectionpool - DEBUG - http://ondemand.websol.barchart.com:80 \"GET /getHistory.json?maxRecords=172800&interval=1&startDate=20091119&symbol=ESH10&type=minutes&apikey=e95f76cac84a3c62139dc3502a3e73e7 HTTP/1.1\" 200 None\n",
      " 25%|██▌       | 1/4 [00:03<00:11,  3.67s/it]2018-12-21 11:36:08,165 - requests.packages.urllib3.connectionpool - DEBUG - Starting new HTTP connection (1): ondemand.websol.barchart.com\n",
      "2018-12-21 11:36:08,489 - requests.packages.urllib3.connectionpool - DEBUG - http://ondemand.websol.barchart.com:80 \"GET /getHistory.json?maxRecords=60&interval=1&startDate=20100501&symbol=ESM10&type=daily&apikey=e95f76cac84a3c62139dc3502a3e73e7 HTTP/1.1\" 200 None\n",
      "2018-12-21 11:36:08,497 - requests.packages.urllib3.connectionpool - DEBUG - Starting new HTTP connection (1): ondemand.websol.barchart.com\n",
      "2018-12-21 11:36:11,558 - requests.packages.urllib3.connectionpool - DEBUG - http://ondemand.websol.barchart.com:80 \"GET /getHistory.json?maxRecords=172800&interval=1&startDate=20100218&symbol=ESM10&type=minutes&apikey=e95f76cac84a3c62139dc3502a3e73e7 HTTP/1.1\" 200 None\n",
      " 50%|█████     | 2/4 [00:07<00:07,  3.87s/it]2018-12-21 11:36:12,227 - requests.packages.urllib3.connectionpool - DEBUG - Starting new HTTP connection (1): ondemand.websol.barchart.com\n",
      "2018-12-21 11:36:12,560 - requests.packages.urllib3.connectionpool - DEBUG - http://ondemand.websol.barchart.com:80 \"GET /getHistory.json?maxRecords=60&interval=1&startDate=20100801&symbol=ESU10&type=daily&apikey=e95f76cac84a3c62139dc3502a3e73e7 HTTP/1.1\" 200 None\n",
      "2018-12-21 11:36:12,567 - requests.packages.urllib3.connectionpool - DEBUG - Starting new HTTP connection (1): ondemand.websol.barchart.com\n",
      "2018-12-21 11:36:15,653 - requests.packages.urllib3.connectionpool - DEBUG - http://ondemand.websol.barchart.com:80 \"GET /getHistory.json?maxRecords=172800&interval=1&startDate=20100520&symbol=ESU10&type=minutes&apikey=e95f76cac84a3c62139dc3502a3e73e7 HTTP/1.1\" 200 None\n",
      " 75%|███████▌  | 3/4 [00:11<00:03,  3.98s/it]2018-12-21 11:36:16,438 - requests.packages.urllib3.connectionpool - DEBUG - Starting new HTTP connection (1): ondemand.websol.barchart.com\n",
      "2018-12-21 11:36:16,867 - requests.packages.urllib3.connectionpool - DEBUG - http://ondemand.websol.barchart.com:80 \"GET /getHistory.json?maxRecords=60&interval=1&startDate=20101101&symbol=ESZ10&type=daily&apikey=e95f76cac84a3c62139dc3502a3e73e7 HTTP/1.1\" 200 None\n",
      "2018-12-21 11:36:16,878 - requests.packages.urllib3.connectionpool - DEBUG - Starting new HTTP connection (1): ondemand.websol.barchart.com\n",
      "2018-12-21 11:36:19,913 - requests.packages.urllib3.connectionpool - DEBUG - http://ondemand.websol.barchart.com:80 \"GET /getHistory.json?maxRecords=172800&interval=1&startDate=20100819&symbol=ESZ10&type=minutes&apikey=e95f76cac84a3c62139dc3502a3e73e7 HTTP/1.1\" 200 None\n",
      "100%|██████████| 4/4 [00:16<00:00,  4.04s/it]\n",
      "2018-12-21 11:36:20,634 - root - INFO - BEGIN Writing Data for year: 2010\n",
      "2018-12-21 11:36:23,617 - root - INFO - END Writing Data for year: 2010\n",
      "2018-12-21 11:36:23,620 - root - INFO - begin:201101, end:201112\n",
      "2018-12-21 11:36:23,661 - root - INFO - BEGIN Fetching Data for year: 2011\n",
      "  0%|          | 0/4 [00:00<?, ?it/s]2018-12-21 11:36:23,672 - requests.packages.urllib3.connectionpool - DEBUG - Starting new HTTP connection (1): ondemand.websol.barchart.com\n"
     ]
    },
    {
     "name": "stdout",
     "output_type": "stream",
     "text": [
      "Barchart OnDemand Client: http://ondemand.websol.barchart.com/\n"
     ]
    },
    {
     "name": "stderr",
     "output_type": "stream",
     "text": [
      "2018-12-21 11:36:24,000 - requests.packages.urllib3.connectionpool - DEBUG - http://ondemand.websol.barchart.com:80 \"GET /getHistory.json?maxRecords=60&interval=1&startDate=20110201&symbol=ESH11&type=daily&apikey=e95f76cac84a3c62139dc3502a3e73e7 HTTP/1.1\" 200 None\n",
      "2018-12-21 11:36:24,011 - requests.packages.urllib3.connectionpool - DEBUG - Starting new HTTP connection (1): ondemand.websol.barchart.com\n",
      "2018-12-21 11:36:27,158 - requests.packages.urllib3.connectionpool - DEBUG - http://ondemand.websol.barchart.com:80 \"GET /getHistory.json?maxRecords=172800&interval=1&startDate=20101118&symbol=ESH11&type=minutes&apikey=e95f76cac84a3c62139dc3502a3e73e7 HTTP/1.1\" 200 None\n",
      " 25%|██▌       | 1/4 [00:04<00:12,  4.21s/it]2018-12-21 11:36:27,878 - requests.packages.urllib3.connectionpool - DEBUG - Starting new HTTP connection (1): ondemand.websol.barchart.com\n",
      "2018-12-21 11:36:28,178 - requests.packages.urllib3.connectionpool - DEBUG - http://ondemand.websol.barchart.com:80 \"GET /getHistory.json?maxRecords=60&interval=1&startDate=20110501&symbol=ESM11&type=daily&apikey=e95f76cac84a3c62139dc3502a3e73e7 HTTP/1.1\" 200 None\n",
      "2018-12-21 11:36:28,186 - requests.packages.urllib3.connectionpool - DEBUG - Starting new HTTP connection (1): ondemand.websol.barchart.com\n",
      "2018-12-21 11:36:31,290 - requests.packages.urllib3.connectionpool - DEBUG - http://ondemand.websol.barchart.com:80 \"GET /getHistory.json?maxRecords=172800&interval=1&startDate=20110217&symbol=ESM11&type=minutes&apikey=e95f76cac84a3c62139dc3502a3e73e7 HTTP/1.1\" 200 None\n",
      " 50%|█████     | 2/4 [00:08<00:08,  4.14s/it]2018-12-21 11:36:31,948 - requests.packages.urllib3.connectionpool - DEBUG - Starting new HTTP connection (1): ondemand.websol.barchart.com\n",
      "2018-12-21 11:36:32,307 - requests.packages.urllib3.connectionpool - DEBUG - http://ondemand.websol.barchart.com:80 \"GET /getHistory.json?maxRecords=60&interval=1&startDate=20110801&symbol=ESU11&type=daily&apikey=e95f76cac84a3c62139dc3502a3e73e7 HTTP/1.1\" 200 None\n",
      "2018-12-21 11:36:32,320 - requests.packages.urllib3.connectionpool - DEBUG - Starting new HTTP connection (1): ondemand.websol.barchart.com\n",
      "2018-12-21 11:36:35,284 - requests.packages.urllib3.connectionpool - DEBUG - http://ondemand.websol.barchart.com:80 \"GET /getHistory.json?maxRecords=172800&interval=1&startDate=20110519&symbol=ESU11&type=minutes&apikey=e95f76cac84a3c62139dc3502a3e73e7 HTTP/1.1\" 200 None\n",
      " 75%|███████▌  | 3/4 [00:12<00:04,  4.10s/it]2018-12-21 11:36:35,994 - requests.packages.urllib3.connectionpool - DEBUG - Starting new HTTP connection (1): ondemand.websol.barchart.com\n",
      "2018-12-21 11:36:36,645 - requests.packages.urllib3.connectionpool - DEBUG - http://ondemand.websol.barchart.com:80 \"GET /getHistory.json?maxRecords=60&interval=1&startDate=20111101&symbol=ESZ11&type=daily&apikey=e95f76cac84a3c62139dc3502a3e73e7 HTTP/1.1\" 200 None\n",
      "2018-12-21 11:36:36,654 - requests.packages.urllib3.connectionpool - DEBUG - Starting new HTTP connection (1): ondemand.websol.barchart.com\n",
      "2018-12-21 11:36:40,024 - requests.packages.urllib3.connectionpool - DEBUG - http://ondemand.websol.barchart.com:80 \"GET /getHistory.json?maxRecords=172800&interval=1&startDate=20110818&symbol=ESZ11&type=minutes&apikey=e95f76cac84a3c62139dc3502a3e73e7 HTTP/1.1\" 200 None\n",
      "100%|██████████| 4/4 [00:17<00:00,  4.30s/it]\n",
      "2018-12-21 11:36:40,866 - root - INFO - BEGIN Writing Data for year: 2011\n",
      "2018-12-21 11:36:43,507 - root - INFO - END Writing Data for year: 2011\n",
      "2018-12-21 11:36:43,508 - root - INFO - begin:201201, end:201212\n",
      "2018-12-21 11:36:43,544 - root - INFO - BEGIN Fetching Data for year: 2012\n",
      "  0%|          | 0/4 [00:00<?, ?it/s]2018-12-21 11:36:43,553 - requests.packages.urllib3.connectionpool - DEBUG - Starting new HTTP connection (1): ondemand.websol.barchart.com\n"
     ]
    },
    {
     "name": "stdout",
     "output_type": "stream",
     "text": [
      "Barchart OnDemand Client: http://ondemand.websol.barchart.com/\n"
     ]
    },
    {
     "name": "stderr",
     "output_type": "stream",
     "text": [
      "2018-12-21 11:36:43,870 - requests.packages.urllib3.connectionpool - DEBUG - http://ondemand.websol.barchart.com:80 \"GET /getHistory.json?maxRecords=60&interval=1&startDate=20120201&symbol=ESH12&type=daily&apikey=e95f76cac84a3c62139dc3502a3e73e7 HTTP/1.1\" 200 None\n",
      "2018-12-21 11:36:43,881 - requests.packages.urllib3.connectionpool - DEBUG - Starting new HTTP connection (1): ondemand.websol.barchart.com\n",
      "2018-12-21 11:36:46,900 - requests.packages.urllib3.connectionpool - DEBUG - http://ondemand.websol.barchart.com:80 \"GET /getHistory.json?maxRecords=172800&interval=1&startDate=20111117&symbol=ESH12&type=minutes&apikey=e95f76cac84a3c62139dc3502a3e73e7 HTTP/1.1\" 200 None\n",
      " 25%|██▌       | 1/4 [00:03<00:11,  3.99s/it]2018-12-21 11:36:47,539 - requests.packages.urllib3.connectionpool - DEBUG - Starting new HTTP connection (1): ondemand.websol.barchart.com\n",
      "2018-12-21 11:36:47,861 - requests.packages.urllib3.connectionpool - DEBUG - http://ondemand.websol.barchart.com:80 \"GET /getHistory.json?maxRecords=60&interval=1&startDate=20120501&symbol=ESM12&type=daily&apikey=e95f76cac84a3c62139dc3502a3e73e7 HTTP/1.1\" 200 None\n",
      "2018-12-21 11:36:47,872 - requests.packages.urllib3.connectionpool - DEBUG - Starting new HTTP connection (1): ondemand.websol.barchart.com\n",
      "2018-12-21 11:36:50,967 - requests.packages.urllib3.connectionpool - DEBUG - http://ondemand.websol.barchart.com:80 \"GET /getHistory.json?maxRecords=172800&interval=1&startDate=20120216&symbol=ESM12&type=minutes&apikey=e95f76cac84a3c62139dc3502a3e73e7 HTTP/1.1\" 200 None\n",
      " 50%|█████     | 2/4 [00:08<00:08,  4.04s/it]2018-12-21 11:36:51,628 - requests.packages.urllib3.connectionpool - DEBUG - Starting new HTTP connection (1): ondemand.websol.barchart.com\n",
      "2018-12-21 11:36:51,933 - requests.packages.urllib3.connectionpool - DEBUG - http://ondemand.websol.barchart.com:80 \"GET /getHistory.json?maxRecords=60&interval=1&startDate=20120801&symbol=ESU12&type=daily&apikey=e95f76cac84a3c62139dc3502a3e73e7 HTTP/1.1\" 200 None\n",
      "2018-12-21 11:36:51,940 - requests.packages.urllib3.connectionpool - DEBUG - Starting new HTTP connection (1): ondemand.websol.barchart.com\n",
      "2018-12-21 11:36:55,116 - requests.packages.urllib3.connectionpool - DEBUG - http://ondemand.websol.barchart.com:80 \"GET /getHistory.json?maxRecords=172800&interval=1&startDate=20120524&symbol=ESU12&type=minutes&apikey=e95f76cac84a3c62139dc3502a3e73e7 HTTP/1.1\" 200 None\n",
      " 75%|███████▌  | 3/4 [00:12<00:04,  4.08s/it]2018-12-21 11:36:55,792 - requests.packages.urllib3.connectionpool - DEBUG - Starting new HTTP connection (1): ondemand.websol.barchart.com\n",
      "2018-12-21 11:36:56,304 - requests.packages.urllib3.connectionpool - DEBUG - http://ondemand.websol.barchart.com:80 \"GET /getHistory.json?maxRecords=60&interval=1&startDate=20121101&symbol=ESZ12&type=daily&apikey=e95f76cac84a3c62139dc3502a3e73e7 HTTP/1.1\" 200 None\n",
      "2018-12-21 11:36:56,311 - requests.packages.urllib3.connectionpool - DEBUG - Starting new HTTP connection (1): ondemand.websol.barchart.com\n",
      "2018-12-21 11:36:59,455 - requests.packages.urllib3.connectionpool - DEBUG - http://ondemand.websol.barchart.com:80 \"GET /getHistory.json?maxRecords=172800&interval=1&startDate=20120823&symbol=ESZ12&type=minutes&apikey=e95f76cac84a3c62139dc3502a3e73e7 HTTP/1.1\" 200 None\n",
      "100%|██████████| 4/4 [00:16<00:00,  4.16s/it]\n",
      "2018-12-21 11:37:00,180 - root - INFO - BEGIN Writing Data for year: 2012\n",
      "2018-12-21 11:37:02,820 - root - INFO - END Writing Data for year: 2012\n",
      "2018-12-21 11:37:02,821 - root - INFO - begin:201301, end:201312\n",
      "2018-12-21 11:37:02,855 - root - INFO - BEGIN Fetching Data for year: 2013\n",
      "  0%|          | 0/4 [00:00<?, ?it/s]2018-12-21 11:37:02,863 - requests.packages.urllib3.connectionpool - DEBUG - Starting new HTTP connection (1): ondemand.websol.barchart.com\n"
     ]
    },
    {
     "name": "stdout",
     "output_type": "stream",
     "text": [
      "Barchart OnDemand Client: http://ondemand.websol.barchart.com/\n"
     ]
    },
    {
     "name": "stderr",
     "output_type": "stream",
     "text": [
      "2018-12-21 11:37:03,303 - requests.packages.urllib3.connectionpool - DEBUG - http://ondemand.websol.barchart.com:80 \"GET /getHistory.json?maxRecords=60&interval=1&startDate=20130201&symbol=ESH13&type=daily&apikey=e95f76cac84a3c62139dc3502a3e73e7 HTTP/1.1\" 200 None\n",
      "2018-12-21 11:37:03,316 - requests.packages.urllib3.connectionpool - DEBUG - Starting new HTTP connection (1): ondemand.websol.barchart.com\n",
      "2018-12-21 11:37:05,965 - requests.packages.urllib3.connectionpool - DEBUG - http://ondemand.websol.barchart.com:80 \"GET /getHistory.json?maxRecords=172800&interval=1&startDate=20121115&symbol=ESH13&type=minutes&apikey=e95f76cac84a3c62139dc3502a3e73e7 HTTP/1.1\" 200 None\n",
      " 25%|██▌       | 1/4 [00:03<00:11,  3.70s/it]2018-12-21 11:37:06,567 - requests.packages.urllib3.connectionpool - DEBUG - Starting new HTTP connection (1): ondemand.websol.barchart.com\n",
      "2018-12-21 11:37:06,928 - requests.packages.urllib3.connectionpool - DEBUG - http://ondemand.websol.barchart.com:80 \"GET /getHistory.json?maxRecords=60&interval=1&startDate=20130501&symbol=ESM13&type=daily&apikey=e95f76cac84a3c62139dc3502a3e73e7 HTTP/1.1\" 200 None\n",
      "2018-12-21 11:37:06,938 - requests.packages.urllib3.connectionpool - DEBUG - Starting new HTTP connection (1): ondemand.websol.barchart.com\n",
      "2018-12-21 11:37:10,029 - requests.packages.urllib3.connectionpool - DEBUG - http://ondemand.websol.barchart.com:80 \"GET /getHistory.json?maxRecords=172800&interval=1&startDate=20130221&symbol=ESM13&type=minutes&apikey=e95f76cac84a3c62139dc3502a3e73e7 HTTP/1.1\" 200 None\n",
      " 50%|█████     | 2/4 [00:07<00:07,  3.97s/it]2018-12-21 11:37:10,809 - requests.packages.urllib3.connectionpool - DEBUG - Starting new HTTP connection (1): ondemand.websol.barchart.com\n",
      "2018-12-21 11:37:11,111 - requests.packages.urllib3.connectionpool - DEBUG - http://ondemand.websol.barchart.com:80 \"GET /getHistory.json?maxRecords=60&interval=1&startDate=20130801&symbol=ESU13&type=daily&apikey=e95f76cac84a3c62139dc3502a3e73e7 HTTP/1.1\" 200 None\n",
      "2018-12-21 11:37:11,126 - requests.packages.urllib3.connectionpool - DEBUG - Starting new HTTP connection (1): ondemand.websol.barchart.com\n",
      "2018-12-21 11:37:14,322 - requests.packages.urllib3.connectionpool - DEBUG - http://ondemand.websol.barchart.com:80 \"GET /getHistory.json?maxRecords=172800&interval=1&startDate=20130523&symbol=ESU13&type=minutes&apikey=e95f76cac84a3c62139dc3502a3e73e7 HTTP/1.1\" 200 None\n",
      " 75%|███████▌  | 3/4 [00:12<00:04,  4.04s/it]2018-12-21 11:37:14,982 - requests.packages.urllib3.connectionpool - DEBUG - Starting new HTTP connection (1): ondemand.websol.barchart.com\n",
      "2018-12-21 11:37:15,351 - requests.packages.urllib3.connectionpool - DEBUG - http://ondemand.websol.barchart.com:80 \"GET /getHistory.json?maxRecords=60&interval=1&startDate=20131101&symbol=ESZ13&type=daily&apikey=e95f76cac84a3c62139dc3502a3e73e7 HTTP/1.1\" 200 None\n",
      "2018-12-21 11:37:15,362 - requests.packages.urllib3.connectionpool - DEBUG - Starting new HTTP connection (1): ondemand.websol.barchart.com\n",
      "2018-12-21 11:37:18,462 - requests.packages.urllib3.connectionpool - DEBUG - http://ondemand.websol.barchart.com:80 \"GET /getHistory.json?maxRecords=172800&interval=1&startDate=20130822&symbol=ESZ13&type=minutes&apikey=e95f76cac84a3c62139dc3502a3e73e7 HTTP/1.1\" 200 None\n",
      "100%|██████████| 4/4 [00:16<00:00,  4.09s/it]\n",
      "2018-12-21 11:37:19,222 - root - INFO - BEGIN Writing Data for year: 2013\n",
      "2018-12-21 11:37:22,023 - root - INFO - END Writing Data for year: 2013\n",
      "2018-12-21 11:37:22,024 - root - INFO - begin:201401, end:201412\n",
      "2018-12-21 11:37:22,062 - root - INFO - BEGIN Fetching Data for year: 2014\n",
      "  0%|          | 0/4 [00:00<?, ?it/s]2018-12-21 11:37:22,070 - requests.packages.urllib3.connectionpool - DEBUG - Starting new HTTP connection (1): ondemand.websol.barchart.com\n",
      "2018-12-21 11:37:22,218 - requests.packages.urllib3.connectionpool - DEBUG - http://ondemand.websol.barchart.com:80 \"GET /getHistory.json?maxRecords=60&interval=1&startDate=20140201&symbol=ESH14&type=daily&apikey=e95f76cac84a3c62139dc3502a3e73e7 HTTP/1.1\" 200 None\n",
      "2018-12-21 11:37:22,231 - requests.packages.urllib3.connectionpool - DEBUG - Starting new HTTP connection (1): ondemand.websol.barchart.com\n"
     ]
    },
    {
     "name": "stdout",
     "output_type": "stream",
     "text": [
      "Barchart OnDemand Client: http://ondemand.websol.barchart.com/\n"
     ]
    },
    {
     "name": "stderr",
     "output_type": "stream",
     "text": [
      "2018-12-21 11:37:25,181 - requests.packages.urllib3.connectionpool - DEBUG - http://ondemand.websol.barchart.com:80 \"GET /getHistory.json?maxRecords=172800&interval=1&startDate=20131121&symbol=ESH14&type=minutes&apikey=e95f76cac84a3c62139dc3502a3e73e7 HTTP/1.1\" 200 None\n",
      " 25%|██▌       | 1/4 [00:03<00:11,  3.74s/it]2018-12-21 11:37:25,809 - requests.packages.urllib3.connectionpool - DEBUG - Starting new HTTP connection (1): ondemand.websol.barchart.com\n",
      "2018-12-21 11:37:26,382 - requests.packages.urllib3.connectionpool - DEBUG - http://ondemand.websol.barchart.com:80 \"GET /getHistory.json?maxRecords=60&interval=1&startDate=20140501&symbol=ESM14&type=daily&apikey=e95f76cac84a3c62139dc3502a3e73e7 HTTP/1.1\" 200 None\n",
      "2018-12-21 11:37:26,394 - requests.packages.urllib3.connectionpool - DEBUG - Starting new HTTP connection (1): ondemand.websol.barchart.com\n",
      "2018-12-21 11:37:29,420 - requests.packages.urllib3.connectionpool - DEBUG - http://ondemand.websol.barchart.com:80 \"GET /getHistory.json?maxRecords=172800&interval=1&startDate=20140220&symbol=ESM14&type=minutes&apikey=e95f76cac84a3c62139dc3502a3e73e7 HTTP/1.1\" 200 None\n",
      " 50%|█████     | 2/4 [00:08<00:08,  4.05s/it]2018-12-21 11:37:30,160 - requests.packages.urllib3.connectionpool - DEBUG - Starting new HTTP connection (1): ondemand.websol.barchart.com\n",
      "2018-12-21 11:37:30,447 - requests.packages.urllib3.connectionpool - DEBUG - http://ondemand.websol.barchart.com:80 \"GET /getHistory.json?maxRecords=60&interval=1&startDate=20140801&symbol=ESU14&type=daily&apikey=e95f76cac84a3c62139dc3502a3e73e7 HTTP/1.1\" 200 None\n",
      "2018-12-21 11:37:30,458 - requests.packages.urllib3.connectionpool - DEBUG - Starting new HTTP connection (1): ondemand.websol.barchart.com\n",
      "2018-12-21 11:37:33,671 - requests.packages.urllib3.connectionpool - DEBUG - http://ondemand.websol.barchart.com:80 \"GET /getHistory.json?maxRecords=172800&interval=1&startDate=20140522&symbol=ESU14&type=minutes&apikey=e95f76cac84a3c62139dc3502a3e73e7 HTTP/1.1\" 200 None\n",
      " 75%|███████▌  | 3/4 [00:12<00:04,  4.08s/it]2018-12-21 11:37:34,295 - requests.packages.urllib3.connectionpool - DEBUG - Starting new HTTP connection (1): ondemand.websol.barchart.com\n",
      "2018-12-21 11:37:34,604 - requests.packages.urllib3.connectionpool - DEBUG - http://ondemand.websol.barchart.com:80 \"GET /getHistory.json?maxRecords=60&interval=1&startDate=20141101&symbol=ESZ14&type=daily&apikey=e95f76cac84a3c62139dc3502a3e73e7 HTTP/1.1\" 200 None\n",
      "2018-12-21 11:37:34,615 - requests.packages.urllib3.connectionpool - DEBUG - Starting new HTTP connection (1): ondemand.websol.barchart.com\n",
      "2018-12-21 11:37:37,775 - requests.packages.urllib3.connectionpool - DEBUG - http://ondemand.websol.barchart.com:80 \"GET /getHistory.json?maxRecords=172800&interval=1&startDate=20140821&symbol=ESZ14&type=minutes&apikey=e95f76cac84a3c62139dc3502a3e73e7 HTTP/1.1\" 200 None\n",
      "100%|██████████| 4/4 [00:16<00:00,  4.10s/it]\n",
      "2018-12-21 11:37:38,466 - root - INFO - BEGIN Writing Data for year: 2014\n",
      "2018-12-21 11:37:41,060 - root - INFO - END Writing Data for year: 2014\n",
      "2018-12-21 11:37:41,062 - root - INFO - begin:201501, end:201512\n",
      "2018-12-21 11:37:41,099 - root - INFO - BEGIN Fetching Data for year: 2015\n",
      "  0%|          | 0/4 [00:00<?, ?it/s]2018-12-21 11:37:41,127 - requests.packages.urllib3.connectionpool - DEBUG - Starting new HTTP connection (1): ondemand.websol.barchart.com\n"
     ]
    },
    {
     "name": "stdout",
     "output_type": "stream",
     "text": [
      "Barchart OnDemand Client: http://ondemand.websol.barchart.com/\n"
     ]
    },
    {
     "name": "stderr",
     "output_type": "stream",
     "text": [
      "2018-12-21 11:37:41,431 - requests.packages.urllib3.connectionpool - DEBUG - http://ondemand.websol.barchart.com:80 \"GET /getHistory.json?maxRecords=60&interval=1&startDate=20150201&symbol=ESH15&type=daily&apikey=e95f76cac84a3c62139dc3502a3e73e7 HTTP/1.1\" 200 None\n",
      "2018-12-21 11:37:41,443 - requests.packages.urllib3.connectionpool - DEBUG - Starting new HTTP connection (1): ondemand.websol.barchart.com\n",
      "2018-12-21 11:37:44,453 - requests.packages.urllib3.connectionpool - DEBUG - http://ondemand.websol.barchart.com:80 \"GET /getHistory.json?maxRecords=172800&interval=1&startDate=20141120&symbol=ESH15&type=minutes&apikey=e95f76cac84a3c62139dc3502a3e73e7 HTTP/1.1\" 200 None\n",
      " 25%|██▌       | 1/4 [00:03<00:11,  3.98s/it]2018-12-21 11:37:45,086 - requests.packages.urllib3.connectionpool - DEBUG - Starting new HTTP connection (1): ondemand.websol.barchart.com\n",
      "2018-12-21 11:37:45,440 - requests.packages.urllib3.connectionpool - DEBUG - http://ondemand.websol.barchart.com:80 \"GET /getHistory.json?maxRecords=60&interval=1&startDate=20150501&symbol=ESM15&type=daily&apikey=e95f76cac84a3c62139dc3502a3e73e7 HTTP/1.1\" 200 None\n",
      "2018-12-21 11:37:45,447 - requests.packages.urllib3.connectionpool - DEBUG - Starting new HTTP connection (1): ondemand.websol.barchart.com\n",
      "2018-12-21 11:37:48,600 - requests.packages.urllib3.connectionpool - DEBUG - http://ondemand.websol.barchart.com:80 \"GET /getHistory.json?maxRecords=172800&interval=1&startDate=20150219&symbol=ESM15&type=minutes&apikey=e95f76cac84a3c62139dc3502a3e73e7 HTTP/1.1\" 200 None\n",
      " 50%|█████     | 2/4 [00:08<00:08,  4.09s/it]2018-12-21 11:37:49,286 - requests.packages.urllib3.connectionpool - DEBUG - Starting new HTTP connection (1): ondemand.websol.barchart.com\n",
      "2018-12-21 11:37:49,578 - requests.packages.urllib3.connectionpool - DEBUG - http://ondemand.websol.barchart.com:80 \"GET /getHistory.json?maxRecords=60&interval=1&startDate=20150801&symbol=ESU15&type=daily&apikey=e95f76cac84a3c62139dc3502a3e73e7 HTTP/1.1\" 200 None\n",
      "2018-12-21 11:37:49,589 - requests.packages.urllib3.connectionpool - DEBUG - Starting new HTTP connection (1): ondemand.websol.barchart.com\n",
      "2018-12-21 11:37:52,828 - requests.packages.urllib3.connectionpool - DEBUG - http://ondemand.websol.barchart.com:80 \"GET /getHistory.json?maxRecords=172800&interval=1&startDate=20150521&symbol=ESU15&type=minutes&apikey=e95f76cac84a3c62139dc3502a3e73e7 HTTP/1.1\" 200 None\n",
      " 75%|███████▌  | 3/4 [00:12<00:04,  4.16s/it]2018-12-21 11:37:53,587 - requests.packages.urllib3.connectionpool - DEBUG - Starting new HTTP connection (1): ondemand.websol.barchart.com\n",
      "2018-12-21 11:37:53,857 - requests.packages.urllib3.connectionpool - DEBUG - http://ondemand.websol.barchart.com:80 \"GET /getHistory.json?maxRecords=60&interval=1&startDate=20151101&symbol=ESZ15&type=daily&apikey=e95f76cac84a3c62139dc3502a3e73e7 HTTP/1.1\" 200 None\n",
      "2018-12-21 11:37:53,868 - requests.packages.urllib3.connectionpool - DEBUG - Starting new HTTP connection (1): ondemand.websol.barchart.com\n",
      "2018-12-21 11:37:57,144 - requests.packages.urllib3.connectionpool - DEBUG - http://ondemand.websol.barchart.com:80 \"GET /getHistory.json?maxRecords=172800&interval=1&startDate=20150820&symbol=ESZ15&type=minutes&apikey=e95f76cac84a3c62139dc3502a3e73e7 HTTP/1.1\" 200 None\n",
      "100%|██████████| 4/4 [00:16<00:00,  4.19s/it]\n",
      "2018-12-21 11:37:57,883 - root - INFO - BEGIN Writing Data for year: 2015\n",
      "2018-12-21 11:38:00,410 - root - INFO - END Writing Data for year: 2015\n",
      "2018-12-21 11:38:00,411 - root - INFO - begin:201601, end:201612\n",
      "2018-12-21 11:38:00,448 - root - INFO - BEGIN Fetching Data for year: 2016\n",
      "  0%|          | 0/4 [00:00<?, ?it/s]2018-12-21 11:38:00,457 - requests.packages.urllib3.connectionpool - DEBUG - Starting new HTTP connection (1): ondemand.websol.barchart.com\n"
     ]
    },
    {
     "name": "stdout",
     "output_type": "stream",
     "text": [
      "Barchart OnDemand Client: http://ondemand.websol.barchart.com/\n"
     ]
    },
    {
     "name": "stderr",
     "output_type": "stream",
     "text": [
      "2018-12-21 11:38:00,767 - requests.packages.urllib3.connectionpool - DEBUG - http://ondemand.websol.barchart.com:80 \"GET /getHistory.json?maxRecords=60&interval=1&startDate=20160201&symbol=ESH16&type=daily&apikey=e95f76cac84a3c62139dc3502a3e73e7 HTTP/1.1\" 200 None\n",
      "2018-12-21 11:38:00,781 - requests.packages.urllib3.connectionpool - DEBUG - Starting new HTTP connection (1): ondemand.websol.barchart.com\n",
      "2018-12-21 11:38:04,227 - requests.packages.urllib3.connectionpool - DEBUG - http://ondemand.websol.barchart.com:80 \"GET /getHistory.json?maxRecords=172800&interval=1&startDate=20151119&symbol=ESH16&type=minutes&apikey=e95f76cac84a3c62139dc3502a3e73e7 HTTP/1.1\" 200 None\n",
      " 25%|██▌       | 1/4 [00:04<00:13,  4.46s/it]2018-12-21 11:38:04,921 - requests.packages.urllib3.connectionpool - DEBUG - Starting new HTTP connection (1): ondemand.websol.barchart.com\n",
      "2018-12-21 11:38:05,245 - requests.packages.urllib3.connectionpool - DEBUG - http://ondemand.websol.barchart.com:80 \"GET /getHistory.json?maxRecords=60&interval=1&startDate=20160501&symbol=ESM16&type=daily&apikey=e95f76cac84a3c62139dc3502a3e73e7 HTTP/1.1\" 200 None\n",
      "2018-12-21 11:38:05,257 - requests.packages.urllib3.connectionpool - DEBUG - Starting new HTTP connection (1): ondemand.websol.barchart.com\n",
      "2018-12-21 11:38:08,540 - requests.packages.urllib3.connectionpool - DEBUG - http://ondemand.websol.barchart.com:80 \"GET /getHistory.json?maxRecords=172800&interval=1&startDate=20160218&symbol=ESM16&type=minutes&apikey=e95f76cac84a3c62139dc3502a3e73e7 HTTP/1.1\" 200 None\n",
      " 50%|█████     | 2/4 [00:08<00:08,  4.39s/it]2018-12-21 11:38:09,237 - requests.packages.urllib3.connectionpool - DEBUG - Starting new HTTP connection (1): ondemand.websol.barchart.com\n",
      "2018-12-21 11:38:09,517 - requests.packages.urllib3.connectionpool - DEBUG - http://ondemand.websol.barchart.com:80 \"GET /getHistory.json?maxRecords=60&interval=1&startDate=20160801&symbol=ESU16&type=daily&apikey=e95f76cac84a3c62139dc3502a3e73e7 HTTP/1.1\" 200 None\n",
      "2018-12-21 11:38:09,530 - requests.packages.urllib3.connectionpool - DEBUG - Starting new HTTP connection (1): ondemand.websol.barchart.com\n",
      "2018-12-21 11:38:12,795 - requests.packages.urllib3.connectionpool - DEBUG - http://ondemand.websol.barchart.com:80 \"GET /getHistory.json?maxRecords=172800&interval=1&startDate=20160519&symbol=ESU16&type=minutes&apikey=e95f76cac84a3c62139dc3502a3e73e7 HTTP/1.1\" 200 None\n",
      " 75%|███████▌  | 3/4 [00:13<00:04,  4.37s/it]2018-12-21 11:38:13,566 - requests.packages.urllib3.connectionpool - DEBUG - Starting new HTTP connection (1): ondemand.websol.barchart.com\n",
      "2018-12-21 11:38:14,024 - requests.packages.urllib3.connectionpool - DEBUG - http://ondemand.websol.barchart.com:80 \"GET /getHistory.json?maxRecords=60&interval=1&startDate=20161101&symbol=ESZ16&type=daily&apikey=e95f76cac84a3c62139dc3502a3e73e7 HTTP/1.1\" 200 None\n",
      "2018-12-21 11:38:14,032 - requests.packages.urllib3.connectionpool - DEBUG - Starting new HTTP connection (1): ondemand.websol.barchart.com\n",
      "2018-12-21 11:38:16,967 - requests.packages.urllib3.connectionpool - DEBUG - http://ondemand.websol.barchart.com:80 \"GET /getHistory.json?maxRecords=172800&interval=1&startDate=20160818&symbol=ESZ16&type=minutes&apikey=e95f76cac84a3c62139dc3502a3e73e7 HTTP/1.1\" 200 None\n",
      "100%|██████████| 4/4 [00:17<00:00,  4.31s/it]\n",
      "2018-12-21 11:38:17,695 - root - INFO - BEGIN Writing Data for year: 2016\n",
      "2018-12-21 11:38:20,326 - root - INFO - END Writing Data for year: 2016\n",
      "2018-12-21 11:38:20,327 - root - INFO - begin:201701, end:201712\n",
      "2018-12-21 11:38:20,370 - root - INFO - BEGIN Fetching Data for year: 2017\n",
      "  0%|          | 0/4 [00:00<?, ?it/s]2018-12-21 11:38:20,380 - requests.packages.urllib3.connectionpool - DEBUG - Starting new HTTP connection (1): ondemand.websol.barchart.com\n"
     ]
    },
    {
     "name": "stdout",
     "output_type": "stream",
     "text": [
      "Barchart OnDemand Client: http://ondemand.websol.barchart.com/\n"
     ]
    },
    {
     "name": "stderr",
     "output_type": "stream",
     "text": [
      "2018-12-21 11:38:20,666 - requests.packages.urllib3.connectionpool - DEBUG - http://ondemand.websol.barchart.com:80 \"GET /getHistory.json?maxRecords=60&interval=1&startDate=20170201&symbol=ESH17&type=daily&apikey=e95f76cac84a3c62139dc3502a3e73e7 HTTP/1.1\" 200 None\n",
      "2018-12-21 11:38:20,678 - requests.packages.urllib3.connectionpool - DEBUG - Starting new HTTP connection (1): ondemand.websol.barchart.com\n",
      "2018-12-21 11:38:23,853 - requests.packages.urllib3.connectionpool - DEBUG - http://ondemand.websol.barchart.com:80 \"GET /getHistory.json?maxRecords=172800&interval=1&startDate=20161117&symbol=ESH17&type=minutes&apikey=e95f76cac84a3c62139dc3502a3e73e7 HTTP/1.1\" 200 None\n",
      " 25%|██▌       | 1/4 [00:04<00:12,  4.14s/it]2018-12-21 11:38:24,520 - requests.packages.urllib3.connectionpool - DEBUG - Starting new HTTP connection (1): ondemand.websol.barchart.com\n",
      "2018-12-21 11:38:25,082 - requests.packages.urllib3.connectionpool - DEBUG - http://ondemand.websol.barchart.com:80 \"GET /getHistory.json?maxRecords=60&interval=1&startDate=20170501&symbol=ESM17&type=daily&apikey=e95f76cac84a3c62139dc3502a3e73e7 HTTP/1.1\" 200 None\n",
      "2018-12-21 11:38:25,096 - requests.packages.urllib3.connectionpool - DEBUG - Starting new HTTP connection (1): ondemand.websol.barchart.com\n",
      "2018-12-21 11:38:28,335 - requests.packages.urllib3.connectionpool - DEBUG - http://ondemand.websol.barchart.com:80 \"GET /getHistory.json?maxRecords=172800&interval=1&startDate=20170216&symbol=ESM17&type=minutes&apikey=e95f76cac84a3c62139dc3502a3e73e7 HTTP/1.1\" 200 None\n",
      " 50%|█████     | 2/4 [00:08<00:08,  4.31s/it]2018-12-21 11:38:28,992 - requests.packages.urllib3.connectionpool - DEBUG - Starting new HTTP connection (1): ondemand.websol.barchart.com\n",
      "2018-12-21 11:38:29,283 - requests.packages.urllib3.connectionpool - DEBUG - http://ondemand.websol.barchart.com:80 \"GET /getHistory.json?maxRecords=60&interval=1&startDate=20170801&symbol=ESU17&type=daily&apikey=e95f76cac84a3c62139dc3502a3e73e7 HTTP/1.1\" 200 None\n",
      "2018-12-21 11:38:29,292 - requests.packages.urllib3.connectionpool - DEBUG - Starting new HTTP connection (1): ondemand.websol.barchart.com\n",
      "2018-12-21 11:38:32,253 - requests.packages.urllib3.connectionpool - DEBUG - http://ondemand.websol.barchart.com:80 \"GET /getHistory.json?maxRecords=172800&interval=1&startDate=20170518&symbol=ESU17&type=minutes&apikey=e95f76cac84a3c62139dc3502a3e73e7 HTTP/1.1\" 200 None\n",
      " 75%|███████▌  | 3/4 [00:12<00:04,  4.19s/it]2018-12-21 11:38:32,953 - requests.packages.urllib3.connectionpool - DEBUG - Starting new HTTP connection (1): ondemand.websol.barchart.com\n",
      "2018-12-21 11:38:33,259 - requests.packages.urllib3.connectionpool - DEBUG - http://ondemand.websol.barchart.com:80 \"GET /getHistory.json?maxRecords=60&interval=1&startDate=20171101&symbol=ESZ17&type=daily&apikey=e95f76cac84a3c62139dc3502a3e73e7 HTTP/1.1\" 200 None\n",
      "2018-12-21 11:38:33,272 - requests.packages.urllib3.connectionpool - DEBUG - Starting new HTTP connection (1): ondemand.websol.barchart.com\n",
      "2018-12-21 11:38:36,448 - requests.packages.urllib3.connectionpool - DEBUG - http://ondemand.websol.barchart.com:80 \"GET /getHistory.json?maxRecords=172800&interval=1&startDate=20170817&symbol=ESZ17&type=minutes&apikey=e95f76cac84a3c62139dc3502a3e73e7 HTTP/1.1\" 200 None\n",
      "100%|██████████| 4/4 [00:16<00:00,  4.22s/it]\n",
      "2018-12-21 11:38:37,253 - root - INFO - BEGIN Writing Data for year: 2017\n",
      "2018-12-21 11:38:39,857 - root - INFO - END Writing Data for year: 2017\n",
      "2018-12-21 11:38:39,858 - root - INFO - begin:201801, end:201812\n",
      "2018-12-21 11:38:39,903 - root - INFO - BEGIN Fetching Data for year: 2018\n",
      "  0%|          | 0/4 [00:00<?, ?it/s]2018-12-21 11:38:39,910 - requests.packages.urllib3.connectionpool - DEBUG - Starting new HTTP connection (1): ondemand.websol.barchart.com\n",
      "2018-12-21 11:38:40,067 - requests.packages.urllib3.connectionpool - DEBUG - http://ondemand.websol.barchart.com:80 \"GET /getHistory.json?maxRecords=60&interval=1&startDate=20180201&symbol=ESH18&type=daily&apikey=e95f76cac84a3c62139dc3502a3e73e7 HTTP/1.1\" 200 None\n",
      "2018-12-21 11:38:40,079 - requests.packages.urllib3.connectionpool - DEBUG - Starting new HTTP connection (1): ondemand.websol.barchart.com\n"
     ]
    },
    {
     "name": "stdout",
     "output_type": "stream",
     "text": [
      "Barchart OnDemand Client: http://ondemand.websol.barchart.com/\n"
     ]
    },
    {
     "name": "stderr",
     "output_type": "stream",
     "text": [
      "2018-12-21 11:38:43,006 - requests.packages.urllib3.connectionpool - DEBUG - http://ondemand.websol.barchart.com:80 \"GET /getHistory.json?maxRecords=172800&interval=1&startDate=20171116&symbol=ESH18&type=minutes&apikey=e95f76cac84a3c62139dc3502a3e73e7 HTTP/1.1\" 200 None\n",
      " 25%|██▌       | 1/4 [00:03<00:11,  3.92s/it]2018-12-21 11:38:43,882 - requests.packages.urllib3.connectionpool - DEBUG - Starting new HTTP connection (1): ondemand.websol.barchart.com\n",
      "2018-12-21 11:38:44,166 - requests.packages.urllib3.connectionpool - DEBUG - http://ondemand.websol.barchart.com:80 \"GET /getHistory.json?maxRecords=60&interval=1&startDate=20180501&symbol=ESM18&type=daily&apikey=e95f76cac84a3c62139dc3502a3e73e7 HTTP/1.1\" 200 None\n",
      "2018-12-21 11:38:44,178 - requests.packages.urllib3.connectionpool - DEBUG - Starting new HTTP connection (1): ondemand.websol.barchart.com\n",
      "2018-12-21 11:38:47,384 - requests.packages.urllib3.connectionpool - DEBUG - http://ondemand.websol.barchart.com:80 \"GET /getHistory.json?maxRecords=172800&interval=1&startDate=20180215&symbol=ESM18&type=minutes&apikey=e95f76cac84a3c62139dc3502a3e73e7 HTTP/1.1\" 200 None\n",
      " 50%|█████     | 2/4 [00:08<00:08,  4.12s/it]2018-12-21 11:38:48,153 - requests.packages.urllib3.connectionpool - DEBUG - Starting new HTTP connection (1): ondemand.websol.barchart.com\n",
      "2018-12-21 11:38:48,321 - requests.packages.urllib3.connectionpool - DEBUG - http://ondemand.websol.barchart.com:80 \"GET /getHistory.json?maxRecords=60&interval=1&startDate=20180801&symbol=ESU18&type=daily&apikey=e95f76cac84a3c62139dc3502a3e73e7 HTTP/1.1\" 200 None\n",
      "2018-12-21 11:38:48,332 - requests.packages.urllib3.connectionpool - DEBUG - Starting new HTTP connection (1): ondemand.websol.barchart.com\n",
      "2018-12-21 11:38:51,742 - requests.packages.urllib3.connectionpool - DEBUG - http://ondemand.websol.barchart.com:80 \"GET /getHistory.json?maxRecords=172800&interval=1&startDate=20180524&symbol=ESU18&type=minutes&apikey=e95f76cac84a3c62139dc3502a3e73e7 HTTP/1.1\" 200 None\n",
      " 75%|███████▌  | 3/4 [00:12<00:04,  4.20s/it]2018-12-21 11:38:52,505 - requests.packages.urllib3.connectionpool - DEBUG - Starting new HTTP connection (1): ondemand.websol.barchart.com\n",
      "2018-12-21 11:38:52,660 - requests.packages.urllib3.connectionpool - DEBUG - http://ondemand.websol.barchart.com:80 \"GET /getHistory.json?maxRecords=60&interval=1&startDate=20181101&symbol=ESZ18&type=daily&apikey=e95f76cac84a3c62139dc3502a3e73e7 HTTP/1.1\" 200 None\n",
      "2018-12-21 11:38:52,672 - requests.packages.urllib3.connectionpool - DEBUG - Starting new HTTP connection (1): ondemand.websol.barchart.com\n",
      "2018-12-21 11:38:55,864 - requests.packages.urllib3.connectionpool - DEBUG - http://ondemand.websol.barchart.com:80 \"GET /getHistory.json?maxRecords=172800&interval=1&startDate=20180822&symbol=ESZ18&type=minutes&apikey=e95f76cac84a3c62139dc3502a3e73e7 HTTP/1.1\" 200 None\n",
      "100%|██████████| 4/4 [00:16<00:00,  4.18s/it]\n",
      "2018-12-21 11:38:56,627 - root - INFO - BEGIN Writing Data for year: 2018\n",
      "2018-12-21 11:38:59,281 - root - INFO - END Writing Data for year: 2018\n",
      "2018-12-21 11:38:59,281 - root - INFO - end\n"
     ]
    }
   ],
   "source": [
    "bar_type = args.bar_type\n",
    "interval = args.interval\n",
    "output_folder = temp_folder\n",
    "logger = futs.init_root_logger('logger.log')\n",
    "endpoint_type = args.endpoint_type\n",
    "\n",
    "logger.info(f'start')\n",
    "years = np.linspace(2008,2018,2018-2008+1,dtype=int)\n",
    "days = 40\n",
    "month_codes = None\n",
    "if commodity in quarter_commodities:\n",
    "    month_codes = ['H','M','U','Z']\n",
    "    days = 120\n",
    "logger.info(f'days,month_codes {(days,month_codes)}')\n",
    "for y in years:\n",
    "    beg_yyyymm = int(f'{y}01')\n",
    "    end_yyyymm = int(f'{y}12')\n",
    "    logger.info(f'begin:{beg_yyyymm}, end:{end_yyyymm}')\n",
    "    fc = futs.FuturesSeries(api_key, commodity, beg_yyyymm, end_yyyymm, bar_type, \n",
    "                            interval, endpoint_type,logger)\n",
    "    logger.info(f'BEGIN Fetching Data for year: {y}')\n",
    "    fc.get_contracts(trading_days_to_get=days,month_code_list=month_codes)\n",
    "    logger.info(f'BEGIN Writing Data for year: {y}')\n",
    "    fc.write_csv(output_folder)\n",
    "    logger.info(f'END Writing Data for year: {y}')\n",
    "logger.info(f'end')\n",
    "\n"
   ]
  },
  {
   "cell_type": "code",
   "execution_count": null,
   "metadata": {},
   "outputs": [],
   "source": []
  }
 ],
 "metadata": {
  "kernelspec": {
   "display_name": "Python 3",
   "language": "python",
   "name": "python3"
  },
  "language_info": {
   "codemirror_mode": {
    "name": "ipython",
    "version": 3
   },
   "file_extension": ".py",
   "mimetype": "text/x-python",
   "name": "python",
   "nbconvert_exporter": "python",
   "pygments_lexer": "ipython3",
   "version": "3.6.5"
  }
 },
 "nbformat": 4,
 "nbformat_minor": 2
}
