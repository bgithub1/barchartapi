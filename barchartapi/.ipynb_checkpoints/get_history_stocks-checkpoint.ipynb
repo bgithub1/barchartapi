{
 "cells": [
  {
   "cell_type": "markdown",
   "metadata": {},
   "source": [
    "## Imports"
   ]
  },
  {
   "cell_type": "code",
   "execution_count": 1,
   "metadata": {},
   "outputs": [],
   "source": [
    "import pandas as pd\n",
    "import numpy as np\n",
    "import os\n",
    "import sys\n",
    "import datetime\n",
    "from os.path import expanduser"
   ]
  },
  {
   "cell_type": "markdown",
   "metadata": {},
   "source": [
    "### Add to sys.path"
   ]
  },
  {
   "cell_type": "markdown",
   "metadata": {},
   "source": [
    "Within the barchart_api module, references like:\n",
    "\n",
    "```from barchartapi import barchart_api```\n",
    "\n",
    "will not work"
   ]
  },
  {
   "cell_type": "code",
   "execution_count": 2,
   "metadata": {},
   "outputs": [],
   "source": [
    "WORKSPACE_DIR = !echo $(cd ../../;pwd)\n",
    "PROJECT_DIR = !echo $(cd ../;pwd)\n",
    "WORKING_DIR = !echo $(cd ./;pwd)\n",
    "if WORKING_DIR not in sys.path:\n",
    "    sys.path.append(WORKING_DIR)\n",
    "if PROJECT_DIR not in sys.path:\n",
    "    sys.path.append(PROJECT_DIR)\n",
    "if WORKSPACE_DIR not in sys.path:\n",
    "    sys.path.append(WORKSPACE_DIR)\n",
    "import barchart_api as bcapi"
   ]
  },
  {
   "cell_type": "markdown",
   "metadata": {},
   "source": [
    "### Create an instance of BcHist"
   ]
  },
  {
   "cell_type": "code",
   "execution_count": 4,
   "metadata": {},
   "outputs": [
    {
     "name": "stdout",
     "output_type": "stream",
     "text": [
      "Barchart OnDemand Client: http://ondemand.websol.barchart.com/\n"
     ]
    }
   ],
   "source": [
    "api_key = open('./temp_folder/paid_api_key.txt','r').read()\n",
    "bar_type='minutes'\n",
    "interval=1\n",
    "endpoint_type='paid_url'\n",
    "bch = bcapi.BcHist(api_key, bar_type=bar_type, interval=interval,endpoint_type = endpoint_type)\n"
   ]
  },
  {
   "cell_type": "markdown",
   "metadata": {},
   "source": [
    "### Create paths to where you will store the history data"
   ]
  },
  {
   "cell_type": "code",
   "execution_count": 5,
   "metadata": {},
   "outputs": [
    {
     "name": "stdout",
     "output_type": "stream",
     "text": [
      "XLB.csv XLE.csv XLI.csv XLP.csv XLV.csv uso.csv\r\n",
      "XLC.csv XLF.csv XLK.csv XLU.csv XLY.csv\r\n"
     ]
    }
   ],
   "source": [
    "DROPBOX_MARKET_DATA_DIR = expanduser('~/Dropbox/market_data')\n",
    "STOCKS_DIR = f'{DROPBOX_MARKET_DATA_DIR}/stocks'\n",
    "!ls {STOCKS_DIR}"
   ]
  },
  {
   "cell_type": "markdown",
   "metadata": {},
   "source": [
    "## Main Loop to fetch history data from Barchart"
   ]
  },
  {
   "cell_type": "code",
   "execution_count": 6,
   "metadata": {},
   "outputs": [
    {
     "name": "stdout",
     "output_type": "stream",
     "text": [
      "BYPASSING: USO\n",
      "get_history: UNG BEGIN 2018-12-21 12:03:22.635792\n",
      "get_history: UNG WRITING DATA 2018-12-21 12:03:22.635851\n",
      "get_history: UNG END 2018-12-21 12:03:22.635884\n",
      "get_history: DBC BEGIN 2018-12-21 12:03:22.635949\n",
      "get_history: DBC WRITING DATA 2018-12-21 12:03:22.635986\n",
      "get_history: DBC END 2018-12-21 12:03:22.636019\n",
      "get_history: DBA BEGIN 2018-12-21 12:03:22.636236\n",
      "get_history: DBA WRITING DATA 2018-12-21 12:03:22.636273\n",
      "get_history: DBA END 2018-12-21 12:03:22.636296\n",
      "get_history: GLD BEGIN 2018-12-21 12:03:22.636335\n",
      "get_history: GLD WRITING DATA 2018-12-21 12:03:22.636358\n",
      "get_history: GLD END 2018-12-21 12:03:22.636381\n",
      "get_history: USCI BEGIN 2018-12-21 12:03:22.636415\n",
      "get_history: USCI WRITING DATA 2018-12-21 12:03:22.636437\n",
      "get_history: USCI END 2018-12-21 12:03:22.636456\n"
     ]
    }
   ],
   "source": [
    "\n",
    "spydr_short_names = ['XLE','XLU','XLK','XLB','XLP','XLY','XLI','XLC','XLV','XLF']\n",
    "commodity_etf_short_names = ['USO','UNG','DBC','DBA','GLD','USCI']\n",
    "currency_etf_short_names = ['FXY','FXE','FXB','FXF','FXC','FXA']\n",
    "short_names = commodity_etf_short_names\n",
    "beg_yyyymmdd = 20080101\n",
    "end_yyyymmdd = 20181231\n",
    "\n",
    "for short_name in short_names:\n",
    "    sn_path = f'{STOCKS_DIR}/{short_name}.csv'\n",
    "    if os.path.isfile(sn_path):\n",
    "        print(f'BYPASSING: {short_name}')\n",
    "        continue\n",
    "    print(f'get_history: {short_name} BEGIN {datetime.datetime.now()}')\n",
    "    tup = bch.get_history(short_name, beg_yyyymmdd, end_yyyymmdd)\n",
    "    print(f'get_history: {short_name} WRITING DATA {datetime.datetime.now()}')\n",
    "    tup[1].to_csv(sn_path,index=False)\n",
    "    print(f'get_history: {short_name} END {datetime.datetime.now()}')\n",
    "    "
   ]
  },
  {
   "cell_type": "code",
   "execution_count": null,
   "metadata": {},
   "outputs": [],
   "source": []
  }
 ],
 "metadata": {
  "kernelspec": {
   "display_name": "Python 3",
   "language": "python",
   "name": "python3"
  },
  "language_info": {
   "codemirror_mode": {
    "name": "ipython",
    "version": 3
   },
   "file_extension": ".py",
   "mimetype": "text/x-python",
   "name": "python",
   "nbconvert_exporter": "python",
   "pygments_lexer": "ipython3",
   "version": "3.6.5"
  }
 },
 "nbformat": 4,
 "nbformat_minor": 2
}
