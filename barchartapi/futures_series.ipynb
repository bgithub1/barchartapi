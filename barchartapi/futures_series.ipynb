{
 "cells": [
  {
   "cell_type": "markdown",
   "metadata": {},
   "source": [
    "# future_series.ipynb: \n",
    "Use the [barchart market data API](https://www.barchart.com/ondemand/free-market-data-api) to retrieve csv history files for bar sizes ranging from 1 minute to monthly.\n",
    "\n",
    "### Use:\n",
    "1. Enter values for all of the variables in section **1.1** below;\n",
    "2. Run all cells below that;\n",
    "3. All retrieved data will be written as csv files to the folder that you specify in the variable ```temp_folder``` in section **1.1** ."
   ]
  },
  {
   "cell_type": "markdown",
   "metadata": {},
   "source": [
    "___\n",
    "### Section 1.0 - Import packages and append various folder paths to sys.path so that the module futures_series.py works properly"
   ]
  },
  {
   "cell_type": "code",
   "execution_count": null,
   "metadata": {},
   "outputs": [],
   "source": [
    "import os\n",
    "import sys\n",
    "import argparse as ap\n",
    "import numpy as np\n",
    "import pandas as pd\n",
    "import datetime\n",
    "\n",
    "WORKSPACE_DIR = '../..' #!echo $(cd ../../;pwd)\n",
    "PROJECT_DIR = f'{WORKSPACE_DIR}/barchartapi' #!echo $(cd ../;pwd)\n",
    "WORKING_DIR = f'{PROJECT_DIR}/barchartapi' #!echo $(cd ./;pwd)\n",
    "if WORKING_DIR not in sys.path:\n",
    "    sys.path.append(WORKING_DIR)\n",
    "if PROJECT_DIR not in sys.path:\n",
    "    sys.path.append(PROJECT_DIR)\n",
    "if WORKSPACE_DIR not in sys.path:\n",
    "    sys.path.append(WORKSPACE_DIR)\n",
    "print(sys.path)\n",
    "import futures_series as futs\n"
   ]
  },
  {
   "cell_type": "code",
   "execution_count": null,
   "metadata": {},
   "outputs": [],
   "source": [
    "from importlib import reload\n",
    "reload(futs)"
   ]
  },
  {
   "cell_type": "markdown",
   "metadata": {},
   "source": [
    "___\n",
    "### Section 1.1 - Change the contract information below to suit your needs\n",
    "* Set the variable ```temp_folder``` to the folder that will hold various temporary data, and will also hold 2 text files:\n",
    " * free_api_key.txt\n",
    " * paid_api_key.txt\n",
    " * Both free and paid api_key.txt files should hold a 32 digit API key (like 0123456789abcdefghij0123456789ab) that you obtain from barchart\n",
    "* Set the variable ```commodity``` to determine the commodity futures contracts that you want to obtain (e.g, CL, ES, NG: see the [barchart commodity codes](https://www.barchart.com/futures/most-active/all?viewName=main) )\n",
    "* Set the variable ```start_year``` to determine the first year from which you want to retrieve data\n",
    "* Set the variable ```end_year``` to determine the last year from which you want to retrieve data\n",
    " * _For each year, you will retrieve history data for all of the contract months that traded in that year_\n",
    "* Set the variable ```days``` to determine the number of days per contract in all the contract months that you will retrieve \n",
    "* Set the variable ```bar_type``` to determine the time scale of the csv data that you want (minutes, daily, monthly)\n",
    "* Set the variable ```interval``` to determine the number of minutes that you want for each \"minutes\" bar.  \n",
    " * _Set this to 1 for daily and monthly bar_type's_"
   ]
  },
  {
   "cell_type": "code",
   "execution_count": null,
   "metadata": {},
   "outputs": [],
   "source": [
    "# api_key_type_prefix = 'paid'\n",
    "api_key_type_prefix = 'free'\n",
    "temp_folder = './temp_folder'\n",
    "api_key = open(f'{temp_folder}/{api_key_type_prefix}_api_key.txt','r').read()\n",
    "commodity = 'CL'\n",
    "start_year = 2019\n",
    "end_year = 2019\n",
    "days = 40\n",
    "# bar_type = 'minutes'\n",
    "bar_type = 'daily'\n",
    "interval = 1"
   ]
  },
  {
   "cell_type": "markdown",
   "metadata": {},
   "source": [
    "#### (Keep these the same)"
   ]
  },
  {
   "cell_type": "code",
   "execution_count": null,
   "metadata": {},
   "outputs": [],
   "source": [
    "args = ap.Namespace(\n",
    "    output_folder = temp_folder,\n",
    "    endpoint_type = f'{api_key_type_prefix}_url'\n",
    ")\n",
    "quarter_commodities = ['ES','GE','GC']"
   ]
  },
  {
   "cell_type": "markdown",
   "metadata": {},
   "source": [
    "___\n",
    "### Section 2.0\n",
    "\n",
    "The code below iterates through each year, calling \n",
    "```\n",
    "    FuturesSeries.get_contracts(trading_days_to_get=days,month_code_list=month_codes)\n",
    "    FuturesSeries.write_csv(output_folder)\n",
    "```\n",
    "in order to retrieve and save all of the futures contracts for each year."
   ]
  },
  {
   "cell_type": "code",
   "execution_count": null,
   "metadata": {},
   "outputs": [],
   "source": [
    "# bar_type = args.bar_type\n",
    "# interval = args.interval\n",
    "output_folder = temp_folder\n",
    "logger = futs.init_root_logger('logger.log')\n",
    "endpoint_type = args.endpoint_type\n",
    "\n",
    "logger.info(f'start')\n",
    "# start_year = 2008\n",
    "# end_year = 2018\n",
    "years = np.linspace(start_year,end_year,end_year-start_year+1,dtype=int)\n",
    "# days = 40\n",
    "month_codes = None\n",
    "if commodity in quarter_commodities:\n",
    "    month_codes = ['H','M','U','Z']\n",
    "    days = 120\n",
    "logger.info(f'days,month_codes {(days,month_codes)}')\n",
    "for y in years:\n",
    "    beg_yyyymm = int(f'{y}01')\n",
    "    end_yyyymm = int(f'{y}12')\n",
    "    logger.info(f'begin:{beg_yyyymm}, end:{end_yyyymm}')\n",
    "    fc = futs.FuturesSeries(api_key, commodity, beg_yyyymm, end_yyyymm, bar_type, \n",
    "                            interval, endpoint_type,logger)\n",
    "    logger.info(f'BEGIN Fetching Data for year: {y}')\n",
    "    try:\n",
    "        fc.get_contracts(trading_days_to_get=days,month_code_list=month_codes)\n",
    "        logger.info(f'BEGIN Writing Data for year: {y}')\n",
    "        fc.write_csv(output_folder)\n",
    "        logger.info(f'END Writing Data for year: {y}')\n",
    "    except Exception as e:\n",
    "        logger.info(f' error getting contract {commodity} for begin:{str(beg_yyyymm)} and end:{str(end_yyyymm)} {str(e)}')\n",
    "logger.info(f'end')\n",
    "\n"
   ]
  },
  {
   "cell_type": "markdown",
   "metadata": {},
   "source": [
    "## End"
   ]
  }
 ],
 "metadata": {
  "kernelspec": {
   "display_name": "Python 3",
   "language": "python",
   "name": "python3"
  },
  "language_info": {
   "codemirror_mode": {
    "name": "ipython",
    "version": 3
   },
   "file_extension": ".py",
   "mimetype": "text/x-python",
   "name": "python",
   "nbconvert_exporter": "python",
   "pygments_lexer": "ipython3",
   "version": "3.6.5"
  }
 },
 "nbformat": 4,
 "nbformat_minor": 2
}
