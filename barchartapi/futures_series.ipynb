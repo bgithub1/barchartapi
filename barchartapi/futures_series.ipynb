{
 "cells": [
  {
   "cell_type": "code",
   "execution_count": 1,
   "metadata": {},
   "outputs": [],
   "source": [
    "import os\n",
    "import sys\n",
    "\n",
    "sys.path.append('./')\n",
    "sys.path.append('../')\n",
    "sys.path.append('../../')"
   ]
  },
  {
   "cell_type": "code",
   "execution_count": 2,
   "metadata": {},
   "outputs": [],
   "source": [
    "import futures_series as futs\n",
    "import argparse as ap\n",
    "import numpy as np\n",
    "import pandas as pd"
   ]
  },
  {
   "cell_type": "code",
   "execution_count": 3,
   "metadata": {},
   "outputs": [],
   "source": [
    "# uncomment the lines below if you have to reload futures_series\n",
    "# from importlib import reload\n",
    "# reload(futs)"
   ]
  },
  {
   "cell_type": "markdown",
   "metadata": {},
   "source": [
    "Change the contract information below to suit your needs:"
   ]
  },
  {
   "cell_type": "code",
   "execution_count": 4,
   "metadata": {},
   "outputs": [],
   "source": [
    "temp_folder = './temp_folder'\n",
    "api_key = open(f'{temp_folder}/paid_api_key.txt','r').read()\n",
    "commodity = 'HO'"
   ]
  },
  {
   "cell_type": "markdown",
   "metadata": {},
   "source": [
    "Keep these the same"
   ]
  },
  {
   "cell_type": "code",
   "execution_count": 5,
   "metadata": {},
   "outputs": [],
   "source": [
    "args = ap.Namespace(\n",
    "    bar_type = 'minutes',\n",
    "    interval = 1,\n",
    "    output_folder = temp_folder,\n",
    "    endpoint_type = 'paid_url'\n",
    ")\n"
   ]
  },
  {
   "cell_type": "code",
   "execution_count": 6,
   "metadata": {},
   "outputs": [
    {
     "name": "stderr",
     "output_type": "stream",
     "text": [
      "2018-12-14 13:16:08,736 - root - INFO - start\n",
      "2018-12-14 13:16:08,738 - root - INFO - begin:200801, end:200812\n",
      "  0%|          | 0/12 [00:00<?, ?it/s]2018-12-14 13:16:08,787 - requests.packages.urllib3.connectionpool - DEBUG - Starting new HTTP connection (1): ondemand.websol.barchart.com\n"
     ]
    },
    {
     "name": "stdout",
     "output_type": "stream",
     "text": [
      "Barchart OnDemand Client: http://ondemand.websol.barchart.com/\n"
     ]
    },
    {
     "name": "stderr",
     "output_type": "stream",
     "text": [
      "2018-12-14 13:16:09,011 - requests.packages.urllib3.connectionpool - DEBUG - http://ondemand.websol.barchart.com:80 \"GET /getHistory.json?maxRecords=60&interval=1&startDate=20071201&symbol=HOF08&type=daily&apikey=e95f76cac84a3c62139dc3502a3e73e7 HTTP/1.1\" 200 None\n",
      "2018-12-14 13:16:09,023 - requests.packages.urllib3.connectionpool - DEBUG - Starting new HTTP connection (1): ondemand.websol.barchart.com\n",
      "2018-12-14 13:16:09,177 - requests.packages.urllib3.connectionpool - DEBUG - http://ondemand.websol.barchart.com:80 \"GET /getHistory.json?maxRecords=57600&interval=1&startDate=20071121&symbol=HOF08&type=minutes&apikey=e95f76cac84a3c62139dc3502a3e73e7 HTTP/1.1\" 200 None\n",
      "2018-12-14 13:16:09,182 - root - WARNING - HOF08: {'code': 204, 'message': 'No Content'}\n",
      "  8%|▊         | 1/12 [00:00<00:04,  2.26it/s]2018-12-14 13:16:09,193 - requests.packages.urllib3.connectionpool - DEBUG - Starting new HTTP connection (1): ondemand.websol.barchart.com\n",
      "2018-12-14 13:16:09,504 - requests.packages.urllib3.connectionpool - DEBUG - http://ondemand.websol.barchart.com:80 \"GET /getHistory.json?maxRecords=60&interval=1&startDate=20080101&symbol=HOG08&type=daily&apikey=e95f76cac84a3c62139dc3502a3e73e7 HTTP/1.1\" 200 None\n",
      "2018-12-14 13:16:09,514 - requests.packages.urllib3.connectionpool - DEBUG - Starting new HTTP connection (1): ondemand.websol.barchart.com\n",
      "2018-12-14 13:16:09,810 - requests.packages.urllib3.connectionpool - DEBUG - http://ondemand.websol.barchart.com:80 \"GET /getHistory.json?maxRecords=57600&interval=1&startDate=20071222&symbol=HOG08&type=minutes&apikey=e95f76cac84a3c62139dc3502a3e73e7 HTTP/1.1\" 200 None\n",
      "2018-12-14 13:16:09,816 - root - WARNING - HOG08: {'code': 204, 'message': 'No Content'}\n",
      " 17%|█▋        | 2/12 [00:01<00:05,  1.86it/s]2018-12-14 13:16:09,823 - requests.packages.urllib3.connectionpool - DEBUG - Starting new HTTP connection (1): ondemand.websol.barchart.com\n",
      "2018-12-14 13:16:10,117 - requests.packages.urllib3.connectionpool - DEBUG - http://ondemand.websol.barchart.com:80 \"GET /getHistory.json?maxRecords=60&interval=1&startDate=20080201&symbol=HOH08&type=daily&apikey=e95f76cac84a3c62139dc3502a3e73e7 HTTP/1.1\" 200 None\n",
      "2018-12-14 13:16:10,131 - requests.packages.urllib3.connectionpool - DEBUG - Starting new HTTP connection (1): ondemand.websol.barchart.com\n",
      "2018-12-14 13:16:10,423 - requests.packages.urllib3.connectionpool - DEBUG - http://ondemand.websol.barchart.com:80 \"GET /getHistory.json?maxRecords=57600&interval=1&startDate=20080120&symbol=HOH08&type=minutes&apikey=e95f76cac84a3c62139dc3502a3e73e7 HTTP/1.1\" 200 None\n",
      "2018-12-14 13:16:10,426 - root - WARNING - HOH08: {'code': 204, 'message': 'No Content'}\n",
      " 25%|██▌       | 3/12 [00:01<00:05,  1.78it/s]2018-12-14 13:16:10,435 - requests.packages.urllib3.connectionpool - DEBUG - Starting new HTTP connection (1): ondemand.websol.barchart.com\n",
      "2018-12-14 13:16:10,618 - requests.packages.urllib3.connectionpool - DEBUG - http://ondemand.websol.barchart.com:80 \"GET /getHistory.json?maxRecords=60&interval=1&startDate=20080301&symbol=HOJ08&type=daily&apikey=e95f76cac84a3c62139dc3502a3e73e7 HTTP/1.1\" 200 None\n",
      "2018-12-14 13:16:10,631 - requests.packages.urllib3.connectionpool - DEBUG - Starting new HTTP connection (1): ondemand.websol.barchart.com\n",
      "2018-12-14 13:16:11,037 - requests.packages.urllib3.connectionpool - DEBUG - http://ondemand.websol.barchart.com:80 \"GET /getHistory.json?maxRecords=57600&interval=1&startDate=20080220&symbol=HOJ08&type=minutes&apikey=e95f76cac84a3c62139dc3502a3e73e7 HTTP/1.1\" 200 None\n",
      "2018-12-14 13:16:11,040 - root - WARNING - HOJ08: {'code': 204, 'message': 'No Content'}\n",
      " 33%|███▎      | 4/12 [00:02<00:04,  1.74it/s]2018-12-14 13:16:11,051 - requests.packages.urllib3.connectionpool - DEBUG - Starting new HTTP connection (1): ondemand.websol.barchart.com\n",
      "2018-12-14 13:16:11,345 - requests.packages.urllib3.connectionpool - DEBUG - http://ondemand.websol.barchart.com:80 \"GET /getHistory.json?maxRecords=60&interval=1&startDate=20080401&symbol=HOK08&type=daily&apikey=e95f76cac84a3c62139dc3502a3e73e7 HTTP/1.1\" 200 None\n",
      "2018-12-14 13:16:11,355 - requests.packages.urllib3.connectionpool - DEBUG - Starting new HTTP connection (1): ondemand.websol.barchart.com\n",
      "2018-12-14 13:16:11,653 - requests.packages.urllib3.connectionpool - DEBUG - http://ondemand.websol.barchart.com:80 \"GET /getHistory.json?maxRecords=57600&interval=1&startDate=20080321&symbol=HOK08&type=minutes&apikey=e95f76cac84a3c62139dc3502a3e73e7 HTTP/1.1\" 200 None\n",
      "2018-12-14 13:16:11,658 - root - WARNING - HOK08: {'code': 204, 'message': 'No Content'}\n",
      " 42%|████▏     | 5/12 [00:02<00:04,  1.71it/s]2018-12-14 13:16:11,668 - requests.packages.urllib3.connectionpool - DEBUG - Starting new HTTP connection (1): ondemand.websol.barchart.com\n",
      "2018-12-14 13:16:11,826 - requests.packages.urllib3.connectionpool - DEBUG - http://ondemand.websol.barchart.com:80 \"GET /getHistory.json?maxRecords=60&interval=1&startDate=20080501&symbol=HOM08&type=daily&apikey=e95f76cac84a3c62139dc3502a3e73e7 HTTP/1.1\" 200 None\n",
      "2018-12-14 13:16:11,840 - requests.packages.urllib3.connectionpool - DEBUG - Starting new HTTP connection (1): ondemand.websol.barchart.com\n",
      "2018-12-14 13:16:12,535 - requests.packages.urllib3.connectionpool - DEBUG - http://ondemand.websol.barchart.com:80 \"GET /getHistory.json?maxRecords=57600&interval=1&startDate=20080420&symbol=HOM08&type=minutes&apikey=e95f76cac84a3c62139dc3502a3e73e7 HTTP/1.1\" 200 None\n",
      " 50%|█████     | 6/12 [00:03<00:03,  1.54it/s]2018-12-14 13:16:12,651 - requests.packages.urllib3.connectionpool - DEBUG - Starting new HTTP connection (1): ondemand.websol.barchart.com\n",
      "2018-12-14 13:16:12,881 - requests.packages.urllib3.connectionpool - DEBUG - http://ondemand.websol.barchart.com:80 \"GET /getHistory.json?maxRecords=60&interval=1&startDate=20080601&symbol=HON08&type=daily&apikey=e95f76cac84a3c62139dc3502a3e73e7 HTTP/1.1\" 200 None\n",
      "2018-12-14 13:16:12,894 - requests.packages.urllib3.connectionpool - DEBUG - Starting new HTTP connection (1): ondemand.websol.barchart.com\n",
      "2018-12-14 13:16:13,565 - requests.packages.urllib3.connectionpool - DEBUG - http://ondemand.websol.barchart.com:80 \"GET /getHistory.json?maxRecords=57600&interval=1&startDate=20080521&symbol=HON08&type=minutes&apikey=e95f76cac84a3c62139dc3502a3e73e7 HTTP/1.1\" 200 None\n",
      " 58%|█████▊    | 7/12 [00:04<00:03,  1.41it/s]2018-12-14 13:16:13,715 - requests.packages.urllib3.connectionpool - DEBUG - Starting new HTTP connection (1): ondemand.websol.barchart.com\n",
      "2018-12-14 13:16:14,111 - requests.packages.urllib3.connectionpool - DEBUG - http://ondemand.websol.barchart.com:80 \"GET /getHistory.json?maxRecords=60&interval=1&startDate=20080701&symbol=HOQ08&type=daily&apikey=e95f76cac84a3c62139dc3502a3e73e7 HTTP/1.1\" 200 None\n",
      "2018-12-14 13:16:14,123 - requests.packages.urllib3.connectionpool - DEBUG - Starting new HTTP connection (1): ondemand.websol.barchart.com\n",
      "2018-12-14 13:16:14,832 - requests.packages.urllib3.connectionpool - DEBUG - http://ondemand.websol.barchart.com:80 \"GET /getHistory.json?maxRecords=57600&interval=1&startDate=20080621&symbol=HOQ08&type=minutes&apikey=e95f76cac84a3c62139dc3502a3e73e7 HTTP/1.1\" 200 None\n",
      " 67%|██████▋   | 8/12 [00:06<00:03,  1.29it/s]2018-12-14 13:16:14,967 - requests.packages.urllib3.connectionpool - DEBUG - Starting new HTTP connection (1): ondemand.websol.barchart.com\n",
      "2018-12-14 13:16:15,339 - requests.packages.urllib3.connectionpool - DEBUG - http://ondemand.websol.barchart.com:80 \"GET /getHistory.json?maxRecords=60&interval=1&startDate=20080801&symbol=HOU08&type=daily&apikey=e95f76cac84a3c62139dc3502a3e73e7 HTTP/1.1\" 200 None\n",
      "2018-12-14 13:16:15,354 - requests.packages.urllib3.connectionpool - DEBUG - Starting new HTTP connection (1): ondemand.websol.barchart.com\n",
      "2018-12-14 13:16:16,261 - requests.packages.urllib3.connectionpool - DEBUG - http://ondemand.websol.barchart.com:80 \"GET /getHistory.json?maxRecords=57600&interval=1&startDate=20080720&symbol=HOU08&type=minutes&apikey=e95f76cac84a3c62139dc3502a3e73e7 HTTP/1.1\" 200 None\n",
      " 75%|███████▌  | 9/12 [00:07<00:02,  1.18it/s]2018-12-14 13:16:16,404 - requests.packages.urllib3.connectionpool - DEBUG - Starting new HTTP connection (1): ondemand.websol.barchart.com\n"
     ]
    },
    {
     "name": "stderr",
     "output_type": "stream",
     "text": [
      "2018-12-14 13:16:16,567 - requests.packages.urllib3.connectionpool - DEBUG - http://ondemand.websol.barchart.com:80 \"GET /getHistory.json?maxRecords=60&interval=1&startDate=20080901&symbol=HOV08&type=daily&apikey=e95f76cac84a3c62139dc3502a3e73e7 HTTP/1.1\" 200 None\n",
      "2018-12-14 13:16:16,576 - requests.packages.urllib3.connectionpool - DEBUG - Starting new HTTP connection (1): ondemand.websol.barchart.com\n",
      "2018-12-14 13:16:17,490 - requests.packages.urllib3.connectionpool - DEBUG - http://ondemand.websol.barchart.com:80 \"GET /getHistory.json?maxRecords=57600&interval=1&startDate=20080821&symbol=HOV08&type=minutes&apikey=e95f76cac84a3c62139dc3502a3e73e7 HTTP/1.1\" 200 None\n",
      " 83%|████████▎ | 10/12 [00:08<00:01,  1.12it/s]2018-12-14 13:16:17,648 - requests.packages.urllib3.connectionpool - DEBUG - Starting new HTTP connection (1): ondemand.websol.barchart.com\n",
      "2018-12-14 13:16:18,026 - requests.packages.urllib3.connectionpool - DEBUG - http://ondemand.websol.barchart.com:80 \"GET /getHistory.json?maxRecords=60&interval=1&startDate=20081001&symbol=HOX08&type=daily&apikey=e95f76cac84a3c62139dc3502a3e73e7 HTTP/1.1\" 200 None\n",
      "2018-12-14 13:16:18,039 - requests.packages.urllib3.connectionpool - DEBUG - Starting new HTTP connection (1): ondemand.websol.barchart.com\n",
      "2018-12-14 13:16:18,751 - requests.packages.urllib3.connectionpool - DEBUG - http://ondemand.websol.barchart.com:80 \"GET /getHistory.json?maxRecords=57600&interval=1&startDate=20080921&symbol=HOX08&type=minutes&apikey=e95f76cac84a3c62139dc3502a3e73e7 HTTP/1.1\" 200 None\n",
      " 92%|█████████▏| 11/12 [00:10<00:00,  1.08it/s]2018-12-14 13:16:18,907 - requests.packages.urllib3.connectionpool - DEBUG - Starting new HTTP connection (1): ondemand.websol.barchart.com\n",
      "2018-12-14 13:16:19,332 - requests.packages.urllib3.connectionpool - DEBUG - http://ondemand.websol.barchart.com:80 \"GET /getHistory.json?maxRecords=60&interval=1&startDate=20081101&symbol=HOZ08&type=daily&apikey=e95f76cac84a3c62139dc3502a3e73e7 HTTP/1.1\" 200 None\n",
      "2018-12-14 13:16:19,344 - requests.packages.urllib3.connectionpool - DEBUG - Starting new HTTP connection (1): ondemand.websol.barchart.com\n",
      "2018-12-14 13:16:20,254 - requests.packages.urllib3.connectionpool - DEBUG - http://ondemand.websol.barchart.com:80 \"GET /getHistory.json?maxRecords=57600&interval=1&startDate=20081019&symbol=HOZ08&type=minutes&apikey=e95f76cac84a3c62139dc3502a3e73e7 HTTP/1.1\" 200 None\n",
      "100%|██████████| 12/12 [00:11<00:00,  1.03it/s]\n",
      "2018-12-14 13:16:21,072 - root - INFO - begin:200901, end:200912\n",
      "  0%|          | 0/12 [00:00<?, ?it/s]2018-12-14 13:16:21,086 - requests.packages.urllib3.connectionpool - DEBUG - Starting new HTTP connection (1): ondemand.websol.barchart.com\n"
     ]
    },
    {
     "name": "stdout",
     "output_type": "stream",
     "text": [
      "Barchart OnDemand Client: http://ondemand.websol.barchart.com/\n"
     ]
    },
    {
     "name": "stderr",
     "output_type": "stream",
     "text": [
      "2018-12-14 13:16:21,483 - requests.packages.urllib3.connectionpool - DEBUG - http://ondemand.websol.barchart.com:80 \"GET /getHistory.json?maxRecords=60&interval=1&startDate=20081201&symbol=HOF09&type=daily&apikey=e95f76cac84a3c62139dc3502a3e73e7 HTTP/1.1\" 200 None\n",
      "2018-12-14 13:16:21,495 - requests.packages.urllib3.connectionpool - DEBUG - Starting new HTTP connection (1): ondemand.websol.barchart.com\n",
      "2018-12-14 13:16:22,404 - requests.packages.urllib3.connectionpool - DEBUG - http://ondemand.websol.barchart.com:80 \"GET /getHistory.json?maxRecords=57600&interval=1&startDate=20081121&symbol=HOF09&type=minutes&apikey=e95f76cac84a3c62139dc3502a3e73e7 HTTP/1.1\" 200 None\n",
      "  8%|▊         | 1/12 [00:01<00:16,  1.49s/it]2018-12-14 13:16:22,573 - requests.packages.urllib3.connectionpool - DEBUG - Starting new HTTP connection (1): ondemand.websol.barchart.com\n",
      "2018-12-14 13:16:23,018 - requests.packages.urllib3.connectionpool - DEBUG - http://ondemand.websol.barchart.com:80 \"GET /getHistory.json?maxRecords=60&interval=1&startDate=20090101&symbol=HOG09&type=daily&apikey=e95f76cac84a3c62139dc3502a3e73e7 HTTP/1.1\" 200 None\n",
      "2018-12-14 13:16:23,025 - requests.packages.urllib3.connectionpool - DEBUG - Starting new HTTP connection (1): ondemand.websol.barchart.com\n",
      "2018-12-14 13:16:23,717 - requests.packages.urllib3.connectionpool - DEBUG - http://ondemand.websol.barchart.com:80 \"GET /getHistory.json?maxRecords=57600&interval=1&startDate=20081221&symbol=HOG09&type=minutes&apikey=e95f76cac84a3c62139dc3502a3e73e7 HTTP/1.1\" 200 None\n",
      " 17%|█▋        | 2/12 [00:02<00:13,  1.38s/it]2018-12-14 13:16:23,848 - requests.packages.urllib3.connectionpool - DEBUG - Starting new HTTP connection (1): ondemand.websol.barchart.com\n",
      "2018-12-14 13:16:24,247 - requests.packages.urllib3.connectionpool - DEBUG - http://ondemand.websol.barchart.com:80 \"GET /getHistory.json?maxRecords=60&interval=1&startDate=20090201&symbol=HOH09&type=daily&apikey=e95f76cac84a3c62139dc3502a3e73e7 HTTP/1.1\" 200 None\n",
      "2018-12-14 13:16:24,261 - requests.packages.urllib3.connectionpool - DEBUG - Starting new HTTP connection (1): ondemand.websol.barchart.com\n",
      "2018-12-14 13:16:24,957 - requests.packages.urllib3.connectionpool - DEBUG - http://ondemand.websol.barchart.com:80 \"GET /getHistory.json?maxRecords=57600&interval=1&startDate=20090118&symbol=HOH09&type=minutes&apikey=e95f76cac84a3c62139dc3502a3e73e7 HTTP/1.1\" 200 None\n",
      " 25%|██▌       | 3/12 [00:04<00:12,  1.34s/it]2018-12-14 13:16:25,117 - requests.packages.urllib3.connectionpool - DEBUG - Starting new HTTP connection (1): ondemand.websol.barchart.com\n",
      "2018-12-14 13:16:25,475 - requests.packages.urllib3.connectionpool - DEBUG - http://ondemand.websol.barchart.com:80 \"GET /getHistory.json?maxRecords=60&interval=1&startDate=20090301&symbol=HOJ09&type=daily&apikey=e95f76cac84a3c62139dc3502a3e73e7 HTTP/1.1\" 200 None\n",
      "2018-12-14 13:16:25,484 - requests.packages.urllib3.connectionpool - DEBUG - Starting new HTTP connection (1): ondemand.websol.barchart.com\n",
      "2018-12-14 13:16:26,116 - requests.packages.urllib3.connectionpool - DEBUG - http://ondemand.websol.barchart.com:80 \"GET /getHistory.json?maxRecords=57600&interval=1&startDate=20090219&symbol=HOJ09&type=minutes&apikey=e95f76cac84a3c62139dc3502a3e73e7 HTTP/1.1\" 200 None\n",
      " 33%|███▎      | 4/12 [00:05<00:10,  1.30s/it]2018-12-14 13:16:26,291 - requests.packages.urllib3.connectionpool - DEBUG - Starting new HTTP connection (1): ondemand.websol.barchart.com\n",
      "2018-12-14 13:16:26,442 - requests.packages.urllib3.connectionpool - DEBUG - http://ondemand.websol.barchart.com:80 \"GET /getHistory.json?maxRecords=60&interval=1&startDate=20090401&symbol=HOK09&type=daily&apikey=e95f76cac84a3c62139dc3502a3e73e7 HTTP/1.1\" 200 None\n",
      "2018-12-14 13:16:26,456 - requests.packages.urllib3.connectionpool - DEBUG - Starting new HTTP connection (1): ondemand.websol.barchart.com\n",
      "2018-12-14 13:16:27,319 - requests.packages.urllib3.connectionpool - DEBUG - http://ondemand.websol.barchart.com:80 \"GET /getHistory.json?maxRecords=57600&interval=1&startDate=20090321&symbol=HOK09&type=minutes&apikey=e95f76cac84a3c62139dc3502a3e73e7 HTTP/1.1\" 200 None\n",
      " 42%|████▏     | 5/12 [00:06<00:08,  1.27s/it]2018-12-14 13:16:27,455 - requests.packages.urllib3.connectionpool - DEBUG - Starting new HTTP connection (1): ondemand.websol.barchart.com\n",
      "2018-12-14 13:16:27,933 - requests.packages.urllib3.connectionpool - DEBUG - http://ondemand.websol.barchart.com:80 \"GET /getHistory.json?maxRecords=60&interval=1&startDate=20090501&symbol=HOM09&type=daily&apikey=e95f76cac84a3c62139dc3502a3e73e7 HTTP/1.1\" 200 None\n",
      "2018-12-14 13:16:27,948 - requests.packages.urllib3.connectionpool - DEBUG - Starting new HTTP connection (1): ondemand.websol.barchart.com\n",
      "2018-12-14 13:16:28,654 - requests.packages.urllib3.connectionpool - DEBUG - http://ondemand.websol.barchart.com:80 \"GET /getHistory.json?maxRecords=57600&interval=1&startDate=20090419&symbol=HOM09&type=minutes&apikey=e95f76cac84a3c62139dc3502a3e73e7 HTTP/1.1\" 200 None\n",
      " 50%|█████     | 6/12 [00:07<00:07,  1.29s/it]2018-12-14 13:16:28,832 - requests.packages.urllib3.connectionpool - DEBUG - Starting new HTTP connection (1): ondemand.websol.barchart.com\n",
      "2018-12-14 13:16:28,995 - requests.packages.urllib3.connectionpool - DEBUG - http://ondemand.websol.barchart.com:80 \"GET /getHistory.json?maxRecords=60&interval=1&startDate=20090601&symbol=HON09&type=daily&apikey=e95f76cac84a3c62139dc3502a3e73e7 HTTP/1.1\" 200 None\n",
      "2018-12-14 13:16:29,008 - requests.packages.urllib3.connectionpool - DEBUG - Starting new HTTP connection (1): ondemand.websol.barchart.com\n",
      "2018-12-14 13:16:29,841 - requests.packages.urllib3.connectionpool - DEBUG - http://ondemand.websol.barchart.com:80 \"GET /getHistory.json?maxRecords=57600&interval=1&startDate=20090521&symbol=HON09&type=minutes&apikey=e95f76cac84a3c62139dc3502a3e73e7 HTTP/1.1\" 200 None\n",
      " 58%|█████▊    | 7/12 [00:08<00:06,  1.27s/it]2018-12-14 13:16:29,988 - requests.packages.urllib3.connectionpool - DEBUG - Starting new HTTP connection (1): ondemand.websol.barchart.com\n",
      "2018-12-14 13:16:30,391 - requests.packages.urllib3.connectionpool - DEBUG - http://ondemand.websol.barchart.com:80 \"GET /getHistory.json?maxRecords=60&interval=1&startDate=20090701&symbol=HOQ09&type=daily&apikey=e95f76cac84a3c62139dc3502a3e73e7 HTTP/1.1\" 200 None\n",
      "2018-12-14 13:16:30,399 - requests.packages.urllib3.connectionpool - DEBUG - Starting new HTTP connection (1): ondemand.websol.barchart.com\n",
      "2018-12-14 13:16:31,313 - requests.packages.urllib3.connectionpool - DEBUG - http://ondemand.websol.barchart.com:80 \"GET /getHistory.json?maxRecords=57600&interval=1&startDate=20090621&symbol=HOQ09&type=minutes&apikey=e95f76cac84a3c62139dc3502a3e73e7 HTTP/1.1\" 200 None\n",
      " 67%|██████▋   | 8/12 [00:10<00:05,  1.31s/it]2018-12-14 13:16:31,557 - requests.packages.urllib3.connectionpool - DEBUG - Starting new HTTP connection (1): ondemand.websol.barchart.com\n",
      "2018-12-14 13:16:31,926 - requests.packages.urllib3.connectionpool - DEBUG - http://ondemand.websol.barchart.com:80 \"GET /getHistory.json?maxRecords=60&interval=1&startDate=20090801&symbol=HOU09&type=daily&apikey=e95f76cac84a3c62139dc3502a3e73e7 HTTP/1.1\" 200 None\n",
      "2018-12-14 13:16:31,934 - requests.packages.urllib3.connectionpool - DEBUG - Starting new HTTP connection (1): ondemand.websol.barchart.com\n",
      "2018-12-14 13:16:32,642 - requests.packages.urllib3.connectionpool - DEBUG - http://ondemand.websol.barchart.com:80 \"GET /getHistory.json?maxRecords=57600&interval=1&startDate=20090722&symbol=HOU09&type=minutes&apikey=e95f76cac84a3c62139dc3502a3e73e7 HTTP/1.1\" 200 None\n",
      " 75%|███████▌  | 9/12 [00:11<00:03,  1.30s/it]2018-12-14 13:16:32,839 - requests.packages.urllib3.connectionpool - DEBUG - Starting new HTTP connection (1): ondemand.websol.barchart.com\n",
      "2018-12-14 13:16:33,041 - requests.packages.urllib3.connectionpool - DEBUG - http://ondemand.websol.barchart.com:80 \"GET /getHistory.json?maxRecords=60&interval=1&startDate=20090901&symbol=HOV09&type=daily&apikey=e95f76cac84a3c62139dc3502a3e73e7 HTTP/1.1\" 200 None\n",
      "2018-12-14 13:16:33,049 - requests.packages.urllib3.connectionpool - DEBUG - Starting new HTTP connection (1): ondemand.websol.barchart.com\n",
      "2018-12-14 13:16:33,771 - requests.packages.urllib3.connectionpool - DEBUG - http://ondemand.websol.barchart.com:80 \"GET /getHistory.json?maxRecords=57600&interval=1&startDate=20090821&symbol=HOV09&type=minutes&apikey=e95f76cac84a3c62139dc3502a3e73e7 HTTP/1.1\" 200 None\n"
     ]
    },
    {
     "name": "stderr",
     "output_type": "stream",
     "text": [
      " 83%|████████▎ | 10/12 [00:12<00:02,  1.29s/it]2018-12-14 13:16:33,938 - requests.packages.urllib3.connectionpool - DEBUG - Starting new HTTP connection (1): ondemand.websol.barchart.com\n",
      "2018-12-14 13:16:34,384 - requests.packages.urllib3.connectionpool - DEBUG - http://ondemand.websol.barchart.com:80 \"GET /getHistory.json?maxRecords=60&interval=1&startDate=20091001&symbol=HOX09&type=daily&apikey=e95f76cac84a3c62139dc3502a3e73e7 HTTP/1.1\" 200 None\n",
      "2018-12-14 13:16:34,391 - requests.packages.urllib3.connectionpool - DEBUG - Starting new HTTP connection (1): ondemand.websol.barchart.com\n",
      "2018-12-14 13:16:35,308 - requests.packages.urllib3.connectionpool - DEBUG - http://ondemand.websol.barchart.com:80 \"GET /getHistory.json?maxRecords=57600&interval=1&startDate=20090920&symbol=HOX09&type=minutes&apikey=e95f76cac84a3c62139dc3502a3e73e7 HTTP/1.1\" 200 None\n",
      " 92%|█████████▏| 11/12 [00:14<00:01,  1.31s/it]2018-12-14 13:16:35,481 - requests.packages.urllib3.connectionpool - DEBUG - Starting new HTTP connection (1): ondemand.websol.barchart.com\n",
      "2018-12-14 13:16:35,916 - requests.packages.urllib3.connectionpool - DEBUG - http://ondemand.websol.barchart.com:80 \"GET /getHistory.json?maxRecords=60&interval=1&startDate=20091101&symbol=HOZ09&type=daily&apikey=e95f76cac84a3c62139dc3502a3e73e7 HTTP/1.1\" 200 None\n",
      "2018-12-14 13:16:35,923 - requests.packages.urllib3.connectionpool - DEBUG - Starting new HTTP connection (1): ondemand.websol.barchart.com\n",
      "2018-12-14 13:16:36,843 - requests.packages.urllib3.connectionpool - DEBUG - http://ondemand.websol.barchart.com:80 \"GET /getHistory.json?maxRecords=57600&interval=1&startDate=20091021&symbol=HOZ09&type=minutes&apikey=e95f76cac84a3c62139dc3502a3e73e7 HTTP/1.1\" 200 None\n",
      "100%|██████████| 12/12 [00:15<00:00,  1.33s/it]\n",
      "2018-12-14 13:16:38,167 - root - INFO - begin:201001, end:201012\n",
      "  0%|          | 0/12 [00:00<?, ?it/s]2018-12-14 13:16:38,188 - requests.packages.urllib3.connectionpool - DEBUG - Starting new HTTP connection (1): ondemand.websol.barchart.com\n"
     ]
    },
    {
     "name": "stdout",
     "output_type": "stream",
     "text": [
      "Barchart OnDemand Client: http://ondemand.websol.barchart.com/\n"
     ]
    },
    {
     "name": "stderr",
     "output_type": "stream",
     "text": [
      "2018-12-14 13:16:38,686 - requests.packages.urllib3.connectionpool - DEBUG - http://ondemand.websol.barchart.com:80 \"GET /getHistory.json?maxRecords=60&interval=1&startDate=20091201&symbol=HOF10&type=daily&apikey=e95f76cac84a3c62139dc3502a3e73e7 HTTP/1.1\" 200 None\n",
      "2018-12-14 13:16:38,700 - requests.packages.urllib3.connectionpool - DEBUG - Starting new HTTP connection (1): ondemand.websol.barchart.com\n",
      "2018-12-14 13:16:39,497 - requests.packages.urllib3.connectionpool - DEBUG - http://ondemand.websol.barchart.com:80 \"GET /getHistory.json?maxRecords=57600&interval=1&startDate=20091121&symbol=HOF10&type=minutes&apikey=e95f76cac84a3c62139dc3502a3e73e7 HTTP/1.1\" 200 None\n",
      "  8%|▊         | 1/12 [00:01<00:16,  1.48s/it]2018-12-14 13:16:39,665 - requests.packages.urllib3.connectionpool - DEBUG - Starting new HTTP connection (1): ondemand.websol.barchart.com\n",
      "2018-12-14 13:16:39,913 - requests.packages.urllib3.connectionpool - DEBUG - http://ondemand.websol.barchart.com:80 \"GET /getHistory.json?maxRecords=60&interval=1&startDate=20100101&symbol=HOG10&type=daily&apikey=e95f76cac84a3c62139dc3502a3e73e7 HTTP/1.1\" 200 None\n",
      "2018-12-14 13:16:39,921 - requests.packages.urllib3.connectionpool - DEBUG - Starting new HTTP connection (1): ondemand.websol.barchart.com\n",
      "2018-12-14 13:16:40,837 - requests.packages.urllib3.connectionpool - DEBUG - http://ondemand.websol.barchart.com:80 \"GET /getHistory.json?maxRecords=57600&interval=1&startDate=20091220&symbol=HOG10&type=minutes&apikey=e95f76cac84a3c62139dc3502a3e73e7 HTTP/1.1\" 200 None\n",
      " 17%|█▋        | 2/12 [00:02<00:14,  1.42s/it]2018-12-14 13:16:41,029 - requests.packages.urllib3.connectionpool - DEBUG - Starting new HTTP connection (1): ondemand.websol.barchart.com\n",
      "2018-12-14 13:16:41,450 - requests.packages.urllib3.connectionpool - DEBUG - http://ondemand.websol.barchart.com:80 \"GET /getHistory.json?maxRecords=60&interval=1&startDate=20100201&symbol=HOH10&type=daily&apikey=e95f76cac84a3c62139dc3502a3e73e7 HTTP/1.1\" 200 None\n",
      "2018-12-14 13:16:41,461 - requests.packages.urllib3.connectionpool - DEBUG - Starting new HTTP connection (1): ondemand.websol.barchart.com\n",
      "2018-12-14 13:16:42,372 - requests.packages.urllib3.connectionpool - DEBUG - http://ondemand.websol.barchart.com:80 \"GET /getHistory.json?maxRecords=57600&interval=1&startDate=20100117&symbol=HOH10&type=minutes&apikey=e95f76cac84a3c62139dc3502a3e73e7 HTTP/1.1\" 200 None\n",
      " 25%|██▌       | 3/12 [00:04<00:13,  1.45s/it]2018-12-14 13:16:42,550 - requests.packages.urllib3.connectionpool - DEBUG - Starting new HTTP connection (1): ondemand.websol.barchart.com\n",
      "2018-12-14 13:16:42,986 - requests.packages.urllib3.connectionpool - DEBUG - http://ondemand.websol.barchart.com:80 \"GET /getHistory.json?maxRecords=60&interval=1&startDate=20100301&symbol=HOJ10&type=daily&apikey=e95f76cac84a3c62139dc3502a3e73e7 HTTP/1.1\" 200 None\n",
      "2018-12-14 13:16:43,001 - requests.packages.urllib3.connectionpool - DEBUG - Starting new HTTP connection (1): ondemand.websol.barchart.com\n",
      "2018-12-14 13:16:43,909 - requests.packages.urllib3.connectionpool - DEBUG - http://ondemand.websol.barchart.com:80 \"GET /getHistory.json?maxRecords=57600&interval=1&startDate=20100219&symbol=HOJ10&type=minutes&apikey=e95f76cac84a3c62139dc3502a3e73e7 HTTP/1.1\" 200 None\n",
      " 33%|███▎      | 4/12 [00:05<00:11,  1.47s/it]2018-12-14 13:16:44,078 - requests.packages.urllib3.connectionpool - DEBUG - Starting new HTTP connection (1): ondemand.websol.barchart.com\n",
      "2018-12-14 13:16:44,522 - requests.packages.urllib3.connectionpool - DEBUG - http://ondemand.websol.barchart.com:80 \"GET /getHistory.json?maxRecords=60&interval=1&startDate=20100401&symbol=HOK10&type=daily&apikey=e95f76cac84a3c62139dc3502a3e73e7 HTTP/1.1\" 200 None\n",
      "2018-12-14 13:16:44,535 - requests.packages.urllib3.connectionpool - DEBUG - Starting new HTTP connection (1): ondemand.websol.barchart.com\n",
      "2018-12-14 13:16:45,444 - requests.packages.urllib3.connectionpool - DEBUG - http://ondemand.websol.barchart.com:80 \"GET /getHistory.json?maxRecords=57600&interval=1&startDate=20100321&symbol=HOK10&type=minutes&apikey=e95f76cac84a3c62139dc3502a3e73e7 HTTP/1.1\" 200 None\n",
      " 42%|████▏     | 5/12 [00:07<00:10,  1.48s/it]2018-12-14 13:16:45,609 - requests.packages.urllib3.connectionpool - DEBUG - Starting new HTTP connection (1): ondemand.websol.barchart.com\n",
      "2018-12-14 13:16:46,078 - requests.packages.urllib3.connectionpool - DEBUG - http://ondemand.websol.barchart.com:80 \"GET /getHistory.json?maxRecords=60&interval=1&startDate=20100501&symbol=HOM10&type=daily&apikey=e95f76cac84a3c62139dc3502a3e73e7 HTTP/1.1\" 200 None\n",
      "2018-12-14 13:16:46,091 - requests.packages.urllib3.connectionpool - DEBUG - Starting new HTTP connection (1): ondemand.websol.barchart.com\n",
      "2018-12-14 13:16:46,982 - requests.packages.urllib3.connectionpool - DEBUG - http://ondemand.websol.barchart.com:80 \"GET /getHistory.json?maxRecords=57600&interval=1&startDate=20100418&symbol=HOM10&type=minutes&apikey=e95f76cac84a3c62139dc3502a3e73e7 HTTP/1.1\" 200 None\n",
      " 50%|█████     | 6/12 [00:09<00:09,  1.51s/it]2018-12-14 13:16:47,241 - requests.packages.urllib3.connectionpool - DEBUG - Starting new HTTP connection (1): ondemand.websol.barchart.com\n",
      "2018-12-14 13:16:47,594 - requests.packages.urllib3.connectionpool - DEBUG - http://ondemand.websol.barchart.com:80 \"GET /getHistory.json?maxRecords=60&interval=1&startDate=20100601&symbol=HON10&type=daily&apikey=e95f76cac84a3c62139dc3502a3e73e7 HTTP/1.1\" 200 None\n",
      "2018-12-14 13:16:47,606 - requests.packages.urllib3.connectionpool - DEBUG - Starting new HTTP connection (1): ondemand.websol.barchart.com\n",
      "2018-12-14 13:16:48,515 - requests.packages.urllib3.connectionpool - DEBUG - http://ondemand.websol.barchart.com:80 \"GET /getHistory.json?maxRecords=57600&interval=1&startDate=20100521&symbol=HON10&type=minutes&apikey=e95f76cac84a3c62139dc3502a3e73e7 HTTP/1.1\" 200 None\n",
      " 58%|█████▊    | 7/12 [00:10<00:07,  1.50s/it]2018-12-14 13:16:48,694 - requests.packages.urllib3.connectionpool - DEBUG - Starting new HTTP connection (1): ondemand.websol.barchart.com\n",
      "2018-12-14 13:16:49,131 - requests.packages.urllib3.connectionpool - DEBUG - http://ondemand.websol.barchart.com:80 \"GET /getHistory.json?maxRecords=60&interval=1&startDate=20100701&symbol=HOQ10&type=daily&apikey=e95f76cac84a3c62139dc3502a3e73e7 HTTP/1.1\" 200 None\n",
      "2018-12-14 13:16:49,141 - requests.packages.urllib3.connectionpool - DEBUG - Starting new HTTP connection (1): ondemand.websol.barchart.com\n",
      "2018-12-14 13:16:50,358 - requests.packages.urllib3.connectionpool - DEBUG - http://ondemand.websol.barchart.com:80 \"GET /getHistory.json?maxRecords=57600&interval=1&startDate=20100620&symbol=HOQ10&type=minutes&apikey=e95f76cac84a3c62139dc3502a3e73e7 HTTP/1.1\" 200 None\n",
      " 67%|██████▋   | 8/12 [00:12<00:06,  1.54s/it]2018-12-14 13:16:50,529 - requests.packages.urllib3.connectionpool - DEBUG - Starting new HTTP connection (1): ondemand.websol.barchart.com\n",
      "2018-12-14 13:16:50,973 - requests.packages.urllib3.connectionpool - DEBUG - http://ondemand.websol.barchart.com:80 \"GET /getHistory.json?maxRecords=60&interval=1&startDate=20100801&symbol=HOU10&type=daily&apikey=e95f76cac84a3c62139dc3502a3e73e7 HTTP/1.1\" 200 None\n",
      "2018-12-14 13:16:50,979 - requests.packages.urllib3.connectionpool - DEBUG - Starting new HTTP connection (1): ondemand.websol.barchart.com\n",
      "2018-12-14 13:16:52,202 - requests.packages.urllib3.connectionpool - DEBUG - http://ondemand.websol.barchart.com:80 \"GET /getHistory.json?maxRecords=57600&interval=1&startDate=20100722&symbol=HOU10&type=minutes&apikey=e95f76cac84a3c62139dc3502a3e73e7 HTTP/1.1\" 200 None\n",
      " 75%|███████▌  | 9/12 [00:14<00:04,  1.58s/it]2018-12-14 13:16:52,416 - requests.packages.urllib3.connectionpool - DEBUG - Starting new HTTP connection (1): ondemand.websol.barchart.com\n",
      "2018-12-14 13:16:52,610 - requests.packages.urllib3.connectionpool - DEBUG - http://ondemand.websol.barchart.com:80 \"GET /getHistory.json?maxRecords=60&interval=1&startDate=20100901&symbol=HOV10&type=daily&apikey=e95f76cac84a3c62139dc3502a3e73e7 HTTP/1.1\" 200 None\n",
      "2018-12-14 13:16:52,624 - requests.packages.urllib3.connectionpool - DEBUG - Starting new HTTP connection (1): ondemand.websol.barchart.com\n",
      "2018-12-14 13:16:53,431 - requests.packages.urllib3.connectionpool - DEBUG - http://ondemand.websol.barchart.com:80 \"GET /getHistory.json?maxRecords=57600&interval=1&startDate=20100821&symbol=HOV10&type=minutes&apikey=e95f76cac84a3c62139dc3502a3e73e7 HTTP/1.1\" 200 None\n"
     ]
    },
    {
     "name": "stderr",
     "output_type": "stream",
     "text": [
      " 83%|████████▎ | 10/12 [00:15<00:03,  1.54s/it]2018-12-14 13:16:53,627 - requests.packages.urllib3.connectionpool - DEBUG - Starting new HTTP connection (1): ondemand.websol.barchart.com\n",
      "2018-12-14 13:16:53,961 - requests.packages.urllib3.connectionpool - DEBUG - http://ondemand.websol.barchart.com:80 \"GET /getHistory.json?maxRecords=60&interval=1&startDate=20101001&symbol=HOX10&type=daily&apikey=e95f76cac84a3c62139dc3502a3e73e7 HTTP/1.1\" 200 None\n",
      "2018-12-14 13:16:53,972 - requests.packages.urllib3.connectionpool - DEBUG - Starting new HTTP connection (1): ondemand.websol.barchart.com\n",
      "2018-12-14 13:16:54,770 - requests.packages.urllib3.connectionpool - DEBUG - http://ondemand.websol.barchart.com:80 \"GET /getHistory.json?maxRecords=57600&interval=1&startDate=20100919&symbol=HOX10&type=minutes&apikey=e95f76cac84a3c62139dc3502a3e73e7 HTTP/1.1\" 200 None\n",
      " 92%|█████████▏| 11/12 [00:16<00:01,  1.53s/it]2018-12-14 13:16:54,968 - requests.packages.urllib3.connectionpool - DEBUG - Starting new HTTP connection (1): ondemand.websol.barchart.com\n",
      "2018-12-14 13:16:55,274 - requests.packages.urllib3.connectionpool - DEBUG - http://ondemand.websol.barchart.com:80 \"GET /getHistory.json?maxRecords=60&interval=1&startDate=20101101&symbol=HOZ10&type=daily&apikey=e95f76cac84a3c62139dc3502a3e73e7 HTTP/1.1\" 200 None\n",
      "2018-12-14 13:16:55,286 - requests.packages.urllib3.connectionpool - DEBUG - Starting new HTTP connection (1): ondemand.websol.barchart.com\n",
      "2018-12-14 13:16:56,503 - requests.packages.urllib3.connectionpool - DEBUG - http://ondemand.websol.barchart.com:80 \"GET /getHistory.json?maxRecords=57600&interval=1&startDate=20101021&symbol=HOZ10&type=minutes&apikey=e95f76cac84a3c62139dc3502a3e73e7 HTTP/1.1\" 200 None\n",
      "100%|██████████| 12/12 [00:18<00:00,  1.54s/it]\n",
      "2018-12-14 13:16:58,064 - root - INFO - begin:201101, end:201112\n",
      "  0%|          | 0/12 [00:00<?, ?it/s]2018-12-14 13:16:58,088 - requests.packages.urllib3.connectionpool - DEBUG - Starting new HTTP connection (1): ondemand.websol.barchart.com\n"
     ]
    },
    {
     "name": "stdout",
     "output_type": "stream",
     "text": [
      "Barchart OnDemand Client: http://ondemand.websol.barchart.com/\n"
     ]
    },
    {
     "name": "stderr",
     "output_type": "stream",
     "text": [
      "2018-12-14 13:16:58,344 - requests.packages.urllib3.connectionpool - DEBUG - http://ondemand.websol.barchart.com:80 \"GET /getHistory.json?maxRecords=60&interval=1&startDate=20101201&symbol=HOF11&type=daily&apikey=e95f76cac84a3c62139dc3502a3e73e7 HTTP/1.1\" 200 None\n",
      "2018-12-14 13:16:58,353 - requests.packages.urllib3.connectionpool - DEBUG - Starting new HTTP connection (1): ondemand.websol.barchart.com\n",
      "2018-12-14 13:16:59,271 - requests.packages.urllib3.connectionpool - DEBUG - http://ondemand.websol.barchart.com:80 \"GET /getHistory.json?maxRecords=57600&interval=1&startDate=20101120&symbol=HOF11&type=minutes&apikey=e95f76cac84a3c62139dc3502a3e73e7 HTTP/1.1\" 200 None\n",
      "  8%|▊         | 1/12 [00:01<00:14,  1.35s/it]2018-12-14 13:16:59,438 - requests.packages.urllib3.connectionpool - DEBUG - Starting new HTTP connection (1): ondemand.websol.barchart.com\n",
      "2018-12-14 13:16:59,643 - requests.packages.urllib3.connectionpool - DEBUG - http://ondemand.websol.barchart.com:80 \"GET /getHistory.json?maxRecords=60&interval=1&startDate=20110101&symbol=HOG11&type=daily&apikey=e95f76cac84a3c62139dc3502a3e73e7 HTTP/1.1\" 200 None\n",
      "2018-12-14 13:16:59,655 - requests.packages.urllib3.connectionpool - DEBUG - Starting new HTTP connection (1): ondemand.websol.barchart.com\n",
      "2018-12-14 13:17:00,495 - requests.packages.urllib3.connectionpool - DEBUG - http://ondemand.websol.barchart.com:80 \"GET /getHistory.json?maxRecords=57600&interval=1&startDate=20101222&symbol=HOG11&type=minutes&apikey=e95f76cac84a3c62139dc3502a3e73e7 HTTP/1.1\" 200 None\n",
      " 17%|█▋        | 2/12 [00:02<00:12,  1.29s/it]2018-12-14 13:17:00,661 - requests.packages.urllib3.connectionpool - DEBUG - Starting new HTTP connection (1): ondemand.websol.barchart.com\n",
      "2018-12-14 13:17:01,110 - requests.packages.urllib3.connectionpool - DEBUG - http://ondemand.websol.barchart.com:80 \"GET /getHistory.json?maxRecords=60&interval=1&startDate=20110201&symbol=HOH11&type=daily&apikey=e95f76cac84a3c62139dc3502a3e73e7 HTTP/1.1\" 200 None\n",
      "2018-12-14 13:17:01,123 - requests.packages.urllib3.connectionpool - DEBUG - Starting new HTTP connection (1): ondemand.websol.barchart.com\n",
      "2018-12-14 13:17:01,956 - requests.packages.urllib3.connectionpool - DEBUG - http://ondemand.websol.barchart.com:80 \"GET /getHistory.json?maxRecords=57600&interval=1&startDate=20110119&symbol=HOH11&type=minutes&apikey=e95f76cac84a3c62139dc3502a3e73e7 HTTP/1.1\" 200 None\n",
      " 25%|██▌       | 3/12 [00:04<00:12,  1.35s/it]2018-12-14 13:17:02,134 - requests.packages.urllib3.connectionpool - DEBUG - Starting new HTTP connection (1): ondemand.websol.barchart.com\n",
      "2018-12-14 13:17:02,322 - requests.packages.urllib3.connectionpool - DEBUG - http://ondemand.websol.barchart.com:80 \"GET /getHistory.json?maxRecords=60&interval=1&startDate=20110301&symbol=HOJ11&type=daily&apikey=e95f76cac84a3c62139dc3502a3e73e7 HTTP/1.1\" 200 None\n",
      "2018-12-14 13:17:02,334 - requests.packages.urllib3.connectionpool - DEBUG - Starting new HTTP connection (1): ondemand.websol.barchart.com\n",
      "2018-12-14 13:17:03,083 - requests.packages.urllib3.connectionpool - DEBUG - http://ondemand.websol.barchart.com:80 \"GET /getHistory.json?maxRecords=57600&interval=1&startDate=20110219&symbol=HOJ11&type=minutes&apikey=e95f76cac84a3c62139dc3502a3e73e7 HTTP/1.1\" 200 None\n",
      " 33%|███▎      | 4/12 [00:05<00:10,  1.30s/it]2018-12-14 13:17:03,279 - requests.packages.urllib3.connectionpool - DEBUG - Starting new HTTP connection (1): ondemand.websol.barchart.com\n",
      "2018-12-14 13:17:03,568 - requests.packages.urllib3.connectionpool - DEBUG - http://ondemand.websol.barchart.com:80 \"GET /getHistory.json?maxRecords=60&interval=1&startDate=20110401&symbol=HOK11&type=daily&apikey=e95f76cac84a3c62139dc3502a3e73e7 HTTP/1.1\" 200 None\n",
      "2018-12-14 13:17:03,580 - requests.packages.urllib3.connectionpool - DEBUG - Starting new HTTP connection (1): ondemand.websol.barchart.com\n",
      "2018-12-14 13:17:04,489 - requests.packages.urllib3.connectionpool - DEBUG - http://ondemand.websol.barchart.com:80 \"GET /getHistory.json?maxRecords=57600&interval=1&startDate=20110320&symbol=HOK11&type=minutes&apikey=e95f76cac84a3c62139dc3502a3e73e7 HTTP/1.1\" 200 None\n",
      " 42%|████▏     | 5/12 [00:06<00:09,  1.32s/it]2018-12-14 13:17:04,678 - requests.packages.urllib3.connectionpool - DEBUG - Starting new HTTP connection (1): ondemand.websol.barchart.com\n",
      "2018-12-14 13:17:05,104 - requests.packages.urllib3.connectionpool - DEBUG - http://ondemand.websol.barchart.com:80 \"GET /getHistory.json?maxRecords=60&interval=1&startDate=20110501&symbol=HOM11&type=daily&apikey=e95f76cac84a3c62139dc3502a3e73e7 HTTP/1.1\" 200 None\n",
      "2018-12-14 13:17:05,115 - requests.packages.urllib3.connectionpool - DEBUG - Starting new HTTP connection (1): ondemand.websol.barchart.com\n",
      "2018-12-14 13:17:06,025 - requests.packages.urllib3.connectionpool - DEBUG - http://ondemand.websol.barchart.com:80 \"GET /getHistory.json?maxRecords=57600&interval=1&startDate=20110421&symbol=HOM11&type=minutes&apikey=e95f76cac84a3c62139dc3502a3e73e7 HTTP/1.1\" 200 None\n",
      " 50%|█████     | 6/12 [00:08<00:08,  1.36s/it]2018-12-14 13:17:06,245 - requests.packages.urllib3.connectionpool - DEBUG - Starting new HTTP connection (1): ondemand.websol.barchart.com\n",
      "2018-12-14 13:17:06,405 - requests.packages.urllib3.connectionpool - DEBUG - http://ondemand.websol.barchart.com:80 \"GET /getHistory.json?maxRecords=60&interval=1&startDate=20110601&symbol=HON11&type=daily&apikey=e95f76cac84a3c62139dc3502a3e73e7 HTTP/1.1\" 200 None\n",
      "2018-12-14 13:17:06,411 - requests.packages.urllib3.connectionpool - DEBUG - Starting new HTTP connection (1): ondemand.websol.barchart.com\n",
      "2018-12-14 13:17:07,253 - requests.packages.urllib3.connectionpool - DEBUG - http://ondemand.websol.barchart.com:80 \"GET /getHistory.json?maxRecords=57600&interval=1&startDate=20110521&symbol=HON11&type=minutes&apikey=e95f76cac84a3c62139dc3502a3e73e7 HTTP/1.1\" 200 None\n",
      " 58%|█████▊    | 7/12 [00:09<00:06,  1.34s/it]2018-12-14 13:17:07,465 - requests.packages.urllib3.connectionpool - DEBUG - Starting new HTTP connection (1): ondemand.websol.barchart.com\n",
      "2018-12-14 13:17:07,728 - requests.packages.urllib3.connectionpool - DEBUG - http://ondemand.websol.barchart.com:80 \"GET /getHistory.json?maxRecords=60&interval=1&startDate=20110701&symbol=HOQ11&type=daily&apikey=e95f76cac84a3c62139dc3502a3e73e7 HTTP/1.1\" 200 None\n",
      "2018-12-14 13:17:07,734 - requests.packages.urllib3.connectionpool - DEBUG - Starting new HTTP connection (1): ondemand.websol.barchart.com\n",
      "2018-12-14 13:17:08,790 - requests.packages.urllib3.connectionpool - DEBUG - http://ondemand.websol.barchart.com:80 \"GET /getHistory.json?maxRecords=57600&interval=1&startDate=20110619&symbol=HOQ11&type=minutes&apikey=e95f76cac84a3c62139dc3502a3e73e7 HTTP/1.1\" 200 None\n",
      " 67%|██████▋   | 8/12 [00:10<00:05,  1.36s/it]2018-12-14 13:17:09,026 - requests.packages.urllib3.connectionpool - DEBUG - Starting new HTTP connection (1): ondemand.websol.barchart.com\n",
      "2018-12-14 13:17:09,403 - requests.packages.urllib3.connectionpool - DEBUG - http://ondemand.websol.barchart.com:80 \"GET /getHistory.json?maxRecords=60&interval=1&startDate=20110801&symbol=HOU11&type=daily&apikey=e95f76cac84a3c62139dc3502a3e73e7 HTTP/1.1\" 200 None\n",
      "2018-12-14 13:17:09,413 - requests.packages.urllib3.connectionpool - DEBUG - Starting new HTTP connection (1): ondemand.websol.barchart.com\n",
      "2018-12-14 13:17:10,329 - requests.packages.urllib3.connectionpool - DEBUG - http://ondemand.websol.barchart.com:80 \"GET /getHistory.json?maxRecords=57600&interval=1&startDate=20110722&symbol=HOU11&type=minutes&apikey=e95f76cac84a3c62139dc3502a3e73e7 HTTP/1.1\" 200 None\n",
      " 75%|███████▌  | 9/12 [00:12<00:04,  1.38s/it]2018-12-14 13:17:10,537 - requests.packages.urllib3.connectionpool - DEBUG - Starting new HTTP connection (1): ondemand.websol.barchart.com\n",
      "2018-12-14 13:17:10,734 - requests.packages.urllib3.connectionpool - DEBUG - http://ondemand.websol.barchart.com:80 \"GET /getHistory.json?maxRecords=60&interval=1&startDate=20110901&symbol=HOV11&type=daily&apikey=e95f76cac84a3c62139dc3502a3e73e7 HTTP/1.1\" 200 None\n",
      "2018-12-14 13:17:10,746 - requests.packages.urllib3.connectionpool - DEBUG - Starting new HTTP connection (1): ondemand.websol.barchart.com\n",
      "2018-12-14 13:17:11,618 - requests.packages.urllib3.connectionpool - DEBUG - http://ondemand.websol.barchart.com:80 \"GET /getHistory.json?maxRecords=57600&interval=1&startDate=20110821&symbol=HOV11&type=minutes&apikey=e95f76cac84a3c62139dc3502a3e73e7 HTTP/1.1\" 200 None\n"
     ]
    },
    {
     "name": "stderr",
     "output_type": "stream",
     "text": [
      " 83%|████████▎ | 10/12 [00:13<00:02,  1.38s/it]2018-12-14 13:17:11,847 - requests.packages.urllib3.connectionpool - DEBUG - Starting new HTTP connection (1): ondemand.websol.barchart.com\n",
      "2018-12-14 13:17:12,169 - requests.packages.urllib3.connectionpool - DEBUG - http://ondemand.websol.barchart.com:80 \"GET /getHistory.json?maxRecords=60&interval=1&startDate=20111001&symbol=HOX11&type=daily&apikey=e95f76cac84a3c62139dc3502a3e73e7 HTTP/1.1\" 200 None\n",
      "2018-12-14 13:17:12,181 - requests.packages.urllib3.connectionpool - DEBUG - Starting new HTTP connection (1): ondemand.websol.barchart.com\n",
      "2018-12-14 13:17:13,091 - requests.packages.urllib3.connectionpool - DEBUG - http://ondemand.websol.barchart.com:80 \"GET /getHistory.json?maxRecords=57600&interval=1&startDate=20110921&symbol=HOX11&type=minutes&apikey=e95f76cac84a3c62139dc3502a3e73e7 HTTP/1.1\" 200 None\n",
      " 92%|█████████▏| 11/12 [00:15<00:01,  1.38s/it]2018-12-14 13:17:13,305 - requests.packages.urllib3.connectionpool - DEBUG - Starting new HTTP connection (1): ondemand.websol.barchart.com\n",
      "2018-12-14 13:17:13,705 - requests.packages.urllib3.connectionpool - DEBUG - http://ondemand.websol.barchart.com:80 \"GET /getHistory.json?maxRecords=60&interval=1&startDate=20111101&symbol=HOZ11&type=daily&apikey=e95f76cac84a3c62139dc3502a3e73e7 HTTP/1.1\" 200 None\n",
      "2018-12-14 13:17:13,717 - requests.packages.urllib3.connectionpool - DEBUG - Starting new HTTP connection (1): ondemand.websol.barchart.com\n",
      "2018-12-14 13:17:14,628 - requests.packages.urllib3.connectionpool - DEBUG - http://ondemand.websol.barchart.com:80 \"GET /getHistory.json?maxRecords=57600&interval=1&startDate=20111021&symbol=HOZ11&type=minutes&apikey=e95f76cac84a3c62139dc3502a3e73e7 HTTP/1.1\" 200 None\n",
      "100%|██████████| 12/12 [00:16<00:00,  1.40s/it]\n",
      "2018-12-14 13:17:16,336 - root - INFO - begin:201201, end:201212\n",
      "  0%|          | 0/12 [00:00<?, ?it/s]2018-12-14 13:17:16,359 - requests.packages.urllib3.connectionpool - DEBUG - Starting new HTTP connection (1): ondemand.websol.barchart.com\n"
     ]
    },
    {
     "name": "stdout",
     "output_type": "stream",
     "text": [
      "Barchart OnDemand Client: http://ondemand.websol.barchart.com/\n"
     ]
    },
    {
     "name": "stderr",
     "output_type": "stream",
     "text": [
      "2018-12-14 13:17:16,776 - requests.packages.urllib3.connectionpool - DEBUG - http://ondemand.websol.barchart.com:80 \"GET /getHistory.json?maxRecords=60&interval=1&startDate=20111201&symbol=HOF12&type=daily&apikey=e95f76cac84a3c62139dc3502a3e73e7 HTTP/1.1\" 200 None\n",
      "2018-12-14 13:17:16,788 - requests.packages.urllib3.connectionpool - DEBUG - Starting new HTTP connection (1): ondemand.websol.barchart.com\n",
      "2018-12-14 13:17:17,698 - requests.packages.urllib3.connectionpool - DEBUG - http://ondemand.websol.barchart.com:80 \"GET /getHistory.json?maxRecords=57600&interval=1&startDate=20111120&symbol=HOF12&type=minutes&apikey=e95f76cac84a3c62139dc3502a3e73e7 HTTP/1.1\" 200 None\n",
      "  8%|▊         | 1/12 [00:01<00:17,  1.55s/it]2018-12-14 13:17:17,907 - requests.packages.urllib3.connectionpool - DEBUG - Starting new HTTP connection (1): ondemand.websol.barchart.com\n",
      "2018-12-14 13:17:18,103 - requests.packages.urllib3.connectionpool - DEBUG - http://ondemand.websol.barchart.com:80 \"GET /getHistory.json?maxRecords=60&interval=1&startDate=20120101&symbol=HOG12&type=daily&apikey=e95f76cac84a3c62139dc3502a3e73e7 HTTP/1.1\" 200 None\n",
      "2018-12-14 13:17:18,117 - requests.packages.urllib3.connectionpool - DEBUG - Starting new HTTP connection (1): ondemand.websol.barchart.com\n",
      "2018-12-14 13:17:18,927 - requests.packages.urllib3.connectionpool - DEBUG - http://ondemand.websol.barchart.com:80 \"GET /getHistory.json?maxRecords=57600&interval=1&startDate=20111222&symbol=HOG12&type=minutes&apikey=e95f76cac84a3c62139dc3502a3e73e7 HTTP/1.1\" 200 None\n",
      " 17%|█▋        | 2/12 [00:02<00:13,  1.37s/it]2018-12-14 13:17:19,100 - requests.packages.urllib3.connectionpool - DEBUG - Starting new HTTP connection (1): ondemand.websol.barchart.com\n",
      "2018-12-14 13:17:19,542 - requests.packages.urllib3.connectionpool - DEBUG - http://ondemand.websol.barchart.com:80 \"GET /getHistory.json?maxRecords=60&interval=1&startDate=20120201&symbol=HOH12&type=daily&apikey=e95f76cac84a3c62139dc3502a3e73e7 HTTP/1.1\" 200 None\n",
      "2018-12-14 13:17:19,554 - requests.packages.urllib3.connectionpool - DEBUG - Starting new HTTP connection (1): ondemand.websol.barchart.com\n",
      "2018-12-14 13:17:20,462 - requests.packages.urllib3.connectionpool - DEBUG - http://ondemand.websol.barchart.com:80 \"GET /getHistory.json?maxRecords=57600&interval=1&startDate=20120120&symbol=HOH12&type=minutes&apikey=e95f76cac84a3c62139dc3502a3e73e7 HTTP/1.1\" 200 None\n",
      " 25%|██▌       | 3/12 [00:04<00:12,  1.44s/it]2018-12-14 13:17:20,667 - requests.packages.urllib3.connectionpool - DEBUG - Starting new HTTP connection (1): ondemand.websol.barchart.com\n",
      "2018-12-14 13:17:21,078 - requests.packages.urllib3.connectionpool - DEBUG - http://ondemand.websol.barchart.com:80 \"GET /getHistory.json?maxRecords=60&interval=1&startDate=20120301&symbol=HOJ12&type=daily&apikey=e95f76cac84a3c62139dc3502a3e73e7 HTTP/1.1\" 200 None\n",
      "2018-12-14 13:17:21,089 - requests.packages.urllib3.connectionpool - DEBUG - Starting new HTTP connection (1): ondemand.websol.barchart.com\n",
      "2018-12-14 13:17:22,000 - requests.packages.urllib3.connectionpool - DEBUG - http://ondemand.websol.barchart.com:80 \"GET /getHistory.json?maxRecords=57600&interval=1&startDate=20120219&symbol=HOJ12&type=minutes&apikey=e95f76cac84a3c62139dc3502a3e73e7 HTTP/1.1\" 200 None\n",
      " 33%|███▎      | 4/12 [00:05<00:11,  1.46s/it]2018-12-14 13:17:22,182 - requests.packages.urllib3.connectionpool - DEBUG - Starting new HTTP connection (1): ondemand.websol.barchart.com\n",
      "2018-12-14 13:17:22,613 - requests.packages.urllib3.connectionpool - DEBUG - http://ondemand.websol.barchart.com:80 \"GET /getHistory.json?maxRecords=60&interval=1&startDate=20120401&symbol=HOK12&type=daily&apikey=e95f76cac84a3c62139dc3502a3e73e7 HTTP/1.1\" 200 None\n",
      "2018-12-14 13:17:22,623 - requests.packages.urllib3.connectionpool - DEBUG - Starting new HTTP connection (1): ondemand.websol.barchart.com\n",
      "2018-12-14 13:17:23,536 - requests.packages.urllib3.connectionpool - DEBUG - http://ondemand.websol.barchart.com:80 \"GET /getHistory.json?maxRecords=57600&interval=1&startDate=20120321&symbol=HOK12&type=minutes&apikey=e95f76cac84a3c62139dc3502a3e73e7 HTTP/1.1\" 200 None\n",
      " 42%|████▏     | 5/12 [00:07<00:10,  1.47s/it]2018-12-14 13:17:23,718 - requests.packages.urllib3.connectionpool - DEBUG - Starting new HTTP connection (1): ondemand.websol.barchart.com\n",
      "2018-12-14 13:17:24,080 - requests.packages.urllib3.connectionpool - DEBUG - http://ondemand.websol.barchart.com:80 \"GET /getHistory.json?maxRecords=60&interval=1&startDate=20120501&symbol=HOM12&type=daily&apikey=e95f76cac84a3c62139dc3502a3e73e7 HTTP/1.1\" 200 None\n",
      "2018-12-14 13:17:24,093 - requests.packages.urllib3.connectionpool - DEBUG - Starting new HTTP connection (1): ondemand.websol.barchart.com\n",
      "2018-12-14 13:17:24,887 - requests.packages.urllib3.connectionpool - DEBUG - http://ondemand.websol.barchart.com:80 \"GET /getHistory.json?maxRecords=57600&interval=1&startDate=20120421&symbol=HOM12&type=minutes&apikey=e95f76cac84a3c62139dc3502a3e73e7 HTTP/1.1\" 200 None\n",
      " 50%|█████     | 6/12 [00:08<00:08,  1.45s/it]2018-12-14 13:17:25,080 - requests.packages.urllib3.connectionpool - DEBUG - Starting new HTTP connection (1): ondemand.websol.barchart.com\n",
      "2018-12-14 13:17:25,364 - requests.packages.urllib3.connectionpool - DEBUG - http://ondemand.websol.barchart.com:80 \"GET /getHistory.json?maxRecords=60&interval=1&startDate=20120601&symbol=HON12&type=daily&apikey=e95f76cac84a3c62139dc3502a3e73e7 HTTP/1.1\" 200 None\n",
      "2018-12-14 13:17:25,371 - requests.packages.urllib3.connectionpool - DEBUG - Starting new HTTP connection (1): ondemand.websol.barchart.com\n",
      "2018-12-14 13:17:26,208 - requests.packages.urllib3.connectionpool - DEBUG - http://ondemand.websol.barchart.com:80 \"GET /getHistory.json?maxRecords=57600&interval=1&startDate=20120520&symbol=HON12&type=minutes&apikey=e95f76cac84a3c62139dc3502a3e73e7 HTTP/1.1\" 200 None\n",
      " 58%|█████▊    | 7/12 [00:10<00:07,  1.44s/it]2018-12-14 13:17:26,441 - requests.packages.urllib3.connectionpool - DEBUG - Starting new HTTP connection (1): ondemand.websol.barchart.com\n",
      "2018-12-14 13:17:26,636 - requests.packages.urllib3.connectionpool - DEBUG - http://ondemand.websol.barchart.com:80 \"GET /getHistory.json?maxRecords=60&interval=1&startDate=20120701&symbol=HOQ12&type=daily&apikey=e95f76cac84a3c62139dc3502a3e73e7 HTTP/1.1\" 200 None\n",
      "2018-12-14 13:17:26,646 - requests.packages.urllib3.connectionpool - DEBUG - Starting new HTTP connection (1): ondemand.websol.barchart.com\n",
      "2018-12-14 13:17:27,529 - requests.packages.urllib3.connectionpool - DEBUG - http://ondemand.websol.barchart.com:80 \"GET /getHistory.json?maxRecords=57600&interval=1&startDate=20120621&symbol=HOQ12&type=minutes&apikey=e95f76cac84a3c62139dc3502a3e73e7 HTTP/1.1\" 200 None\n",
      " 67%|██████▋   | 8/12 [00:11<00:05,  1.42s/it]2018-12-14 13:17:27,733 - requests.packages.urllib3.connectionpool - DEBUG - Starting new HTTP connection (1): ondemand.websol.barchart.com\n",
      "2018-12-14 13:17:28,117 - requests.packages.urllib3.connectionpool - DEBUG - http://ondemand.websol.barchart.com:80 \"GET /getHistory.json?maxRecords=60&interval=1&startDate=20120801&symbol=HOU12&type=daily&apikey=e95f76cac84a3c62139dc3502a3e73e7 HTTP/1.1\" 200 None\n",
      "2018-12-14 13:17:28,130 - requests.packages.urllib3.connectionpool - DEBUG - Starting new HTTP connection (1): ondemand.websol.barchart.com\n",
      "2018-12-14 13:17:29,065 - requests.packages.urllib3.connectionpool - DEBUG - http://ondemand.websol.barchart.com:80 \"GET /getHistory.json?maxRecords=57600&interval=1&startDate=20120722&symbol=HOU12&type=minutes&apikey=e95f76cac84a3c62139dc3502a3e73e7 HTTP/1.1\" 200 None\n",
      " 75%|███████▌  | 9/12 [00:12<00:04,  1.44s/it]2018-12-14 13:17:29,348 - requests.packages.urllib3.connectionpool - DEBUG - Starting new HTTP connection (1): ondemand.websol.barchart.com\n",
      "2018-12-14 13:17:29,679 - requests.packages.urllib3.connectionpool - DEBUG - http://ondemand.websol.barchart.com:80 \"GET /getHistory.json?maxRecords=60&interval=1&startDate=20120901&symbol=HOV12&type=daily&apikey=e95f76cac84a3c62139dc3502a3e73e7 HTTP/1.1\" 200 None\n",
      "2018-12-14 13:17:29,689 - requests.packages.urllib3.connectionpool - DEBUG - Starting new HTTP connection (1): ondemand.websol.barchart.com\n",
      "2018-12-14 13:17:30,601 - requests.packages.urllib3.connectionpool - DEBUG - http://ondemand.websol.barchart.com:80 \"GET /getHistory.json?maxRecords=57600&interval=1&startDate=20120819&symbol=HOV12&type=minutes&apikey=e95f76cac84a3c62139dc3502a3e73e7 HTTP/1.1\" 200 None\n"
     ]
    },
    {
     "name": "stderr",
     "output_type": "stream",
     "text": [
      " 83%|████████▎ | 10/12 [00:14<00:02,  1.45s/it]2018-12-14 13:17:30,819 - requests.packages.urllib3.connectionpool - DEBUG - Starting new HTTP connection (1): ondemand.websol.barchart.com\n",
      "2018-12-14 13:17:31,215 - requests.packages.urllib3.connectionpool - DEBUG - http://ondemand.websol.barchart.com:80 \"GET /getHistory.json?maxRecords=60&interval=1&startDate=20121001&symbol=HOX12&type=daily&apikey=e95f76cac84a3c62139dc3502a3e73e7 HTTP/1.1\" 200 None\n",
      "2018-12-14 13:17:31,224 - requests.packages.urllib3.connectionpool - DEBUG - Starting new HTTP connection (1): ondemand.websol.barchart.com\n",
      "2018-12-14 13:17:32,136 - requests.packages.urllib3.connectionpool - DEBUG - http://ondemand.websol.barchart.com:80 \"GET /getHistory.json?maxRecords=57600&interval=1&startDate=20120921&symbol=HOX12&type=minutes&apikey=e95f76cac84a3c62139dc3502a3e73e7 HTTP/1.1\" 200 None\n",
      " 92%|█████████▏| 11/12 [00:15<00:01,  1.45s/it]2018-12-14 13:17:32,348 - requests.packages.urllib3.connectionpool - DEBUG - Starting new HTTP connection (1): ondemand.websol.barchart.com\n",
      "2018-12-14 13:17:32,631 - requests.packages.urllib3.connectionpool - DEBUG - http://ondemand.websol.barchart.com:80 \"GET /getHistory.json?maxRecords=60&interval=1&startDate=20121101&symbol=HOZ12&type=daily&apikey=e95f76cac84a3c62139dc3502a3e73e7 HTTP/1.1\" 200 None\n",
      "2018-12-14 13:17:32,640 - requests.packages.urllib3.connectionpool - DEBUG - Starting new HTTP connection (1): ondemand.websol.barchart.com\n",
      "2018-12-14 13:17:33,457 - requests.packages.urllib3.connectionpool - DEBUG - http://ondemand.websol.barchart.com:80 \"GET /getHistory.json?maxRecords=57600&interval=1&startDate=20121021&symbol=HOZ12&type=minutes&apikey=e95f76cac84a3c62139dc3502a3e73e7 HTTP/1.1\" 200 None\n",
      "100%|██████████| 12/12 [00:17<00:00,  1.44s/it]\n",
      "2018-12-14 13:17:35,224 - root - INFO - begin:201301, end:201312\n",
      "  0%|          | 0/12 [00:00<?, ?it/s]2018-12-14 13:17:35,247 - requests.packages.urllib3.connectionpool - DEBUG - Starting new HTTP connection (1): ondemand.websol.barchart.com\n"
     ]
    },
    {
     "name": "stdout",
     "output_type": "stream",
     "text": [
      "Barchart OnDemand Client: http://ondemand.websol.barchart.com/\n"
     ]
    },
    {
     "name": "stderr",
     "output_type": "stream",
     "text": [
      "2018-12-14 13:17:35,543 - requests.packages.urllib3.connectionpool - DEBUG - http://ondemand.websol.barchart.com:80 \"GET /getHistory.json?maxRecords=60&interval=1&startDate=20121201&symbol=HOF13&type=daily&apikey=e95f76cac84a3c62139dc3502a3e73e7 HTTP/1.1\" 200 None\n",
      "2018-12-14 13:17:35,556 - requests.packages.urllib3.connectionpool - DEBUG - Starting new HTTP connection (1): ondemand.websol.barchart.com\n",
      "2018-12-14 13:17:36,436 - requests.packages.urllib3.connectionpool - DEBUG - http://ondemand.websol.barchart.com:80 \"GET /getHistory.json?maxRecords=57600&interval=1&startDate=20121121&symbol=HOF13&type=minutes&apikey=e95f76cac84a3c62139dc3502a3e73e7 HTTP/1.1\" 200 None\n",
      "  8%|▊         | 1/12 [00:01<00:15,  1.39s/it]2018-12-14 13:17:36,639 - requests.packages.urllib3.connectionpool - DEBUG - Starting new HTTP connection (1): ondemand.websol.barchart.com\n",
      "2018-12-14 13:17:37,050 - requests.packages.urllib3.connectionpool - DEBUG - http://ondemand.websol.barchart.com:80 \"GET /getHistory.json?maxRecords=60&interval=1&startDate=20130101&symbol=HOG13&type=daily&apikey=e95f76cac84a3c62139dc3502a3e73e7 HTTP/1.1\" 200 None\n",
      "2018-12-14 13:17:37,063 - requests.packages.urllib3.connectionpool - DEBUG - Starting new HTTP connection (1): ondemand.websol.barchart.com\n",
      "2018-12-14 13:17:37,973 - requests.packages.urllib3.connectionpool - DEBUG - http://ondemand.websol.barchart.com:80 \"GET /getHistory.json?maxRecords=57600&interval=1&startDate=20121222&symbol=HOG13&type=minutes&apikey=e95f76cac84a3c62139dc3502a3e73e7 HTTP/1.1\" 200 None\n",
      " 17%|█▋        | 2/12 [00:02<00:14,  1.45s/it]2018-12-14 13:17:38,148 - requests.packages.urllib3.connectionpool - DEBUG - Starting new HTTP connection (1): ondemand.websol.barchart.com\n",
      "2018-12-14 13:17:38,588 - requests.packages.urllib3.connectionpool - DEBUG - http://ondemand.websol.barchart.com:80 \"GET /getHistory.json?maxRecords=60&interval=1&startDate=20130201&symbol=HOH13&type=daily&apikey=e95f76cac84a3c62139dc3502a3e73e7 HTTP/1.1\" 200 None\n",
      "2018-12-14 13:17:38,599 - requests.packages.urllib3.connectionpool - DEBUG - Starting new HTTP connection (1): ondemand.websol.barchart.com\n",
      "2018-12-14 13:17:39,816 - requests.packages.urllib3.connectionpool - DEBUG - http://ondemand.websol.barchart.com:80 \"GET /getHistory.json?maxRecords=57600&interval=1&startDate=20130119&symbol=HOH13&type=minutes&apikey=e95f76cac84a3c62139dc3502a3e73e7 HTTP/1.1\" 200 None\n",
      " 25%|██▌       | 3/12 [00:04<00:14,  1.60s/it]2018-12-14 13:17:40,053 - requests.packages.urllib3.connectionpool - DEBUG - Starting new HTTP connection (1): ondemand.websol.barchart.com\n",
      "2018-12-14 13:17:40,364 - requests.packages.urllib3.connectionpool - DEBUG - http://ondemand.websol.barchart.com:80 \"GET /getHistory.json?maxRecords=60&interval=1&startDate=20130301&symbol=HOJ13&type=daily&apikey=e95f76cac84a3c62139dc3502a3e73e7 HTTP/1.1\" 200 None\n",
      "2018-12-14 13:17:40,376 - requests.packages.urllib3.connectionpool - DEBUG - Starting new HTTP connection (1): ondemand.websol.barchart.com\n",
      "2018-12-14 13:17:41,352 - requests.packages.urllib3.connectionpool - DEBUG - http://ondemand.websol.barchart.com:80 \"GET /getHistory.json?maxRecords=57600&interval=1&startDate=20130216&symbol=HOJ13&type=minutes&apikey=e95f76cac84a3c62139dc3502a3e73e7 HTTP/1.1\" 200 None\n",
      " 33%|███▎      | 4/12 [00:06<00:12,  1.58s/it]2018-12-14 13:17:41,580 - requests.packages.urllib3.connectionpool - DEBUG - Starting new HTTP connection (1): ondemand.websol.barchart.com\n",
      "2018-12-14 13:17:41,966 - requests.packages.urllib3.connectionpool - DEBUG - http://ondemand.websol.barchart.com:80 \"GET /getHistory.json?maxRecords=60&interval=1&startDate=20130401&symbol=HOK13&type=daily&apikey=e95f76cac84a3c62139dc3502a3e73e7 HTTP/1.1\" 200 None\n",
      "2018-12-14 13:17:41,979 - requests.packages.urllib3.connectionpool - DEBUG - Starting new HTTP connection (1): ondemand.websol.barchart.com\n",
      "2018-12-14 13:17:43,142 - requests.packages.urllib3.connectionpool - DEBUG - http://ondemand.websol.barchart.com:80 \"GET /getHistory.json?maxRecords=57600&interval=1&startDate=20130321&symbol=HOK13&type=minutes&apikey=e95f76cac84a3c62139dc3502a3e73e7 HTTP/1.1\" 200 None\n",
      " 42%|████▏     | 5/12 [00:08<00:11,  1.63s/it]2018-12-14 13:17:43,378 - requests.packages.urllib3.connectionpool - DEBUG - Starting new HTTP connection (1): ondemand.websol.barchart.com\n",
      "2018-12-14 13:17:43,810 - requests.packages.urllib3.connectionpool - DEBUG - http://ondemand.websol.barchart.com:80 \"GET /getHistory.json?maxRecords=60&interval=1&startDate=20130501&symbol=HOM13&type=daily&apikey=e95f76cac84a3c62139dc3502a3e73e7 HTTP/1.1\" 200 None\n",
      "2018-12-14 13:17:43,822 - requests.packages.urllib3.connectionpool - DEBUG - Starting new HTTP connection (1): ondemand.websol.barchart.com\n",
      "2018-12-14 13:17:44,744 - requests.packages.urllib3.connectionpool - DEBUG - http://ondemand.websol.barchart.com:80 \"GET /getHistory.json?maxRecords=57600&interval=1&startDate=20130421&symbol=HOM13&type=minutes&apikey=e95f76cac84a3c62139dc3502a3e73e7 HTTP/1.1\" 200 None\n",
      " 50%|█████     | 6/12 [00:09<00:09,  1.63s/it]2018-12-14 13:17:45,031 - requests.packages.urllib3.connectionpool - DEBUG - Starting new HTTP connection (1): ondemand.websol.barchart.com\n",
      "2018-12-14 13:17:45,345 - requests.packages.urllib3.connectionpool - DEBUG - http://ondemand.websol.barchart.com:80 \"GET /getHistory.json?maxRecords=60&interval=1&startDate=20130601&symbol=HON13&type=daily&apikey=e95f76cac84a3c62139dc3502a3e73e7 HTTP/1.1\" 200 None\n",
      "2018-12-14 13:17:45,355 - requests.packages.urllib3.connectionpool - DEBUG - Starting new HTTP connection (1): ondemand.websol.barchart.com\n",
      "2018-12-14 13:17:46,574 - requests.packages.urllib3.connectionpool - DEBUG - http://ondemand.websol.barchart.com:80 \"GET /getHistory.json?maxRecords=57600&interval=1&startDate=20130519&symbol=HON13&type=minutes&apikey=e95f76cac84a3c62139dc3502a3e73e7 HTTP/1.1\" 200 None\n",
      " 58%|█████▊    | 7/12 [00:11<00:08,  1.65s/it]2018-12-14 13:17:46,798 - requests.packages.urllib3.connectionpool - DEBUG - Starting new HTTP connection (1): ondemand.websol.barchart.com\n",
      "2018-12-14 13:17:47,188 - requests.packages.urllib3.connectionpool - DEBUG - http://ondemand.websol.barchart.com:80 \"GET /getHistory.json?maxRecords=60&interval=1&startDate=20130701&symbol=HOQ13&type=daily&apikey=e95f76cac84a3c62139dc3502a3e73e7 HTTP/1.1\" 200 None\n",
      "2018-12-14 13:17:47,195 - requests.packages.urllib3.connectionpool - DEBUG - Starting new HTTP connection (1): ondemand.websol.barchart.com\n",
      "2018-12-14 13:17:48,147 - requests.packages.urllib3.connectionpool - DEBUG - http://ondemand.websol.barchart.com:80 \"GET /getHistory.json?maxRecords=57600&interval=1&startDate=20130621&symbol=HOQ13&type=minutes&apikey=e95f76cac84a3c62139dc3502a3e73e7 HTTP/1.1\" 200 None\n",
      " 67%|██████▋   | 8/12 [00:13<00:06,  1.64s/it]2018-12-14 13:17:48,393 - requests.packages.urllib3.connectionpool - DEBUG - Starting new HTTP connection (1): ondemand.websol.barchart.com\n",
      "2018-12-14 13:17:48,724 - requests.packages.urllib3.connectionpool - DEBUG - http://ondemand.websol.barchart.com:80 \"GET /getHistory.json?maxRecords=60&interval=1&startDate=20130801&symbol=HOU13&type=daily&apikey=e95f76cac84a3c62139dc3502a3e73e7 HTTP/1.1\" 200 None\n",
      "2018-12-14 13:17:48,734 - requests.packages.urllib3.connectionpool - DEBUG - Starting new HTTP connection (1): ondemand.websol.barchart.com\n",
      "2018-12-14 13:17:49,673 - requests.packages.urllib3.connectionpool - DEBUG - http://ondemand.websol.barchart.com:80 \"GET /getHistory.json?maxRecords=57600&interval=1&startDate=20130721&symbol=HOU13&type=minutes&apikey=e95f76cac84a3c62139dc3502a3e73e7 HTTP/1.1\" 200 None\n",
      " 75%|███████▌  | 9/12 [00:14<00:04,  1.63s/it]2018-12-14 13:17:49,896 - requests.packages.urllib3.connectionpool - DEBUG - Starting new HTTP connection (1): ondemand.websol.barchart.com\n",
      "2018-12-14 13:17:50,260 - requests.packages.urllib3.connectionpool - DEBUG - http://ondemand.websol.barchart.com:80 \"GET /getHistory.json?maxRecords=60&interval=1&startDate=20130901&symbol=HOV13&type=daily&apikey=e95f76cac84a3c62139dc3502a3e73e7 HTTP/1.1\" 200 None\n",
      "2018-12-14 13:17:50,272 - requests.packages.urllib3.connectionpool - DEBUG - Starting new HTTP connection (1): ondemand.websol.barchart.com\n",
      "2018-12-14 13:17:51,489 - requests.packages.urllib3.connectionpool - DEBUG - http://ondemand.websol.barchart.com:80 \"GET /getHistory.json?maxRecords=57600&interval=1&startDate=20130821&symbol=HOV13&type=minutes&apikey=e95f76cac84a3c62139dc3502a3e73e7 HTTP/1.1\" 200 None\n"
     ]
    },
    {
     "name": "stderr",
     "output_type": "stream",
     "text": [
      " 83%|████████▎ | 10/12 [00:16<00:03,  1.65s/it]2018-12-14 13:17:51,735 - requests.packages.urllib3.connectionpool - DEBUG - Starting new HTTP connection (1): ondemand.websol.barchart.com\n",
      "2018-12-14 13:17:52,103 - requests.packages.urllib3.connectionpool - DEBUG - http://ondemand.websol.barchart.com:80 \"GET /getHistory.json?maxRecords=60&interval=1&startDate=20131001&symbol=HOX13&type=daily&apikey=e95f76cac84a3c62139dc3502a3e73e7 HTTP/1.1\" 200 None\n",
      "2018-12-14 13:17:52,116 - requests.packages.urllib3.connectionpool - DEBUG - Starting new HTTP connection (1): ondemand.websol.barchart.com\n",
      "2018-12-14 13:17:53,025 - requests.packages.urllib3.connectionpool - DEBUG - http://ondemand.websol.barchart.com:80 \"GET /getHistory.json?maxRecords=57600&interval=1&startDate=20130921&symbol=HOX13&type=minutes&apikey=e95f76cac84a3c62139dc3502a3e73e7 HTTP/1.1\" 200 None\n",
      " 92%|█████████▏| 11/12 [00:17<00:01,  1.64s/it]2018-12-14 13:17:53,244 - requests.packages.urllib3.connectionpool - DEBUG - Starting new HTTP connection (1): ondemand.websol.barchart.com\n",
      "2018-12-14 13:17:53,640 - requests.packages.urllib3.connectionpool - DEBUG - http://ondemand.websol.barchart.com:80 \"GET /getHistory.json?maxRecords=60&interval=1&startDate=20131101&symbol=HOZ13&type=daily&apikey=e95f76cac84a3c62139dc3502a3e73e7 HTTP/1.1\" 200 None\n",
      "2018-12-14 13:17:53,652 - requests.packages.urllib3.connectionpool - DEBUG - Starting new HTTP connection (1): ondemand.websol.barchart.com\n",
      "2018-12-14 13:17:55,176 - requests.packages.urllib3.connectionpool - DEBUG - http://ondemand.websol.barchart.com:80 \"GET /getHistory.json?maxRecords=57600&interval=1&startDate=20131020&symbol=HOZ13&type=minutes&apikey=e95f76cac84a3c62139dc3502a3e73e7 HTTP/1.1\" 200 None\n",
      "100%|██████████| 12/12 [00:20<00:00,  1.68s/it]\n",
      "2018-12-14 13:17:56,981 - root - INFO - begin:201401, end:201412\n",
      "  0%|          | 0/12 [00:00<?, ?it/s]2018-12-14 13:17:57,008 - requests.packages.urllib3.connectionpool - DEBUG - Starting new HTTP connection (1): ondemand.websol.barchart.com\n"
     ]
    },
    {
     "name": "stdout",
     "output_type": "stream",
     "text": [
      "Barchart OnDemand Client: http://ondemand.websol.barchart.com/\n"
     ]
    },
    {
     "name": "stderr",
     "output_type": "stream",
     "text": [
      "2018-12-14 13:17:57,325 - requests.packages.urllib3.connectionpool - DEBUG - http://ondemand.websol.barchart.com:80 \"GET /getHistory.json?maxRecords=60&interval=1&startDate=20131201&symbol=HOF14&type=daily&apikey=e95f76cac84a3c62139dc3502a3e73e7 HTTP/1.1\" 200 None\n",
      "2018-12-14 13:17:57,336 - requests.packages.urllib3.connectionpool - DEBUG - Starting new HTTP connection (1): ondemand.websol.barchart.com\n",
      "2018-12-14 13:17:58,235 - requests.packages.urllib3.connectionpool - DEBUG - http://ondemand.websol.barchart.com:80 \"GET /getHistory.json?maxRecords=57600&interval=1&startDate=20131121&symbol=HOF14&type=minutes&apikey=e95f76cac84a3c62139dc3502a3e73e7 HTTP/1.1\" 200 None\n",
      "  8%|▊         | 1/12 [00:01<00:15,  1.43s/it]2018-12-14 13:17:58,445 - requests.packages.urllib3.connectionpool - DEBUG - Starting new HTTP connection (1): ondemand.websol.barchart.com\n",
      "2018-12-14 13:17:58,861 - requests.packages.urllib3.connectionpool - DEBUG - http://ondemand.websol.barchart.com:80 \"GET /getHistory.json?maxRecords=60&interval=1&startDate=20140101&symbol=HOG14&type=daily&apikey=e95f76cac84a3c62139dc3502a3e73e7 HTTP/1.1\" 200 None\n",
      "2018-12-14 13:17:58,873 - requests.packages.urllib3.connectionpool - DEBUG - Starting new HTTP connection (1): ondemand.websol.barchart.com\n",
      "2018-12-14 13:18:01,012 - requests.packages.urllib3.connectionpool - DEBUG - http://ondemand.websol.barchart.com:80 \"GET /getHistory.json?maxRecords=57600&interval=1&startDate=20131222&symbol=HOG14&type=minutes&apikey=e95f76cac84a3c62139dc3502a3e73e7 HTTP/1.1\" 200 None\n",
      " 17%|█▋        | 2/12 [00:04<00:20,  2.10s/it]2018-12-14 13:18:01,203 - requests.packages.urllib3.connectionpool - DEBUG - Starting new HTTP connection (1): ondemand.websol.barchart.com\n",
      "2018-12-14 13:18:01,626 - requests.packages.urllib3.connectionpool - DEBUG - http://ondemand.websol.barchart.com:80 \"GET /getHistory.json?maxRecords=60&interval=1&startDate=20140201&symbol=HOH14&type=daily&apikey=e95f76cac84a3c62139dc3502a3e73e7 HTTP/1.1\" 200 None\n",
      "2018-12-14 13:18:01,638 - requests.packages.urllib3.connectionpool - DEBUG - Starting new HTTP connection (1): ondemand.websol.barchart.com\n",
      "2018-12-14 13:18:02,603 - requests.packages.urllib3.connectionpool - DEBUG - http://ondemand.websol.barchart.com:80 \"GET /getHistory.json?maxRecords=57600&interval=1&startDate=20140119&symbol=HOH14&type=minutes&apikey=e95f76cac84a3c62139dc3502a3e73e7 HTTP/1.1\" 200 None\n",
      " 25%|██▌       | 3/12 [00:05<00:17,  1.93s/it]2018-12-14 13:18:02,813 - requests.packages.urllib3.connectionpool - DEBUG - Starting new HTTP connection (1): ondemand.websol.barchart.com\n",
      "2018-12-14 13:18:03,163 - requests.packages.urllib3.connectionpool - DEBUG - http://ondemand.websol.barchart.com:80 \"GET /getHistory.json?maxRecords=60&interval=1&startDate=20140301&symbol=HOJ14&type=daily&apikey=e95f76cac84a3c62139dc3502a3e73e7 HTTP/1.1\" 200 None\n",
      "2018-12-14 13:18:03,175 - requests.packages.urllib3.connectionpool - DEBUG - Starting new HTTP connection (1): ondemand.websol.barchart.com\n",
      "2018-12-14 13:18:04,085 - requests.packages.urllib3.connectionpool - DEBUG - http://ondemand.websol.barchart.com:80 \"GET /getHistory.json?maxRecords=57600&interval=1&startDate=20140219&symbol=HOJ14&type=minutes&apikey=e95f76cac84a3c62139dc3502a3e73e7 HTTP/1.1\" 200 None\n",
      " 33%|███▎      | 4/12 [00:07<00:14,  1.82s/it]2018-12-14 13:18:04,289 - requests.packages.urllib3.connectionpool - DEBUG - Starting new HTTP connection (1): ondemand.websol.barchart.com\n",
      "2018-12-14 13:18:04,698 - requests.packages.urllib3.connectionpool - DEBUG - http://ondemand.websol.barchart.com:80 \"GET /getHistory.json?maxRecords=60&interval=1&startDate=20140401&symbol=HOK14&type=daily&apikey=e95f76cac84a3c62139dc3502a3e73e7 HTTP/1.1\" 200 None\n",
      "2018-12-14 13:18:04,708 - requests.packages.urllib3.connectionpool - DEBUG - Starting new HTTP connection (1): ondemand.websol.barchart.com\n",
      "2018-12-14 13:18:05,661 - requests.packages.urllib3.connectionpool - DEBUG - http://ondemand.websol.barchart.com:80 \"GET /getHistory.json?maxRecords=57600&interval=1&startDate=20140321&symbol=HOK14&type=minutes&apikey=e95f76cac84a3c62139dc3502a3e73e7 HTTP/1.1\" 200 None\n",
      " 42%|████▏     | 5/12 [00:08<00:12,  1.77s/it]2018-12-14 13:18:05,877 - requests.packages.urllib3.connectionpool - DEBUG - Starting new HTTP connection (1): ondemand.websol.barchart.com\n",
      "2018-12-14 13:18:06,234 - requests.packages.urllib3.connectionpool - DEBUG - http://ondemand.websol.barchart.com:80 \"GET /getHistory.json?maxRecords=60&interval=1&startDate=20140501&symbol=HOM14&type=daily&apikey=e95f76cac84a3c62139dc3502a3e73e7 HTTP/1.1\" 200 None\n",
      "2018-12-14 13:18:06,246 - requests.packages.urllib3.connectionpool - DEBUG - Starting new HTTP connection (1): ondemand.websol.barchart.com\n",
      "2018-12-14 13:18:07,155 - requests.packages.urllib3.connectionpool - DEBUG - http://ondemand.websol.barchart.com:80 \"GET /getHistory.json?maxRecords=57600&interval=1&startDate=20140420&symbol=HOM14&type=minutes&apikey=e95f76cac84a3c62139dc3502a3e73e7 HTTP/1.1\" 200 None\n",
      " 50%|█████     | 6/12 [00:10<00:10,  1.72s/it]2018-12-14 13:18:07,356 - requests.packages.urllib3.connectionpool - DEBUG - Starting new HTTP connection (1): ondemand.websol.barchart.com\n",
      "2018-12-14 13:18:07,770 - requests.packages.urllib3.connectionpool - DEBUG - http://ondemand.websol.barchart.com:80 \"GET /getHistory.json?maxRecords=60&interval=1&startDate=20140601&symbol=HON14&type=daily&apikey=e95f76cac84a3c62139dc3502a3e73e7 HTTP/1.1\" 200 None\n",
      "2018-12-14 13:18:07,784 - requests.packages.urllib3.connectionpool - DEBUG - Starting new HTTP connection (1): ondemand.websol.barchart.com\n",
      "2018-12-14 13:18:08,895 - requests.packages.urllib3.connectionpool - DEBUG - http://ondemand.websol.barchart.com:80 \"GET /getHistory.json?maxRecords=57600&interval=1&startDate=20140521&symbol=HON14&type=minutes&apikey=e95f76cac84a3c62139dc3502a3e73e7 HTTP/1.1\" 200 None\n",
      " 58%|█████▊    | 7/12 [00:12<00:08,  1.73s/it]2018-12-14 13:18:09,158 - requests.packages.urllib3.connectionpool - DEBUG - Starting new HTTP connection (1): ondemand.websol.barchart.com\n",
      "2018-12-14 13:18:09,613 - requests.packages.urllib3.connectionpool - DEBUG - http://ondemand.websol.barchart.com:80 \"GET /getHistory.json?maxRecords=60&interval=1&startDate=20140701&symbol=HOQ14&type=daily&apikey=e95f76cac84a3c62139dc3502a3e73e7 HTTP/1.1\" 200 None\n",
      "2018-12-14 13:18:09,623 - requests.packages.urllib3.connectionpool - DEBUG - Starting new HTTP connection (1): ondemand.websol.barchart.com\n",
      "2018-12-14 13:18:11,456 - requests.packages.urllib3.connectionpool - DEBUG - http://ondemand.websol.barchart.com:80 \"GET /getHistory.json?maxRecords=57600&interval=1&startDate=20140621&symbol=HOQ14&type=minutes&apikey=e95f76cac84a3c62139dc3502a3e73e7 HTTP/1.1\" 200 None\n",
      " 67%|██████▋   | 8/12 [00:14<00:07,  1.83s/it]2018-12-14 13:18:11,649 - requests.packages.urllib3.connectionpool - DEBUG - Starting new HTTP connection (1): ondemand.websol.barchart.com\n",
      "2018-12-14 13:18:12,070 - requests.packages.urllib3.connectionpool - DEBUG - http://ondemand.websol.barchart.com:80 \"GET /getHistory.json?maxRecords=60&interval=1&startDate=20140801&symbol=HOU14&type=daily&apikey=e95f76cac84a3c62139dc3502a3e73e7 HTTP/1.1\" 200 None\n",
      "2018-12-14 13:18:12,083 - requests.packages.urllib3.connectionpool - DEBUG - Starting new HTTP connection (1): ondemand.websol.barchart.com\n",
      "2018-12-14 13:18:13,173 - requests.packages.urllib3.connectionpool - DEBUG - http://ondemand.websol.barchart.com:80 \"GET /getHistory.json?maxRecords=57600&interval=1&startDate=20140720&symbol=HOU14&type=minutes&apikey=e95f76cac84a3c62139dc3502a3e73e7 HTTP/1.1\" 200 None\n",
      " 75%|███████▌  | 9/12 [00:16<00:05,  1.82s/it]2018-12-14 13:18:13,378 - requests.packages.urllib3.connectionpool - DEBUG - Starting new HTTP connection (1): ondemand.websol.barchart.com\n",
      "2018-12-14 13:18:13,913 - requests.packages.urllib3.connectionpool - DEBUG - http://ondemand.websol.barchart.com:80 \"GET /getHistory.json?maxRecords=60&interval=1&startDate=20140901&symbol=HOV14&type=daily&apikey=e95f76cac84a3c62139dc3502a3e73e7 HTTP/1.1\" 200 None\n",
      "2018-12-14 13:18:13,924 - requests.packages.urllib3.connectionpool - DEBUG - Starting new HTTP connection (1): ondemand.websol.barchart.com\n",
      "2018-12-14 13:18:14,908 - requests.packages.urllib3.connectionpool - DEBUG - http://ondemand.websol.barchart.com:80 \"GET /getHistory.json?maxRecords=57600&interval=1&startDate=20140821&symbol=HOV14&type=minutes&apikey=e95f76cac84a3c62139dc3502a3e73e7 HTTP/1.1\" 200 None\n"
     ]
    },
    {
     "name": "stderr",
     "output_type": "stream",
     "text": [
      " 83%|████████▎ | 10/12 [00:18<00:03,  1.81s/it]2018-12-14 13:18:15,106 - requests.packages.urllib3.connectionpool - DEBUG - Starting new HTTP connection (1): ondemand.websol.barchart.com\n",
      "2018-12-14 13:18:15,449 - requests.packages.urllib3.connectionpool - DEBUG - http://ondemand.websol.barchart.com:80 \"GET /getHistory.json?maxRecords=60&interval=1&startDate=20141001&symbol=HOX14&type=daily&apikey=e95f76cac84a3c62139dc3502a3e73e7 HTTP/1.1\" 200 None\n",
      "2018-12-14 13:18:15,463 - requests.packages.urllib3.connectionpool - DEBUG - Starting new HTTP connection (1): ondemand.websol.barchart.com\n",
      "2018-12-14 13:18:16,678 - requests.packages.urllib3.connectionpool - DEBUG - http://ondemand.websol.barchart.com:80 \"GET /getHistory.json?maxRecords=57600&interval=1&startDate=20140921&symbol=HOX14&type=minutes&apikey=e95f76cac84a3c62139dc3502a3e73e7 HTTP/1.1\" 200 None\n",
      " 92%|█████████▏| 11/12 [00:19<00:01,  1.81s/it]2018-12-14 13:18:16,880 - requests.packages.urllib3.connectionpool - DEBUG - Starting new HTTP connection (1): ondemand.websol.barchart.com\n",
      "2018-12-14 13:18:17,293 - requests.packages.urllib3.connectionpool - DEBUG - http://ondemand.websol.barchart.com:80 \"GET /getHistory.json?maxRecords=60&interval=1&startDate=20141101&symbol=HOZ14&type=daily&apikey=e95f76cac84a3c62139dc3502a3e73e7 HTTP/1.1\" 200 None\n",
      "2018-12-14 13:18:17,306 - requests.packages.urllib3.connectionpool - DEBUG - Starting new HTTP connection (1): ondemand.websol.barchart.com\n",
      "2018-12-14 13:18:18,183 - requests.packages.urllib3.connectionpool - DEBUG - http://ondemand.websol.barchart.com:80 \"GET /getHistory.json?maxRecords=57600&interval=1&startDate=20141019&symbol=HOZ14&type=minutes&apikey=e95f76cac84a3c62139dc3502a3e73e7 HTTP/1.1\" 200 None\n",
      "100%|██████████| 12/12 [00:21<00:00,  1.78s/it]\n",
      "2018-12-14 13:18:19,856 - root - INFO - begin:201501, end:201512\n",
      "  0%|          | 0/12 [00:00<?, ?it/s]2018-12-14 13:18:19,878 - requests.packages.urllib3.connectionpool - DEBUG - Starting new HTTP connection (1): ondemand.websol.barchart.com\n"
     ]
    },
    {
     "name": "stdout",
     "output_type": "stream",
     "text": [
      "Barchart OnDemand Client: http://ondemand.websol.barchart.com/\n"
     ]
    },
    {
     "name": "stderr",
     "output_type": "stream",
     "text": [
      "2018-12-14 13:18:20,184 - requests.packages.urllib3.connectionpool - DEBUG - http://ondemand.websol.barchart.com:80 \"GET /getHistory.json?maxRecords=60&interval=1&startDate=20141201&symbol=HOF15&type=daily&apikey=e95f76cac84a3c62139dc3502a3e73e7 HTTP/1.1\" 200 None\n",
      "2018-12-14 13:18:20,192 - requests.packages.urllib3.connectionpool - DEBUG - Starting new HTTP connection (1): ondemand.websol.barchart.com\n",
      "2018-12-14 13:18:21,316 - requests.packages.urllib3.connectionpool - DEBUG - http://ondemand.websol.barchart.com:80 \"GET /getHistory.json?maxRecords=57600&interval=1&startDate=20141121&symbol=HOF15&type=minutes&apikey=e95f76cac84a3c62139dc3502a3e73e7 HTTP/1.1\" 200 None\n",
      "  8%|▊         | 1/12 [00:01<00:18,  1.64s/it]2018-12-14 13:18:21,523 - requests.packages.urllib3.connectionpool - DEBUG - Starting new HTTP connection (1): ondemand.websol.barchart.com\n",
      "2018-12-14 13:18:21,899 - requests.packages.urllib3.connectionpool - DEBUG - http://ondemand.websol.barchart.com:80 \"GET /getHistory.json?maxRecords=60&interval=1&startDate=20150101&symbol=HOG15&type=daily&apikey=e95f76cac84a3c62139dc3502a3e73e7 HTTP/1.1\" 200 None\n",
      "2018-12-14 13:18:21,909 - requests.packages.urllib3.connectionpool - DEBUG - Starting new HTTP connection (1): ondemand.websol.barchart.com\n",
      "2018-12-14 13:18:22,822 - requests.packages.urllib3.connectionpool - DEBUG - http://ondemand.websol.barchart.com:80 \"GET /getHistory.json?maxRecords=57600&interval=1&startDate=20141221&symbol=HOG15&type=minutes&apikey=e95f76cac84a3c62139dc3502a3e73e7 HTTP/1.1\" 200 None\n",
      " 17%|█▋        | 2/12 [00:03<00:15,  1.56s/it]2018-12-14 13:18:22,992 - requests.packages.urllib3.connectionpool - DEBUG - Starting new HTTP connection (1): ondemand.websol.barchart.com\n",
      "2018-12-14 13:18:23,301 - requests.packages.urllib3.connectionpool - DEBUG - http://ondemand.websol.barchart.com:80 \"GET /getHistory.json?maxRecords=60&interval=1&startDate=20150201&symbol=HOH15&type=daily&apikey=e95f76cac84a3c62139dc3502a3e73e7 HTTP/1.1\" 200 None\n",
      "2018-12-14 13:18:23,309 - requests.packages.urllib3.connectionpool - DEBUG - Starting new HTTP connection (1): ondemand.websol.barchart.com\n",
      "2018-12-14 13:18:24,357 - requests.packages.urllib3.connectionpool - DEBUG - http://ondemand.websol.barchart.com:80 \"GET /getHistory.json?maxRecords=57600&interval=1&startDate=20150118&symbol=HOH15&type=minutes&apikey=e95f76cac84a3c62139dc3502a3e73e7 HTTP/1.1\" 200 None\n",
      " 25%|██▌       | 3/12 [00:04<00:13,  1.55s/it]2018-12-14 13:18:24,543 - requests.packages.urllib3.connectionpool - DEBUG - Starting new HTTP connection (1): ondemand.websol.barchart.com\n",
      "2018-12-14 13:18:24,973 - requests.packages.urllib3.connectionpool - DEBUG - http://ondemand.websol.barchart.com:80 \"GET /getHistory.json?maxRecords=60&interval=1&startDate=20150301&symbol=HOJ15&type=daily&apikey=e95f76cac84a3c62139dc3502a3e73e7 HTTP/1.1\" 200 None\n",
      "2018-12-14 13:18:24,983 - requests.packages.urllib3.connectionpool - DEBUG - Starting new HTTP connection (1): ondemand.websol.barchart.com\n",
      "2018-12-14 13:18:26,201 - requests.packages.urllib3.connectionpool - DEBUG - http://ondemand.websol.barchart.com:80 \"GET /getHistory.json?maxRecords=57600&interval=1&startDate=20150219&symbol=HOJ15&type=minutes&apikey=e95f76cac84a3c62139dc3502a3e73e7 HTTP/1.1\" 200 None\n",
      " 33%|███▎      | 4/12 [00:06<00:13,  1.63s/it]2018-12-14 13:18:26,397 - requests.packages.urllib3.connectionpool - DEBUG - Starting new HTTP connection (1): ondemand.websol.barchart.com\n",
      "2018-12-14 13:18:26,817 - requests.packages.urllib3.connectionpool - DEBUG - http://ondemand.websol.barchart.com:80 \"GET /getHistory.json?maxRecords=60&interval=1&startDate=20150401&symbol=HOK15&type=daily&apikey=e95f76cac84a3c62139dc3502a3e73e7 HTTP/1.1\" 200 None\n",
      "2018-12-14 13:18:26,830 - requests.packages.urllib3.connectionpool - DEBUG - Starting new HTTP connection (1): ondemand.websol.barchart.com\n",
      "2018-12-14 13:18:27,737 - requests.packages.urllib3.connectionpool - DEBUG - http://ondemand.websol.barchart.com:80 \"GET /getHistory.json?maxRecords=57600&interval=1&startDate=20150321&symbol=HOK15&type=minutes&apikey=e95f76cac84a3c62139dc3502a3e73e7 HTTP/1.1\" 200 None\n",
      " 42%|████▏     | 5/12 [00:08<00:11,  1.61s/it]2018-12-14 13:18:27,940 - requests.packages.urllib3.connectionpool - DEBUG - Starting new HTTP connection (1): ondemand.websol.barchart.com\n",
      "2018-12-14 13:18:28,250 - requests.packages.urllib3.connectionpool - DEBUG - http://ondemand.websol.barchart.com:80 \"GET /getHistory.json?maxRecords=60&interval=1&startDate=20150501&symbol=HOM15&type=daily&apikey=e95f76cac84a3c62139dc3502a3e73e7 HTTP/1.1\" 200 None\n",
      "2018-12-14 13:18:28,260 - requests.packages.urllib3.connectionpool - DEBUG - Starting new HTTP connection (1): ondemand.websol.barchart.com\n",
      "2018-12-14 13:18:29,257 - requests.packages.urllib3.connectionpool - DEBUG - http://ondemand.websol.barchart.com:80 \"GET /getHistory.json?maxRecords=57600&interval=1&startDate=20150419&symbol=HOM15&type=minutes&apikey=e95f76cac84a3c62139dc3502a3e73e7 HTTP/1.1\" 200 None\n",
      " 50%|█████     | 6/12 [00:09<00:09,  1.59s/it]2018-12-14 13:18:29,446 - requests.packages.urllib3.connectionpool - DEBUG - Starting new HTTP connection (1): ondemand.websol.barchart.com\n",
      "2018-12-14 13:18:29,887 - requests.packages.urllib3.connectionpool - DEBUG - http://ondemand.websol.barchart.com:80 \"GET /getHistory.json?maxRecords=60&interval=1&startDate=20150601&symbol=HON15&type=daily&apikey=e95f76cac84a3c62139dc3502a3e73e7 HTTP/1.1\" 200 None\n",
      "2018-12-14 13:18:29,899 - requests.packages.urllib3.connectionpool - DEBUG - Starting new HTTP connection (1): ondemand.websol.barchart.com\n",
      "2018-12-14 13:18:30,809 - requests.packages.urllib3.connectionpool - DEBUG - http://ondemand.websol.barchart.com:80 \"GET /getHistory.json?maxRecords=57600&interval=1&startDate=20150521&symbol=HON15&type=minutes&apikey=e95f76cac84a3c62139dc3502a3e73e7 HTTP/1.1\" 200 None\n",
      " 58%|█████▊    | 7/12 [00:11<00:07,  1.59s/it]2018-12-14 13:18:31,000 - requests.packages.urllib3.connectionpool - DEBUG - Starting new HTTP connection (1): ondemand.websol.barchart.com\n",
      "2018-12-14 13:18:31,423 - requests.packages.urllib3.connectionpool - DEBUG - http://ondemand.websol.barchart.com:80 \"GET /getHistory.json?maxRecords=60&interval=1&startDate=20150701&symbol=HOQ15&type=daily&apikey=e95f76cac84a3c62139dc3502a3e73e7 HTTP/1.1\" 200 None\n",
      "2018-12-14 13:18:31,435 - requests.packages.urllib3.connectionpool - DEBUG - Starting new HTTP connection (1): ondemand.websol.barchart.com\n",
      "2018-12-14 13:18:32,434 - requests.packages.urllib3.connectionpool - DEBUG - http://ondemand.websol.barchart.com:80 \"GET /getHistory.json?maxRecords=57600&interval=1&startDate=20150621&symbol=HOQ15&type=minutes&apikey=e95f76cac84a3c62139dc3502a3e73e7 HTTP/1.1\" 200 None\n",
      " 67%|██████▋   | 8/12 [00:12<00:06,  1.59s/it]2018-12-14 13:18:32,632 - requests.packages.urllib3.connectionpool - DEBUG - Starting new HTTP connection (1): ondemand.websol.barchart.com\n",
      "2018-12-14 13:18:32,958 - requests.packages.urllib3.connectionpool - DEBUG - http://ondemand.websol.barchart.com:80 \"GET /getHistory.json?maxRecords=60&interval=1&startDate=20150801&symbol=HOU15&type=daily&apikey=e95f76cac84a3c62139dc3502a3e73e7 HTTP/1.1\" 200 None\n",
      "2018-12-14 13:18:32,971 - requests.packages.urllib3.connectionpool - DEBUG - Starting new HTTP connection (1): ondemand.websol.barchart.com\n",
      "2018-12-14 13:18:33,880 - requests.packages.urllib3.connectionpool - DEBUG - http://ondemand.websol.barchart.com:80 \"GET /getHistory.json?maxRecords=57600&interval=1&startDate=20150722&symbol=HOU15&type=minutes&apikey=e95f76cac84a3c62139dc3502a3e73e7 HTTP/1.1\" 200 None\n",
      " 75%|███████▌  | 9/12 [00:14<00:04,  1.58s/it]2018-12-14 13:18:34,093 - requests.packages.urllib3.connectionpool - DEBUG - Starting new HTTP connection (1): ondemand.websol.barchart.com\n",
      "2018-12-14 13:18:34,495 - requests.packages.urllib3.connectionpool - DEBUG - http://ondemand.websol.barchart.com:80 \"GET /getHistory.json?maxRecords=60&interval=1&startDate=20150901&symbol=HOV15&type=daily&apikey=e95f76cac84a3c62139dc3502a3e73e7 HTTP/1.1\" 200 None\n",
      "2018-12-14 13:18:34,507 - requests.packages.urllib3.connectionpool - DEBUG - Starting new HTTP connection (1): ondemand.websol.barchart.com\n",
      "2018-12-14 13:18:35,723 - requests.packages.urllib3.connectionpool - DEBUG - http://ondemand.websol.barchart.com:80 \"GET /getHistory.json?maxRecords=57600&interval=1&startDate=20150821&symbol=HOV15&type=minutes&apikey=e95f76cac84a3c62139dc3502a3e73e7 HTTP/1.1\" 200 None\n"
     ]
    },
    {
     "name": "stderr",
     "output_type": "stream",
     "text": [
      " 83%|████████▎ | 10/12 [00:16<00:03,  1.61s/it]2018-12-14 13:18:35,937 - requests.packages.urllib3.connectionpool - DEBUG - Starting new HTTP connection (1): ondemand.websol.barchart.com\n",
      "2018-12-14 13:18:36,280 - requests.packages.urllib3.connectionpool - DEBUG - http://ondemand.websol.barchart.com:80 \"GET /getHistory.json?maxRecords=60&interval=1&startDate=20151001&symbol=HOX15&type=daily&apikey=e95f76cac84a3c62139dc3502a3e73e7 HTTP/1.1\" 200 None\n",
      "2018-12-14 13:18:36,292 - requests.packages.urllib3.connectionpool - DEBUG - Starting new HTTP connection (1): ondemand.websol.barchart.com\n",
      "2018-12-14 13:18:37,260 - requests.packages.urllib3.connectionpool - DEBUG - http://ondemand.websol.barchart.com:80 \"GET /getHistory.json?maxRecords=57600&interval=1&startDate=20150920&symbol=HOX15&type=minutes&apikey=e95f76cac84a3c62139dc3502a3e73e7 HTTP/1.1\" 200 None\n",
      " 92%|█████████▏| 11/12 [00:17<00:01,  1.60s/it]2018-12-14 13:18:37,477 - requests.packages.urllib3.connectionpool - DEBUG - Starting new HTTP connection (1): ondemand.websol.barchart.com\n",
      "2018-12-14 13:18:37,877 - requests.packages.urllib3.connectionpool - DEBUG - http://ondemand.websol.barchart.com:80 \"GET /getHistory.json?maxRecords=60&interval=1&startDate=20151101&symbol=HOZ15&type=daily&apikey=e95f76cac84a3c62139dc3502a3e73e7 HTTP/1.1\" 200 None\n",
      "2018-12-14 13:18:37,891 - requests.packages.urllib3.connectionpool - DEBUG - Starting new HTTP connection (1): ondemand.websol.barchart.com\n",
      "2018-12-14 13:18:38,861 - requests.packages.urllib3.connectionpool - DEBUG - http://ondemand.websol.barchart.com:80 \"GET /getHistory.json?maxRecords=57600&interval=1&startDate=20151021&symbol=HOZ15&type=minutes&apikey=e95f76cac84a3c62139dc3502a3e73e7 HTTP/1.1\" 200 None\n",
      "100%|██████████| 12/12 [00:19<00:00,  1.60s/it]\n",
      "2018-12-14 13:18:40,638 - root - INFO - begin:201601, end:201612\n",
      "  0%|          | 0/12 [00:00<?, ?it/s]2018-12-14 13:18:40,662 - requests.packages.urllib3.connectionpool - DEBUG - Starting new HTTP connection (1): ondemand.websol.barchart.com\n"
     ]
    },
    {
     "name": "stdout",
     "output_type": "stream",
     "text": [
      "Barchart OnDemand Client: http://ondemand.websol.barchart.com/\n"
     ]
    },
    {
     "name": "stderr",
     "output_type": "stream",
     "text": [
      "2018-12-14 13:18:41,252 - requests.packages.urllib3.connectionpool - DEBUG - http://ondemand.websol.barchart.com:80 \"GET /getHistory.json?maxRecords=60&interval=1&startDate=20151201&symbol=HOF16&type=daily&apikey=e95f76cac84a3c62139dc3502a3e73e7 HTTP/1.1\" 200 None\n",
      "2018-12-14 13:18:41,263 - requests.packages.urllib3.connectionpool - DEBUG - Starting new HTTP connection (1): ondemand.websol.barchart.com\n",
      "2018-12-14 13:18:42,179 - requests.packages.urllib3.connectionpool - DEBUG - http://ondemand.websol.barchart.com:80 \"GET /getHistory.json?maxRecords=57600&interval=1&startDate=20151121&symbol=HOF16&type=minutes&apikey=e95f76cac84a3c62139dc3502a3e73e7 HTTP/1.1\" 200 None\n",
      "  8%|▊         | 1/12 [00:01<00:19,  1.74s/it]2018-12-14 13:18:42,397 - requests.packages.urllib3.connectionpool - DEBUG - Starting new HTTP connection (1): ondemand.websol.barchart.com\n",
      "2018-12-14 13:18:42,788 - requests.packages.urllib3.connectionpool - DEBUG - http://ondemand.websol.barchart.com:80 \"GET /getHistory.json?maxRecords=60&interval=1&startDate=20160101&symbol=HOG16&type=daily&apikey=e95f76cac84a3c62139dc3502a3e73e7 HTTP/1.1\" 200 None\n",
      "2018-12-14 13:18:42,799 - requests.packages.urllib3.connectionpool - DEBUG - Starting new HTTP connection (1): ondemand.websol.barchart.com\n",
      "2018-12-14 13:18:43,738 - requests.packages.urllib3.connectionpool - DEBUG - http://ondemand.websol.barchart.com:80 \"GET /getHistory.json?maxRecords=57600&interval=1&startDate=20151220&symbol=HOG16&type=minutes&apikey=e95f76cac84a3c62139dc3502a3e73e7 HTTP/1.1\" 200 None\n",
      " 17%|█▋        | 2/12 [00:03<00:16,  1.63s/it]2018-12-14 13:18:43,922 - requests.packages.urllib3.connectionpool - DEBUG - Starting new HTTP connection (1): ondemand.websol.barchart.com\n",
      "2018-12-14 13:18:44,324 - requests.packages.urllib3.connectionpool - DEBUG - http://ondemand.websol.barchart.com:80 \"GET /getHistory.json?maxRecords=60&interval=1&startDate=20160201&symbol=HOH16&type=daily&apikey=e95f76cac84a3c62139dc3502a3e73e7 HTTP/1.1\" 200 None\n",
      "2018-12-14 13:18:44,337 - requests.packages.urllib3.connectionpool - DEBUG - Starting new HTTP connection (1): ondemand.websol.barchart.com\n",
      "2018-12-14 13:18:45,304 - requests.packages.urllib3.connectionpool - DEBUG - http://ondemand.websol.barchart.com:80 \"GET /getHistory.json?maxRecords=57600&interval=1&startDate=20160120&symbol=HOH16&type=minutes&apikey=e95f76cac84a3c62139dc3502a3e73e7 HTTP/1.1\" 200 None\n",
      " 25%|██▌       | 3/12 [00:04<00:14,  1.62s/it]2018-12-14 13:18:45,514 - requests.packages.urllib3.connectionpool - DEBUG - Starting new HTTP connection (1): ondemand.websol.barchart.com\n",
      "2018-12-14 13:18:45,860 - requests.packages.urllib3.connectionpool - DEBUG - http://ondemand.websol.barchart.com:80 \"GET /getHistory.json?maxRecords=60&interval=1&startDate=20160301&symbol=HOJ16&type=daily&apikey=e95f76cac84a3c62139dc3502a3e73e7 HTTP/1.1\" 200 None\n",
      "2018-12-14 13:18:45,873 - requests.packages.urllib3.connectionpool - DEBUG - Starting new HTTP connection (1): ondemand.websol.barchart.com\n",
      "2018-12-14 13:18:46,806 - requests.packages.urllib3.connectionpool - DEBUG - http://ondemand.websol.barchart.com:80 \"GET /getHistory.json?maxRecords=57600&interval=1&startDate=20160220&symbol=HOJ16&type=minutes&apikey=e95f76cac84a3c62139dc3502a3e73e7 HTTP/1.1\" 200 None\n",
      " 33%|███▎      | 4/12 [00:06<00:12,  1.58s/it]2018-12-14 13:18:46,990 - requests.packages.urllib3.connectionpool - DEBUG - Starting new HTTP connection (1): ondemand.websol.barchart.com\n",
      "2018-12-14 13:18:47,324 - requests.packages.urllib3.connectionpool - DEBUG - http://ondemand.websol.barchart.com:80 \"GET /getHistory.json?maxRecords=60&interval=1&startDate=20160401&symbol=HOK16&type=daily&apikey=e95f76cac84a3c62139dc3502a3e73e7 HTTP/1.1\" 200 None\n",
      "2018-12-14 13:18:47,337 - requests.packages.urllib3.connectionpool - DEBUG - Starting new HTTP connection (1): ondemand.websol.barchart.com\n",
      "2018-12-14 13:18:48,306 - requests.packages.urllib3.connectionpool - DEBUG - http://ondemand.websol.barchart.com:80 \"GET /getHistory.json?maxRecords=57600&interval=1&startDate=20160320&symbol=HOK16&type=minutes&apikey=e95f76cac84a3c62139dc3502a3e73e7 HTTP/1.1\" 200 None\n",
      " 42%|████▏     | 5/12 [00:07<00:10,  1.57s/it]2018-12-14 13:18:48,509 - requests.packages.urllib3.connectionpool - DEBUG - Starting new HTTP connection (1): ondemand.websol.barchart.com\n",
      "2018-12-14 13:18:48,932 - requests.packages.urllib3.connectionpool - DEBUG - http://ondemand.websol.barchart.com:80 \"GET /getHistory.json?maxRecords=60&interval=1&startDate=20160501&symbol=HOM16&type=daily&apikey=e95f76cac84a3c62139dc3502a3e73e7 HTTP/1.1\" 200 None\n",
      "2018-12-14 13:18:48,945 - requests.packages.urllib3.connectionpool - DEBUG - Starting new HTTP connection (1): ondemand.websol.barchart.com\n",
      "2018-12-14 13:18:50,161 - requests.packages.urllib3.connectionpool - DEBUG - http://ondemand.websol.barchart.com:80 \"GET /getHistory.json?maxRecords=57600&interval=1&startDate=20160421&symbol=HOM16&type=minutes&apikey=e95f76cac84a3c62139dc3502a3e73e7 HTTP/1.1\" 200 None\n",
      " 50%|█████     | 6/12 [00:09<00:09,  1.62s/it]2018-12-14 13:18:50,394 - requests.packages.urllib3.connectionpool - DEBUG - Starting new HTTP connection (1): ondemand.websol.barchart.com\n",
      "2018-12-14 13:18:50,776 - requests.packages.urllib3.connectionpool - DEBUG - http://ondemand.websol.barchart.com:80 \"GET /getHistory.json?maxRecords=60&interval=1&startDate=20160601&symbol=HON16&type=daily&apikey=e95f76cac84a3c62139dc3502a3e73e7 HTTP/1.1\" 200 None\n",
      "2018-12-14 13:18:50,786 - requests.packages.urllib3.connectionpool - DEBUG - Starting new HTTP connection (1): ondemand.websol.barchart.com\n",
      "2018-12-14 13:18:51,702 - requests.packages.urllib3.connectionpool - DEBUG - http://ondemand.websol.barchart.com:80 \"GET /getHistory.json?maxRecords=57600&interval=1&startDate=20160521&symbol=HON16&type=minutes&apikey=e95f76cac84a3c62139dc3502a3e73e7 HTTP/1.1\" 200 None\n",
      " 58%|█████▊    | 7/12 [00:11<00:08,  1.61s/it]2018-12-14 13:18:51,908 - requests.packages.urllib3.connectionpool - DEBUG - Starting new HTTP connection (1): ondemand.websol.barchart.com\n",
      "2018-12-14 13:18:52,312 - requests.packages.urllib3.connectionpool - DEBUG - http://ondemand.websol.barchart.com:80 \"GET /getHistory.json?maxRecords=60&interval=1&startDate=20160701&symbol=HOQ16&type=daily&apikey=e95f76cac84a3c62139dc3502a3e73e7 HTTP/1.1\" 200 None\n",
      "2018-12-14 13:18:52,324 - requests.packages.urllib3.connectionpool - DEBUG - Starting new HTTP connection (1): ondemand.websol.barchart.com\n",
      "2018-12-14 13:18:53,219 - requests.packages.urllib3.connectionpool - DEBUG - http://ondemand.websol.barchart.com:80 \"GET /getHistory.json?maxRecords=57600&interval=1&startDate=20160619&symbol=HOQ16&type=minutes&apikey=e95f76cac84a3c62139dc3502a3e73e7 HTTP/1.1\" 200 None\n",
      " 67%|██████▋   | 8/12 [00:12<00:06,  1.61s/it]2018-12-14 13:18:53,508 - requests.packages.urllib3.connectionpool - DEBUG - Starting new HTTP connection (1): ondemand.websol.barchart.com\n",
      "2018-12-14 13:18:53,847 - requests.packages.urllib3.connectionpool - DEBUG - http://ondemand.websol.barchart.com:80 \"GET /getHistory.json?maxRecords=60&interval=1&startDate=20160801&symbol=HOU16&type=daily&apikey=e95f76cac84a3c62139dc3502a3e73e7 HTTP/1.1\" 200 None\n",
      "2018-12-14 13:18:53,858 - requests.packages.urllib3.connectionpool - DEBUG - Starting new HTTP connection (1): ondemand.websol.barchart.com\n",
      "2018-12-14 13:18:54,807 - requests.packages.urllib3.connectionpool - DEBUG - http://ondemand.websol.barchart.com:80 \"GET /getHistory.json?maxRecords=57600&interval=1&startDate=20160722&symbol=HOU16&type=minutes&apikey=e95f76cac84a3c62139dc3502a3e73e7 HTTP/1.1\" 200 None\n",
      " 75%|███████▌  | 9/12 [00:14<00:04,  1.60s/it]2018-12-14 13:18:55,018 - requests.packages.urllib3.connectionpool - DEBUG - Starting new HTTP connection (1): ondemand.websol.barchart.com\n",
      "2018-12-14 13:18:55,336 - requests.packages.urllib3.connectionpool - DEBUG - http://ondemand.websol.barchart.com:80 \"GET /getHistory.json?maxRecords=60&interval=1&startDate=20160901&symbol=HOV16&type=daily&apikey=e95f76cac84a3c62139dc3502a3e73e7 HTTP/1.1\" 200 None\n",
      "2018-12-14 13:18:55,348 - requests.packages.urllib3.connectionpool - DEBUG - Starting new HTTP connection (1): ondemand.websol.barchart.com\n",
      "2018-12-14 13:18:56,613 - requests.packages.urllib3.connectionpool - DEBUG - http://ondemand.websol.barchart.com:80 \"GET /getHistory.json?maxRecords=57600&interval=1&startDate=20160821&symbol=HOV16&type=minutes&apikey=e95f76cac84a3c62139dc3502a3e73e7 HTTP/1.1\" 200 None\n"
     ]
    },
    {
     "name": "stderr",
     "output_type": "stream",
     "text": [
      " 83%|████████▎ | 10/12 [00:16<00:03,  1.62s/it]2018-12-14 13:18:56,831 - requests.packages.urllib3.connectionpool - DEBUG - Starting new HTTP connection (1): ondemand.websol.barchart.com\n",
      "2018-12-14 13:18:57,226 - requests.packages.urllib3.connectionpool - DEBUG - http://ondemand.websol.barchart.com:80 \"GET /getHistory.json?maxRecords=60&interval=1&startDate=20161001&symbol=HOX16&type=daily&apikey=e95f76cac84a3c62139dc3502a3e73e7 HTTP/1.1\" 200 None\n",
      "2018-12-14 13:18:57,238 - requests.packages.urllib3.connectionpool - DEBUG - Starting new HTTP connection (1): ondemand.websol.barchart.com\n",
      "2018-12-14 13:18:58,763 - requests.packages.urllib3.connectionpool - DEBUG - http://ondemand.websol.barchart.com:80 \"GET /getHistory.json?maxRecords=57600&interval=1&startDate=20160921&symbol=HOX16&type=minutes&apikey=e95f76cac84a3c62139dc3502a3e73e7 HTTP/1.1\" 200 None\n",
      " 92%|█████████▏| 11/12 [00:18<00:01,  1.66s/it]2018-12-14 13:18:58,967 - requests.packages.urllib3.connectionpool - DEBUG - Starting new HTTP connection (1): ondemand.websol.barchart.com\n",
      "2018-12-14 13:18:59,377 - requests.packages.urllib3.connectionpool - DEBUG - http://ondemand.websol.barchart.com:80 \"GET /getHistory.json?maxRecords=60&interval=1&startDate=20161101&symbol=HOZ16&type=daily&apikey=e95f76cac84a3c62139dc3502a3e73e7 HTTP/1.1\" 200 None\n",
      "2018-12-14 13:18:59,389 - requests.packages.urllib3.connectionpool - DEBUG - Starting new HTTP connection (1): ondemand.websol.barchart.com\n",
      "2018-12-14 13:19:00,913 - requests.packages.urllib3.connectionpool - DEBUG - http://ondemand.websol.barchart.com:80 \"GET /getHistory.json?maxRecords=57600&interval=1&startDate=20161021&symbol=HOZ16&type=minutes&apikey=e95f76cac84a3c62139dc3502a3e73e7 HTTP/1.1\" 200 None\n",
      "100%|██████████| 12/12 [00:20<00:00,  1.71s/it]\n",
      "2018-12-14 13:19:02,693 - root - INFO - begin:201701, end:201712\n",
      "  0%|          | 0/12 [00:00<?, ?it/s]2018-12-14 13:19:02,718 - requests.packages.urllib3.connectionpool - DEBUG - Starting new HTTP connection (1): ondemand.websol.barchart.com\n"
     ]
    },
    {
     "name": "stdout",
     "output_type": "stream",
     "text": [
      "Barchart OnDemand Client: http://ondemand.websol.barchart.com/\n"
     ]
    },
    {
     "name": "stderr",
     "output_type": "stream",
     "text": [
      "2018-12-14 13:19:03,062 - requests.packages.urllib3.connectionpool - DEBUG - http://ondemand.websol.barchart.com:80 \"GET /getHistory.json?maxRecords=60&interval=1&startDate=20161201&symbol=HOF17&type=daily&apikey=e95f76cac84a3c62139dc3502a3e73e7 HTTP/1.1\" 200 None\n",
      "2018-12-14 13:19:03,069 - requests.packages.urllib3.connectionpool - DEBUG - Starting new HTTP connection (1): ondemand.websol.barchart.com\n",
      "2018-12-14 13:19:04,291 - requests.packages.urllib3.connectionpool - DEBUG - http://ondemand.websol.barchart.com:80 \"GET /getHistory.json?maxRecords=57600&interval=1&startDate=20161120&symbol=HOF17&type=minutes&apikey=e95f76cac84a3c62139dc3502a3e73e7 HTTP/1.1\" 200 None\n",
      "  8%|▊         | 1/12 [00:01<00:19,  1.78s/it]2018-12-14 13:19:04,500 - requests.packages.urllib3.connectionpool - DEBUG - Starting new HTTP connection (1): ondemand.websol.barchart.com\n",
      "2018-12-14 13:19:04,905 - requests.packages.urllib3.connectionpool - DEBUG - http://ondemand.websol.barchart.com:80 \"GET /getHistory.json?maxRecords=60&interval=1&startDate=20170101&symbol=HOG17&type=daily&apikey=e95f76cac84a3c62139dc3502a3e73e7 HTTP/1.1\" 200 None\n",
      "2018-12-14 13:19:04,914 - requests.packages.urllib3.connectionpool - DEBUG - Starting new HTTP connection (1): ondemand.websol.barchart.com\n",
      "2018-12-14 13:19:05,867 - requests.packages.urllib3.connectionpool - DEBUG - http://ondemand.websol.barchart.com:80 \"GET /getHistory.json?maxRecords=57600&interval=1&startDate=20161222&symbol=HOG17&type=minutes&apikey=e95f76cac84a3c62139dc3502a3e73e7 HTTP/1.1\" 200 None\n",
      " 17%|█▋        | 2/12 [00:03<00:16,  1.66s/it]2018-12-14 13:19:06,043 - requests.packages.urllib3.connectionpool - DEBUG - Starting new HTTP connection (1): ondemand.websol.barchart.com\n",
      "2018-12-14 13:19:06,442 - requests.packages.urllib3.connectionpool - DEBUG - http://ondemand.websol.barchart.com:80 \"GET /getHistory.json?maxRecords=60&interval=1&startDate=20170201&symbol=HOH17&type=daily&apikey=e95f76cac84a3c62139dc3502a3e73e7 HTTP/1.1\" 200 None\n",
      "2018-12-14 13:19:06,454 - requests.packages.urllib3.connectionpool - DEBUG - Starting new HTTP connection (1): ondemand.websol.barchart.com\n",
      "2018-12-14 13:19:07,364 - requests.packages.urllib3.connectionpool - DEBUG - http://ondemand.websol.barchart.com:80 \"GET /getHistory.json?maxRecords=57600&interval=1&startDate=20170119&symbol=HOH17&type=minutes&apikey=e95f76cac84a3c62139dc3502a3e73e7 HTTP/1.1\" 200 None\n",
      " 25%|██▌       | 3/12 [00:04<00:14,  1.61s/it]2018-12-14 13:19:07,561 - requests.packages.urllib3.connectionpool - DEBUG - Starting new HTTP connection (1): ondemand.websol.barchart.com\n",
      "2018-12-14 13:19:07,978 - requests.packages.urllib3.connectionpool - DEBUG - http://ondemand.websol.barchart.com:80 \"GET /getHistory.json?maxRecords=60&interval=1&startDate=20170301&symbol=HOJ17&type=daily&apikey=e95f76cac84a3c62139dc3502a3e73e7 HTTP/1.1\" 200 None\n",
      "2018-12-14 13:19:07,988 - requests.packages.urllib3.connectionpool - DEBUG - Starting new HTTP connection (1): ondemand.websol.barchart.com\n",
      "2018-12-14 13:19:08,900 - requests.packages.urllib3.connectionpool - DEBUG - http://ondemand.websol.barchart.com:80 \"GET /getHistory.json?maxRecords=57600&interval=1&startDate=20170219&symbol=HOJ17&type=minutes&apikey=e95f76cac84a3c62139dc3502a3e73e7 HTTP/1.1\" 200 None\n",
      " 33%|███▎      | 4/12 [00:06<00:12,  1.61s/it]2018-12-14 13:19:09,153 - requests.packages.urllib3.connectionpool - DEBUG - Starting new HTTP connection (1): ondemand.websol.barchart.com\n",
      "2018-12-14 13:19:09,522 - requests.packages.urllib3.connectionpool - DEBUG - http://ondemand.websol.barchart.com:80 \"GET /getHistory.json?maxRecords=60&interval=1&startDate=20170401&symbol=HOK17&type=daily&apikey=e95f76cac84a3c62139dc3502a3e73e7 HTTP/1.1\" 200 None\n",
      "2018-12-14 13:19:09,571 - requests.packages.urllib3.connectionpool - DEBUG - Starting new HTTP connection (1): ondemand.websol.barchart.com\n",
      "2018-12-14 13:19:10,744 - requests.packages.urllib3.connectionpool - DEBUG - http://ondemand.websol.barchart.com:80 \"GET /getHistory.json?maxRecords=57600&interval=1&startDate=20170319&symbol=HOK17&type=minutes&apikey=e95f76cac84a3c62139dc3502a3e73e7 HTTP/1.1\" 200 None\n",
      " 42%|████▏     | 5/12 [00:08<00:11,  1.64s/it]2018-12-14 13:19:10,926 - requests.packages.urllib3.connectionpool - DEBUG - Starting new HTTP connection (1): ondemand.websol.barchart.com\n",
      "2018-12-14 13:19:11,358 - requests.packages.urllib3.connectionpool - DEBUG - http://ondemand.websol.barchart.com:80 \"GET /getHistory.json?maxRecords=60&interval=1&startDate=20170501&symbol=HOM17&type=daily&apikey=e95f76cac84a3c62139dc3502a3e73e7 HTTP/1.1\" 200 None\n",
      "2018-12-14 13:19:11,368 - requests.packages.urllib3.connectionpool - DEBUG - Starting new HTTP connection (1): ondemand.websol.barchart.com\n",
      "2018-12-14 13:19:13,200 - requests.packages.urllib3.connectionpool - DEBUG - http://ondemand.websol.barchart.com:80 \"GET /getHistory.json?maxRecords=57600&interval=1&startDate=20170421&symbol=HOM17&type=minutes&apikey=e95f76cac84a3c62139dc3502a3e73e7 HTTP/1.1\" 200 None\n",
      " 50%|█████     | 6/12 [00:10<00:10,  1.78s/it]2018-12-14 13:19:13,417 - requests.packages.urllib3.connectionpool - DEBUG - Starting new HTTP connection (1): ondemand.websol.barchart.com\n",
      "2018-12-14 13:19:13,814 - requests.packages.urllib3.connectionpool - DEBUG - http://ondemand.websol.barchart.com:80 \"GET /getHistory.json?maxRecords=60&interval=1&startDate=20170601&symbol=HON17&type=daily&apikey=e95f76cac84a3c62139dc3502a3e73e7 HTTP/1.1\" 200 None\n",
      "2018-12-14 13:19:13,827 - requests.packages.urllib3.connectionpool - DEBUG - Starting new HTTP connection (1): ondemand.websol.barchart.com\n",
      "2018-12-14 13:19:15,165 - requests.packages.urllib3.connectionpool - DEBUG - http://ondemand.websol.barchart.com:80 \"GET /getHistory.json?maxRecords=57600&interval=1&startDate=20170521&symbol=HON17&type=minutes&apikey=e95f76cac84a3c62139dc3502a3e73e7 HTTP/1.1\" 200 None\n",
      " 58%|█████▊    | 7/12 [00:12<00:09,  1.81s/it]2018-12-14 13:19:15,369 - requests.packages.urllib3.connectionpool - DEBUG - Starting new HTTP connection (1): ondemand.websol.barchart.com\n",
      "2018-12-14 13:19:15,701 - requests.packages.urllib3.connectionpool - DEBUG - http://ondemand.websol.barchart.com:80 \"GET /getHistory.json?maxRecords=60&interval=1&startDate=20170701&symbol=HOQ17&type=daily&apikey=e95f76cac84a3c62139dc3502a3e73e7 HTTP/1.1\" 200 None\n",
      "2018-12-14 13:19:15,710 - requests.packages.urllib3.connectionpool - DEBUG - Starting new HTTP connection (1): ondemand.websol.barchart.com\n",
      "2018-12-14 13:19:16,581 - requests.packages.urllib3.connectionpool - DEBUG - http://ondemand.websol.barchart.com:80 \"GET /getHistory.json?maxRecords=57600&interval=1&startDate=20170621&symbol=HOQ17&type=minutes&apikey=e95f76cac84a3c62139dc3502a3e73e7 HTTP/1.1\" 200 None\n",
      " 67%|██████▋   | 8/12 [00:14<00:07,  1.76s/it]2018-12-14 13:19:16,786 - requests.packages.urllib3.connectionpool - DEBUG - Starting new HTTP connection (1): ondemand.websol.barchart.com\n",
      "2018-12-14 13:19:17,193 - requests.packages.urllib3.connectionpool - DEBUG - http://ondemand.websol.barchart.com:80 \"GET /getHistory.json?maxRecords=60&interval=1&startDate=20170801&symbol=HOU17&type=daily&apikey=e95f76cac84a3c62139dc3502a3e73e7 HTTP/1.1\" 200 None\n",
      "2018-12-14 13:19:17,203 - requests.packages.urllib3.connectionpool - DEBUG - Starting new HTTP connection (1): ondemand.websol.barchart.com\n",
      "2018-12-14 13:19:18,246 - requests.packages.urllib3.connectionpool - DEBUG - http://ondemand.websol.barchart.com:80 \"GET /getHistory.json?maxRecords=57600&interval=1&startDate=20170722&symbol=HOU17&type=minutes&apikey=e95f76cac84a3c62139dc3502a3e73e7 HTTP/1.1\" 200 None\n",
      " 75%|███████▌  | 9/12 [00:15<00:05,  1.75s/it]2018-12-14 13:19:18,471 - requests.packages.urllib3.connectionpool - DEBUG - Starting new HTTP connection (1): ondemand.websol.barchart.com\n",
      "2018-12-14 13:19:19,037 - requests.packages.urllib3.connectionpool - DEBUG - http://ondemand.websol.barchart.com:80 \"GET /getHistory.json?maxRecords=60&interval=1&startDate=20170901&symbol=HOV17&type=daily&apikey=e95f76cac84a3c62139dc3502a3e73e7 HTTP/1.1\" 200 None\n",
      "2018-12-14 13:19:19,047 - requests.packages.urllib3.connectionpool - DEBUG - Starting new HTTP connection (1): ondemand.websol.barchart.com\n",
      "2018-12-14 13:19:20,265 - requests.packages.urllib3.connectionpool - DEBUG - http://ondemand.websol.barchart.com:80 \"GET /getHistory.json?maxRecords=57600&interval=1&startDate=20170820&symbol=HOV17&type=minutes&apikey=e95f76cac84a3c62139dc3502a3e73e7 HTTP/1.1\" 200 None\n"
     ]
    },
    {
     "name": "stderr",
     "output_type": "stream",
     "text": [
      " 83%|████████▎ | 10/12 [00:17<00:03,  1.78s/it]2018-12-14 13:19:20,489 - requests.packages.urllib3.connectionpool - DEBUG - Starting new HTTP connection (1): ondemand.websol.barchart.com\n",
      "2018-12-14 13:19:20,879 - requests.packages.urllib3.connectionpool - DEBUG - http://ondemand.websol.barchart.com:80 \"GET /getHistory.json?maxRecords=60&interval=1&startDate=20171001&symbol=HOX17&type=daily&apikey=e95f76cac84a3c62139dc3502a3e73e7 HTTP/1.1\" 200 None\n",
      "2018-12-14 13:19:20,886 - requests.packages.urllib3.connectionpool - DEBUG - Starting new HTTP connection (1): ondemand.websol.barchart.com\n",
      "2018-12-14 13:19:21,867 - requests.packages.urllib3.connectionpool - DEBUG - http://ondemand.websol.barchart.com:80 \"GET /getHistory.json?maxRecords=57600&interval=1&startDate=20170921&symbol=HOX17&type=minutes&apikey=e95f76cac84a3c62139dc3502a3e73e7 HTTP/1.1\" 200 None\n",
      " 92%|█████████▏| 11/12 [00:19<00:01,  1.76s/it]2018-12-14 13:19:22,078 - requests.packages.urllib3.connectionpool - DEBUG - Starting new HTTP connection (1): ondemand.websol.barchart.com\n",
      "2018-12-14 13:19:22,414 - requests.packages.urllib3.connectionpool - DEBUG - http://ondemand.websol.barchart.com:80 \"GET /getHistory.json?maxRecords=60&interval=1&startDate=20171101&symbol=HOZ17&type=daily&apikey=e95f76cac84a3c62139dc3502a3e73e7 HTTP/1.1\" 200 None\n",
      "2018-12-14 13:19:22,423 - requests.packages.urllib3.connectionpool - DEBUG - Starting new HTTP connection (1): ondemand.websol.barchart.com\n",
      "2018-12-14 13:19:23,343 - requests.packages.urllib3.connectionpool - DEBUG - http://ondemand.websol.barchart.com:80 \"GET /getHistory.json?maxRecords=57600&interval=1&startDate=20171021&symbol=HOZ17&type=minutes&apikey=e95f76cac84a3c62139dc3502a3e73e7 HTTP/1.1\" 200 None\n",
      "100%|██████████| 12/12 [00:20<00:00,  1.74s/it]\n",
      "2018-12-14 13:19:25,144 - root - INFO - begin:201801, end:201812\n",
      "  0%|          | 0/12 [00:00<?, ?it/s]2018-12-14 13:19:25,171 - requests.packages.urllib3.connectionpool - DEBUG - Starting new HTTP connection (1): ondemand.websol.barchart.com\n"
     ]
    },
    {
     "name": "stdout",
     "output_type": "stream",
     "text": [
      "Barchart OnDemand Client: http://ondemand.websol.barchart.com/\n"
     ]
    },
    {
     "name": "stderr",
     "output_type": "stream",
     "text": [
      "2018-12-14 13:19:25,486 - requests.packages.urllib3.connectionpool - DEBUG - http://ondemand.websol.barchart.com:80 \"GET /getHistory.json?maxRecords=60&interval=1&startDate=20171201&symbol=HOF18&type=daily&apikey=e95f76cac84a3c62139dc3502a3e73e7 HTTP/1.1\" 200 None\n",
      "2018-12-14 13:19:25,493 - requests.packages.urllib3.connectionpool - DEBUG - Starting new HTTP connection (1): ondemand.websol.barchart.com\n",
      "2018-12-14 13:19:26,408 - requests.packages.urllib3.connectionpool - DEBUG - http://ondemand.websol.barchart.com:80 \"GET /getHistory.json?maxRecords=57600&interval=1&startDate=20171119&symbol=HOF18&type=minutes&apikey=e95f76cac84a3c62139dc3502a3e73e7 HTTP/1.1\" 200 None\n",
      "  8%|▊         | 1/12 [00:01<00:15,  1.44s/it]2018-12-14 13:19:26,615 - requests.packages.urllib3.connectionpool - DEBUG - Starting new HTTP connection (1): ondemand.websol.barchart.com\n",
      "2018-12-14 13:19:27,022 - requests.packages.urllib3.connectionpool - DEBUG - http://ondemand.websol.barchart.com:80 \"GET /getHistory.json?maxRecords=60&interval=1&startDate=20180101&symbol=HOG18&type=daily&apikey=e95f76cac84a3c62139dc3502a3e73e7 HTTP/1.1\" 200 None\n",
      "2018-12-14 13:19:27,036 - requests.packages.urllib3.connectionpool - DEBUG - Starting new HTTP connection (1): ondemand.websol.barchart.com\n",
      "2018-12-14 13:19:28,252 - requests.packages.urllib3.connectionpool - DEBUG - http://ondemand.websol.barchart.com:80 \"GET /getHistory.json?maxRecords=57600&interval=1&startDate=20171222&symbol=HOG18&type=minutes&apikey=e95f76cac84a3c62139dc3502a3e73e7 HTTP/1.1\" 200 None\n",
      " 17%|█▋        | 2/12 [00:03<00:16,  1.64s/it]2018-12-14 13:19:28,441 - requests.packages.urllib3.connectionpool - DEBUG - Starting new HTTP connection (1): ondemand.websol.barchart.com\n",
      "2018-12-14 13:19:28,620 - requests.packages.urllib3.connectionpool - DEBUG - http://ondemand.websol.barchart.com:80 \"GET /getHistory.json?maxRecords=60&interval=1&startDate=20180201&symbol=HOH18&type=daily&apikey=e95f76cac84a3c62139dc3502a3e73e7 HTTP/1.1\" 200 None\n",
      "2018-12-14 13:19:28,627 - requests.packages.urllib3.connectionpool - DEBUG - Starting new HTTP connection (1): ondemand.websol.barchart.com\n",
      "2018-12-14 13:19:29,528 - requests.packages.urllib3.connectionpool - DEBUG - http://ondemand.websol.barchart.com:80 \"GET /getHistory.json?maxRecords=57600&interval=1&startDate=20180119&symbol=HOH18&type=minutes&apikey=e95f76cac84a3c62139dc3502a3e73e7 HTTP/1.1\" 200 None\n",
      " 25%|██▌       | 3/12 [00:04<00:13,  1.52s/it]2018-12-14 13:19:29,742 - requests.packages.urllib3.connectionpool - DEBUG - Starting new HTTP connection (1): ondemand.websol.barchart.com\n",
      "2018-12-14 13:19:29,893 - requests.packages.urllib3.connectionpool - DEBUG - http://ondemand.websol.barchart.com:80 \"GET /getHistory.json?maxRecords=60&interval=1&startDate=20180301&symbol=HOJ18&type=daily&apikey=e95f76cac84a3c62139dc3502a3e73e7 HTTP/1.1\" 200 None\n",
      "2018-12-14 13:19:29,904 - requests.packages.urllib3.connectionpool - DEBUG - Starting new HTTP connection (1): ondemand.websol.barchart.com\n",
      "2018-12-14 13:19:30,811 - requests.packages.urllib3.connectionpool - DEBUG - http://ondemand.websol.barchart.com:80 \"GET /getHistory.json?maxRecords=57600&interval=1&startDate=20180217&symbol=HOJ18&type=minutes&apikey=e95f76cac84a3c62139dc3502a3e73e7 HTTP/1.1\" 200 None\n",
      " 33%|███▎      | 4/12 [00:05<00:11,  1.46s/it]2018-12-14 13:19:31,012 - requests.packages.urllib3.connectionpool - DEBUG - Starting new HTTP connection (1): ondemand.websol.barchart.com\n",
      "2018-12-14 13:19:31,164 - requests.packages.urllib3.connectionpool - DEBUG - http://ondemand.websol.barchart.com:80 \"GET /getHistory.json?maxRecords=60&interval=1&startDate=20180401&symbol=HOK18&type=daily&apikey=e95f76cac84a3c62139dc3502a3e73e7 HTTP/1.1\" 200 None\n",
      "2018-12-14 13:19:31,177 - requests.packages.urllib3.connectionpool - DEBUG - Starting new HTTP connection (1): ondemand.websol.barchart.com\n",
      "2018-12-14 13:19:32,246 - requests.packages.urllib3.connectionpool - DEBUG - http://ondemand.websol.barchart.com:80 \"GET /getHistory.json?maxRecords=57600&interval=1&startDate=20180321&symbol=HOK18&type=minutes&apikey=e95f76cac84a3c62139dc3502a3e73e7 HTTP/1.1\" 200 None\n",
      " 42%|████▏     | 5/12 [00:07<00:10,  1.46s/it]2018-12-14 13:19:32,465 - requests.packages.urllib3.connectionpool - DEBUG - Starting new HTTP connection (1): ondemand.websol.barchart.com\n",
      "2018-12-14 13:19:32,860 - requests.packages.urllib3.connectionpool - DEBUG - http://ondemand.websol.barchart.com:80 \"GET /getHistory.json?maxRecords=60&interval=1&startDate=20180501&symbol=HOM18&type=daily&apikey=e95f76cac84a3c62139dc3502a3e73e7 HTTP/1.1\" 200 None\n",
      "2018-12-14 13:19:32,873 - requests.packages.urllib3.connectionpool - DEBUG - Starting new HTTP connection (1): ondemand.websol.barchart.com\n",
      "2018-12-14 13:19:33,804 - requests.packages.urllib3.connectionpool - DEBUG - http://ondemand.websol.barchart.com:80 \"GET /getHistory.json?maxRecords=57600&interval=1&startDate=20180421&symbol=HOM18&type=minutes&apikey=e95f76cac84a3c62139dc3502a3e73e7 HTTP/1.1\" 200 None\n",
      " 50%|█████     | 6/12 [00:08<00:08,  1.47s/it]2018-12-14 13:19:34,011 - requests.packages.urllib3.connectionpool - DEBUG - Starting new HTTP connection (1): ondemand.websol.barchart.com\n",
      "2018-12-14 13:19:34,183 - requests.packages.urllib3.connectionpool - DEBUG - http://ondemand.websol.barchart.com:80 \"GET /getHistory.json?maxRecords=60&interval=1&startDate=20180601&symbol=HON18&type=daily&apikey=e95f76cac84a3c62139dc3502a3e73e7 HTTP/1.1\" 200 None\n",
      "2018-12-14 13:19:34,195 - requests.packages.urllib3.connectionpool - DEBUG - Starting new HTTP connection (1): ondemand.websol.barchart.com\n",
      "2018-12-14 13:19:35,318 - requests.packages.urllib3.connectionpool - DEBUG - http://ondemand.websol.barchart.com:80 \"GET /getHistory.json?maxRecords=57600&interval=1&startDate=20180520&symbol=HON18&type=minutes&apikey=e95f76cac84a3c62139dc3502a3e73e7 HTTP/1.1\" 200 None\n",
      " 58%|█████▊    | 7/12 [00:10<00:07,  1.49s/it]2018-12-14 13:19:35,605 - requests.packages.urllib3.connectionpool - DEBUG - Starting new HTTP connection (1): ondemand.websol.barchart.com\n",
      "2018-12-14 13:19:35,931 - requests.packages.urllib3.connectionpool - DEBUG - http://ondemand.websol.barchart.com:80 \"GET /getHistory.json?maxRecords=60&interval=1&startDate=20180701&symbol=HOQ18&type=daily&apikey=e95f76cac84a3c62139dc3502a3e73e7 HTTP/1.1\" 200 None\n",
      "2018-12-14 13:19:35,940 - requests.packages.urllib3.connectionpool - DEBUG - Starting new HTTP connection (1): ondemand.websol.barchart.com\n",
      "2018-12-14 13:19:36,958 - requests.packages.urllib3.connectionpool - DEBUG - http://ondemand.websol.barchart.com:80 \"GET /getHistory.json?maxRecords=57600&interval=1&startDate=20180621&symbol=HOQ18&type=minutes&apikey=e95f76cac84a3c62139dc3502a3e73e7 HTTP/1.1\" 200 None\n",
      " 67%|██████▋   | 8/12 [00:12<00:06,  1.50s/it]2018-12-14 13:19:37,176 - requests.packages.urllib3.connectionpool - DEBUG - Starting new HTTP connection (1): ondemand.websol.barchart.com\n",
      "2018-12-14 13:19:37,468 - requests.packages.urllib3.connectionpool - DEBUG - http://ondemand.websol.barchart.com:80 \"GET /getHistory.json?maxRecords=60&interval=1&startDate=20180801&symbol=HOU18&type=daily&apikey=e95f76cac84a3c62139dc3502a3e73e7 HTTP/1.1\" 200 None\n",
      "2018-12-14 13:19:37,480 - requests.packages.urllib3.connectionpool - DEBUG - Starting new HTTP connection (1): ondemand.websol.barchart.com\n",
      "2018-12-14 13:19:38,390 - requests.packages.urllib3.connectionpool - DEBUG - http://ondemand.websol.barchart.com:80 \"GET /getHistory.json?maxRecords=57600&interval=1&startDate=20180722&symbol=HOU18&type=minutes&apikey=e95f76cac84a3c62139dc3502a3e73e7 HTTP/1.1\" 200 None\n",
      " 75%|███████▌  | 9/12 [00:13<00:04,  1.50s/it]2018-12-14 13:19:38,636 - requests.packages.urllib3.connectionpool - DEBUG - Starting new HTTP connection (1): ondemand.websol.barchart.com\n",
      "2018-12-14 13:19:39,004 - requests.packages.urllib3.connectionpool - DEBUG - http://ondemand.websol.barchart.com:80 \"GET /getHistory.json?maxRecords=60&interval=1&startDate=20180901&symbol=HOV18&type=daily&apikey=e95f76cac84a3c62139dc3502a3e73e7 HTTP/1.1\" 200 None\n",
      "2018-12-14 13:19:39,012 - requests.packages.urllib3.connectionpool - DEBUG - Starting new HTTP connection (1): ondemand.websol.barchart.com\n",
      "2018-12-14 13:19:40,131 - requests.packages.urllib3.connectionpool - DEBUG - http://ondemand.websol.barchart.com:80 \"GET /getHistory.json?maxRecords=57600&interval=1&startDate=20180819&symbol=HOV18&type=minutes&apikey=e95f76cac84a3c62139dc3502a3e73e7 HTTP/1.1\" 200 None\n"
     ]
    },
    {
     "name": "stderr",
     "output_type": "stream",
     "text": [
      " 83%|████████▎ | 10/12 [00:15<00:03,  1.52s/it]2018-12-14 13:19:40,375 - requests.packages.urllib3.connectionpool - DEBUG - Starting new HTTP connection (1): ondemand.websol.barchart.com\n",
      "2018-12-14 13:19:40,847 - requests.packages.urllib3.connectionpool - DEBUG - http://ondemand.websol.barchart.com:80 \"GET /getHistory.json?maxRecords=60&interval=1&startDate=20181001&symbol=HOX18&type=daily&apikey=e95f76cac84a3c62139dc3502a3e73e7 HTTP/1.1\" 200 None\n",
      "2018-12-14 13:19:40,860 - requests.packages.urllib3.connectionpool - DEBUG - Starting new HTTP connection (1): ondemand.websol.barchart.com\n",
      "2018-12-14 13:19:41,769 - requests.packages.urllib3.connectionpool - DEBUG - http://ondemand.websol.barchart.com:80 \"GET /getHistory.json?maxRecords=57600&interval=1&startDate=20180921&symbol=HOX18&type=minutes&apikey=e95f76cac84a3c62139dc3502a3e73e7 HTTP/1.1\" 200 None\n",
      " 92%|█████████▏| 11/12 [00:16<00:01,  1.53s/it]2018-12-14 13:19:42,004 - requests.packages.urllib3.connectionpool - DEBUG - Starting new HTTP connection (1): ondemand.websol.barchart.com\n",
      "2018-12-14 13:19:42,152 - requests.packages.urllib3.connectionpool - DEBUG - http://ondemand.websol.barchart.com:80 \"GET /getHistory.json?maxRecords=60&interval=1&startDate=20181101&symbol=HOZ18&type=daily&apikey=e95f76cac84a3c62139dc3502a3e73e7 HTTP/1.1\" 200 None\n",
      "2018-12-14 13:19:42,158 - requests.packages.urllib3.connectionpool - DEBUG - Starting new HTTP connection (1): ondemand.websol.barchart.com\n",
      "2018-12-14 13:19:43,270 - requests.packages.urllib3.connectionpool - DEBUG - http://ondemand.websol.barchart.com:80 \"GET /getHistory.json?maxRecords=57600&interval=1&startDate=20181021&symbol=HOZ18&type=minutes&apikey=e95f76cac84a3c62139dc3502a3e73e7 HTTP/1.1\" 200 None\n",
      "100%|██████████| 12/12 [00:18<00:00,  1.53s/it]\n",
      "2018-12-14 13:19:45,349 - root - INFO - done\n"
     ]
    }
   ],
   "source": [
    "bar_type = args.bar_type\n",
    "interval = args.interval\n",
    "output_folder = temp_folder\n",
    "logger = futs.init_root_logger('logger.log')\n",
    "endpoint_type = args.endpoint_type\n",
    "\n",
    "logger.info('start')\n",
    "years = np.linspace(2008,2018,2018-2008+1,dtype=int)\n",
    "for y in years:\n",
    "    beg_yyyymm = int(f'{y}01')\n",
    "    end_yyyymm = int(f'{y}12')\n",
    "    logger.info(f'begin:{beg_yyyymm}, end:{end_yyyymm}')\n",
    "    fc = futs.FuturesSeries(api_key, commodity, beg_yyyymm, end_yyyymm, bar_type, \n",
    "                            interval, endpoint_type,logger)\n",
    "    fc.get_contracts()\n",
    "    fc.write_csv(output_folder)\n",
    "logger.info('done')\n",
    "\n"
   ]
  },
  {
   "cell_type": "code",
   "execution_count": null,
   "metadata": {},
   "outputs": [],
   "source": []
  }
 ],
 "metadata": {
  "kernelspec": {
   "display_name": "Python 3",
   "language": "python",
   "name": "python3"
  },
  "language_info": {
   "codemirror_mode": {
    "name": "ipython",
    "version": 3
   },
   "file_extension": ".py",
   "mimetype": "text/x-python",
   "name": "python",
   "nbconvert_exporter": "python",
   "pygments_lexer": "ipython3",
   "version": "3.6.5"
  }
 },
 "nbformat": 4,
 "nbformat_minor": 2
}
