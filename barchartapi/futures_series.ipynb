{
 "cells": [
  {
   "cell_type": "markdown",
   "metadata": {},
   "source": [
    "# future_series.ipynb: \n",
    "Use the [barchart market data API](https://www.barchart.com/ondemand/free-market-data-api) to retrieve csv history files for bar sizes ranging from 1 minute to monthly.\n",
    "\n",
    "### Use:\n",
    "1. Enter values for all of the variables in section **1.1** below;\n",
    "2. Run all cells below that;\n",
    "3. All retrieved data will be written as csv files to the folder that you specify in the variable ```temp_folder``` in section **1.1** ."
   ]
  },
  {
   "cell_type": "markdown",
   "metadata": {},
   "source": [
    "___\n",
    "### Section 1.0 - Import packages and append various folder paths to sys.path so that the module futures_series.py works properly"
   ]
  },
  {
   "cell_type": "code",
   "execution_count": null,
   "metadata": {},
   "outputs": [],
   "source": [
    "import os\n",
    "import sys\n",
    "import argparse as ap\n",
    "import numpy as np\n",
    "import pandas as pd\n",
    "import datetime\n",
    "\n",
    "WORKSPACE_DIR = '../..' #!echo $(cd ../../;pwd)\n",
    "PROJECT_DIR = f'{WORKSPACE_DIR}/barchartapi' #!echo $(cd ../;pwd)\n",
    "WORKING_DIR = f'{PROJECT_DIR}/barchartapi' #!echo $(cd ./;pwd)\n",
    "if WORKING_DIR not in sys.path:\n",
    "    sys.path.append(WORKING_DIR)\n",
    "if PROJECT_DIR not in sys.path:\n",
    "    sys.path.append(PROJECT_DIR)\n",
    "if WORKSPACE_DIR not in sys.path:\n",
    "    sys.path.append(WORKSPACE_DIR)\n",
    "print(sys.path)\n",
    "import futures_series as futs\n"
   ]
  },
  {
   "cell_type": "code",
   "execution_count": null,
   "metadata": {},
   "outputs": [],
   "source": [
    "from importlib import reload\n",
    "reload(futs)"
   ]
  },
  {
   "cell_type": "markdown",
   "metadata": {},
   "source": [
    "___\n",
    "### Section 1.1 - Change the contract information below to suit your needs\n",
    "* Set the variable ```temp_folder``` to the folder that will hold various temporary data, and will also hold 2 text files:\n",
    " * free_api_key.txt\n",
    " * paid_api_key.txt\n",
    " * Both free and paid api_key.txt files should hold a 32 digit API key (like 0123456789abcdefghij0123456789ab) that you obtain from barchart\n",
    "* Set the variable ```commodity``` to determine the commodity futures contracts that you want to obtain (e.g, CL, ES, NG: see the [barchart commodity codes](https://www.barchart.com/futures/most-active/all?viewName=main) )\n",
    "* Set the variable ```start_year``` to determine the first year from which you want to retrieve data\n",
    "* Set the variable ```end_year``` to determine the last year from which you want to retrieve data\n",
    " * _For each year, you will retrieve history data for all of the contract months that traded in that year_\n",
    "* Set the variable ```days``` to determine the number of days per contract in all the contract months that you will retrieve \n",
    "* Set the variable ```bar_type``` to determine the time scale of the csv data that you want (minutes, daily, monthly)\n",
    "* Set the variable ```interval``` to determine the number of minutes that you want for each \"minutes\" bar.  \n",
    " * _Set this to 1 for daily and monthly bar_type's_"
   ]
  },
  {
   "cell_type": "code",
   "execution_count": 8,
   "metadata": {},
   "outputs": [],
   "source": [
    "# api_key_type_prefix = 'paid'\n",
    "api_key_type_prefix = 'free'\n",
    "temp_folder = './temp_folder'\n",
    "api_key = open(f'{temp_folder}/{api_key_type_prefix}_api_key.txt','r').read()\n",
    "commodity = 'CL'\n",
    "start_year = 2008\n",
    "end_year = 2018\n",
    "days = 40\n",
    "# bar_type = 'minutes'\n",
    "bar_type = 'daily'\n",
    "interval = 1"
   ]
  },
  {
   "cell_type": "markdown",
   "metadata": {},
   "source": [
    "#### (Keep these the same)"
   ]
  },
  {
   "cell_type": "code",
   "execution_count": 9,
   "metadata": {},
   "outputs": [],
   "source": [
    "args = ap.Namespace(\n",
    "    output_folder = temp_folder,\n",
    "    endpoint_type = f'{api_key_type_prefix}_url'\n",
    ")\n",
    "quarter_commodities = ['ES','GE','GC']"
   ]
  },
  {
   "cell_type": "markdown",
   "metadata": {},
   "source": [
    "___\n",
    "### Section 2.0\n",
    "\n",
    "The code below iterates through each year, calling \n",
    "```\n",
    "    FuturesSeries.get_contracts(trading_days_to_get=days,month_code_list=month_codes)\n",
    "    FuturesSeries.write_csv(output_folder)\n",
    "```\n",
    "in order to retrieve and save all of the futures contracts for each year."
   ]
  },
  {
   "cell_type": "code",
   "execution_count": 12,
   "metadata": {},
   "outputs": [
    {
     "name": "stderr",
     "output_type": "stream",
     "text": [
      "2019-01-08 11:03:18,649 - root - INFO - start\n",
      "2019-01-08 11:03:18,651 - root - INFO - days,month_codes (40, None)\n",
      "2019-01-08 11:03:18,653 - root - INFO - begin:200801, end:200812\n",
      "2019-01-08 11:03:18,654 - root - INFO - BEGIN Fetching Data for year: 2008\n",
      "  0%|          | 0/12 [00:00<?, ?it/s]2019-01-08 11:03:18,662 - requests.packages.urllib3.connectionpool - DEBUG - Starting new HTTPS connection (1): marketdata.websol.barchart.com\n"
     ]
    },
    {
     "name": "stdout",
     "output_type": "stream",
     "text": [
      "Barchart OnDemand Client: https://marketdata.websol.barchart.com/\n"
     ]
    },
    {
     "name": "stderr",
     "output_type": "stream",
     "text": [
      "2019-01-08 11:03:20,263 - requests.packages.urllib3.connectionpool - DEBUG - https://marketdata.websol.barchart.com:443 \"GET /getHistory.json?maxRecords=60&interval=1&startDate=20071201&symbol=CLF08&type=daily&apikey=99125d367af268ca234144d64583a5e7 HTTP/1.1\" 200 85\n",
      "\n",
      "2019-01-08 11:03:20,271 - root - INFO -  error getting contract CL for begin:200801 and end:200812 single positional indexer is out-of-bounds\n",
      "2019-01-08 11:03:20,272 - root - INFO - begin:200901, end:200912\n",
      "2019-01-08 11:03:20,273 - root - INFO - BEGIN Fetching Data for year: 2009\n",
      "  0%|          | 0/12 [00:00<?, ?it/s]2019-01-08 11:03:20,281 - requests.packages.urllib3.connectionpool - DEBUG - Starting new HTTPS connection (1): marketdata.websol.barchart.com\n"
     ]
    },
    {
     "name": "stdout",
     "output_type": "stream",
     "text": [
      "Barchart OnDemand Client: https://marketdata.websol.barchart.com/\n"
     ]
    },
    {
     "name": "stderr",
     "output_type": "stream",
     "text": [
      "2019-01-08 11:03:22,404 - requests.packages.urllib3.connectionpool - DEBUG - https://marketdata.websol.barchart.com:443 \"GET /getHistory.json?maxRecords=60&interval=1&startDate=20081201&symbol=CLF09&type=daily&apikey=99125d367af268ca234144d64583a5e7 HTTP/1.1\" 200 85\n",
      "\n",
      "2019-01-08 11:03:22,409 - root - INFO -  error getting contract CL for begin:200901 and end:200912 single positional indexer is out-of-bounds\n",
      "2019-01-08 11:03:22,411 - root - INFO - begin:201001, end:201012\n",
      "2019-01-08 11:03:22,412 - root - INFO - BEGIN Fetching Data for year: 2010\n",
      "  0%|          | 0/12 [00:00<?, ?it/s]2019-01-08 11:03:22,421 - requests.packages.urllib3.connectionpool - DEBUG - Starting new HTTPS connection (1): marketdata.websol.barchart.com\n"
     ]
    },
    {
     "name": "stdout",
     "output_type": "stream",
     "text": [
      "Barchart OnDemand Client: https://marketdata.websol.barchart.com/\n"
     ]
    },
    {
     "name": "stderr",
     "output_type": "stream",
     "text": [
      "2019-01-08 11:03:24,872 - requests.packages.urllib3.connectionpool - DEBUG - https://marketdata.websol.barchart.com:443 \"GET /getHistory.json?maxRecords=60&interval=1&startDate=20091201&symbol=CLF10&type=daily&apikey=99125d367af268ca234144d64583a5e7 HTTP/1.1\" 200 85\n",
      "\n",
      "2019-01-08 11:03:24,883 - root - INFO -  error getting contract CL for begin:201001 and end:201012 single positional indexer is out-of-bounds\n",
      "2019-01-08 11:03:24,885 - root - INFO - begin:201101, end:201112\n",
      "2019-01-08 11:03:24,889 - root - INFO - BEGIN Fetching Data for year: 2011\n",
      "  0%|          | 0/12 [00:00<?, ?it/s]2019-01-08 11:03:24,903 - requests.packages.urllib3.connectionpool - DEBUG - Starting new HTTPS connection (1): marketdata.websol.barchart.com\n"
     ]
    },
    {
     "name": "stdout",
     "output_type": "stream",
     "text": [
      "Barchart OnDemand Client: https://marketdata.websol.barchart.com/\n"
     ]
    },
    {
     "name": "stderr",
     "output_type": "stream",
     "text": [
      "2019-01-08 11:03:26,384 - requests.packages.urllib3.connectionpool - DEBUG - https://marketdata.websol.barchart.com:443 \"GET /getHistory.json?maxRecords=60&interval=1&startDate=20101201&symbol=CLF11&type=daily&apikey=99125d367af268ca234144d64583a5e7 HTTP/1.1\" 200 85\n",
      "\n",
      "2019-01-08 11:03:26,391 - root - INFO -  error getting contract CL for begin:201101 and end:201112 single positional indexer is out-of-bounds\n",
      "2019-01-08 11:03:26,393 - root - INFO - begin:201201, end:201212\n",
      "2019-01-08 11:03:26,395 - root - INFO - BEGIN Fetching Data for year: 2012\n",
      "  0%|          | 0/12 [00:00<?, ?it/s]2019-01-08 11:03:26,409 - requests.packages.urllib3.connectionpool - DEBUG - Starting new HTTPS connection (1): marketdata.websol.barchart.com\n"
     ]
    },
    {
     "name": "stdout",
     "output_type": "stream",
     "text": [
      "Barchart OnDemand Client: https://marketdata.websol.barchart.com/\n"
     ]
    },
    {
     "name": "stderr",
     "output_type": "stream",
     "text": [
      "2019-01-08 11:03:28,857 - requests.packages.urllib3.connectionpool - DEBUG - https://marketdata.websol.barchart.com:443 \"GET /getHistory.json?maxRecords=60&interval=1&startDate=20111201&symbol=CLF12&type=daily&apikey=99125d367af268ca234144d64583a5e7 HTTP/1.1\" 200 85\n",
      "\n",
      "2019-01-08 11:03:28,869 - root - INFO -  error getting contract CL for begin:201201 and end:201212 single positional indexer is out-of-bounds\n",
      "2019-01-08 11:03:28,870 - root - INFO - begin:201301, end:201312\n",
      "2019-01-08 11:03:28,872 - root - INFO - BEGIN Fetching Data for year: 2013\n",
      "  0%|          | 0/12 [00:00<?, ?it/s]2019-01-08 11:03:28,880 - requests.packages.urllib3.connectionpool - DEBUG - Starting new HTTPS connection (1): marketdata.websol.barchart.com\n"
     ]
    },
    {
     "name": "stdout",
     "output_type": "stream",
     "text": [
      "Barchart OnDemand Client: https://marketdata.websol.barchart.com/\n"
     ]
    },
    {
     "name": "stderr",
     "output_type": "stream",
     "text": [
      "2019-01-08 11:03:30,608 - requests.packages.urllib3.connectionpool - DEBUG - https://marketdata.websol.barchart.com:443 \"GET /getHistory.json?maxRecords=60&interval=1&startDate=20121201&symbol=CLF13&type=daily&apikey=99125d367af268ca234144d64583a5e7 HTTP/1.1\" 200 85\n",
      "\n",
      "2019-01-08 11:03:30,617 - root - INFO -  error getting contract CL for begin:201301 and end:201312 single positional indexer is out-of-bounds\n",
      "2019-01-08 11:03:30,618 - root - INFO - begin:201401, end:201412\n",
      "2019-01-08 11:03:30,620 - root - INFO - BEGIN Fetching Data for year: 2014\n",
      "  0%|          | 0/12 [00:00<?, ?it/s]2019-01-08 11:03:30,631 - requests.packages.urllib3.connectionpool - DEBUG - Starting new HTTPS connection (1): marketdata.websol.barchart.com\n"
     ]
    },
    {
     "name": "stdout",
     "output_type": "stream",
     "text": [
      "Barchart OnDemand Client: https://marketdata.websol.barchart.com/\n"
     ]
    },
    {
     "name": "stderr",
     "output_type": "stream",
     "text": [
      "2019-01-08 11:03:32,853 - requests.packages.urllib3.connectionpool - DEBUG - https://marketdata.websol.barchart.com:443 \"GET /getHistory.json?maxRecords=60&interval=1&startDate=20131201&symbol=CLF14&type=daily&apikey=99125d367af268ca234144d64583a5e7 HTTP/1.1\" 200 85\n",
      "\n",
      "2019-01-08 11:03:32,859 - root - INFO -  error getting contract CL for begin:201401 and end:201412 single positional indexer is out-of-bounds\n",
      "2019-01-08 11:03:32,861 - root - INFO - begin:201501, end:201512\n",
      "2019-01-08 11:03:32,862 - root - INFO - BEGIN Fetching Data for year: 2015\n",
      "  0%|          | 0/12 [00:00<?, ?it/s]2019-01-08 11:03:32,870 - requests.packages.urllib3.connectionpool - DEBUG - Starting new HTTPS connection (1): marketdata.websol.barchart.com\n"
     ]
    },
    {
     "name": "stdout",
     "output_type": "stream",
     "text": [
      "Barchart OnDemand Client: https://marketdata.websol.barchart.com/\n"
     ]
    },
    {
     "name": "stderr",
     "output_type": "stream",
     "text": [
      "2019-01-08 11:03:34,654 - requests.packages.urllib3.connectionpool - DEBUG - https://marketdata.websol.barchart.com:443 \"GET /getHistory.json?maxRecords=60&interval=1&startDate=20141201&symbol=CLF15&type=daily&apikey=99125d367af268ca234144d64583a5e7 HTTP/1.1\" 200 85\n",
      "\n",
      "2019-01-08 11:03:34,660 - root - INFO -  error getting contract CL for begin:201501 and end:201512 single positional indexer is out-of-bounds\n",
      "2019-01-08 11:03:34,661 - root - INFO - begin:201601, end:201612\n",
      "2019-01-08 11:03:34,661 - root - INFO - BEGIN Fetching Data for year: 2016\n",
      "  0%|          | 0/12 [00:00<?, ?it/s]2019-01-08 11:03:34,670 - requests.packages.urllib3.connectionpool - DEBUG - Starting new HTTPS connection (1): marketdata.websol.barchart.com\n"
     ]
    },
    {
     "name": "stdout",
     "output_type": "stream",
     "text": [
      "Barchart OnDemand Client: https://marketdata.websol.barchart.com/\n"
     ]
    },
    {
     "name": "stderr",
     "output_type": "stream",
     "text": [
      "2019-01-08 11:03:36,816 - requests.packages.urllib3.connectionpool - DEBUG - https://marketdata.websol.barchart.com:443 \"GET /getHistory.json?maxRecords=60&interval=1&startDate=20151201&symbol=CLF16&type=daily&apikey=99125d367af268ca234144d64583a5e7 HTTP/1.1\" 200 85\n",
      "\n",
      "2019-01-08 11:03:36,826 - root - INFO -  error getting contract CL for begin:201601 and end:201612 single positional indexer is out-of-bounds\n",
      "2019-01-08 11:03:36,827 - root - INFO - begin:201701, end:201712\n",
      "2019-01-08 11:03:36,828 - root - INFO - BEGIN Fetching Data for year: 2017\n",
      "  0%|          | 0/12 [00:00<?, ?it/s]2019-01-08 11:03:36,837 - requests.packages.urllib3.connectionpool - DEBUG - Starting new HTTPS connection (1): marketdata.websol.barchart.com\n"
     ]
    },
    {
     "name": "stdout",
     "output_type": "stream",
     "text": [
      "Barchart OnDemand Client: https://marketdata.websol.barchart.com/\n"
     ]
    },
    {
     "name": "stderr",
     "output_type": "stream",
     "text": [
      "2019-01-08 11:03:38,697 - requests.packages.urllib3.connectionpool - DEBUG - https://marketdata.websol.barchart.com:443 \"GET /getHistory.json?maxRecords=60&interval=1&startDate=20161201&symbol=CLF17&type=daily&apikey=99125d367af268ca234144d64583a5e7 HTTP/1.1\" 200 85\n",
      "\n",
      "2019-01-08 11:03:38,703 - root - INFO -  error getting contract CL for begin:201701 and end:201712 single positional indexer is out-of-bounds\n",
      "2019-01-08 11:03:38,705 - root - INFO - begin:201801, end:201812\n",
      "2019-01-08 11:03:38,707 - root - INFO - BEGIN Fetching Data for year: 2018\n",
      "  0%|          | 0/12 [00:00<?, ?it/s]2019-01-08 11:03:38,718 - requests.packages.urllib3.connectionpool - DEBUG - Starting new HTTPS connection (1): marketdata.websol.barchart.com\n"
     ]
    },
    {
     "name": "stdout",
     "output_type": "stream",
     "text": [
      "Barchart OnDemand Client: https://marketdata.websol.barchart.com/\n"
     ]
    },
    {
     "name": "stderr",
     "output_type": "stream",
     "text": [
      "2019-01-08 11:03:41,156 - requests.packages.urllib3.connectionpool - DEBUG - https://marketdata.websol.barchart.com:443 \"GET /getHistory.json?maxRecords=60&interval=1&startDate=20171201&symbol=CLF18&type=daily&apikey=99125d367af268ca234144d64583a5e7 HTTP/1.1\" 200 85\n",
      "\n",
      "2019-01-08 11:03:41,162 - root - INFO -  error getting contract CL for begin:201801 and end:201812 single positional indexer is out-of-bounds\n",
      "2019-01-08 11:03:41,164 - root - INFO - end\n"
     ]
    }
   ],
   "source": [
    "# bar_type = args.bar_type\n",
    "# interval = args.interval\n",
    "output_folder = temp_folder\n",
    "logger = futs.init_root_logger('logger.log')\n",
    "endpoint_type = args.endpoint_type\n",
    "\n",
    "logger.info(f'start')\n",
    "# start_year = 2008\n",
    "# end_year = 2018\n",
    "years = np.linspace(start_year,end_year,end_year-start_year+1,dtype=int)\n",
    "# days = 40\n",
    "month_codes = None\n",
    "if commodity in quarter_commodities:\n",
    "    month_codes = ['H','M','U','Z']\n",
    "    days = 120\n",
    "logger.info(f'days,month_codes {(days,month_codes)}')\n",
    "for y in years:\n",
    "    beg_yyyymm = int(f'{y}01')\n",
    "    end_yyyymm = int(f'{y}12')\n",
    "    logger.info(f'begin:{beg_yyyymm}, end:{end_yyyymm}')\n",
    "    fc = futs.FuturesSeries(api_key, commodity, beg_yyyymm, end_yyyymm, bar_type, \n",
    "                            interval, endpoint_type,logger)\n",
    "    logger.info(f'BEGIN Fetching Data for year: {y}')\n",
    "    try:\n",
    "        fc.get_contracts(trading_days_to_get=days,month_code_list=month_codes)\n",
    "        logger.info(f'BEGIN Writing Data for year: {y}')\n",
    "        fc.write_csv(output_folder)\n",
    "        logger.info(f'END Writing Data for year: {y}')\n",
    "    except Exception as e:\n",
    "        logger.info(f' error getting contract {commodity} for begin:{str(beg_yyyymm)} and end:{str(end_yyyymm)} {str(e)}')\n",
    "logger.info(f'end')\n",
    "\n"
   ]
  },
  {
   "cell_type": "markdown",
   "metadata": {},
   "source": [
    "## End"
   ]
  }
 ],
 "metadata": {
  "kernelspec": {
   "display_name": "Python 3",
   "language": "python",
   "name": "python3"
  },
  "language_info": {
   "codemirror_mode": {
    "name": "ipython",
    "version": 3
   },
   "file_extension": ".py",
   "mimetype": "text/x-python",
   "name": "python",
   "nbconvert_exporter": "python",
   "pygments_lexer": "ipython3",
   "version": "3.6.5"
  }
 },
 "nbformat": 4,
 "nbformat_minor": 2
}
