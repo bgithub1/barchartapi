{
 "cells": [
  {
   "cell_type": "code",
   "execution_count": 1,
   "metadata": {},
   "outputs": [
    {
     "name": "stdout",
     "output_type": "stream",
     "text": [
      "['', '/Library/Frameworks/Python.framework/Versions/3.6/lib/python36.zip', '/Library/Frameworks/Python.framework/Versions/3.6/lib/python3.6', '/Library/Frameworks/Python.framework/Versions/3.6/lib/python3.6/lib-dynload', '/Users/bperlman1/Virtualenvs3/pyliverisk/lib/python3.6/site-packages', '/Users/bperlman1/Virtualenvs3/pyliverisk/lib/python3.6/site-packages/IPython/extensions', '/Users/bperlman1/.ipython', '../../barchartapi/barchartapi', '../../barchartapi', '../..']\n"
     ]
    }
   ],
   "source": [
    "import os\n",
    "import sys\n",
    "import argparse as ap\n",
    "import numpy as np\n",
    "import pandas as pd\n",
    "import datetime\n",
    "\n",
    "WORKSPACE_DIR = '../..' #!echo $(cd ../../;pwd)\n",
    "PROJECT_DIR = f'{WORKSPACE_DIR}/barchartapi' #!echo $(cd ../;pwd)\n",
    "WORKING_DIR = f'{PROJECT_DIR}/barchartapi' #!echo $(cd ./;pwd)\n",
    "if WORKING_DIR not in sys.path:\n",
    "    sys.path.append(WORKING_DIR)\n",
    "if PROJECT_DIR not in sys.path:\n",
    "    sys.path.append(PROJECT_DIR)\n",
    "if WORKSPACE_DIR not in sys.path:\n",
    "    sys.path.append(WORKSPACE_DIR)\n",
    "print(sys.path)\n",
    "import futures_series as futs\n"
   ]
  },
  {
   "cell_type": "code",
   "execution_count": 2,
   "metadata": {},
   "outputs": [
    {
     "data": {
      "text/plain": [
       "<module 'futures_series' from '/Users/bperlman1/Documents/billybyte/pyliverisk/barchartapi/barchartapi/futures_series.py'>"
      ]
     },
     "execution_count": 2,
     "metadata": {},
     "output_type": "execute_result"
    }
   ],
   "source": [
    "from importlib import reload\n",
    "reload(futs)"
   ]
  },
  {
   "cell_type": "markdown",
   "metadata": {},
   "source": [
    "Change the contract information below to suit your needs:"
   ]
  },
  {
   "cell_type": "code",
   "execution_count": 6,
   "metadata": {},
   "outputs": [],
   "source": [
    "temp_folder = './temp_folder'\n",
    "api_key = open(f'{temp_folder}/paid_api_key.txt','r').read()\n",
    "commodity = 'GC'"
   ]
  },
  {
   "cell_type": "markdown",
   "metadata": {},
   "source": [
    "Keep these the same"
   ]
  },
  {
   "cell_type": "code",
   "execution_count": 7,
   "metadata": {},
   "outputs": [],
   "source": [
    "args = ap.Namespace(\n",
    "    bar_type = 'minutes',\n",
    "    interval = 1,\n",
    "    output_folder = temp_folder,\n",
    "    endpoint_type = 'paid_url'\n",
    ")\n",
    "quarter_commodities = ['ES','GE','GC']"
   ]
  },
  {
   "cell_type": "code",
   "execution_count": 8,
   "metadata": {},
   "outputs": [
    {
     "name": "stderr",
     "output_type": "stream",
     "text": [
      "2018-12-21 11:51:45,538 - root - INFO - start\n",
      "2018-12-21 11:51:45,542 - root - INFO - days,month_codes (120, ['H', 'M', 'U', 'Z'])\n",
      "2018-12-21 11:51:45,544 - root - INFO - begin:200801, end:200812\n",
      "2018-12-21 11:51:45,608 - root - INFO - BEGIN Fetching Data for year: 2008\n",
      "  0%|          | 0/4 [00:00<?, ?it/s]2018-12-21 11:51:45,651 - requests.packages.urllib3.connectionpool - DEBUG - Starting new HTTP connection (1): ondemand.websol.barchart.com\n"
     ]
    },
    {
     "name": "stdout",
     "output_type": "stream",
     "text": [
      "Barchart OnDemand Client: http://ondemand.websol.barchart.com/\n"
     ]
    },
    {
     "name": "stderr",
     "output_type": "stream",
     "text": [
      "2018-12-21 11:51:45,884 - requests.packages.urllib3.connectionpool - DEBUG - http://ondemand.websol.barchart.com:80 \"GET /getHistory.json?maxRecords=60&interval=1&startDate=20080201&symbol=GCH08&type=daily&apikey=e95f76cac84a3c62139dc3502a3e73e7 HTTP/1.1\" 200 None\n",
      "2018-12-21 11:51:45,890 - requests.packages.urllib3.connectionpool - DEBUG - Starting new HTTP connection (1): ondemand.websol.barchart.com\n",
      "2018-12-21 11:51:46,124 - requests.packages.urllib3.connectionpool - DEBUG - http://ondemand.websol.barchart.com:80 \"GET /getHistory.json?maxRecords=172800&interval=1&startDate=20071128&symbol=GCH08&type=minutes&apikey=e95f76cac84a3c62139dc3502a3e73e7 HTTP/1.1\" 200 None\n",
      "2018-12-21 11:51:46,128 - root - WARNING - GCH08: {'code': 204, 'message': 'No Content'}\n",
      " 25%|██▌       | 1/4 [00:00<00:01,  1.93it/s]2018-12-21 11:51:46,138 - requests.packages.urllib3.connectionpool - DEBUG - Starting new HTTP connection (1): ondemand.websol.barchart.com\n",
      "2018-12-21 11:51:46,354 - requests.packages.urllib3.connectionpool - DEBUG - http://ondemand.websol.barchart.com:80 \"GET /getHistory.json?maxRecords=60&interval=1&startDate=20080501&symbol=GCM08&type=daily&apikey=e95f76cac84a3c62139dc3502a3e73e7 HTTP/1.1\" 200 None\n",
      "2018-12-21 11:51:46,361 - requests.packages.urllib3.connectionpool - DEBUG - Starting new HTTP connection (1): ondemand.websol.barchart.com\n",
      "2018-12-21 11:51:47,211 - requests.packages.urllib3.connectionpool - DEBUG - http://ondemand.websol.barchart.com:80 \"GET /getHistory.json?maxRecords=172800&interval=1&startDate=20080227&symbol=GCM08&type=minutes&apikey=e95f76cac84a3c62139dc3502a3e73e7 HTTP/1.1\" 200 None\n",
      " 50%|█████     | 2/4 [00:01<00:01,  1.12it/s]2018-12-21 11:51:47,410 - requests.packages.urllib3.connectionpool - DEBUG - Starting new HTTP connection (1): ondemand.websol.barchart.com\n",
      "2018-12-21 11:51:47,594 - requests.packages.urllib3.connectionpool - DEBUG - http://ondemand.websol.barchart.com:80 \"GET /getHistory.json?maxRecords=60&interval=1&startDate=20080801&symbol=GCU08&type=daily&apikey=e95f76cac84a3c62139dc3502a3e73e7 HTTP/1.1\" 200 None\n",
      "2018-12-21 11:51:47,607 - requests.packages.urllib3.connectionpool - DEBUG - Starting new HTTP connection (1): ondemand.websol.barchart.com\n",
      "2018-12-21 11:51:47,973 - requests.packages.urllib3.connectionpool - DEBUG - http://ondemand.websol.barchart.com:80 \"GET /getHistory.json?maxRecords=172800&interval=1&startDate=20080529&symbol=GCU08&type=minutes&apikey=e95f76cac84a3c62139dc3502a3e73e7 HTTP/1.1\" 200 None\n",
      " 75%|███████▌  | 3/4 [00:02<00:00,  1.24it/s]2018-12-21 11:51:48,045 - requests.packages.urllib3.connectionpool - DEBUG - Starting new HTTP connection (1): ondemand.websol.barchart.com\n",
      "2018-12-21 11:51:48,263 - requests.packages.urllib3.connectionpool - DEBUG - http://ondemand.websol.barchart.com:80 \"GET /getHistory.json?maxRecords=60&interval=1&startDate=20081101&symbol=GCZ08&type=daily&apikey=e95f76cac84a3c62139dc3502a3e73e7 HTTP/1.1\" 200 None\n",
      "2018-12-21 11:51:48,270 - requests.packages.urllib3.connectionpool - DEBUG - Starting new HTTP connection (1): ondemand.websol.barchart.com\n",
      "2018-12-21 11:51:50,912 - requests.packages.urllib3.connectionpool - DEBUG - http://ondemand.websol.barchart.com:80 \"GET /getHistory.json?maxRecords=172800&interval=1&startDate=20080831&symbol=GCZ08&type=minutes&apikey=e95f76cac84a3c62139dc3502a3e73e7 HTTP/1.1\" 200 None\n",
      "100%|██████████| 4/4 [00:05<00:00,  1.49s/it]\n",
      "2018-12-21 11:51:51,584 - root - INFO - BEGIN Writing Data for year: 2008\n",
      "2018-12-21 11:51:52,239 - root - INFO - END Writing Data for year: 2008\n",
      "2018-12-21 11:51:52,240 - root - INFO - begin:200901, end:200912\n",
      "2018-12-21 11:51:52,254 - root - INFO - BEGIN Fetching Data for year: 2009\n",
      "  0%|          | 0/4 [00:00<?, ?it/s]2018-12-21 11:51:52,264 - requests.packages.urllib3.connectionpool - DEBUG - Starting new HTTP connection (1): ondemand.websol.barchart.com\n"
     ]
    },
    {
     "name": "stdout",
     "output_type": "stream",
     "text": [
      "Barchart OnDemand Client: http://ondemand.websol.barchart.com/\n"
     ]
    },
    {
     "name": "stderr",
     "output_type": "stream",
     "text": [
      "2018-12-21 11:51:52,474 - requests.packages.urllib3.connectionpool - DEBUG - http://ondemand.websol.barchart.com:80 \"GET /getHistory.json?maxRecords=60&interval=1&startDate=20090201&symbol=GCH09&type=daily&apikey=e95f76cac84a3c62139dc3502a3e73e7 HTTP/1.1\" 200 None\n",
      "2018-12-21 11:51:52,487 - requests.packages.urllib3.connectionpool - DEBUG - Starting new HTTP connection (1): ondemand.websol.barchart.com\n",
      "2018-12-21 11:51:52,930 - requests.packages.urllib3.connectionpool - DEBUG - http://ondemand.websol.barchart.com:80 \"GET /getHistory.json?maxRecords=172800&interval=1&startDate=20081127&symbol=GCH09&type=minutes&apikey=e95f76cac84a3c62139dc3502a3e73e7 HTTP/1.1\" 200 None\n",
      " 25%|██▌       | 1/4 [00:00<00:02,  1.32it/s]2018-12-21 11:51:53,022 - requests.packages.urllib3.connectionpool - DEBUG - Starting new HTTP connection (1): ondemand.websol.barchart.com\n",
      "2018-12-21 11:51:53,772 - requests.packages.urllib3.connectionpool - DEBUG - http://ondemand.websol.barchart.com:80 \"GET /getHistory.json?maxRecords=60&interval=1&startDate=20090501&symbol=GCM09&type=daily&apikey=e95f76cac84a3c62139dc3502a3e73e7 HTTP/1.1\" 200 None\n",
      "2018-12-21 11:51:53,784 - requests.packages.urllib3.connectionpool - DEBUG - Starting new HTTP connection (1): ondemand.websol.barchart.com\n",
      "2018-12-21 11:51:56,036 - requests.packages.urllib3.connectionpool - DEBUG - http://ondemand.websol.barchart.com:80 \"GET /getHistory.json?maxRecords=172800&interval=1&startDate=20090226&symbol=GCM09&type=minutes&apikey=e95f76cac84a3c62139dc3502a3e73e7 HTTP/1.1\" 200 None\n",
      " 50%|█████     | 2/4 [00:04<00:04,  2.17s/it]2018-12-21 11:51:56,607 - requests.packages.urllib3.connectionpool - DEBUG - Starting new HTTP connection (1): ondemand.websol.barchart.com\n",
      "2018-12-21 11:51:56,804 - requests.packages.urllib3.connectionpool - DEBUG - http://ondemand.websol.barchart.com:80 \"GET /getHistory.json?maxRecords=60&interval=1&startDate=20090801&symbol=GCU09&type=daily&apikey=e95f76cac84a3c62139dc3502a3e73e7 HTTP/1.1\" 200 None\n",
      "2018-12-21 11:51:56,817 - requests.packages.urllib3.connectionpool - DEBUG - Starting new HTTP connection (1): ondemand.websol.barchart.com\n",
      "2018-12-21 11:51:57,152 - requests.packages.urllib3.connectionpool - DEBUG - http://ondemand.websol.barchart.com:80 \"GET /getHistory.json?maxRecords=172800&interval=1&startDate=20090531&symbol=GCU09&type=minutes&apikey=e95f76cac84a3c62139dc3502a3e73e7 HTTP/1.1\" 200 None\n",
      " 75%|███████▌  | 3/4 [00:04<00:01,  1.65s/it]2018-12-21 11:51:57,205 - requests.packages.urllib3.connectionpool - DEBUG - Starting new HTTP connection (1): ondemand.websol.barchart.com\n",
      "2018-12-21 11:51:57,424 - requests.packages.urllib3.connectionpool - DEBUG - http://ondemand.websol.barchart.com:80 \"GET /getHistory.json?maxRecords=60&interval=1&startDate=20091101&symbol=GCZ09&type=daily&apikey=e95f76cac84a3c62139dc3502a3e73e7 HTTP/1.1\" 200 None\n",
      "2018-12-21 11:51:57,438 - requests.packages.urllib3.connectionpool - DEBUG - Starting new HTTP connection (1): ondemand.websol.barchart.com\n",
      "2018-12-21 11:52:00,229 - requests.packages.urllib3.connectionpool - DEBUG - http://ondemand.websol.barchart.com:80 \"GET /getHistory.json?maxRecords=172800&interval=1&startDate=20090831&symbol=GCZ09&type=minutes&apikey=e95f76cac84a3c62139dc3502a3e73e7 HTTP/1.1\" 200 None\n",
      "100%|██████████| 4/4 [00:08<00:00,  2.16s/it]\n",
      "2018-12-21 11:52:00,891 - root - INFO - BEGIN Writing Data for year: 2009\n",
      "2018-12-21 11:52:01,901 - root - INFO - END Writing Data for year: 2009\n",
      "2018-12-21 11:52:01,901 - root - INFO - begin:201001, end:201012\n",
      "2018-12-21 11:52:01,916 - root - INFO - BEGIN Fetching Data for year: 2010\n",
      "  0%|          | 0/4 [00:00<?, ?it/s]2018-12-21 11:52:01,928 - requests.packages.urllib3.connectionpool - DEBUG - Starting new HTTP connection (1): ondemand.websol.barchart.com\n",
      "2018-12-21 11:52:02,104 - requests.packages.urllib3.connectionpool - DEBUG - http://ondemand.websol.barchart.com:80 \"GET /getHistory.json?maxRecords=60&interval=1&startDate=20100201&symbol=GCH10&type=daily&apikey=e95f76cac84a3c62139dc3502a3e73e7 HTTP/1.1\" 200 None\n"
     ]
    },
    {
     "name": "stdout",
     "output_type": "stream",
     "text": [
      "Barchart OnDemand Client: http://ondemand.websol.barchart.com/\n"
     ]
    },
    {
     "name": "stderr",
     "output_type": "stream",
     "text": [
      "2018-12-21 11:52:02,117 - requests.packages.urllib3.connectionpool - DEBUG - Starting new HTTP connection (1): ondemand.websol.barchart.com\n",
      "2018-12-21 11:52:02,653 - requests.packages.urllib3.connectionpool - DEBUG - http://ondemand.websol.barchart.com:80 \"GET /getHistory.json?maxRecords=172800&interval=1&startDate=20091129&symbol=GCH10&type=minutes&apikey=e95f76cac84a3c62139dc3502a3e73e7 HTTP/1.1\" 200 None\n",
      " 25%|██▌       | 1/4 [00:00<00:02,  1.21it/s]2018-12-21 11:52:02,755 - requests.packages.urllib3.connectionpool - DEBUG - Starting new HTTP connection (1): ondemand.websol.barchart.com\n",
      "2018-12-21 11:52:02,937 - requests.packages.urllib3.connectionpool - DEBUG - http://ondemand.websol.barchart.com:80 \"GET /getHistory.json?maxRecords=60&interval=1&startDate=20100501&symbol=GCM10&type=daily&apikey=e95f76cac84a3c62139dc3502a3e73e7 HTTP/1.1\" 200 None\n",
      "2018-12-21 11:52:02,950 - requests.packages.urllib3.connectionpool - DEBUG - Starting new HTTP connection (1): ondemand.websol.barchart.com\n",
      "2018-12-21 11:52:05,118 - requests.packages.urllib3.connectionpool - DEBUG - http://ondemand.websol.barchart.com:80 \"GET /getHistory.json?maxRecords=172800&interval=1&startDate=20100228&symbol=GCM10&type=minutes&apikey=e95f76cac84a3c62139dc3502a3e73e7 HTTP/1.1\" 200 None\n",
      " 50%|█████     | 2/4 [00:03<00:03,  1.87s/it]2018-12-21 11:52:05,666 - requests.packages.urllib3.connectionpool - DEBUG - Starting new HTTP connection (1): ondemand.websol.barchart.com\n",
      "2018-12-21 11:52:05,979 - requests.packages.urllib3.connectionpool - DEBUG - http://ondemand.websol.barchart.com:80 \"GET /getHistory.json?maxRecords=60&interval=1&startDate=20100801&symbol=GCU10&type=daily&apikey=e95f76cac84a3c62139dc3502a3e73e7 HTTP/1.1\" 200 None\n",
      "2018-12-21 11:52:05,990 - requests.packages.urllib3.connectionpool - DEBUG - Starting new HTTP connection (1): ondemand.websol.barchart.com\n",
      "2018-12-21 11:52:06,503 - requests.packages.urllib3.connectionpool - DEBUG - http://ondemand.websol.barchart.com:80 \"GET /getHistory.json?maxRecords=172800&interval=1&startDate=20100531&symbol=GCU10&type=minutes&apikey=e95f76cac84a3c62139dc3502a3e73e7 HTTP/1.1\" 200 None\n",
      " 75%|███████▌  | 3/4 [00:04<00:01,  1.54s/it]2018-12-21 11:52:06,561 - requests.packages.urllib3.connectionpool - DEBUG - Starting new HTTP connection (1): ondemand.websol.barchart.com\n",
      "2018-12-21 11:52:06,735 - requests.packages.urllib3.connectionpool - DEBUG - http://ondemand.websol.barchart.com:80 \"GET /getHistory.json?maxRecords=60&interval=1&startDate=20101101&symbol=GCZ10&type=daily&apikey=e95f76cac84a3c62139dc3502a3e73e7 HTTP/1.1\" 200 None\n",
      "2018-12-21 11:52:06,744 - requests.packages.urllib3.connectionpool - DEBUG - Starting new HTTP connection (1): ondemand.websol.barchart.com\n",
      "2018-12-21 11:52:09,361 - requests.packages.urllib3.connectionpool - DEBUG - http://ondemand.websol.barchart.com:80 \"GET /getHistory.json?maxRecords=172800&interval=1&startDate=20100831&symbol=GCZ10&type=minutes&apikey=e95f76cac84a3c62139dc3502a3e73e7 HTTP/1.1\" 200 None\n",
      "100%|██████████| 4/4 [00:08<00:00,  2.02s/it]\n",
      "2018-12-21 11:52:09,993 - root - INFO - BEGIN Writing Data for year: 2010\n",
      "2018-12-21 11:52:11,009 - root - INFO - END Writing Data for year: 2010\n",
      "2018-12-21 11:52:11,010 - root - INFO - begin:201101, end:201112\n",
      "2018-12-21 11:52:11,027 - root - INFO - BEGIN Fetching Data for year: 2011\n",
      "  0%|          | 0/4 [00:00<?, ?it/s]2018-12-21 11:52:11,038 - requests.packages.urllib3.connectionpool - DEBUG - Starting new HTTP connection (1): ondemand.websol.barchart.com\n"
     ]
    },
    {
     "name": "stdout",
     "output_type": "stream",
     "text": [
      "Barchart OnDemand Client: http://ondemand.websol.barchart.com/\n"
     ]
    },
    {
     "name": "stderr",
     "output_type": "stream",
     "text": [
      "2018-12-21 11:52:11,338 - requests.packages.urllib3.connectionpool - DEBUG - http://ondemand.websol.barchart.com:80 \"GET /getHistory.json?maxRecords=60&interval=1&startDate=20110201&symbol=GCH11&type=daily&apikey=e95f76cac84a3c62139dc3502a3e73e7 HTTP/1.1\" 200 None\n",
      "2018-12-21 11:52:11,350 - requests.packages.urllib3.connectionpool - DEBUG - Starting new HTTP connection (1): ondemand.websol.barchart.com\n",
      "2018-12-21 11:52:11,969 - requests.packages.urllib3.connectionpool - DEBUG - http://ondemand.websol.barchart.com:80 \"GET /getHistory.json?maxRecords=172800&interval=1&startDate=20101129&symbol=GCH11&type=minutes&apikey=e95f76cac84a3c62139dc3502a3e73e7 HTTP/1.1\" 200 None\n",
      " 25%|██▌       | 1/4 [00:01<00:03,  1.01s/it]2018-12-21 11:52:12,052 - requests.packages.urllib3.connectionpool - DEBUG - Starting new HTTP connection (1): ondemand.websol.barchart.com\n",
      "2018-12-21 11:52:12,219 - requests.packages.urllib3.connectionpool - DEBUG - http://ondemand.websol.barchart.com:80 \"GET /getHistory.json?maxRecords=60&interval=1&startDate=20110501&symbol=GCM11&type=daily&apikey=e95f76cac84a3c62139dc3502a3e73e7 HTTP/1.1\" 200 None\n",
      "2018-12-21 11:52:12,231 - requests.packages.urllib3.connectionpool - DEBUG - Starting new HTTP connection (1): ondemand.websol.barchart.com\n",
      "2018-12-21 11:52:14,489 - requests.packages.urllib3.connectionpool - DEBUG - http://ondemand.websol.barchart.com:80 \"GET /getHistory.json?maxRecords=172800&interval=1&startDate=20110228&symbol=GCM11&type=minutes&apikey=e95f76cac84a3c62139dc3502a3e73e7 HTTP/1.1\" 200 None\n",
      " 50%|█████     | 2/4 [00:03<00:03,  1.99s/it]2018-12-21 11:52:15,013 - requests.packages.urllib3.connectionpool - DEBUG - Starting new HTTP connection (1): ondemand.websol.barchart.com\n",
      "2018-12-21 11:52:15,372 - requests.packages.urllib3.connectionpool - DEBUG - http://ondemand.websol.barchart.com:80 \"GET /getHistory.json?maxRecords=60&interval=1&startDate=20110801&symbol=GCU11&type=daily&apikey=e95f76cac84a3c62139dc3502a3e73e7 HTTP/1.1\" 200 None\n",
      "2018-12-21 11:52:15,384 - requests.packages.urllib3.connectionpool - DEBUG - Starting new HTTP connection (1): ondemand.websol.barchart.com\n",
      "2018-12-21 11:52:16,189 - requests.packages.urllib3.connectionpool - DEBUG - http://ondemand.websol.barchart.com:80 \"GET /getHistory.json?maxRecords=172800&interval=1&startDate=20110531&symbol=GCU11&type=minutes&apikey=e95f76cac84a3c62139dc3502a3e73e7 HTTP/1.1\" 200 None\n",
      " 75%|███████▌  | 3/4 [00:05<00:01,  1.77s/it]2018-12-21 11:52:16,339 - requests.packages.urllib3.connectionpool - DEBUG - Starting new HTTP connection (1): ondemand.websol.barchart.com\n",
      "2018-12-21 11:52:16,574 - requests.packages.urllib3.connectionpool - DEBUG - http://ondemand.websol.barchart.com:80 \"GET /getHistory.json?maxRecords=60&interval=1&startDate=20111101&symbol=GCZ11&type=daily&apikey=e95f76cac84a3c62139dc3502a3e73e7 HTTP/1.1\" 200 None\n",
      "2018-12-21 11:52:16,587 - requests.packages.urllib3.connectionpool - DEBUG - Starting new HTTP connection (1): ondemand.websol.barchart.com\n",
      "2018-12-21 11:52:19,270 - requests.packages.urllib3.connectionpool - DEBUG - http://ondemand.websol.barchart.com:80 \"GET /getHistory.json?maxRecords=172800&interval=1&startDate=20110830&symbol=GCZ11&type=minutes&apikey=e95f76cac84a3c62139dc3502a3e73e7 HTTP/1.1\" 200 None\n",
      "100%|██████████| 4/4 [00:08<00:00,  2.22s/it]\n",
      "2018-12-21 11:52:19,908 - root - INFO - BEGIN Writing Data for year: 2011\n",
      "2018-12-21 11:52:21,016 - root - INFO - END Writing Data for year: 2011\n",
      "2018-12-21 11:52:21,017 - root - INFO - begin:201201, end:201212\n",
      "2018-12-21 11:52:21,038 - root - INFO - BEGIN Fetching Data for year: 2012\n",
      "  0%|          | 0/4 [00:00<?, ?it/s]2018-12-21 11:52:21,049 - requests.packages.urllib3.connectionpool - DEBUG - Starting new HTTP connection (1): ondemand.websol.barchart.com\n"
     ]
    },
    {
     "name": "stdout",
     "output_type": "stream",
     "text": [
      "Barchart OnDemand Client: http://ondemand.websol.barchart.com/\n"
     ]
    },
    {
     "name": "stderr",
     "output_type": "stream",
     "text": [
      "2018-12-21 11:52:21,345 - requests.packages.urllib3.connectionpool - DEBUG - http://ondemand.websol.barchart.com:80 \"GET /getHistory.json?maxRecords=60&interval=1&startDate=20120201&symbol=GCH12&type=daily&apikey=e95f76cac84a3c62139dc3502a3e73e7 HTTP/1.1\" 200 None\n",
      "2018-12-21 11:52:21,357 - requests.packages.urllib3.connectionpool - DEBUG - Starting new HTTP connection (1): ondemand.websol.barchart.com\n",
      "2018-12-21 11:52:21,945 - requests.packages.urllib3.connectionpool - DEBUG - http://ondemand.websol.barchart.com:80 \"GET /getHistory.json?maxRecords=172800&interval=1&startDate=20111129&symbol=GCH12&type=minutes&apikey=e95f76cac84a3c62139dc3502a3e73e7 HTTP/1.1\" 200 None\n",
      " 25%|██▌       | 1/4 [00:01<00:03,  1.01s/it]2018-12-21 11:52:22,058 - requests.packages.urllib3.connectionpool - DEBUG - Starting new HTTP connection (1): ondemand.websol.barchart.com\n",
      "2018-12-21 11:52:22,373 - requests.packages.urllib3.connectionpool - DEBUG - http://ondemand.websol.barchart.com:80 \"GET /getHistory.json?maxRecords=60&interval=1&startDate=20120501&symbol=GCM12&type=daily&apikey=e95f76cac84a3c62139dc3502a3e73e7 HTTP/1.1\" 200 None\n",
      "2018-12-21 11:52:22,387 - requests.packages.urllib3.connectionpool - DEBUG - Starting new HTTP connection (1): ondemand.websol.barchart.com\n",
      "2018-12-21 11:52:24,574 - requests.packages.urllib3.connectionpool - DEBUG - http://ondemand.websol.barchart.com:80 \"GET /getHistory.json?maxRecords=172800&interval=1&startDate=20120228&symbol=GCM12&type=minutes&apikey=e95f76cac84a3c62139dc3502a3e73e7 HTTP/1.1\" 200 None\n",
      " 50%|█████     | 2/4 [00:04<00:04,  2.03s/it]2018-12-21 11:52:25,118 - requests.packages.urllib3.connectionpool - DEBUG - Starting new HTTP connection (1): ondemand.websol.barchart.com\n",
      "2018-12-21 11:52:25,419 - requests.packages.urllib3.connectionpool - DEBUG - http://ondemand.websol.barchart.com:80 \"GET /getHistory.json?maxRecords=60&interval=1&startDate=20120801&symbol=GCU12&type=daily&apikey=e95f76cac84a3c62139dc3502a3e73e7 HTTP/1.1\" 200 None\n",
      "2018-12-21 11:52:25,431 - requests.packages.urllib3.connectionpool - DEBUG - Starting new HTTP connection (1): ondemand.websol.barchart.com\n",
      "2018-12-21 11:52:25,949 - requests.packages.urllib3.connectionpool - DEBUG - http://ondemand.websol.barchart.com:80 \"GET /getHistory.json?maxRecords=172800&interval=1&startDate=20120529&symbol=GCU12&type=minutes&apikey=e95f76cac84a3c62139dc3502a3e73e7 HTTP/1.1\" 200 None\n",
      " 75%|███████▌  | 3/4 [00:04<00:01,  1.66s/it]2018-12-21 11:52:26,025 - requests.packages.urllib3.connectionpool - DEBUG - Starting new HTTP connection (1): ondemand.websol.barchart.com\n",
      "2018-12-21 11:52:26,232 - requests.packages.urllib3.connectionpool - DEBUG - http://ondemand.websol.barchart.com:80 \"GET /getHistory.json?maxRecords=60&interval=1&startDate=20121101&symbol=GCZ12&type=daily&apikey=e95f76cac84a3c62139dc3502a3e73e7 HTTP/1.1\" 200 None\n",
      "2018-12-21 11:52:26,241 - requests.packages.urllib3.connectionpool - DEBUG - Starting new HTTP connection (1): ondemand.websol.barchart.com\n",
      "2018-12-21 11:52:28,915 - requests.packages.urllib3.connectionpool - DEBUG - http://ondemand.websol.barchart.com:80 \"GET /getHistory.json?maxRecords=172800&interval=1&startDate=20120829&symbol=GCZ12&type=minutes&apikey=e95f76cac84a3c62139dc3502a3e73e7 HTTP/1.1\" 200 None\n",
      "100%|██████████| 4/4 [00:08<00:00,  2.12s/it]\n",
      "2018-12-21 11:52:29,509 - root - INFO - BEGIN Writing Data for year: 2012\n",
      "2018-12-21 11:52:30,534 - root - INFO - END Writing Data for year: 2012\n",
      "2018-12-21 11:52:30,535 - root - INFO - begin:201301, end:201312\n",
      "2018-12-21 11:52:30,557 - root - INFO - BEGIN Fetching Data for year: 2013\n",
      "  0%|          | 0/4 [00:00<?, ?it/s]2018-12-21 11:52:30,568 - requests.packages.urllib3.connectionpool - DEBUG - Starting new HTTP connection (1): ondemand.websol.barchart.com\n"
     ]
    },
    {
     "name": "stdout",
     "output_type": "stream",
     "text": [
      "Barchart OnDemand Client: http://ondemand.websol.barchart.com/\n"
     ]
    },
    {
     "name": "stderr",
     "output_type": "stream",
     "text": [
      "2018-12-21 11:52:30,928 - requests.packages.urllib3.connectionpool - DEBUG - http://ondemand.websol.barchart.com:80 \"GET /getHistory.json?maxRecords=60&interval=1&startDate=20130201&symbol=GCH13&type=daily&apikey=e95f76cac84a3c62139dc3502a3e73e7 HTTP/1.1\" 200 None\n",
      "2018-12-21 11:52:30,940 - requests.packages.urllib3.connectionpool - DEBUG - Starting new HTTP connection (1): ondemand.websol.barchart.com\n",
      "2018-12-21 11:52:32,005 - requests.packages.urllib3.connectionpool - DEBUG - http://ondemand.websol.barchart.com:80 \"GET /getHistory.json?maxRecords=172800&interval=1&startDate=20121126&symbol=GCH13&type=minutes&apikey=e95f76cac84a3c62139dc3502a3e73e7 HTTP/1.1\" 200 None\n",
      " 25%|██▌       | 1/4 [00:01<00:04,  1.51s/it]2018-12-21 11:52:32,079 - requests.packages.urllib3.connectionpool - DEBUG - Starting new HTTP connection (1): ondemand.websol.barchart.com\n",
      "2018-12-21 11:52:32,314 - requests.packages.urllib3.connectionpool - DEBUG - http://ondemand.websol.barchart.com:80 \"GET /getHistory.json?maxRecords=60&interval=1&startDate=20130501&symbol=GCM13&type=daily&apikey=e95f76cac84a3c62139dc3502a3e73e7 HTTP/1.1\" 200 None\n",
      "2018-12-21 11:52:32,327 - requests.packages.urllib3.connectionpool - DEBUG - Starting new HTTP connection (1): ondemand.websol.barchart.com\n",
      "2018-12-21 11:52:34,580 - requests.packages.urllib3.connectionpool - DEBUG - http://ondemand.websol.barchart.com:80 \"GET /getHistory.json?maxRecords=172800&interval=1&startDate=20130226&symbol=GCM13&type=minutes&apikey=e95f76cac84a3c62139dc3502a3e73e7 HTTP/1.1\" 200 None\n",
      " 50%|█████     | 2/4 [00:04<00:04,  2.27s/it]2018-12-21 11:52:35,115 - requests.packages.urllib3.connectionpool - DEBUG - Starting new HTTP connection (1): ondemand.websol.barchart.com\n",
      "2018-12-21 11:52:35,470 - requests.packages.urllib3.connectionpool - DEBUG - http://ondemand.websol.barchart.com:80 \"GET /getHistory.json?maxRecords=60&interval=1&startDate=20130801&symbol=GCU13&type=daily&apikey=e95f76cac84a3c62139dc3502a3e73e7 HTTP/1.1\" 200 None\n",
      "2018-12-21 11:52:35,482 - requests.packages.urllib3.connectionpool - DEBUG - Starting new HTTP connection (1): ondemand.websol.barchart.com\n",
      "2018-12-21 11:52:35,992 - requests.packages.urllib3.connectionpool - DEBUG - http://ondemand.websol.barchart.com:80 \"GET /getHistory.json?maxRecords=172800&interval=1&startDate=20130529&symbol=GCU13&type=minutes&apikey=e95f76cac84a3c62139dc3502a3e73e7 HTTP/1.1\" 200 None\n",
      " 75%|███████▌  | 3/4 [00:05<00:01,  1.84s/it]2018-12-21 11:52:36,079 - requests.packages.urllib3.connectionpool - DEBUG - Starting new HTTP connection (1): ondemand.websol.barchart.com\n",
      "2018-12-21 11:52:36,308 - requests.packages.urllib3.connectionpool - DEBUG - http://ondemand.websol.barchart.com:80 \"GET /getHistory.json?maxRecords=60&interval=1&startDate=20131101&symbol=GCZ13&type=daily&apikey=e95f76cac84a3c62139dc3502a3e73e7 HTTP/1.1\" 200 None\n",
      "2018-12-21 11:52:36,320 - requests.packages.urllib3.connectionpool - DEBUG - Starting new HTTP connection (1): ondemand.websol.barchart.com\n",
      "2018-12-21 11:52:38,985 - requests.packages.urllib3.connectionpool - DEBUG - http://ondemand.websol.barchart.com:80 \"GET /getHistory.json?maxRecords=172800&interval=1&startDate=20130829&symbol=GCZ13&type=minutes&apikey=e95f76cac84a3c62139dc3502a3e73e7 HTTP/1.1\" 200 None\n",
      "100%|██████████| 4/4 [00:09<00:00,  2.26s/it]\n",
      "2018-12-21 11:52:39,606 - root - INFO - BEGIN Writing Data for year: 2013\n",
      "2018-12-21 11:52:40,644 - root - INFO - END Writing Data for year: 2013\n",
      "2018-12-21 11:52:40,644 - root - INFO - begin:201401, end:201412\n",
      "2018-12-21 11:52:40,665 - root - INFO - BEGIN Fetching Data for year: 2014\n",
      "  0%|          | 0/4 [00:00<?, ?it/s]2018-12-21 11:52:40,677 - requests.packages.urllib3.connectionpool - DEBUG - Starting new HTTP connection (1): ondemand.websol.barchart.com\n"
     ]
    },
    {
     "name": "stdout",
     "output_type": "stream",
     "text": [
      "Barchart OnDemand Client: http://ondemand.websol.barchart.com/\n"
     ]
    },
    {
     "name": "stderr",
     "output_type": "stream",
     "text": [
      "2018-12-21 11:52:41,033 - requests.packages.urllib3.connectionpool - DEBUG - http://ondemand.websol.barchart.com:80 \"GET /getHistory.json?maxRecords=60&interval=1&startDate=20140201&symbol=GCH14&type=daily&apikey=e95f76cac84a3c62139dc3502a3e73e7 HTTP/1.1\" 200 None\n",
      "2018-12-21 11:52:41,040 - requests.packages.urllib3.connectionpool - DEBUG - Starting new HTTP connection (1): ondemand.websol.barchart.com\n",
      "2018-12-21 11:52:41,438 - requests.packages.urllib3.connectionpool - DEBUG - http://ondemand.websol.barchart.com:80 \"GET /getHistory.json?maxRecords=172800&interval=1&startDate=20131127&symbol=GCH14&type=minutes&apikey=e95f76cac84a3c62139dc3502a3e73e7 HTTP/1.1\" 200 None\n",
      " 25%|██▌       | 1/4 [00:00<00:02,  1.20it/s]2018-12-21 11:52:41,507 - requests.packages.urllib3.connectionpool - DEBUG - Starting new HTTP connection (1): ondemand.websol.barchart.com\n",
      "2018-12-21 11:52:41,690 - requests.packages.urllib3.connectionpool - DEBUG - http://ondemand.websol.barchart.com:80 \"GET /getHistory.json?maxRecords=60&interval=1&startDate=20140501&symbol=GCM14&type=daily&apikey=e95f76cac84a3c62139dc3502a3e73e7 HTTP/1.1\" 200 None\n",
      "2018-12-21 11:52:41,702 - requests.packages.urllib3.connectionpool - DEBUG - Starting new HTTP connection (1): ondemand.websol.barchart.com\n",
      "2018-12-21 11:52:43,979 - requests.packages.urllib3.connectionpool - DEBUG - http://ondemand.websol.barchart.com:80 \"GET /getHistory.json?maxRecords=172800&interval=1&startDate=20140226&symbol=GCM14&type=minutes&apikey=e95f76cac84a3c62139dc3502a3e73e7 HTTP/1.1\" 200 None\n",
      " 50%|█████     | 2/4 [00:03<00:03,  1.91s/it]2018-12-21 11:52:44,487 - requests.packages.urllib3.connectionpool - DEBUG - Starting new HTTP connection (1): ondemand.websol.barchart.com\n",
      "2018-12-21 11:52:44,843 - requests.packages.urllib3.connectionpool - DEBUG - http://ondemand.websol.barchart.com:80 \"GET /getHistory.json?maxRecords=60&interval=1&startDate=20140801&symbol=GCU14&type=daily&apikey=e95f76cac84a3c62139dc3502a3e73e7 HTTP/1.1\" 200 None\n",
      "2018-12-21 11:52:44,854 - requests.packages.urllib3.connectionpool - DEBUG - Starting new HTTP connection (1): ondemand.websol.barchart.com\n",
      "2018-12-21 11:52:45,236 - requests.packages.urllib3.connectionpool - DEBUG - http://ondemand.websol.barchart.com:80 \"GET /getHistory.json?maxRecords=172800&interval=1&startDate=20140529&symbol=GCU14&type=minutes&apikey=e95f76cac84a3c62139dc3502a3e73e7 HTTP/1.1\" 200 None\n",
      " 75%|███████▌  | 3/4 [00:04<00:01,  1.54s/it]2018-12-21 11:52:45,309 - requests.packages.urllib3.connectionpool - DEBUG - Starting new HTTP connection (1): ondemand.websol.barchart.com\n",
      "2018-12-21 11:52:45,743 - requests.packages.urllib3.connectionpool - DEBUG - http://ondemand.websol.barchart.com:80 \"GET /getHistory.json?maxRecords=60&interval=1&startDate=20141101&symbol=GCZ14&type=daily&apikey=e95f76cac84a3c62139dc3502a3e73e7 HTTP/1.1\" 200 None\n",
      "2018-12-21 11:52:45,793 - requests.packages.urllib3.connectionpool - DEBUG - Starting new HTTP connection (1): ondemand.websol.barchart.com\n",
      "2018-12-21 11:52:48,474 - requests.packages.urllib3.connectionpool - DEBUG - http://ondemand.websol.barchart.com:80 \"GET /getHistory.json?maxRecords=172800&interval=1&startDate=20140831&symbol=GCZ14&type=minutes&apikey=e95f76cac84a3c62139dc3502a3e73e7 HTTP/1.1\" 200 None\n",
      "100%|██████████| 4/4 [00:08<00:00,  2.09s/it]\n",
      "2018-12-21 11:52:49,052 - root - INFO - BEGIN Writing Data for year: 2014\n",
      "2018-12-21 11:52:50,076 - root - INFO - END Writing Data for year: 2014\n",
      "2018-12-21 11:52:50,077 - root - INFO - begin:201501, end:201512\n",
      "2018-12-21 11:52:50,095 - root - INFO - BEGIN Fetching Data for year: 2015\n",
      "  0%|          | 0/4 [00:00<?, ?it/s]2018-12-21 11:52:50,105 - requests.packages.urllib3.connectionpool - DEBUG - Starting new HTTP connection (1): ondemand.websol.barchart.com\n"
     ]
    },
    {
     "name": "stdout",
     "output_type": "stream",
     "text": [
      "Barchart OnDemand Client: http://ondemand.websol.barchart.com/\n"
     ]
    },
    {
     "name": "stderr",
     "output_type": "stream",
     "text": [
      "2018-12-21 11:52:50,418 - requests.packages.urllib3.connectionpool - DEBUG - http://ondemand.websol.barchart.com:80 \"GET /getHistory.json?maxRecords=60&interval=1&startDate=20150201&symbol=GCH15&type=daily&apikey=e95f76cac84a3c62139dc3502a3e73e7 HTTP/1.1\" 200 None\n",
      "2018-12-21 11:52:50,427 - requests.packages.urllib3.connectionpool - DEBUG - Starting new HTTP connection (1): ondemand.websol.barchart.com\n",
      "2018-12-21 11:52:51,087 - requests.packages.urllib3.connectionpool - DEBUG - http://ondemand.websol.barchart.com:80 \"GET /getHistory.json?maxRecords=172800&interval=1&startDate=20141127&symbol=GCH15&type=minutes&apikey=e95f76cac84a3c62139dc3502a3e73e7 HTTP/1.1\" 200 None\n",
      " 25%|██▌       | 1/4 [00:01<00:03,  1.06s/it]2018-12-21 11:52:51,161 - requests.packages.urllib3.connectionpool - DEBUG - Starting new HTTP connection (1): ondemand.websol.barchart.com\n",
      "2018-12-21 11:52:51,497 - requests.packages.urllib3.connectionpool - DEBUG - http://ondemand.websol.barchart.com:80 \"GET /getHistory.json?maxRecords=60&interval=1&startDate=20150501&symbol=GCM15&type=daily&apikey=e95f76cac84a3c62139dc3502a3e73e7 HTTP/1.1\" 200 None\n",
      "2018-12-21 11:52:51,510 - requests.packages.urllib3.connectionpool - DEBUG - Starting new HTTP connection (1): ondemand.websol.barchart.com\n",
      "2018-12-21 11:52:53,765 - requests.packages.urllib3.connectionpool - DEBUG - http://ondemand.websol.barchart.com:80 \"GET /getHistory.json?maxRecords=172800&interval=1&startDate=20150226&symbol=GCM15&type=minutes&apikey=e95f76cac84a3c62139dc3502a3e73e7 HTTP/1.1\" 200 None\n",
      " 50%|█████     | 2/4 [00:04<00:04,  2.07s/it]2018-12-21 11:52:54,243 - requests.packages.urllib3.connectionpool - DEBUG - Starting new HTTP connection (1): ondemand.websol.barchart.com\n",
      "2018-12-21 11:52:54,670 - requests.packages.urllib3.connectionpool - DEBUG - http://ondemand.websol.barchart.com:80 \"GET /getHistory.json?maxRecords=60&interval=1&startDate=20150801&symbol=GCU15&type=daily&apikey=e95f76cac84a3c62139dc3502a3e73e7 HTTP/1.1\" 200 None\n",
      "2018-12-21 11:52:54,681 - requests.packages.urllib3.connectionpool - DEBUG - Starting new HTTP connection (1): ondemand.websol.barchart.com\n",
      "2018-12-21 11:52:55,344 - requests.packages.urllib3.connectionpool - DEBUG - http://ondemand.websol.barchart.com:80 \"GET /getHistory.json?maxRecords=172800&interval=1&startDate=20150531&symbol=GCU15&type=minutes&apikey=e95f76cac84a3c62139dc3502a3e73e7 HTTP/1.1\" 200 None\n",
      " 75%|███████▌  | 3/4 [00:05<00:01,  1.78s/it]2018-12-21 11:52:55,440 - requests.packages.urllib3.connectionpool - DEBUG - Starting new HTTP connection (1): ondemand.websol.barchart.com\n",
      "2018-12-21 11:52:55,738 - requests.packages.urllib3.connectionpool - DEBUG - http://ondemand.websol.barchart.com:80 \"GET /getHistory.json?maxRecords=60&interval=1&startDate=20151101&symbol=GCZ15&type=daily&apikey=e95f76cac84a3c62139dc3502a3e73e7 HTTP/1.1\" 200 None\n",
      "2018-12-21 11:52:55,750 - requests.packages.urllib3.connectionpool - DEBUG - Starting new HTTP connection (1): ondemand.websol.barchart.com\n",
      "2018-12-21 11:52:58,458 - requests.packages.urllib3.connectionpool - DEBUG - http://ondemand.websol.barchart.com:80 \"GET /getHistory.json?maxRecords=172800&interval=1&startDate=20150831&symbol=GCZ15&type=minutes&apikey=e95f76cac84a3c62139dc3502a3e73e7 HTTP/1.1\" 200 None\n",
      "100%|██████████| 4/4 [00:08<00:00,  2.23s/it]\n",
      "2018-12-21 11:52:59,026 - root - INFO - BEGIN Writing Data for year: 2015\n",
      "2018-12-21 11:53:00,094 - root - INFO - END Writing Data for year: 2015\n",
      "2018-12-21 11:53:00,095 - root - INFO - begin:201601, end:201612\n",
      "2018-12-21 11:53:00,111 - root - INFO - BEGIN Fetching Data for year: 2016\n",
      "  0%|          | 0/4 [00:00<?, ?it/s]2018-12-21 11:53:00,122 - requests.packages.urllib3.connectionpool - DEBUG - Starting new HTTP connection (1): ondemand.websol.barchart.com\n"
     ]
    },
    {
     "name": "stdout",
     "output_type": "stream",
     "text": [
      "Barchart OnDemand Client: http://ondemand.websol.barchart.com/\n"
     ]
    },
    {
     "name": "stderr",
     "output_type": "stream",
     "text": [
      "2018-12-21 11:53:00,473 - requests.packages.urllib3.connectionpool - DEBUG - http://ondemand.websol.barchart.com:80 \"GET /getHistory.json?maxRecords=60&interval=1&startDate=20160201&symbol=GCH16&type=daily&apikey=e95f76cac84a3c62139dc3502a3e73e7 HTTP/1.1\" 200 None\n",
      "2018-12-21 11:53:00,480 - requests.packages.urllib3.connectionpool - DEBUG - Starting new HTTP connection (1): ondemand.websol.barchart.com\n",
      "2018-12-21 11:53:01,082 - requests.packages.urllib3.connectionpool - DEBUG - http://ondemand.websol.barchart.com:80 \"GET /getHistory.json?maxRecords=172800&interval=1&startDate=20151130&symbol=GCH16&type=minutes&apikey=e95f76cac84a3c62139dc3502a3e73e7 HTTP/1.1\" 200 None\n",
      " 25%|██▌       | 1/4 [00:01<00:03,  1.08s/it]2018-12-21 11:53:01,203 - requests.packages.urllib3.connectionpool - DEBUG - Starting new HTTP connection (1): ondemand.websol.barchart.com\n",
      "2018-12-21 11:53:01,497 - requests.packages.urllib3.connectionpool - DEBUG - http://ondemand.websol.barchart.com:80 \"GET /getHistory.json?maxRecords=60&interval=1&startDate=20160501&symbol=GCM16&type=daily&apikey=e95f76cac84a3c62139dc3502a3e73e7 HTTP/1.1\" 200 None\n",
      "2018-12-21 11:53:01,509 - requests.packages.urllib3.connectionpool - DEBUG - Starting new HTTP connection (1): ondemand.websol.barchart.com\n",
      "2018-12-21 11:53:03,666 - requests.packages.urllib3.connectionpool - DEBUG - http://ondemand.websol.barchart.com:80 \"GET /getHistory.json?maxRecords=172800&interval=1&startDate=20160229&symbol=GCM16&type=minutes&apikey=e95f76cac84a3c62139dc3502a3e73e7 HTTP/1.1\" 200 None\n",
      " 50%|█████     | 2/4 [00:04<00:04,  2.10s/it]2018-12-21 11:53:04,324 - requests.packages.urllib3.connectionpool - DEBUG - Starting new HTTP connection (1): ondemand.websol.barchart.com\n",
      "2018-12-21 11:53:04,682 - requests.packages.urllib3.connectionpool - DEBUG - http://ondemand.websol.barchart.com:80 \"GET /getHistory.json?maxRecords=60&interval=1&startDate=20160801&symbol=GCU16&type=daily&apikey=e95f76cac84a3c62139dc3502a3e73e7 HTTP/1.1\" 200 None\n",
      "2018-12-21 11:53:04,694 - requests.packages.urllib3.connectionpool - DEBUG - Starting new HTTP connection (1): ondemand.websol.barchart.com\n",
      "2018-12-21 11:53:05,362 - requests.packages.urllib3.connectionpool - DEBUG - http://ondemand.websol.barchart.com:80 \"GET /getHistory.json?maxRecords=172800&interval=1&startDate=20160531&symbol=GCU16&type=minutes&apikey=e95f76cac84a3c62139dc3502a3e73e7 HTTP/1.1\" 200 None\n",
      " 75%|███████▌  | 3/4 [00:05<00:01,  1.78s/it]2018-12-21 11:53:05,450 - requests.packages.urllib3.connectionpool - DEBUG - Starting new HTTP connection (1): ondemand.websol.barchart.com\n",
      "2018-12-21 11:53:05,754 - requests.packages.urllib3.connectionpool - DEBUG - http://ondemand.websol.barchart.com:80 \"GET /getHistory.json?maxRecords=60&interval=1&startDate=20161101&symbol=GCZ16&type=daily&apikey=e95f76cac84a3c62139dc3502a3e73e7 HTTP/1.1\" 200 None\n",
      "2018-12-21 11:53:05,764 - requests.packages.urllib3.connectionpool - DEBUG - Starting new HTTP connection (1): ondemand.websol.barchart.com\n",
      "2018-12-21 11:53:08,396 - requests.packages.urllib3.connectionpool - DEBUG - http://ondemand.websol.barchart.com:80 \"GET /getHistory.json?maxRecords=172800&interval=1&startDate=20160830&symbol=GCZ16&type=minutes&apikey=e95f76cac84a3c62139dc3502a3e73e7 HTTP/1.1\" 200 None\n",
      "100%|██████████| 4/4 [00:08<00:00,  2.23s/it]\n",
      "2018-12-21 11:53:09,061 - root - INFO - BEGIN Writing Data for year: 2016\n",
      "2018-12-21 11:53:10,141 - root - INFO - END Writing Data for year: 2016\n",
      "2018-12-21 11:53:10,141 - root - INFO - begin:201701, end:201712\n",
      "2018-12-21 11:53:10,161 - root - INFO - BEGIN Fetching Data for year: 2017\n",
      "  0%|          | 0/4 [00:00<?, ?it/s]2018-12-21 11:53:10,174 - requests.packages.urllib3.connectionpool - DEBUG - Starting new HTTP connection (1): ondemand.websol.barchart.com\n"
     ]
    },
    {
     "name": "stdout",
     "output_type": "stream",
     "text": [
      "Barchart OnDemand Client: http://ondemand.websol.barchart.com/\n"
     ]
    },
    {
     "name": "stderr",
     "output_type": "stream",
     "text": [
      "2018-12-21 11:53:10,442 - requests.packages.urllib3.connectionpool - DEBUG - http://ondemand.websol.barchart.com:80 \"GET /getHistory.json?maxRecords=60&interval=1&startDate=20170201&symbol=GCH17&type=daily&apikey=e95f76cac84a3c62139dc3502a3e73e7 HTTP/1.1\" 200 None\n",
      "2018-12-21 11:53:10,455 - requests.packages.urllib3.connectionpool - DEBUG - Starting new HTTP connection (1): ondemand.websol.barchart.com\n",
      "2018-12-21 11:53:10,958 - requests.packages.urllib3.connectionpool - DEBUG - http://ondemand.websol.barchart.com:80 \"GET /getHistory.json?maxRecords=172800&interval=1&startDate=20161129&symbol=GCH17&type=minutes&apikey=e95f76cac84a3c62139dc3502a3e73e7 HTTP/1.1\" 200 None\n",
      " 25%|██▌       | 1/4 [00:00<00:02,  1.08it/s]2018-12-21 11:53:11,096 - requests.packages.urllib3.connectionpool - DEBUG - Starting new HTTP connection (1): ondemand.websol.barchart.com\n",
      "2018-12-21 11:53:11,380 - requests.packages.urllib3.connectionpool - DEBUG - http://ondemand.websol.barchart.com:80 \"GET /getHistory.json?maxRecords=60&interval=1&startDate=20170501&symbol=GCM17&type=daily&apikey=e95f76cac84a3c62139dc3502a3e73e7 HTTP/1.1\" 200 None\n",
      "2018-12-21 11:53:11,390 - requests.packages.urllib3.connectionpool - DEBUG - Starting new HTTP connection (1): ondemand.websol.barchart.com\n",
      "2018-12-21 11:53:13,814 - requests.packages.urllib3.connectionpool - DEBUG - http://ondemand.websol.barchart.com:80 \"GET /getHistory.json?maxRecords=172800&interval=1&startDate=20170228&symbol=GCM17&type=minutes&apikey=e95f76cac84a3c62139dc3502a3e73e7 HTTP/1.1\" 200 None\n",
      " 50%|█████     | 2/4 [00:04<00:04,  2.11s/it]2018-12-21 11:53:14,397 - requests.packages.urllib3.connectionpool - DEBUG - Starting new HTTP connection (1): ondemand.websol.barchart.com\n",
      "2018-12-21 11:53:14,701 - requests.packages.urllib3.connectionpool - DEBUG - http://ondemand.websol.barchart.com:80 \"GET /getHistory.json?maxRecords=60&interval=1&startDate=20170801&symbol=GCU17&type=daily&apikey=e95f76cac84a3c62139dc3502a3e73e7 HTTP/1.1\" 200 None\n",
      "2018-12-21 11:53:14,711 - requests.packages.urllib3.connectionpool - DEBUG - Starting new HTTP connection (1): ondemand.websol.barchart.com\n",
      "2018-12-21 11:53:15,313 - requests.packages.urllib3.connectionpool - DEBUG - http://ondemand.websol.barchart.com:80 \"GET /getHistory.json?maxRecords=172800&interval=1&startDate=20170530&symbol=GCU17&type=minutes&apikey=e95f76cac84a3c62139dc3502a3e73e7 HTTP/1.1\" 200 None\n",
      " 75%|███████▌  | 3/4 [00:05<00:01,  1.75s/it]2018-12-21 11:53:15,412 - requests.packages.urllib3.connectionpool - DEBUG - Starting new HTTP connection (1): ondemand.websol.barchart.com\n",
      "2018-12-21 11:53:15,720 - requests.packages.urllib3.connectionpool - DEBUG - http://ondemand.websol.barchart.com:80 \"GET /getHistory.json?maxRecords=60&interval=1&startDate=20171101&symbol=GCZ17&type=daily&apikey=e95f76cac84a3c62139dc3502a3e73e7 HTTP/1.1\" 200 None\n",
      "2018-12-21 11:53:15,732 - requests.packages.urllib3.connectionpool - DEBUG - Starting new HTTP connection (1): ondemand.websol.barchart.com\n",
      "2018-12-21 11:53:18,372 - requests.packages.urllib3.connectionpool - DEBUG - http://ondemand.websol.barchart.com:80 \"GET /getHistory.json?maxRecords=172800&interval=1&startDate=20170829&symbol=GCZ17&type=minutes&apikey=e95f76cac84a3c62139dc3502a3e73e7 HTTP/1.1\" 200 None\n",
      "100%|██████████| 4/4 [00:08<00:00,  2.23s/it]\n",
      "2018-12-21 11:53:19,078 - root - INFO - BEGIN Writing Data for year: 2017\n",
      "2018-12-21 11:53:20,214 - root - INFO - END Writing Data for year: 2017\n",
      "2018-12-21 11:53:20,215 - root - INFO - begin:201801, end:201812\n",
      "2018-12-21 11:53:20,232 - root - INFO - BEGIN Fetching Data for year: 2018\n",
      "  0%|          | 0/4 [00:00<?, ?it/s]2018-12-21 11:53:20,245 - requests.packages.urllib3.connectionpool - DEBUG - Starting new HTTP connection (1): ondemand.websol.barchart.com\n"
     ]
    },
    {
     "name": "stdout",
     "output_type": "stream",
     "text": [
      "Barchart OnDemand Client: http://ondemand.websol.barchart.com/\n"
     ]
    },
    {
     "name": "stderr",
     "output_type": "stream",
     "text": [
      "2018-12-21 11:53:20,523 - requests.packages.urllib3.connectionpool - DEBUG - http://ondemand.websol.barchart.com:80 \"GET /getHistory.json?maxRecords=60&interval=1&startDate=20180201&symbol=GCH18&type=daily&apikey=e95f76cac84a3c62139dc3502a3e73e7 HTTP/1.1\" 200 None\n",
      "2018-12-21 11:53:20,534 - requests.packages.urllib3.connectionpool - DEBUG - Starting new HTTP connection (1): ondemand.websol.barchart.com\n",
      "2018-12-21 11:53:21,166 - requests.packages.urllib3.connectionpool - DEBUG - http://ondemand.websol.barchart.com:80 \"GET /getHistory.json?maxRecords=172800&interval=1&startDate=20171127&symbol=GCH18&type=minutes&apikey=e95f76cac84a3c62139dc3502a3e73e7 HTTP/1.1\" 200 None\n",
      " 25%|██▌       | 1/4 [00:01<00:03,  1.02s/it]2018-12-21 11:53:21,266 - requests.packages.urllib3.connectionpool - DEBUG - Starting new HTTP connection (1): ondemand.websol.barchart.com\n",
      "2018-12-21 11:53:21,447 - requests.packages.urllib3.connectionpool - DEBUG - http://ondemand.websol.barchart.com:80 \"GET /getHistory.json?maxRecords=60&interval=1&startDate=20180501&symbol=GCM18&type=daily&apikey=e95f76cac84a3c62139dc3502a3e73e7 HTTP/1.1\" 200 None\n",
      "2018-12-21 11:53:21,458 - requests.packages.urllib3.connectionpool - DEBUG - Starting new HTTP connection (1): ondemand.websol.barchart.com\n",
      "2018-12-21 11:53:23,789 - requests.packages.urllib3.connectionpool - DEBUG - http://ondemand.websol.barchart.com:80 \"GET /getHistory.json?maxRecords=172800&interval=1&startDate=20180227&symbol=GCM18&type=minutes&apikey=e95f76cac84a3c62139dc3502a3e73e7 HTTP/1.1\" 200 None\n",
      " 50%|█████     | 2/4 [00:04<00:04,  2.06s/it]2018-12-21 11:53:24,363 - requests.packages.urllib3.connectionpool - DEBUG - Starting new HTTP connection (1): ondemand.websol.barchart.com\n",
      "2018-12-21 11:53:24,581 - requests.packages.urllib3.connectionpool - DEBUG - http://ondemand.websol.barchart.com:80 \"GET /getHistory.json?maxRecords=60&interval=1&startDate=20180801&symbol=GCU18&type=daily&apikey=e95f76cac84a3c62139dc3502a3e73e7 HTTP/1.1\" 200 None\n",
      "2018-12-21 11:53:24,592 - requests.packages.urllib3.connectionpool - DEBUG - Starting new HTTP connection (1): ondemand.websol.barchart.com\n",
      "2018-12-21 11:53:25,007 - requests.packages.urllib3.connectionpool - DEBUG - http://ondemand.websol.barchart.com:80 \"GET /getHistory.json?maxRecords=172800&interval=1&startDate=20180529&symbol=GCU18&type=minutes&apikey=e95f76cac84a3c62139dc3502a3e73e7 HTTP/1.1\" 200 None\n",
      " 75%|███████▌  | 3/4 [00:04<00:01,  1.62s/it]2018-12-21 11:53:25,096 - requests.packages.urllib3.connectionpool - DEBUG - Starting new HTTP connection (1): ondemand.websol.barchart.com\n",
      "2018-12-21 11:53:25,450 - requests.packages.urllib3.connectionpool - DEBUG - http://ondemand.websol.barchart.com:80 \"GET /getHistory.json?maxRecords=60&interval=1&startDate=20181101&symbol=GCZ18&type=daily&apikey=e95f76cac84a3c62139dc3502a3e73e7 HTTP/1.1\" 200 None\n",
      "2018-12-21 11:53:25,463 - requests.packages.urllib3.connectionpool - DEBUG - Starting new HTTP connection (1): ondemand.websol.barchart.com\n",
      "2018-12-21 11:53:28,243 - requests.packages.urllib3.connectionpool - DEBUG - http://ondemand.websol.barchart.com:80 \"GET /getHistory.json?maxRecords=172800&interval=1&startDate=20180822&symbol=GCZ18&type=minutes&apikey=e95f76cac84a3c62139dc3502a3e73e7 HTTP/1.1\" 200 None\n",
      "100%|██████████| 4/4 [00:08<00:00,  2.18s/it]\n",
      "2018-12-21 11:53:28,953 - root - INFO - BEGIN Writing Data for year: 2018\n",
      "2018-12-21 11:53:30,056 - root - INFO - END Writing Data for year: 2018\n",
      "2018-12-21 11:53:30,057 - root - INFO - end\n"
     ]
    }
   ],
   "source": [
    "bar_type = args.bar_type\n",
    "interval = args.interval\n",
    "output_folder = temp_folder\n",
    "logger = futs.init_root_logger('logger.log')\n",
    "endpoint_type = args.endpoint_type\n",
    "\n",
    "logger.info(f'start')\n",
    "years = np.linspace(2008,2018,2018-2008+1,dtype=int)\n",
    "days = 40\n",
    "month_codes = None\n",
    "if commodity in quarter_commodities:\n",
    "    month_codes = ['H','M','U','Z']\n",
    "    days = 120\n",
    "logger.info(f'days,month_codes {(days,month_codes)}')\n",
    "for y in years:\n",
    "    beg_yyyymm = int(f'{y}01')\n",
    "    end_yyyymm = int(f'{y}12')\n",
    "    logger.info(f'begin:{beg_yyyymm}, end:{end_yyyymm}')\n",
    "    fc = futs.FuturesSeries(api_key, commodity, beg_yyyymm, end_yyyymm, bar_type, \n",
    "                            interval, endpoint_type,logger)\n",
    "    logger.info(f'BEGIN Fetching Data for year: {y}')\n",
    "    fc.get_contracts(trading_days_to_get=days,month_code_list=month_codes)\n",
    "    logger.info(f'BEGIN Writing Data for year: {y}')\n",
    "    fc.write_csv(output_folder)\n",
    "    logger.info(f'END Writing Data for year: {y}')\n",
    "logger.info(f'end')\n",
    "\n"
   ]
  },
  {
   "cell_type": "code",
   "execution_count": null,
   "metadata": {},
   "outputs": [],
   "source": []
  }
 ],
 "metadata": {
  "kernelspec": {
   "display_name": "Python 3",
   "language": "python",
   "name": "python3"
  },
  "language_info": {
   "codemirror_mode": {
    "name": "ipython",
    "version": 3
   },
   "file_extension": ".py",
   "mimetype": "text/x-python",
   "name": "python",
   "nbconvert_exporter": "python",
   "pygments_lexer": "ipython3",
   "version": "3.6.5"
  }
 },
 "nbformat": 4,
 "nbformat_minor": 2
}
