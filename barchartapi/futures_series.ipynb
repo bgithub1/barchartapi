{
 "cells": [
  {
   "cell_type": "markdown",
   "metadata": {},
   "source": [
    "# future_series.ipynb: \n",
    "Use the [barchart market data API](https://www.barchart.com/ondemand/free-market-data-api) to retrieve csv history files for bar sizes ranging from 1 minute to monthly.\n",
    "\n",
    "### Use:\n",
    "1. Enter values for all of the variables in section **1.1** below;\n",
    "2. Run all cells below that;\n",
    "3. All retrieved data will be written as csv files to the folder that you specify in the variable ```temp_folder``` in section **1.1** ."
   ]
  },
  {
   "cell_type": "markdown",
   "metadata": {},
   "source": [
    "___\n",
    "### Section 1.0 - Import packages and append various folder paths to sys.path so that the module futures_series.py works properly"
   ]
  },
  {
   "cell_type": "code",
   "execution_count": 1,
   "metadata": {},
   "outputs": [
    {
     "name": "stdout",
     "output_type": "stream",
     "text": [
      "['', '/Library/Frameworks/Python.framework/Versions/3.6/lib/python36.zip', '/Library/Frameworks/Python.framework/Versions/3.6/lib/python3.6', '/Library/Frameworks/Python.framework/Versions/3.6/lib/python3.6/lib-dynload', '/Users/bperlman1/Virtualenvs3/pyliverisk/lib/python3.6/site-packages', '/Users/bperlman1/Virtualenvs3/pyliverisk/lib/python3.6/site-packages/IPython/extensions', '/Users/bperlman1/.ipython', '../../barchartapi/barchartapi', '../../barchartapi', '../..']\n"
     ]
    }
   ],
   "source": [
    "import os\n",
    "import sys\n",
    "import argparse as ap\n",
    "import numpy as np\n",
    "import pandas as pd\n",
    "import datetime\n",
    "\n",
    "WORKSPACE_DIR = '../..' #!echo $(cd ../../;pwd)\n",
    "PROJECT_DIR = f'{WORKSPACE_DIR}/barchartapi' #!echo $(cd ../;pwd)\n",
    "WORKING_DIR = f'{PROJECT_DIR}/barchartapi' #!echo $(cd ./;pwd)\n",
    "if WORKING_DIR not in sys.path:\n",
    "    sys.path.append(WORKING_DIR)\n",
    "if PROJECT_DIR not in sys.path:\n",
    "    sys.path.append(PROJECT_DIR)\n",
    "if WORKSPACE_DIR not in sys.path:\n",
    "    sys.path.append(WORKSPACE_DIR)\n",
    "print(sys.path)\n",
    "import futures_series as futs\n"
   ]
  },
  {
   "cell_type": "code",
   "execution_count": 2,
   "metadata": {},
   "outputs": [
    {
     "data": {
      "text/plain": [
       "<module 'futures_series' from '/Users/bperlman1/Documents/billybyte/pyliverisk/barchartapi/barchartapi/futures_series.py'>"
      ]
     },
     "execution_count": 2,
     "metadata": {},
     "output_type": "execute_result"
    }
   ],
   "source": [
    "from importlib import reload\n",
    "reload(futs)"
   ]
  },
  {
   "cell_type": "markdown",
   "metadata": {},
   "source": [
    "___\n",
    "### Section 1.1 - Change the contract information below to suit your needs\n",
    "* Set the variable ```temp_folder``` to the folder that will hold various temporary data, and will also hold 2 text files:\n",
    " * free_api_key.txt\n",
    " * paid_api_key.txt\n",
    " * Both free and paid api_key.txt files should hold a 32 digit API key (like 0123456789abcdefghij0123456789ab) that you obtain from barchart\n",
    "* Set the variable ```commodity``` to determine the commodity futures contracts that you want to obtain (e.g, CL, ES, NG: see the [barchart commodity codes](https://www.barchart.com/futures/most-active/all?viewName=main) )\n",
    "* Set the variable ```start_year``` to determine the first year from which you want to retrieve data\n",
    "* Set the variable ```end_year``` to determine the last year from which you want to retrieve data\n",
    " * _For each year, you will retrieve history data for all of the contract months that traded in that year_\n",
    "* Set the variable ```days``` to determine the number of days per contract in all the contract months that you will retrieve \n",
    "* Set the variable ```bar_type``` to determine the time scale of the csv data that you want (minutes, daily, monthly)\n",
    "* Set the variable ```interval``` to determine the number of minutes that you want for each \"minutes\" bar.  \n",
    " * _Set this to 1 for daily and monthly bar_type's_"
   ]
  },
  {
   "cell_type": "code",
   "execution_count": 6,
   "metadata": {},
   "outputs": [],
   "source": [
    "# api_key_type_prefix = 'paid'\n",
    "api_key_type_prefix = 'free'\n",
    "temp_folder = './temp_folder'\n",
    "api_key = open(f'{temp_folder}/{api_key_type_prefix}_api_key.txt','r').read()\n",
    "commodity = 'CL'\n",
    "start_year = 2019\n",
    "end_year = 2019\n",
    "days = 40\n",
    "# bar_type = 'minutes'\n",
    "bar_type = 'daily'\n",
    "interval = 1"
   ]
  },
  {
   "cell_type": "markdown",
   "metadata": {},
   "source": [
    "#### (Keep these the same)"
   ]
  },
  {
   "cell_type": "code",
   "execution_count": 7,
   "metadata": {},
   "outputs": [],
   "source": [
    "args = ap.Namespace(\n",
    "    output_folder = temp_folder,\n",
    "    endpoint_type = f'{api_key_type_prefix}_url'\n",
    ")\n",
    "quarter_commodities = ['ES','GE','GC']"
   ]
  },
  {
   "cell_type": "markdown",
   "metadata": {},
   "source": [
    "___\n",
    "### Section 2.0\n",
    "\n",
    "The code below iterates through each year, calling \n",
    "```\n",
    "    FuturesSeries.get_contracts(trading_days_to_get=days,month_code_list=month_codes)\n",
    "    FuturesSeries.write_csv(output_folder)\n",
    "```\n",
    "in order to retrieve and save all of the futures contracts for each year."
   ]
  },
  {
   "cell_type": "code",
   "execution_count": 8,
   "metadata": {},
   "outputs": [
    {
     "name": "stderr",
     "output_type": "stream",
     "text": [
      "2019-03-06 09:05:17,748 - root - INFO - start\n",
      "2019-03-06 09:05:17,752 - root - INFO - days,month_codes (40, None)\n",
      "2019-03-06 09:05:17,754 - root - INFO - begin:201901, end:201912\n",
      "2019-03-06 09:05:17,755 - root - INFO - BEGIN Fetching Data for year: 2019\n",
      "  0%|          | 0/12 [00:00<?, ?it/s]2019-03-06 09:05:17,819 - requests.packages.urllib3.connectionpool - DEBUG - Starting new HTTPS connection (1): marketdata.websol.barchart.com\n"
     ]
    },
    {
     "name": "stdout",
     "output_type": "stream",
     "text": [
      "Barchart OnDemand Client: https://marketdata.websol.barchart.com/\n"
     ]
    },
    {
     "name": "stderr",
     "output_type": "stream",
     "text": [
      "2019-03-06 09:05:18,231 - requests.packages.urllib3.connectionpool - DEBUG - https://marketdata.websol.barchart.com:443 \"GET /getHistory.json?maxRecords=60&interval=1&startDate=20181201&symbol=CLF19&type=daily&apikey=99125d367af268ca234144d64583a5e7 HTTP/1.1\" 200 2310\n",
      "2019-03-06 09:05:18,240 - requests.packages.urllib3.connectionpool - DEBUG - Starting new HTTPS connection (1): marketdata.websol.barchart.com\n",
      "2019-03-06 09:05:18,522 - requests.packages.urllib3.connectionpool - DEBUG - https://marketdata.websol.barchart.com:443 \"GET /getHistory.json?maxRecords=40&interval=1&startDate=20181109&symbol=CLF19&type=daily&apikey=99125d367af268ca234144d64583a5e7 HTTP/1.1\" 200 4929\n",
      "  8%|▊         | 1/12 [00:00<00:08,  1.31it/s]2019-03-06 09:05:18,537 - requests.packages.urllib3.connectionpool - DEBUG - Starting new HTTPS connection (1): marketdata.websol.barchart.com\n",
      "2019-03-06 09:05:18,847 - requests.packages.urllib3.connectionpool - DEBUG - https://marketdata.websol.barchart.com:443 \"GET /getHistory.json?maxRecords=60&interval=1&startDate=20190101&symbol=CLG19&type=daily&apikey=99125d367af268ca234144d64583a5e7 HTTP/1.1\" 200 2486\n",
      "2019-03-06 09:05:18,856 - requests.packages.urllib3.connectionpool - DEBUG - Starting new HTTPS connection (1): marketdata.websol.barchart.com\n",
      "2019-03-06 09:05:19,175 - requests.packages.urllib3.connectionpool - DEBUG - https://marketdata.websol.barchart.com:443 \"GET /getHistory.json?maxRecords=40&interval=1&startDate=20181213&symbol=CLG19&type=daily&apikey=99125d367af268ca234144d64583a5e7 HTTP/1.1\" 200 4576\n",
      " 17%|█▋        | 2/12 [00:01<00:07,  1.41it/s]2019-03-06 09:05:19,191 - requests.packages.urllib3.connectionpool - DEBUG - Starting new HTTPS connection (1): marketdata.websol.barchart.com\n",
      "2019-03-06 09:05:19,496 - requests.packages.urllib3.connectionpool - DEBUG - https://marketdata.websol.barchart.com:443 \"GET /getHistory.json?maxRecords=60&interval=1&startDate=20190201&symbol=CLH19&type=daily&apikey=99125d367af268ca234144d64583a5e7 HTTP/1.1\" 200 2318\n",
      "2019-03-06 09:05:19,508 - requests.packages.urllib3.connectionpool - DEBUG - Starting new HTTPS connection (1): marketdata.websol.barchart.com\n",
      "2019-03-06 09:05:19,803 - requests.packages.urllib3.connectionpool - DEBUG - https://marketdata.websol.barchart.com:443 \"GET /getHistory.json?maxRecords=40&interval=1&startDate=20190111&symbol=CLH19&type=daily&apikey=99125d367af268ca234144d64583a5e7 HTTP/1.1\" 200 4766\n",
      " 25%|██▌       | 3/12 [00:02<00:06,  1.47it/s]2019-03-06 09:05:19,822 - requests.packages.urllib3.connectionpool - DEBUG - Starting new HTTPS connection (1): marketdata.websol.barchart.com\n",
      "2019-03-06 09:05:20,069 - requests.packages.urllib3.connectionpool - DEBUG - https://marketdata.websol.barchart.com:443 \"GET /getHistory.json?maxRecords=60&interval=1&startDate=20190301&symbol=CLJ19&type=daily&apikey=99125d367af268ca234144d64583a5e7 HTTP/1.1\" 200 577\n",
      "2019-03-06 09:05:20,078 - requests.packages.urllib3.connectionpool - DEBUG - Starting new HTTPS connection (1): marketdata.websol.barchart.com\n",
      "2019-03-06 09:05:20,341 - requests.packages.urllib3.connectionpool - DEBUG - https://marketdata.websol.barchart.com:443 \"GET /getHistory.json?maxRecords=40&interval=1&startDate=20190124&symbol=CLJ19&type=daily&apikey=99125d367af268ca234144d64583a5e7 HTTP/1.1\" 200 4935\n",
      " 33%|███▎      | 4/12 [00:02<00:05,  1.55it/s]2019-03-06 09:05:20,355 - requests.packages.urllib3.connectionpool - DEBUG - Starting new HTTPS connection (1): marketdata.websol.barchart.com\n",
      "2019-03-06 09:05:20,641 - requests.packages.urllib3.connectionpool - DEBUG - https://marketdata.websol.barchart.com:443 \"GET /getHistory.json?maxRecords=60&interval=1&startDate=20190401&symbol=CLK19&type=daily&apikey=99125d367af268ca234144d64583a5e7 HTTP/1.1\" 200 85\n",
      "\n",
      "2019-03-06 09:05:20,645 - root - INFO -  error getting contract CL for begin:201901 and end:201912 {'code': 204, 'message': 'Success, but no content to return.'}\n",
      "2019-03-06 09:05:20,647 - root - INFO - end\n"
     ]
    }
   ],
   "source": [
    "# bar_type = args.bar_type\n",
    "# interval = args.interval\n",
    "output_folder = temp_folder\n",
    "logger = futs.init_root_logger('logger.log')\n",
    "endpoint_type = args.endpoint_type\n",
    "\n",
    "logger.info(f'start')\n",
    "# start_year = 2008\n",
    "# end_year = 2018\n",
    "years = np.linspace(start_year,end_year,end_year-start_year+1,dtype=int)\n",
    "# days = 40\n",
    "month_codes = None\n",
    "if commodity in quarter_commodities:\n",
    "    month_codes = ['H','M','U','Z']\n",
    "    days = 120\n",
    "logger.info(f'days,month_codes {(days,month_codes)}')\n",
    "for y in years:\n",
    "    beg_yyyymm = int(f'{y}01')\n",
    "    end_yyyymm = int(f'{y}12')\n",
    "    logger.info(f'begin:{beg_yyyymm}, end:{end_yyyymm}')\n",
    "    fc = futs.FuturesSeries(api_key, commodity, beg_yyyymm, end_yyyymm, bar_type, \n",
    "                            interval, endpoint_type,logger)\n",
    "    logger.info(f'BEGIN Fetching Data for year: {y}')\n",
    "    try:\n",
    "        fc.get_contracts(trading_days_to_get=days,month_code_list=month_codes)\n",
    "        logger.info(f'BEGIN Writing Data for year: {y}')\n",
    "        fc.write_csv(output_folder)\n",
    "        logger.info(f'END Writing Data for year: {y}')\n",
    "    except Exception as e:\n",
    "        logger.info(f' error getting contract {commodity} for begin:{str(beg_yyyymm)} and end:{str(end_yyyymm)} {str(e)}')\n",
    "logger.info(f'end')\n",
    "\n"
   ]
  },
  {
   "cell_type": "code",
   "execution_count": 10,
   "metadata": {},
   "outputs": [
    {
     "data": {
      "text/plain": [
       "'/Users/bperlman1/Documents/billybyte/pyliverisk/barchartapi/barchartapi/temp_folder'"
      ]
     },
     "execution_count": 10,
     "metadata": {},
     "output_type": "execute_result"
    }
   ],
   "source": [
    "os.path.abspath(output_folder)"
   ]
  },
  {
   "cell_type": "markdown",
   "metadata": {},
   "source": [
    "## End"
   ]
  }
 ],
 "metadata": {
  "kernelspec": {
   "display_name": "Python 3",
   "language": "python",
   "name": "python3"
  },
  "language_info": {
   "codemirror_mode": {
    "name": "ipython",
    "version": 3
   },
   "file_extension": ".py",
   "mimetype": "text/x-python",
   "name": "python",
   "nbconvert_exporter": "python",
   "pygments_lexer": "ipython3",
   "version": "3.6.5"
  }
 },
 "nbformat": 4,
 "nbformat_minor": 2
}
